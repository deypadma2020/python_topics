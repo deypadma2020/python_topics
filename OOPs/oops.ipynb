{
 "cells": [
  {
   "cell_type": "code",
   "execution_count": 1,
   "metadata": {},
   "outputs": [
    {
     "name": "stdout",
     "output_type": "stream",
     "text": [
      "<class 'int'>\n"
     ]
    }
   ],
   "source": [
    "x = 100\n",
    "\n",
    "print(type(x))\n"
   ]
  },
  {
   "cell_type": "code",
   "execution_count": 2,
   "metadata": {},
   "outputs": [
    {
     "name": "stdout",
     "output_type": "stream",
     "text": [
      "<class 'list'>\n"
     ]
    }
   ],
   "source": [
    "l = [1,2,3]\n",
    "print(type(l))\n"
   ]
  },
  {
   "cell_type": "code",
   "execution_count": 3,
   "metadata": {},
   "outputs": [
    {
     "name": "stdout",
     "output_type": "stream",
     "text": [
      "<class 'function'>\n"
     ]
    }
   ],
   "source": [
    "def demo():\n",
    "    x = input(\"Enter something: \")\n",
    "    print(x)\n",
    "\n",
    "print(type(demo))\n"
   ]
  },
  {
   "cell_type": "code",
   "execution_count": 4,
   "metadata": {},
   "outputs": [],
   "source": [
    "# default\n",
    "class Employee:\n",
    "    pass\n"
   ]
  },
  {
   "cell_type": "code",
   "execution_count": 5,
   "metadata": {},
   "outputs": [],
   "source": [
    "e1 = Employee()\n"
   ]
  },
  {
   "cell_type": "code",
   "execution_count": 6,
   "metadata": {},
   "outputs": [
    {
     "name": "stdout",
     "output_type": "stream",
     "text": [
      "{}\n"
     ]
    }
   ],
   "source": [
    "print(e1.__dict__)\n"
   ]
  },
  {
   "cell_type": "code",
   "execution_count": 7,
   "metadata": {},
   "outputs": [],
   "source": [
    "# parameterized\n",
    "class Employee:\n",
    "    def __init__(self, nm, ag):\n",
    "        self.name = nm\n",
    "        self.age = ag\n",
    "\n",
    "    def display(self):\n",
    "        print(self.name)\n"
   ]
  },
  {
   "cell_type": "code",
   "execution_count": 8,
   "metadata": {},
   "outputs": [],
   "source": [
    "e1 = Employee('Manisha', 25)\n",
    "e2 = Employee('Dipankar', 26)\n"
   ]
  },
  {
   "cell_type": "code",
   "execution_count": 9,
   "metadata": {},
   "outputs": [],
   "source": [
    "# parameterized\n",
    "class Employee:\n",
    "    def __init__(self, sal, ag):\n",
    "        self.sal = 25000\n",
    "        self.age = 27\n"
   ]
  },
  {
   "cell_type": "code",
   "execution_count": 10,
   "metadata": {},
   "outputs": [],
   "source": [
    "e1 = Employee(27000, 27)\n"
   ]
  },
  {
   "cell_type": "code",
   "execution_count": 11,
   "metadata": {},
   "outputs": [
    {
     "data": {
      "text/plain": [
       "27"
      ]
     },
     "execution_count": 11,
     "metadata": {},
     "output_type": "execute_result"
    }
   ],
   "source": [
    "e1.age\n"
   ]
  },
  {
   "cell_type": "code",
   "execution_count": 12,
   "metadata": {},
   "outputs": [
    {
     "data": {
      "text/plain": [
       "25000"
      ]
     },
     "execution_count": 12,
     "metadata": {},
     "output_type": "execute_result"
    }
   ],
   "source": [
    "e1.sal\n"
   ]
  },
  {
   "cell_type": "code",
   "execution_count": 13,
   "metadata": {},
   "outputs": [],
   "source": [
    "# non-parameterized\n",
    "class Employee:\n",
    "    def __init__(self):\n",
    "        self.salary = 20000\n",
    "        self.age = 26\n"
   ]
  },
  {
   "cell_type": "code",
   "execution_count": 14,
   "metadata": {},
   "outputs": [],
   "source": [
    "e1 = Employee()\n",
    "e2 = Employee()\n"
   ]
  },
  {
   "cell_type": "code",
   "execution_count": 15,
   "metadata": {},
   "outputs": [
    {
     "name": "stdout",
     "output_type": "stream",
     "text": [
      "{'salary': 20000, 'age': 26}\n"
     ]
    }
   ],
   "source": [
    "print(e1.__dict__)\n"
   ]
  },
  {
   "cell_type": "code",
   "execution_count": 16,
   "metadata": {},
   "outputs": [],
   "source": [
    "#parameterized\n",
    "class Employee:\n",
    "    def __init__(self, sal, ag):\n",
    "        self.salary = sal\n",
    "        self.age = ag\n",
    "\n",
    "    def display(self):\n",
    "        # pass\n",
    "        print(f\"salary is {self.salary} and age is {self.age}\")\n"
   ]
  },
  {
   "cell_type": "code",
   "execution_count": 17,
   "metadata": {},
   "outputs": [],
   "source": [
    "e1 = Employee(20000, 26)\n"
   ]
  },
  {
   "cell_type": "code",
   "execution_count": 18,
   "metadata": {},
   "outputs": [
    {
     "name": "stdout",
     "output_type": "stream",
     "text": [
      "20000\n"
     ]
    }
   ],
   "source": [
    "print(e1.salary)\n"
   ]
  },
  {
   "cell_type": "code",
   "execution_count": 19,
   "metadata": {},
   "outputs": [
    {
     "name": "stdout",
     "output_type": "stream",
     "text": [
      "salary is 20000 and age is 26\n"
     ]
    }
   ],
   "source": [
    "e1.display()\n"
   ]
  },
  {
   "cell_type": "code",
   "execution_count": 20,
   "metadata": {},
   "outputs": [
    {
     "data": {
      "text/plain": [
       "20000"
      ]
     },
     "execution_count": 20,
     "metadata": {},
     "output_type": "execute_result"
    }
   ],
   "source": [
    "#accessing attribute outside the class\n",
    "e1.salary\n"
   ]
  },
  {
   "cell_type": "code",
   "execution_count": 21,
   "metadata": {},
   "outputs": [],
   "source": [
    "e1.salary = 25000\n"
   ]
  },
  {
   "cell_type": "code",
   "execution_count": 22,
   "metadata": {},
   "outputs": [
    {
     "data": {
      "text/plain": [
       "25000"
      ]
     },
     "execution_count": 22,
     "metadata": {},
     "output_type": "execute_result"
    }
   ],
   "source": [
    "e1.salary\n"
   ]
  },
  {
   "cell_type": "code",
   "execution_count": 23,
   "metadata": {},
   "outputs": [],
   "source": [
    "class  Employee:\n",
    "    def __init__(self, nm, ag):\n",
    "        self.name = nm\n",
    "        self.age = ag\n",
    "\n",
    "    def display(self):\n",
    "        print(f\"name = {self.name} and age = {self.age}\")\n"
   ]
  },
  {
   "cell_type": "code",
   "execution_count": 24,
   "metadata": {},
   "outputs": [],
   "source": [
    "e1 = Employee('Arvind', 27)\n",
    "e2 = Employee('Ari', 56)\n"
   ]
  },
  {
   "cell_type": "code",
   "execution_count": 25,
   "metadata": {},
   "outputs": [
    {
     "data": {
      "text/plain": [
       "'Arvind'"
      ]
     },
     "execution_count": 25,
     "metadata": {},
     "output_type": "execute_result"
    }
   ],
   "source": [
    "getattr(e1, 'name')\n"
   ]
  },
  {
   "cell_type": "code",
   "execution_count": 26,
   "metadata": {},
   "outputs": [],
   "source": [
    "setattr(e1, 'name', 'Arvind Lakshminarayanan')\n"
   ]
  },
  {
   "cell_type": "code",
   "execution_count": 27,
   "metadata": {},
   "outputs": [
    {
     "name": "stdout",
     "output_type": "stream",
     "text": [
      "{'name': 'Arvind Lakshminarayanan', 'age': 27}\n"
     ]
    }
   ],
   "source": [
    "print(e1.__dict__)\n"
   ]
  },
  {
   "cell_type": "code",
   "execution_count": 28,
   "metadata": {},
   "outputs": [],
   "source": [
    "delattr(e2, 'age')\n"
   ]
  },
  {
   "cell_type": "code",
   "execution_count": 29,
   "metadata": {},
   "outputs": [
    {
     "name": "stdout",
     "output_type": "stream",
     "text": [
      "{'name': 'Ari'}\n"
     ]
    }
   ],
   "source": [
    "print(e2.__dict__)\n"
   ]
  },
  {
   "cell_type": "code",
   "execution_count": 30,
   "metadata": {},
   "outputs": [
    {
     "data": {
      "text/plain": [
       "True"
      ]
     },
     "execution_count": 30,
     "metadata": {},
     "output_type": "execute_result"
    }
   ],
   "source": [
    "hasattr(e1,'age')\n"
   ]
  },
  {
   "cell_type": "code",
   "execution_count": 31,
   "metadata": {},
   "outputs": [
    {
     "data": {
      "text/plain": [
       "False"
      ]
     },
     "execution_count": 31,
     "metadata": {},
     "output_type": "execute_result"
    }
   ],
   "source": [
    "hasattr(e2,'age')\n"
   ]
  },
  {
   "cell_type": "code",
   "execution_count": 32,
   "metadata": {},
   "outputs": [],
   "source": [
    "e1.__doc__\n"
   ]
  },
  {
   "cell_type": "code",
   "execution_count": 33,
   "metadata": {},
   "outputs": [
    {
     "name": "stdout",
     "output_type": "stream",
     "text": [
      "None\n"
     ]
    }
   ],
   "source": [
    "print(e1.__doc__)\n"
   ]
  },
  {
   "cell_type": "code",
   "execution_count": 34,
   "metadata": {},
   "outputs": [],
   "source": [
    "Employee.__doc__\n"
   ]
  },
  {
   "cell_type": "code",
   "execution_count": 35,
   "metadata": {},
   "outputs": [
    {
     "name": "stdout",
     "output_type": "stream",
     "text": [
      "None\n"
     ]
    }
   ],
   "source": [
    "print(Employee.__doc__)\n"
   ]
  },
  {
   "cell_type": "code",
   "execution_count": 36,
   "metadata": {},
   "outputs": [
    {
     "data": {
      "text/plain": [
       "{'name': 'Arvind Lakshminarayanan', 'age': 27}"
      ]
     },
     "execution_count": 36,
     "metadata": {},
     "output_type": "execute_result"
    }
   ],
   "source": [
    "e1.__dict__\n"
   ]
  },
  {
   "cell_type": "code",
   "execution_count": 37,
   "metadata": {},
   "outputs": [
    {
     "data": {
      "text/plain": [
       "mappingproxy({'__module__': '__main__',\n",
       "              '__init__': <function __main__.Employee.__init__(self, nm, ag)>,\n",
       "              'display': <function __main__.Employee.display(self)>,\n",
       "              '__dict__': <attribute '__dict__' of 'Employee' objects>,\n",
       "              '__weakref__': <attribute '__weakref__' of 'Employee' objects>,\n",
       "              '__doc__': None})"
      ]
     },
     "execution_count": 37,
     "metadata": {},
     "output_type": "execute_result"
    }
   ],
   "source": [
    "Employee.__dict__\n"
   ]
  },
  {
   "cell_type": "code",
   "execution_count": 38,
   "metadata": {},
   "outputs": [
    {
     "ename": "AttributeError",
     "evalue": "'Employee' object has no attribute '__name__'",
     "output_type": "error",
     "traceback": [
      "\u001b[1;31m---------------------------------------------------------------------------\u001b[0m",
      "\u001b[1;31mAttributeError\u001b[0m                            Traceback (most recent call last)",
      "Cell \u001b[1;32mIn[38], line 1\u001b[0m\n\u001b[1;32m----> 1\u001b[0m e1\u001b[38;5;241m.\u001b[39m\u001b[38;5;18m__name__\u001b[39m\n",
      "\u001b[1;31mAttributeError\u001b[0m: 'Employee' object has no attribute '__name__'"
     ]
    }
   ],
   "source": [
    "e1.__name__\n"
   ]
  },
  {
   "cell_type": "code",
   "execution_count": 39,
   "metadata": {},
   "outputs": [
    {
     "data": {
      "text/plain": [
       "'Employee'"
      ]
     },
     "execution_count": 39,
     "metadata": {},
     "output_type": "execute_result"
    }
   ],
   "source": [
    "Employee.__name__\n"
   ]
  },
  {
   "cell_type": "code",
   "execution_count": 40,
   "metadata": {},
   "outputs": [
    {
     "data": {
      "text/plain": [
       "'__main__'"
      ]
     },
     "execution_count": 40,
     "metadata": {},
     "output_type": "execute_result"
    }
   ],
   "source": [
    "e1.__module__\n"
   ]
  },
  {
   "cell_type": "code",
   "execution_count": 41,
   "metadata": {},
   "outputs": [
    {
     "data": {
      "text/plain": [
       "'__main__'"
      ]
     },
     "execution_count": 41,
     "metadata": {},
     "output_type": "execute_result"
    }
   ],
   "source": [
    "Employee.__module__\n"
   ]
  },
  {
   "cell_type": "code",
   "execution_count": 42,
   "metadata": {},
   "outputs": [
    {
     "name": "stdout",
     "output_type": "stream",
     "text": [
      "Is test_str dictionary? : True\n"
     ]
    }
   ],
   "source": [
    "test_dict = {\"apple\" : 1, \"Ball\" : 2 }\n",
    "print (\"Is test_str dictionary? : \" + str(isinstance(test_dict, dict)))\n"
   ]
  },
  {
   "cell_type": "code",
   "execution_count": 43,
   "metadata": {},
   "outputs": [
    {
     "name": "stdout",
     "output_type": "stream",
     "text": [
      "Is test_str dictionary? : True\n"
     ]
    }
   ],
   "source": [
    "test_dict = {\"apple\" : 1, \"Ball\" : 2 }\n",
    "print (f\"Is test_str dictionary? : {isinstance(test_dict, dict)}\")\n"
   ]
  },
  {
   "cell_type": "code",
   "execution_count": 44,
   "metadata": {},
   "outputs": [
    {
     "data": {
      "text/plain": [
       "True"
      ]
     },
     "execution_count": 44,
     "metadata": {},
     "output_type": "execute_result"
    }
   ],
   "source": [
    "test_dict = {\"apple\" : 1, \"Ball\" : 2 }\n",
    "# print (\"Is test_str dictionary? : \" + isinstance(test_dict, dict))\n",
    "isinstance(test_dict, dict)\n"
   ]
  },
  {
   "cell_type": "code",
   "execution_count": 45,
   "metadata": {},
   "outputs": [],
   "source": [
    "class Demo:\n",
    "    pass\n"
   ]
  },
  {
   "cell_type": "code",
   "execution_count": 46,
   "metadata": {},
   "outputs": [],
   "source": [
    "d1 = Demo()\n"
   ]
  },
  {
   "cell_type": "code",
   "execution_count": 47,
   "metadata": {},
   "outputs": [],
   "source": [
    "class Employee:\n",
    "    '''This is employee class for maintaining employee data'''\n",
    "\n",
    "    def __init__(self, nm, ag):\n",
    "        self.name = nm\n",
    "        self.age = ag\n",
    "\n",
    "    def dispaly(self):\n",
    "        print(f\"name is : {self.name} and age is : {self.age}\")\n"
   ]
  },
  {
   "cell_type": "code",
   "execution_count": 48,
   "metadata": {},
   "outputs": [
    {
     "ename": "AttributeError",
     "evalue": "type object 'Employee' has no attribute 'age'",
     "output_type": "error",
     "traceback": [
      "\u001b[1;31m---------------------------------------------------------------------------\u001b[0m",
      "\u001b[1;31mAttributeError\u001b[0m                            Traceback (most recent call last)",
      "Cell \u001b[1;32mIn[48], line 1\u001b[0m\n\u001b[1;32m----> 1\u001b[0m \u001b[38;5;28;01mdel\u001b[39;00m Employee\u001b[38;5;241m.\u001b[39mage\n",
      "\u001b[1;31mAttributeError\u001b[0m: type object 'Employee' has no attribute 'age'"
     ]
    }
   ],
   "source": [
    "del Employee.age\n"
   ]
  },
  {
   "cell_type": "code",
   "execution_count": 49,
   "metadata": {},
   "outputs": [],
   "source": [
    "e1 = Employee('Sunny', 26)\n",
    "e2 = Employee('Padma', 26)\n"
   ]
  },
  {
   "cell_type": "code",
   "execution_count": 50,
   "metadata": {},
   "outputs": [
    {
     "data": {
      "text/plain": [
       "True"
      ]
     },
     "execution_count": 50,
     "metadata": {},
     "output_type": "execute_result"
    }
   ],
   "source": [
    "isinstance(e1, Employee)\n"
   ]
  },
  {
   "cell_type": "code",
   "execution_count": 51,
   "metadata": {},
   "outputs": [
    {
     "data": {
      "text/plain": [
       "False"
      ]
     },
     "execution_count": 51,
     "metadata": {},
     "output_type": "execute_result"
    }
   ],
   "source": [
    "isinstance(d1, Employee)\n"
   ]
  },
  {
   "cell_type": "code",
   "execution_count": 52,
   "metadata": {},
   "outputs": [],
   "source": [
    "class Class_name:\n",
    "    pass\n",
    "    # def __init__(self, x):\n",
    "    #     pass\n",
    "\n",
    "obj = Class_name()\n"
   ]
  },
  {
   "cell_type": "code",
   "execution_count": 53,
   "metadata": {},
   "outputs": [],
   "source": [
    "if isinstance(obj, Class_name):\n",
    "    pass\n"
   ]
  },
  {
   "cell_type": "code",
   "execution_count": 54,
   "metadata": {},
   "outputs": [],
   "source": [
    "class Student:\n",
    "    def __init__(self, name, marks):\n",
    "        self.name = name\n",
    "        self.marks = marks\n"
   ]
  },
  {
   "cell_type": "code",
   "execution_count": 55,
   "metadata": {},
   "outputs": [],
   "source": [
    "# Creating instance variable using __init__ method\n",
    "std1 = Student('abc', 89)\n",
    "std2 = Student('xyz', 94)\n",
    "std3 = Student('pqr', 91)\n",
    "std4 = Student('mno', 45)\n"
   ]
  },
  {
   "cell_type": "code",
   "execution_count": 56,
   "metadata": {},
   "outputs": [],
   "source": [
    "std1.age = 26\n"
   ]
  },
  {
   "cell_type": "code",
   "execution_count": 57,
   "metadata": {},
   "outputs": [
    {
     "name": "stdout",
     "output_type": "stream",
     "text": [
      "{'name': 'abc', 'marks': 89, 'age': 26}\n"
     ]
    }
   ],
   "source": [
    "print(std1.__dict__)\n"
   ]
  },
  {
   "cell_type": "code",
   "execution_count": 58,
   "metadata": {},
   "outputs": [],
   "source": [
    "std2.name = 'Jay'\n"
   ]
  },
  {
   "cell_type": "code",
   "execution_count": 59,
   "metadata": {},
   "outputs": [
    {
     "name": "stdout",
     "output_type": "stream",
     "text": [
      "{'name': 'Jay', 'marks': 94}\n"
     ]
    }
   ],
   "source": [
    "print(std2.__dict__)\n"
   ]
  },
  {
   "cell_type": "code",
   "execution_count": 60,
   "metadata": {},
   "outputs": [],
   "source": [
    "del std3.marks\n"
   ]
  },
  {
   "cell_type": "code",
   "execution_count": 61,
   "metadata": {},
   "outputs": [
    {
     "name": "stdout",
     "output_type": "stream",
     "text": [
      "{'name': 'pqr'}\n"
     ]
    }
   ],
   "source": [
    "print(std3.__dict__)\n"
   ]
  },
  {
   "cell_type": "code",
   "execution_count": 62,
   "metadata": {},
   "outputs": [],
   "source": [
    "delattr(std4, 'marks')\n"
   ]
  },
  {
   "cell_type": "code",
   "execution_count": 63,
   "metadata": {},
   "outputs": [
    {
     "name": "stdout",
     "output_type": "stream",
     "text": [
      "{'name': 'mno'}\n"
     ]
    }
   ],
   "source": [
    "print(std4.__dict__)\n"
   ]
  },
  {
   "cell_type": "code",
   "execution_count": 64,
   "metadata": {},
   "outputs": [],
   "source": [
    "class Student:\n",
    "    def __init__(self, name, marks):\n",
    "        self.name = name\n",
    "        self.marks = marks\n",
    "\n",
    "    def Display(self):\n",
    "        print(self.name, self.marks)\n",
    "\n",
    "    def Change_data(self):\n",
    "        print('test')\n",
    "        self.name = input()\n",
    "        self.marks = int(input('Enter your marks: '))\n"
   ]
  },
  {
   "cell_type": "code",
   "execution_count": 65,
   "metadata": {},
   "outputs": [],
   "source": [
    "std1 = Student('Riya', 98)\n",
    "std2 = Student('Manta', 89)\n",
    "std3 = Student('Stuti', 88)\n"
   ]
  },
  {
   "cell_type": "code",
   "execution_count": 66,
   "metadata": {},
   "outputs": [
    {
     "name": "stdout",
     "output_type": "stream",
     "text": [
      "Manta 89\n"
     ]
    }
   ],
   "source": [
    "std2.Display()\n"
   ]
  },
  {
   "cell_type": "code",
   "execution_count": 67,
   "metadata": {},
   "outputs": [
    {
     "name": "stdout",
     "output_type": "stream",
     "text": [
      "test\n",
      "{'name': 'padma', 'marks': 55}\n"
     ]
    }
   ],
   "source": [
    "std2.Change_data()\n",
    "print(std2.__dict__)\n"
   ]
  },
  {
   "cell_type": "code",
   "execution_count": 68,
   "metadata": {},
   "outputs": [],
   "source": [
    "a= input()\n"
   ]
  },
  {
   "cell_type": "code",
   "execution_count": 69,
   "metadata": {},
   "outputs": [
    {
     "data": {
      "text/plain": [
       "'l'"
      ]
     },
     "execution_count": 69,
     "metadata": {},
     "output_type": "execute_result"
    }
   ],
   "source": [
    "a\n"
   ]
  },
  {
   "cell_type": "code",
   "execution_count": 70,
   "metadata": {},
   "outputs": [],
   "source": [
    "class Employee:\n",
    "    def __init__(self, name, salary):\n",
    "        self.name = name\n",
    "        self.salary = salary\n"
   ]
  },
  {
   "cell_type": "code",
   "execution_count": 71,
   "metadata": {},
   "outputs": [],
   "source": [
    "e1 = Employee('Jay', 30000)\n",
    "e2 = Employee('Vijay', 25000)\n"
   ]
  },
  {
   "cell_type": "code",
   "execution_count": 72,
   "metadata": {},
   "outputs": [],
   "source": [
    "class Employee:\n",
    "    company_name = 'Klizo'\n",
    "    def __init__(self, name, salary):\n",
    "        self.name = name\n",
    "        self.salary = salary\n"
   ]
  },
  {
   "cell_type": "code",
   "execution_count": 73,
   "metadata": {},
   "outputs": [
    {
     "data": {
      "text/plain": [
       "'Klizo'"
      ]
     },
     "execution_count": 73,
     "metadata": {},
     "output_type": "execute_result"
    }
   ],
   "source": [
    "Employee.company_name\n"
   ]
  },
  {
   "cell_type": "code",
   "execution_count": 74,
   "metadata": {},
   "outputs": [
    {
     "ename": "AttributeError",
     "evalue": "type object 'Employee' has no attribute 'name'",
     "output_type": "error",
     "traceback": [
      "\u001b[1;31m---------------------------------------------------------------------------\u001b[0m",
      "\u001b[1;31mAttributeError\u001b[0m                            Traceback (most recent call last)",
      "Cell \u001b[1;32mIn[74], line 1\u001b[0m\n\u001b[1;32m----> 1\u001b[0m Employee\u001b[38;5;241m.\u001b[39mname\n",
      "\u001b[1;31mAttributeError\u001b[0m: type object 'Employee' has no attribute 'name'"
     ]
    }
   ],
   "source": [
    "Employee.name\n"
   ]
  },
  {
   "cell_type": "code",
   "execution_count": 75,
   "metadata": {},
   "outputs": [],
   "source": [
    "e1 = Employee('Jay', 30000)\n",
    "e2 = Employee('Vijay', 25000)\n"
   ]
  },
  {
   "cell_type": "code",
   "execution_count": 76,
   "metadata": {},
   "outputs": [
    {
     "data": {
      "text/plain": [
       "'Klizo'"
      ]
     },
     "execution_count": 76,
     "metadata": {},
     "output_type": "execute_result"
    }
   ],
   "source": [
    "e1.company_name\n"
   ]
  },
  {
   "cell_type": "code",
   "execution_count": 77,
   "metadata": {},
   "outputs": [],
   "source": [
    "Employee.company_name = 'Empeal'\n"
   ]
  },
  {
   "cell_type": "code",
   "execution_count": 78,
   "metadata": {},
   "outputs": [
    {
     "data": {
      "text/plain": [
       "'Empeal'"
      ]
     },
     "execution_count": 78,
     "metadata": {},
     "output_type": "execute_result"
    }
   ],
   "source": [
    "Employee.company_name\n"
   ]
  },
  {
   "cell_type": "code",
   "execution_count": 79,
   "metadata": {},
   "outputs": [
    {
     "data": {
      "text/plain": [
       "'Empeal'"
      ]
     },
     "execution_count": 79,
     "metadata": {},
     "output_type": "execute_result"
    }
   ],
   "source": [
    "e2.company_name\n"
   ]
  },
  {
   "cell_type": "code",
   "execution_count": 80,
   "metadata": {},
   "outputs": [
    {
     "data": {
      "text/plain": [
       "{'name': 'Vijay', 'salary': 25000}"
      ]
     },
     "execution_count": 80,
     "metadata": {},
     "output_type": "execute_result"
    }
   ],
   "source": [
    "e2.__dict__\n"
   ]
  },
  {
   "cell_type": "code",
   "execution_count": 81,
   "metadata": {},
   "outputs": [
    {
     "data": {
      "text/plain": [
       "'Empeal'"
      ]
     },
     "execution_count": 81,
     "metadata": {},
     "output_type": "execute_result"
    }
   ],
   "source": [
    "e2.company_name\n"
   ]
  },
  {
   "cell_type": "code",
   "execution_count": 82,
   "metadata": {},
   "outputs": [],
   "source": [
    "e2.company_name = 'Tiger Analytics'\n"
   ]
  },
  {
   "cell_type": "code",
   "execution_count": 83,
   "metadata": {},
   "outputs": [
    {
     "data": {
      "text/plain": [
       "{'name': 'Vijay', 'salary': 25000, 'company_name': 'Tiger Analytics'}"
      ]
     },
     "execution_count": 83,
     "metadata": {},
     "output_type": "execute_result"
    }
   ],
   "source": [
    "e2.__dict__\n"
   ]
  },
  {
   "cell_type": "code",
   "execution_count": 84,
   "metadata": {},
   "outputs": [],
   "source": [
    "class Employee:\n",
    "    company_name = 'Rapido' #class variable\n",
    "\n",
    "    def __init__(self, name, salary):\n",
    "        self.name = name\n",
    "        self.salary = salary\n",
    "\n",
    "    @classmethod\n",
    "    def get_company_name(cls):\n",
    "        print(f'Company name is {cls.company_name}')\n"
   ]
  },
  {
   "cell_type": "code",
   "execution_count": 85,
   "metadata": {},
   "outputs": [
    {
     "name": "stdout",
     "output_type": "stream",
     "text": [
      "Company name is Rapido\n"
     ]
    }
   ],
   "source": [
    "Employee.get_company_name()\n"
   ]
  },
  {
   "cell_type": "code",
   "execution_count": 86,
   "metadata": {},
   "outputs": [],
   "source": [
    "e1 = Employee('Panta', 20000)\n",
    "e2 = Employee('Manta', 29000)\n"
   ]
  },
  {
   "cell_type": "code",
   "execution_count": 89,
   "metadata": {},
   "outputs": [],
   "source": [
    "class Employee:\n",
    "    company_name = 'Rapido' #class variable\n",
    "\n",
    "    def __init__(self, name, salary):\n",
    "        self.name = name\n",
    "        self.salary = salary\n",
    "\n",
    "    @classmethod\n",
    "    def get_company_name(cls):\n",
    "        print(cls.company_name)\n",
    "        cls.company_name = input(\"Enter your company name: \")\n",
    "        print(f'Company name is {cls.company_name}')\n"
   ]
  },
  {
   "cell_type": "code",
   "execution_count": 90,
   "metadata": {},
   "outputs": [
    {
     "name": "stdout",
     "output_type": "stream",
     "text": [
      "Rapido\n",
      "Company name is Tredence\n"
     ]
    }
   ],
   "source": [
    "Employee.get_company_name()\n"
   ]
  },
  {
   "cell_type": "code",
   "execution_count": 91,
   "metadata": {},
   "outputs": [],
   "source": [
    "e1 = Employee('Moni', 80000)\n"
   ]
  },
  {
   "cell_type": "code",
   "execution_count": 92,
   "metadata": {},
   "outputs": [
    {
     "data": {
      "text/plain": [
       "'Tredence'"
      ]
     },
     "execution_count": 92,
     "metadata": {},
     "output_type": "execute_result"
    }
   ],
   "source": [
    "e1.company_name\n"
   ]
  },
  {
   "cell_type": "code",
   "execution_count": 93,
   "metadata": {},
   "outputs": [
    {
     "data": {
      "text/plain": [
       "'Tredence'"
      ]
     },
     "execution_count": 93,
     "metadata": {},
     "output_type": "execute_result"
    }
   ],
   "source": [
    "Employee.company_name\n"
   ]
  },
  {
   "cell_type": "code",
   "execution_count": 94,
   "metadata": {},
   "outputs": [],
   "source": [
    "class Employee:\n",
    "    def setName(self, name):\n",
    "        self.name = name\n",
    "\n",
    "    def getName(self):\n",
    "        print(f\"The name is: {self.name}\")\n"
   ]
  },
  {
   "cell_type": "code",
   "execution_count": 95,
   "metadata": {},
   "outputs": [
    {
     "ename": "TypeError",
     "evalue": "Employee() takes no arguments",
     "output_type": "error",
     "traceback": [
      "\u001b[1;31m---------------------------------------------------------------------------\u001b[0m",
      "\u001b[1;31mTypeError\u001b[0m                                 Traceback (most recent call last)",
      "Cell \u001b[1;32mIn[95], line 1\u001b[0m\n\u001b[1;32m----> 1\u001b[0m e1 \u001b[38;5;241m=\u001b[39m Employee(\u001b[38;5;124m'\u001b[39m\u001b[38;5;124mp\u001b[39m\u001b[38;5;124m'\u001b[39m)\n\u001b[0;32m      2\u001b[0m e2 \u001b[38;5;241m=\u001b[39m Employee()\n",
      "\u001b[1;31mTypeError\u001b[0m: Employee() takes no arguments"
     ]
    }
   ],
   "source": [
    "e1 = Employee('p')\n",
    "e2 = Employee()\n"
   ]
  },
  {
   "cell_type": "code",
   "execution_count": 96,
   "metadata": {},
   "outputs": [
    {
     "ename": "AttributeError",
     "evalue": "'Employee' object has no attribute 'getName'",
     "output_type": "error",
     "traceback": [
      "\u001b[1;31m---------------------------------------------------------------------------\u001b[0m",
      "\u001b[1;31mAttributeError\u001b[0m                            Traceback (most recent call last)",
      "Cell \u001b[1;32mIn[96], line 1\u001b[0m\n\u001b[1;32m----> 1\u001b[0m e1\u001b[38;5;241m.\u001b[39mgetName()\n\u001b[0;32m      2\u001b[0m e2\u001b[38;5;241m.\u001b[39mgetName()\n",
      "\u001b[1;31mAttributeError\u001b[0m: 'Employee' object has no attribute 'getName'"
     ]
    }
   ],
   "source": [
    "e1.getName()\n",
    "e2.getName()\n"
   ]
  },
  {
   "cell_type": "code",
   "execution_count": 97,
   "metadata": {},
   "outputs": [
    {
     "ename": "AttributeError",
     "evalue": "'Employee' object has no attribute 'setName'",
     "output_type": "error",
     "traceback": [
      "\u001b[1;31m---------------------------------------------------------------------------\u001b[0m",
      "\u001b[1;31mAttributeError\u001b[0m                            Traceback (most recent call last)",
      "Cell \u001b[1;32mIn[97], line 1\u001b[0m\n\u001b[1;32m----> 1\u001b[0m e1\u001b[38;5;241m.\u001b[39msetName(\u001b[38;5;28minput\u001b[39m(\u001b[38;5;124m\"\u001b[39m\u001b[38;5;124mEnter Name: \u001b[39m\u001b[38;5;124m\"\u001b[39m))\n\u001b[0;32m      2\u001b[0m e2\u001b[38;5;241m.\u001b[39msetName(\u001b[38;5;28minput\u001b[39m(\u001b[38;5;124m\"\u001b[39m\u001b[38;5;124mEnter Name: \u001b[39m\u001b[38;5;124m\"\u001b[39m))\n",
      "\u001b[1;31mAttributeError\u001b[0m: 'Employee' object has no attribute 'setName'"
     ]
    }
   ],
   "source": [
    "e1.setName(input(\"Enter Name: \"))\n",
    "e2.setName(input(\"Enter Name: \"))\n"
   ]
  },
  {
   "cell_type": "code",
   "execution_count": 98,
   "metadata": {},
   "outputs": [
    {
     "name": "stdout",
     "output_type": "stream",
     "text": [
      "e1 object is: {'name': 'Moni', 'salary': 80000}\n",
      "e2 object is: {'name': 'Manta', 'salary': 29000}\n"
     ]
    }
   ],
   "source": [
    "print(f\"e1 object is: {e1.__dict__}\")\n",
    "print(f'e2 object is: {e2.__dict__}')\n"
   ]
  },
  {
   "cell_type": "code",
   "execution_count": 99,
   "metadata": {},
   "outputs": [
    {
     "ename": "AttributeError",
     "evalue": "'Employee' object has no attribute 'getName'",
     "output_type": "error",
     "traceback": [
      "\u001b[1;31m---------------------------------------------------------------------------\u001b[0m",
      "\u001b[1;31mAttributeError\u001b[0m                            Traceback (most recent call last)",
      "Cell \u001b[1;32mIn[99], line 1\u001b[0m\n\u001b[1;32m----> 1\u001b[0m e1\u001b[38;5;241m.\u001b[39mgetName()\n\u001b[0;32m      2\u001b[0m e2\u001b[38;5;241m.\u001b[39mgetName()\n",
      "\u001b[1;31mAttributeError\u001b[0m: 'Employee' object has no attribute 'getName'"
     ]
    }
   ],
   "source": [
    "e1.getName()\n",
    "e2.getName()\n"
   ]
  },
  {
   "cell_type": "code",
   "execution_count": 100,
   "metadata": {},
   "outputs": [],
   "source": [
    "class Bank:\n",
    "    bank_name = 'SBI'\n",
    "    rate_of_interest  = 12.25\n",
    "\n",
    "    @staticmethod\n",
    "    def simple_interest(principle, n):\n",
    "        si =(principle * n * (Bank.rate_of_interest)) / 100\n",
    "        print(si)\n"
   ]
  },
  {
   "cell_type": "code",
   "execution_count": 101,
   "metadata": {},
   "outputs": [
    {
     "name": "stdout",
     "output_type": "stream",
     "text": [
      "1225.0\n"
     ]
    }
   ],
   "source": [
    "principle_amount = float(input('Enter your principle amount: '))\n",
    "no_of_year = int(input('Enter number of years: '))\n",
    "# print(f\"The simple interest amount is - {Bank.simple_interest(principle_amount, no_of_year)}\")\n",
    "Bank.simple_interest(principle_amount, no_of_year)\n"
   ]
  },
  {
   "cell_type": "code",
   "execution_count": 102,
   "metadata": {},
   "outputs": [],
   "source": [
    "b1 = Bank()\n"
   ]
  },
  {
   "cell_type": "code",
   "execution_count": 103,
   "metadata": {},
   "outputs": [
    {
     "data": {
      "text/plain": [
       "'SBI'"
      ]
     },
     "execution_count": 103,
     "metadata": {},
     "output_type": "execute_result"
    }
   ],
   "source": [
    "b1.bank_name\n"
   ]
  },
  {
   "cell_type": "code",
   "execution_count": 104,
   "metadata": {},
   "outputs": [
    {
     "data": {
      "text/plain": [
       "12.25"
      ]
     },
     "execution_count": 104,
     "metadata": {},
     "output_type": "execute_result"
    }
   ],
   "source": [
    "b1.rate_of_interest\n"
   ]
  },
  {
   "cell_type": "code",
   "execution_count": 105,
   "metadata": {},
   "outputs": [
    {
     "name": "stdout",
     "output_type": "stream",
     "text": [
      "1225.0\n"
     ]
    }
   ],
   "source": [
    "b1.simple_interest(10000, 1)\n"
   ]
  },
  {
   "cell_type": "code",
   "execution_count": 106,
   "metadata": {},
   "outputs": [],
   "source": [
    "class Employee:\n",
    "    bonus = 2000\n",
    "    def display(self):\n",
    "        print('This is employee class method')\n",
    "\n",
    "class Manager:\n",
    "    bonus1 = 5000\n",
    "    def show(self):\n",
    "        print('This is manager class method')\n"
   ]
  },
  {
   "cell_type": "code",
   "execution_count": 107,
   "metadata": {},
   "outputs": [],
   "source": [
    "e1 = Employee()\n",
    "m1 = Manager()\n"
   ]
  },
  {
   "cell_type": "code",
   "execution_count": 108,
   "metadata": {},
   "outputs": [
    {
     "data": {
      "text/plain": [
       "2000"
      ]
     },
     "execution_count": 108,
     "metadata": {},
     "output_type": "execute_result"
    }
   ],
   "source": [
    "e1.bonus\n"
   ]
  },
  {
   "cell_type": "code",
   "execution_count": 109,
   "metadata": {},
   "outputs": [
    {
     "name": "stdout",
     "output_type": "stream",
     "text": [
      "This is employee class method\n"
     ]
    }
   ],
   "source": [
    "e1.display()\n"
   ]
  },
  {
   "cell_type": "code",
   "execution_count": 110,
   "metadata": {},
   "outputs": [
    {
     "data": {
      "text/plain": [
       "5000"
      ]
     },
     "execution_count": 110,
     "metadata": {},
     "output_type": "execute_result"
    }
   ],
   "source": [
    "m1.bonus1\n"
   ]
  },
  {
   "cell_type": "code",
   "execution_count": 111,
   "metadata": {},
   "outputs": [
    {
     "name": "stdout",
     "output_type": "stream",
     "text": [
      "This is manager class method\n"
     ]
    }
   ],
   "source": [
    "m1.show()\n"
   ]
  },
  {
   "cell_type": "code",
   "execution_count": 112,
   "metadata": {},
   "outputs": [],
   "source": [
    "class Employee:\n",
    "    bonus = 2000\n",
    "    def display(self):\n",
    "        print('This is employee class method')\n",
    "\n",
    "class Manager(Employee):\n",
    "    bonus1 = 5000\n",
    "    def show(self):\n",
    "        print('This is manager class method')\n"
   ]
  },
  {
   "cell_type": "code",
   "execution_count": 113,
   "metadata": {},
   "outputs": [],
   "source": [
    "e1 = Employee()\n",
    "m1 = Manager()\n"
   ]
  },
  {
   "cell_type": "code",
   "execution_count": 114,
   "metadata": {},
   "outputs": [
    {
     "data": {
      "text/plain": [
       "2000"
      ]
     },
     "execution_count": 114,
     "metadata": {},
     "output_type": "execute_result"
    }
   ],
   "source": [
    "e1.bonus\n"
   ]
  },
  {
   "cell_type": "code",
   "execution_count": 115,
   "metadata": {},
   "outputs": [
    {
     "name": "stdout",
     "output_type": "stream",
     "text": [
      "This is employee class method\n"
     ]
    }
   ],
   "source": [
    "e1.display()\n"
   ]
  },
  {
   "cell_type": "code",
   "execution_count": 116,
   "metadata": {},
   "outputs": [
    {
     "data": {
      "text/plain": [
       "2000"
      ]
     },
     "execution_count": 116,
     "metadata": {},
     "output_type": "execute_result"
    }
   ],
   "source": [
    "m1.bonus\n"
   ]
  },
  {
   "cell_type": "code",
   "execution_count": 117,
   "metadata": {},
   "outputs": [
    {
     "data": {
      "text/plain": [
       "5000"
      ]
     },
     "execution_count": 117,
     "metadata": {},
     "output_type": "execute_result"
    }
   ],
   "source": [
    "m1.bonus1\n"
   ]
  },
  {
   "cell_type": "code",
   "execution_count": 118,
   "metadata": {},
   "outputs": [
    {
     "name": "stdout",
     "output_type": "stream",
     "text": [
      "This is employee class method\n"
     ]
    }
   ],
   "source": [
    "m1.display()\n"
   ]
  },
  {
   "cell_type": "code",
   "execution_count": 119,
   "metadata": {},
   "outputs": [
    {
     "name": "stdout",
     "output_type": "stream",
     "text": [
      "This is manager class method\n"
     ]
    }
   ],
   "source": [
    "m1.show()\n"
   ]
  },
  {
   "cell_type": "code",
   "execution_count": 120,
   "metadata": {},
   "outputs": [],
   "source": [
    "class Father:\n",
    "    def __init__(self):\n",
    "        print(\"father constructor called...\")\n",
    "        self.vehicle = input('Enter the vehicle name - ')\n",
    "        print(f'The vehicle name is - {self.vehicle}') \n",
    "\n",
    "class Son(Father):\n",
    "    pass\n"
   ]
  },
  {
   "cell_type": "code",
   "execution_count": 121,
   "metadata": {},
   "outputs": [
    {
     "name": "stdout",
     "output_type": "stream",
     "text": [
      "father constructor called...\n",
      "The vehicle name is - BMW\n"
     ]
    }
   ],
   "source": [
    "s = Son()\n"
   ]
  },
  {
   "cell_type": "code",
   "execution_count": 122,
   "metadata": {},
   "outputs": [
    {
     "name": "stdout",
     "output_type": "stream",
     "text": [
      "{'vehicle': 'BMW'}\n"
     ]
    }
   ],
   "source": [
    "print(s.__dict__)\n"
   ]
  },
  {
   "cell_type": "code",
   "execution_count": 123,
   "metadata": {},
   "outputs": [],
   "source": [
    "class Father:\n",
    "    def __init__(self):\n",
    "        print(\"father constructor called...\")\n",
    "        # self.vehicle = input('Enter the vehicle name - ')\n",
    "        # print(f'The vehicle name is - {self.vehicle}') \n",
    "        # self.vehicle = 'cycle'\n",
    "        self.place = 'Bethua'\n",
    "\n",
    "class Son(Father):\n",
    "    def __init__(self):\n",
    "        print(\"son constructor called...\")\n",
    "        self.vehicle = input(\"enter son's vehicle name: \")\n",
    "        print(f\"son's vehicle name - {self.vehicle}\")\n",
    "        # self.vehicle = 'bike'\n"
   ]
  },
  {
   "cell_type": "code",
   "execution_count": 124,
   "metadata": {},
   "outputs": [
    {
     "name": "stdout",
     "output_type": "stream",
     "text": [
      "son constructor called...\n",
      "son's vehicle name - tESLA\n"
     ]
    }
   ],
   "source": [
    "s = Son()\n"
   ]
  },
  {
   "cell_type": "code",
   "execution_count": 125,
   "metadata": {},
   "outputs": [
    {
     "name": "stdout",
     "output_type": "stream",
     "text": [
      "{'vehicle': 'tESLA'}\n"
     ]
    }
   ],
   "source": [
    "print(s.__dict__)\n"
   ]
  },
  {
   "cell_type": "code",
   "execution_count": 126,
   "metadata": {},
   "outputs": [],
   "source": [
    "class Employee:\n",
    "    bonus = 2000\n",
    "    def display(self):\n",
    "        print('This is employee class method')\n",
    "\n",
    "class Manager(Employee):\n",
    "    bonus1 = 5000\n",
    "    def show(self):\n",
    "        print('This is manager class method')\n"
   ]
  },
  {
   "cell_type": "code",
   "execution_count": 127,
   "metadata": {},
   "outputs": [],
   "source": [
    "e1 = Employee()\n",
    "m1 = Manager()\n"
   ]
  },
  {
   "cell_type": "code",
   "execution_count": 128,
   "metadata": {},
   "outputs": [
    {
     "data": {
      "text/plain": [
       "2000"
      ]
     },
     "execution_count": 128,
     "metadata": {},
     "output_type": "execute_result"
    }
   ],
   "source": [
    "m1.bonus\n"
   ]
  },
  {
   "cell_type": "code",
   "execution_count": 129,
   "metadata": {},
   "outputs": [],
   "source": [
    "class Computer(object):\n",
    "    type = 'android'\n",
    "    def __init__(self):\n",
    "        self.ram = '8gb'\n",
    "        self.storage = '512gb'\n",
    "        print('Computer class constructor called')\n",
    "\n",
    "class Mobile(Computer):\n",
    "    def __init__(self):\n",
    "        # super().__init__()\n",
    "        self.model = 'POCO'\n",
    "        print('Mobile class constructor called...')\n"
   ]
  },
  {
   "cell_type": "code",
   "execution_count": 130,
   "metadata": {},
   "outputs": [
    {
     "name": "stdout",
     "output_type": "stream",
     "text": [
      "Mobile class constructor called...\n"
     ]
    }
   ],
   "source": [
    "my_mobile = Mobile()\n"
   ]
  },
  {
   "cell_type": "code",
   "execution_count": 131,
   "metadata": {},
   "outputs": [
    {
     "data": {
      "text/plain": [
       "'android'"
      ]
     },
     "execution_count": 131,
     "metadata": {},
     "output_type": "execute_result"
    }
   ],
   "source": [
    "my_mobile.type\n"
   ]
  },
  {
   "cell_type": "code",
   "execution_count": 132,
   "metadata": {},
   "outputs": [
    {
     "name": "stdout",
     "output_type": "stream",
     "text": [
      "{'model': 'POCO'}\n"
     ]
    }
   ],
   "source": [
    "print(my_mobile.__dict__)\n"
   ]
  },
  {
   "cell_type": "code",
   "execution_count": 133,
   "metadata": {},
   "outputs": [],
   "source": [
    "class Computer(object):\n",
    "    def __init__(self):\n",
    "        self.ram = '8gb'\n",
    "        self.storage = '512gb'\n",
    "        print('Computer class constructor called')\n",
    "\n",
    "    def display(self):\n",
    "        print('hello world')\n",
    "\n",
    "class Mobile(Computer):\n",
    "    def __init__(self):\n",
    "        # super().__init__()\n",
    "        super().display()\n",
    "        self.model = 'POCO'\n",
    "        print('Mobile class constructor called...')\n"
   ]
  },
  {
   "cell_type": "code",
   "execution_count": 134,
   "metadata": {},
   "outputs": [
    {
     "name": "stdout",
     "output_type": "stream",
     "text": [
      "hello world\n",
      "Mobile class constructor called...\n"
     ]
    }
   ],
   "source": [
    "my_mobile = Mobile()\n"
   ]
  },
  {
   "cell_type": "code",
   "execution_count": 135,
   "metadata": {},
   "outputs": [
    {
     "name": "stdout",
     "output_type": "stream",
     "text": [
      "hello world\n"
     ]
    }
   ],
   "source": [
    "my_mobile.display()\n"
   ]
  },
  {
   "cell_type": "code",
   "execution_count": 136,
   "metadata": {},
   "outputs": [
    {
     "data": {
      "text/plain": [
       "{'model': 'POCO'}"
      ]
     },
     "execution_count": 136,
     "metadata": {},
     "output_type": "execute_result"
    }
   ],
   "source": [
    "my_mobile.__dict__\n"
   ]
  },
  {
   "cell_type": "code",
   "execution_count": 137,
   "metadata": {},
   "outputs": [],
   "source": [
    "class Computer(object):\n",
    "    def __init__(self, ram, storage):\n",
    "        self.ram = ram\n",
    "        self.storage = storage\n",
    "        print('Computer class constructor called')\n",
    "\n",
    "    def display(self):\n",
    "        print('hello world')\n",
    "\n",
    "class Mobile(Computer):\n",
    "    def __init__(self, ram, storage):\n",
    "        super().__init__(ram, storage)\n",
    "        # super().display()\n",
    "        self.model = 'POCO'\n",
    "        print('Mobile class constructor called...')\n"
   ]
  },
  {
   "cell_type": "code",
   "execution_count": 138,
   "metadata": {},
   "outputs": [
    {
     "name": "stdout",
     "output_type": "stream",
     "text": [
      "Computer class constructor called\n",
      "Mobile class constructor called...\n"
     ]
    }
   ],
   "source": [
    "my_mobile = Mobile('8gb', '512gb')\n"
   ]
  },
  {
   "cell_type": "code",
   "execution_count": 139,
   "metadata": {},
   "outputs": [
    {
     "name": "stdout",
     "output_type": "stream",
     "text": [
      "{'ram': '8gb', 'storage': '512gb', 'model': 'POCO'}\n"
     ]
    }
   ],
   "source": [
    "print(my_mobile.__dict__)\n"
   ]
  },
  {
   "cell_type": "code",
   "execution_count": 140,
   "metadata": {},
   "outputs": [],
   "source": [
    "class Human_being(object):\n",
    "    def __init__(self):\n",
    "        print('human being constructor called...')\n",
    "        self.name = input('enter your name - ')\n",
    "\n",
    "class Employee(Human_being):\n",
    "    def __init__(self):\n",
    "        print ('human being constructor called...')\n",
    "        self.salary = float(input('enter your salary amount - '))\n",
    "\n",
    "class Manager(Employee):\n",
    "    def __init__(self):\n",
    "        print('menagers constructor is called')\n",
    "        self.bonus = float(input('enter your bonus amount: '))\n"
   ]
  },
  {
   "cell_type": "code",
   "execution_count": 141,
   "metadata": {},
   "outputs": [
    {
     "name": "stdout",
     "output_type": "stream",
     "text": [
      "menagers constructor is called\n"
     ]
    }
   ],
   "source": [
    "m1 = Manager()\n"
   ]
  },
  {
   "cell_type": "code",
   "execution_count": 142,
   "metadata": {},
   "outputs": [],
   "source": [
    "class Human_being(object):\n",
    "    def __init__(self):\n",
    "        print('human being constructor called...')\n",
    "        self.name = input('enter your name - ')\n",
    "\n",
    "class Employee(Human_being):\n",
    "    def __init__(self):\n",
    "        print ('employee being constructor called...')\n",
    "        self.salary = float(input('enter your salary amount - '))\n",
    "\n",
    "class Manager(Employee):\n",
    "    pass\n",
    "    # def __init__(self):\n",
    "    #     print('menagers constructor is called')\n",
    "    #     self.bonus = float(input('enter your bonus amount: '))\n"
   ]
  },
  {
   "cell_type": "code",
   "execution_count": 143,
   "metadata": {},
   "outputs": [
    {
     "name": "stdout",
     "output_type": "stream",
     "text": [
      "employee being constructor called...\n"
     ]
    }
   ],
   "source": [
    "m1 = Manager()\n"
   ]
  },
  {
   "cell_type": "code",
   "execution_count": 144,
   "metadata": {},
   "outputs": [],
   "source": [
    "class Human_being(object):\n",
    "    def __init__(self):\n",
    "        print('human being constructor called...')\n",
    "        self.name = input('enter your name - ')\n",
    "\n",
    "class Employee(Human_being):\n",
    "    pass\n",
    "    # def __init__(self):\n",
    "    #     print ('human being constructor called...')\n",
    "    #     self.salary = float(input('enter your salary amount - '))\n",
    "\n",
    "class Manager(Employee):\n",
    "    pass\n",
    "    # def __init__(self):\n",
    "    #     print('menagers constructor is called')\n",
    "    #     self.bonus = float(input('enter your bonus amount: '))\n"
   ]
  },
  {
   "cell_type": "code",
   "execution_count": 145,
   "metadata": {},
   "outputs": [],
   "source": [
    "class Human_being(object):\n",
    "    def __init__(self, age, *args, **kwargs):\n",
    "        print('human being constructor called...')\n",
    "        self.name = input('enter your name - ')\n",
    "        self.age = age\n",
    "        self.address = args[0]\n",
    "\n",
    "    def display(self):\n",
    "        print('xyz')\n",
    "\n",
    "class Employee(Human_being):\n",
    "    pass\n",
    "    # def __init__(self):\n",
    "    #     print ('human being constructor called...')\n",
    "    #     self.salary = float(input('enter your salary amount - '))\n",
    "\n",
    "class Manager(Employee):\n",
    "    pass\n",
    "    # def __init__(self):\n",
    "    #     print('menagers constructor is called')\n",
    "    #     self.bonus = float(input('enter your bonus amount: '))\n"
   ]
  },
  {
   "cell_type": "code",
   "execution_count": 146,
   "metadata": {},
   "outputs": [
    {
     "ename": "AttributeError",
     "evalue": "'Manager' object has no attribute 'address'",
     "output_type": "error",
     "traceback": [
      "\u001b[1;31m---------------------------------------------------------------------------\u001b[0m",
      "\u001b[1;31mAttributeError\u001b[0m                            Traceback (most recent call last)",
      "Cell \u001b[1;32mIn[146], line 1\u001b[0m\n\u001b[1;32m----> 1\u001b[0m m1\u001b[38;5;241m.\u001b[39maddress\n",
      "\u001b[1;31mAttributeError\u001b[0m: 'Manager' object has no attribute 'address'"
     ]
    }
   ],
   "source": [
    "m1.address\n"
   ]
  },
  {
   "cell_type": "code",
   "execution_count": 147,
   "metadata": {},
   "outputs": [
    {
     "name": "stdout",
     "output_type": "stream",
     "text": [
      "human being constructor called...\n"
     ]
    }
   ],
   "source": [
    "m1 = Manager(20, 555555555555,45, std1 = 'Moni', std2 = 'Sunny')\n"
   ]
  },
  {
   "cell_type": "code",
   "execution_count": 148,
   "metadata": {},
   "outputs": [
    {
     "data": {
      "text/plain": [
       "{'name': 'PADMA', 'age': 20, 'address': 555555555555}"
      ]
     },
     "execution_count": 148,
     "metadata": {},
     "output_type": "execute_result"
    }
   ],
   "source": [
    "m1.__dict__\n"
   ]
  },
  {
   "cell_type": "code",
   "execution_count": 149,
   "metadata": {},
   "outputs": [
    {
     "name": "stdout",
     "output_type": "stream",
     "text": [
      "(1, 2, 3)\n",
      "{'name': 'Alice', 'age': 30}\n"
     ]
    }
   ],
   "source": [
    "def example_function(*args, **kwargs):\n",
    "    print(args)    # tuple of positional arguments\n",
    "    print(kwargs)  # dictionary of keyword arguments\n",
    "\n",
    "example_function(1, 2, 3, name='Alice', age=30)\n"
   ]
  },
  {
   "cell_type": "code",
   "execution_count": 150,
   "metadata": {},
   "outputs": [],
   "source": [
    "class Human_being(object):\n",
    "    def __init__(self):\n",
    "        print('human being constructor called...')\n",
    "        self.name = input('enter your name - ')\n",
    "\n",
    "class Employee(Human_being):\n",
    "    # pass\n",
    "    def __init__(self):\n",
    "        super().__init__()\n",
    "        print ('employee constructor called...')\n",
    "        self.salary = float(input('enter your salary amount - '))\n",
    "\n",
    "class Manager(Employee):\n",
    "    # pass\n",
    "    def __init__(self):\n",
    "        super().__init__()\n",
    "        print('menagers constructor is called...')\n",
    "        self.bonus = float(input('enter your bonus amount: '))\n"
   ]
  },
  {
   "cell_type": "code",
   "execution_count": 152,
   "metadata": {},
   "outputs": [
    {
     "name": "stdout",
     "output_type": "stream",
     "text": [
      "human being constructor called...\n",
      "employee constructor called...\n"
     ]
    },
    {
     "ename": "ValueError",
     "evalue": "could not convert string to float: 'JK'",
     "output_type": "error",
     "traceback": [
      "\u001b[1;31m---------------------------------------------------------------------------\u001b[0m",
      "\u001b[1;31mValueError\u001b[0m                                Traceback (most recent call last)",
      "Cell \u001b[1;32mIn[152], line 1\u001b[0m\n\u001b[1;32m----> 1\u001b[0m m1 \u001b[38;5;241m=\u001b[39m Manager()\n",
      "Cell \u001b[1;32mIn[150], line 16\u001b[0m, in \u001b[0;36mManager.__init__\u001b[1;34m(self)\u001b[0m\n\u001b[0;32m     15\u001b[0m \u001b[38;5;28;01mdef\u001b[39;00m \u001b[38;5;21m__init__\u001b[39m(\u001b[38;5;28mself\u001b[39m):\n\u001b[1;32m---> 16\u001b[0m     \u001b[38;5;28msuper\u001b[39m()\u001b[38;5;241m.\u001b[39m\u001b[38;5;21m__init__\u001b[39m()\n\u001b[0;32m     17\u001b[0m     \u001b[38;5;28mprint\u001b[39m(\u001b[38;5;124m'\u001b[39m\u001b[38;5;124mmenagers constructor is called...\u001b[39m\u001b[38;5;124m'\u001b[39m)\n\u001b[0;32m     18\u001b[0m     \u001b[38;5;28mself\u001b[39m\u001b[38;5;241m.\u001b[39mbonus \u001b[38;5;241m=\u001b[39m \u001b[38;5;28mfloat\u001b[39m(\u001b[38;5;28minput\u001b[39m(\u001b[38;5;124m'\u001b[39m\u001b[38;5;124menter your bonus amount: \u001b[39m\u001b[38;5;124m'\u001b[39m))\n",
      "Cell \u001b[1;32mIn[150], line 11\u001b[0m, in \u001b[0;36mEmployee.__init__\u001b[1;34m(self)\u001b[0m\n\u001b[0;32m      9\u001b[0m \u001b[38;5;28msuper\u001b[39m()\u001b[38;5;241m.\u001b[39m\u001b[38;5;21m__init__\u001b[39m()\n\u001b[0;32m     10\u001b[0m \u001b[38;5;28mprint\u001b[39m (\u001b[38;5;124m'\u001b[39m\u001b[38;5;124memployee constructor called...\u001b[39m\u001b[38;5;124m'\u001b[39m)\n\u001b[1;32m---> 11\u001b[0m \u001b[38;5;28mself\u001b[39m\u001b[38;5;241m.\u001b[39msalary \u001b[38;5;241m=\u001b[39m \u001b[38;5;28mfloat\u001b[39m(\u001b[38;5;28minput\u001b[39m(\u001b[38;5;124m'\u001b[39m\u001b[38;5;124menter your salary amount - \u001b[39m\u001b[38;5;124m'\u001b[39m))\n",
      "\u001b[1;31mValueError\u001b[0m: could not convert string to float: 'JK'"
     ]
    }
   ],
   "source": [
    "m1 = Manager()\n"
   ]
  },
  {
   "cell_type": "code",
   "execution_count": 153,
   "metadata": {},
   "outputs": [],
   "source": [
    "class Person:\n",
    "    def __init__(self, name, age, place):\n",
    "        self.name  = name\n",
    "        self.age = age\n",
    "        self.place = place\n",
    "    def display1(self):\n",
    "        print(\"This is person display method\")\n",
    "\n",
    "class Employee(Person):\n",
    "    def __init__(self, name, age, place, salary):\n",
    "        super().__init__(name, age, place)\n",
    "        self.salary = salary\n",
    "    def display2(self):\n",
    "        print(\"this is Employee display method\")\n",
    "\n",
    "class Student(Person):\n",
    "    def __init__(self, name, age, place, marks):\n",
    "        super().__init__(name, age, place)\n",
    "        self.marks = marks\n",
    "    def display3(self):\n",
    "        print(\"This is student display method\")\n"
   ]
  },
  {
   "cell_type": "code",
   "execution_count": 154,
   "metadata": {},
   "outputs": [],
   "source": [
    "s1 = Student('Riya', 23, 'Bethua', 90)\n",
    "e1 = Employee('Panta', 25, 'Bethua', 000)\n",
    "p1 = Person('Manta', 23, 'Bethua')\n"
   ]
  },
  {
   "cell_type": "code",
   "execution_count": 155,
   "metadata": {},
   "outputs": [
    {
     "name": "stdout",
     "output_type": "stream",
     "text": [
      "This is person display method\n"
     ]
    }
   ],
   "source": [
    "e1.display1()\n"
   ]
  },
  {
   "cell_type": "code",
   "execution_count": 156,
   "metadata": {},
   "outputs": [
    {
     "data": {
      "text/plain": [
       "'Bethua'"
      ]
     },
     "execution_count": 156,
     "metadata": {},
     "output_type": "execute_result"
    }
   ],
   "source": [
    "s1.place\n"
   ]
  },
  {
   "cell_type": "code",
   "execution_count": 157,
   "metadata": {},
   "outputs": [
    {
     "name": "stdout",
     "output_type": "stream",
     "text": [
      "This is person display method\n"
     ]
    }
   ],
   "source": [
    "s1.display1()\n"
   ]
  },
  {
   "cell_type": "code",
   "execution_count": 158,
   "metadata": {},
   "outputs": [
    {
     "data": {
      "text/plain": [
       "'Riya'"
      ]
     },
     "execution_count": 158,
     "metadata": {},
     "output_type": "execute_result"
    }
   ],
   "source": [
    "s1.name\n"
   ]
  },
  {
   "cell_type": "code",
   "execution_count": 159,
   "metadata": {},
   "outputs": [
    {
     "data": {
      "text/plain": [
       "'Panta'"
      ]
     },
     "execution_count": 159,
     "metadata": {},
     "output_type": "execute_result"
    }
   ],
   "source": [
    "e1.name\n"
   ]
  },
  {
   "cell_type": "code",
   "execution_count": 160,
   "metadata": {},
   "outputs": [],
   "source": [
    "class Country:\n",
    "    def __init__(self):\n",
    "        print('Country class constructor')\n",
    "        self.office = 'Bengaluru'\n",
    "\n",
    "class State:\n",
    "    pass\n",
    "    # def __init__(self):\n",
    "    #     super().__init__()\n",
    "    #     print('State class constructor')\n",
    "    #     self.office = 'Chennai'\n",
    "\n",
    "class District(State, Country):\n",
    "    pass\n",
    "    # def __init__(self):\n",
    "    #     super().__init__()\n",
    "    #     print('District class constructor')\n",
    "    #     self.office = 'Noida'\n"
   ]
  },
  {
   "cell_type": "code",
   "execution_count": 161,
   "metadata": {},
   "outputs": [
    {
     "name": "stdout",
     "output_type": "stream",
     "text": [
      "Country class constructor\n"
     ]
    }
   ],
   "source": [
    "d = District()\n"
   ]
  },
  {
   "cell_type": "code",
   "execution_count": 162,
   "metadata": {},
   "outputs": [
    {
     "data": {
      "text/plain": [
       "{'office': 'Bengaluru'}"
      ]
     },
     "execution_count": 162,
     "metadata": {},
     "output_type": "execute_result"
    }
   ],
   "source": [
    "d.__dict__\n"
   ]
  },
  {
   "cell_type": "code",
   "execution_count": 163,
   "metadata": {},
   "outputs": [],
   "source": [
    "class A:\n",
    "    pass\n",
    "class B:\n",
    "    pass\n",
    "class C:\n",
    "    pass\n",
    "class X(A, B, C):\n",
    "    pass\n",
    "class Y(B,C):\n",
    "    pass\n",
    "class P(X,Y):\n",
    "    pass\n"
   ]
  },
  {
   "cell_type": "code",
   "execution_count": 164,
   "metadata": {},
   "outputs": [
    {
     "data": {
      "text/plain": [
       "[__main__.P,\n",
       " __main__.X,\n",
       " __main__.A,\n",
       " __main__.Y,\n",
       " __main__.B,\n",
       " __main__.C,\n",
       " object]"
      ]
     },
     "execution_count": 164,
     "metadata": {},
     "output_type": "execute_result"
    }
   ],
   "source": [
    "P.mro()\n"
   ]
  },
  {
   "cell_type": "code",
   "execution_count": 165,
   "metadata": {},
   "outputs": [
    {
     "data": {
      "text/plain": [
       "[__main__.C, object]"
      ]
     },
     "execution_count": 165,
     "metadata": {},
     "output_type": "execute_result"
    }
   ],
   "source": [
    "C.mro()\n"
   ]
  },
  {
   "cell_type": "code",
   "execution_count": 166,
   "metadata": {},
   "outputs": [],
   "source": [
    "# class Country(State):\n",
    "#     def __init__(self):\n",
    "#         super().__init__()\n",
    "#         print('Country class constructor')\n",
    "#         self.office = 'Bengaluru'\n",
    "#     def display1():\n",
    "#         print('Country display method')\n",
    "\n",
    "class Country:\n",
    "    def __init__(self):\n",
    "        # super().__init__()\n",
    "        print('Country class constructor')\n",
    "        self.office = 'Bengaluru'\n",
    "    def display1(self):\n",
    "        print('Country display method')\n",
    "\n",
    "class State(Country):\n",
    "    def __init__(self):\n",
    "        super().__init__()\n",
    "        print('State class constructor')\n",
    "        self.office = 'Chennai'\n",
    "    def display2(self):\n",
    "        print('State display method')\n"
   ]
  },
  {
   "cell_type": "code",
   "execution_count": 167,
   "metadata": {},
   "outputs": [
    {
     "name": "stdout",
     "output_type": "stream",
     "text": [
      "Country class constructor\n"
     ]
    }
   ],
   "source": [
    "c=Country()\n"
   ]
  },
  {
   "cell_type": "code",
   "execution_count": 168,
   "metadata": {},
   "outputs": [
    {
     "name": "stdout",
     "output_type": "stream",
     "text": [
      "Country class constructor\n",
      "State class constructor\n"
     ]
    }
   ],
   "source": [
    "s=State()\n"
   ]
  },
  {
   "cell_type": "code",
   "execution_count": 169,
   "metadata": {},
   "outputs": [
    {
     "name": "stdout",
     "output_type": "stream",
     "text": [
      "Country class constructor\n",
      "Country class constructor\n",
      "State class constructor\n"
     ]
    }
   ],
   "source": [
    "c=Country()\n",
    "s=State()\n"
   ]
  },
  {
   "cell_type": "code",
   "execution_count": 170,
   "metadata": {},
   "outputs": [
    {
     "data": {
      "text/plain": [
       "'Bengaluru'"
      ]
     },
     "execution_count": 170,
     "metadata": {},
     "output_type": "execute_result"
    }
   ],
   "source": [
    "c.office\n"
   ]
  },
  {
   "cell_type": "code",
   "execution_count": 171,
   "metadata": {},
   "outputs": [
    {
     "data": {
      "text/plain": [
       "'Chennai'"
      ]
     },
     "execution_count": 171,
     "metadata": {},
     "output_type": "execute_result"
    }
   ],
   "source": [
    "s.office\n"
   ]
  },
  {
   "cell_type": "code",
   "execution_count": 172,
   "metadata": {},
   "outputs": [
    {
     "name": "stdout",
     "output_type": "stream",
     "text": [
      "Country display method\n"
     ]
    }
   ],
   "source": [
    "c.display1()\n"
   ]
  },
  {
   "cell_type": "code",
   "execution_count": 173,
   "metadata": {},
   "outputs": [
    {
     "name": "stdout",
     "output_type": "stream",
     "text": [
      "Country display method\n"
     ]
    }
   ],
   "source": [
    "s.display1()\n"
   ]
  },
  {
   "cell_type": "code",
   "execution_count": 174,
   "metadata": {},
   "outputs": [
    {
     "name": "stdout",
     "output_type": "stream",
     "text": [
      "State display method\n"
     ]
    }
   ],
   "source": [
    "s.display2()\n"
   ]
  },
  {
   "cell_type": "code",
   "execution_count": 178,
   "metadata": {},
   "outputs": [],
   "source": [
    "class Finance:\n",
    "    def __init__(self):\n",
    "        self.revenue = 1000\n",
    "        self.no_of_sales = 10\n"
   ]
  },
  {
   "cell_type": "code",
   "execution_count": 179,
   "metadata": {},
   "outputs": [],
   "source": [
    "f1 = Finance()\n"
   ]
  },
  {
   "cell_type": "code",
   "execution_count": 180,
   "metadata": {},
   "outputs": [
    {
     "data": {
      "text/plain": [
       "{'revenue': 1000, 'no_of_sales': 10}"
      ]
     },
     "execution_count": 180,
     "metadata": {},
     "output_type": "execute_result"
    }
   ],
   "source": [
    "f1.__dict__\n"
   ]
  },
  {
   "cell_type": "code",
   "execution_count": 181,
   "metadata": {},
   "outputs": [],
   "source": [
    "class HR:\n",
    "    def __init__(self):\n",
    "        self.no_of_emp = 5\n",
    "        f1.revenue = 100\n"
   ]
  },
  {
   "cell_type": "code",
   "execution_count": 182,
   "metadata": {},
   "outputs": [],
   "source": [
    "h1 = HR()\n"
   ]
  },
  {
   "cell_type": "code",
   "execution_count": 183,
   "metadata": {},
   "outputs": [
    {
     "data": {
      "text/plain": [
       "{'no_of_emp': 5}"
      ]
     },
     "execution_count": 183,
     "metadata": {},
     "output_type": "execute_result"
    }
   ],
   "source": [
    "h1.__dict__\n"
   ]
  },
  {
   "cell_type": "code",
   "execution_count": 184,
   "metadata": {},
   "outputs": [
    {
     "data": {
      "text/plain": [
       "{'revenue': 100, 'no_of_sales': 10}"
      ]
     },
     "execution_count": 184,
     "metadata": {},
     "output_type": "execute_result"
    }
   ],
   "source": [
    "f1.__dict__\n"
   ]
  },
  {
   "cell_type": "code",
   "execution_count": 200,
   "metadata": {},
   "outputs": [],
   "source": [
    "class Finance:\n",
    "    def __init__(self):\n",
    "        self.__revenue = 1000\n",
    "        self.no_of_sales = 10\n",
    "    def display(self):\n",
    "        print(f'the revenue amount is - {self.__revenue} and no of sales is - {self.no_of_sales}')\n",
    "\n",
    "class HR:\n",
    "    def __init__(self):\n",
    "        self.pdt = 20\n",
    "        self._no_of_emp = 5\n",
    "        self.__revenue = 100\n",
    "    def display(self):\n",
    "        print(f'no of pdt is - {self.pdt}')\n",
    "        print(f'the revenue amount is - {self.__revenue}')\n",
    "        print(f'no of sales is - {self._no_of_emp}')\n"
   ]
  },
  {
   "cell_type": "code",
   "execution_count": 201,
   "metadata": {},
   "outputs": [],
   "source": [
    "f1 = Finance()\n"
   ]
  },
  {
   "cell_type": "code",
   "execution_count": 202,
   "metadata": {},
   "outputs": [
    {
     "name": "stdout",
     "output_type": "stream",
     "text": [
      "the revenue amount is - 1000 and no of sales is - 10\n"
     ]
    }
   ],
   "source": [
    "f1.display()\n"
   ]
  },
  {
   "cell_type": "code",
   "execution_count": 203,
   "metadata": {},
   "outputs": [
    {
     "ename": "AttributeError",
     "evalue": "'Finance' object has no attribute '__revenue'",
     "output_type": "error",
     "traceback": [
      "\u001b[1;31m---------------------------------------------------------------------------\u001b[0m",
      "\u001b[1;31mAttributeError\u001b[0m                            Traceback (most recent call last)",
      "Cell \u001b[1;32mIn[203], line 1\u001b[0m\n\u001b[1;32m----> 1\u001b[0m f1\u001b[38;5;241m.\u001b[39m__revenue\n",
      "\u001b[1;31mAttributeError\u001b[0m: 'Finance' object has no attribute '__revenue'"
     ]
    }
   ],
   "source": [
    "f1.__revenue\n"
   ]
  },
  {
   "cell_type": "code",
   "execution_count": 204,
   "metadata": {},
   "outputs": [
    {
     "data": {
      "text/plain": [
       "10"
      ]
     },
     "execution_count": 204,
     "metadata": {},
     "output_type": "execute_result"
    }
   ],
   "source": [
    "f1.no_of_sales\n"
   ]
  },
  {
   "cell_type": "code",
   "execution_count": 205,
   "metadata": {},
   "outputs": [],
   "source": [
    "class Country:\n",
    "    def __init__(self):\n",
    "        # super().__init__()\n",
    "        print('Country class constructor')\n",
    "        self.office = 'Bengaluru'\n",
    "    def display1(self):\n",
    "        print('Country display method')\n",
    "\n",
    "class State(Country):\n",
    "    def __init__(self):\n",
    "        super().__init__()\n",
    "        print('State class constructor')\n",
    "        self.office = 'Chennai'\n",
    "    def display2(self):\n",
    "        print('State display method')\n"
   ]
  },
  {
   "cell_type": "code",
   "execution_count": 218,
   "metadata": {},
   "outputs": [],
   "source": [
    "class Finance:\n",
    "    def __init__(self):\n",
    "        self.domain = 10\n",
    "        self._revenue = 100\n",
    "        self.__no_of_sales = 1000\n",
    "    def display(self):\n",
    "        print(f'the domain count is - {self.domain}')\n",
    "        print(f'the revenue amount is - {self._revenue}')\n",
    "        print(f'no of sales is - {self.__no_of_sales}')\n",
    "    def dis1(self):\n",
    "        print(f'the domain count is - {self.domain}')\n",
    "        print(f'the revenue amount is - {self._revenue}')\n",
    "        print(f'no of sales is - {self.__no_of_sales}')\n",
    "\n",
    "class HR(Finance):\n",
    "    def __init__(self):\n",
    "        super().__init__()\n",
    "        self.pdt = 20\n",
    "        self._no_of_emp = 200\n",
    "        self.__revenue = 2000\n",
    "    def display(self):\n",
    "        print(f'no of pdt is - {self.pdt}')\n",
    "        print(f'no of employee is - {self._no_of_emp}')\n",
    "        print(f'the revenue amount is - {self.__revenue}')\n",
    "    def dis2(self):\n",
    "        print(f'the domain count is - {self.domain}')\n",
    "        print(f'the revenue amount is - {self._revenue}')\n",
    "        print(f'no of sales is - {self.__no_of_sales}')\n"
   ]
  },
  {
   "cell_type": "code",
   "execution_count": 219,
   "metadata": {},
   "outputs": [],
   "source": [
    "f1= Finance()\n",
    "h1 = HR()\n"
   ]
  },
  {
   "cell_type": "code",
   "execution_count": 220,
   "metadata": {},
   "outputs": [
    {
     "name": "stdout",
     "output_type": "stream",
     "text": [
      "the domain count is - 10\n",
      "the revenue amount is - 100\n"
     ]
    },
    {
     "ename": "AttributeError",
     "evalue": "'HR' object has no attribute '_HR__no_of_sales'",
     "output_type": "error",
     "traceback": [
      "\u001b[1;31m---------------------------------------------------------------------------\u001b[0m",
      "\u001b[1;31mAttributeError\u001b[0m                            Traceback (most recent call last)",
      "Cell \u001b[1;32mIn[220], line 1\u001b[0m\n\u001b[1;32m----> 1\u001b[0m h1\u001b[38;5;241m.\u001b[39mdis2()\n",
      "Cell \u001b[1;32mIn[218], line 28\u001b[0m, in \u001b[0;36mHR.dis2\u001b[1;34m(self)\u001b[0m\n\u001b[0;32m     26\u001b[0m \u001b[38;5;28mprint\u001b[39m(\u001b[38;5;124mf\u001b[39m\u001b[38;5;124m'\u001b[39m\u001b[38;5;124mthe domain count is - \u001b[39m\u001b[38;5;132;01m{\u001b[39;00m\u001b[38;5;28mself\u001b[39m\u001b[38;5;241m.\u001b[39mdomain\u001b[38;5;132;01m}\u001b[39;00m\u001b[38;5;124m'\u001b[39m)\n\u001b[0;32m     27\u001b[0m \u001b[38;5;28mprint\u001b[39m(\u001b[38;5;124mf\u001b[39m\u001b[38;5;124m'\u001b[39m\u001b[38;5;124mthe revenue amount is - \u001b[39m\u001b[38;5;132;01m{\u001b[39;00m\u001b[38;5;28mself\u001b[39m\u001b[38;5;241m.\u001b[39m_revenue\u001b[38;5;132;01m}\u001b[39;00m\u001b[38;5;124m'\u001b[39m)\n\u001b[1;32m---> 28\u001b[0m \u001b[38;5;28mprint\u001b[39m(\u001b[38;5;124mf\u001b[39m\u001b[38;5;124m'\u001b[39m\u001b[38;5;124mno of sales is - \u001b[39m\u001b[38;5;132;01m{\u001b[39;00m\u001b[38;5;28mself\u001b[39m\u001b[38;5;241m.\u001b[39m__no_of_sales\u001b[38;5;132;01m}\u001b[39;00m\u001b[38;5;124m'\u001b[39m)\n",
      "\u001b[1;31mAttributeError\u001b[0m: 'HR' object has no attribute '_HR__no_of_sales'"
     ]
    }
   ],
   "source": [
    "h1.dis2()\n"
   ]
  },
  {
   "cell_type": "code",
   "execution_count": 221,
   "metadata": {},
   "outputs": [
    {
     "name": "stdout",
     "output_type": "stream",
     "text": [
      "the domain count is - 10\n",
      "the revenue amount is - 100\n",
      "no of sales is - 1000\n"
     ]
    }
   ],
   "source": [
    "h1.dis1()\n"
   ]
  },
  {
   "cell_type": "code",
   "execution_count": null,
   "metadata": {},
   "outputs": [],
   "source": []
  },
  {
   "cell_type": "code",
   "execution_count": 222,
   "metadata": {},
   "outputs": [],
   "source": [
    "h1 = HR()\n"
   ]
  },
  {
   "cell_type": "code",
   "execution_count": 223,
   "metadata": {},
   "outputs": [
    {
     "data": {
      "text/plain": [
       "{'domain': 10,\n",
       " '_revenue': 100,\n",
       " '_Finance__no_of_sales': 1000,\n",
       " 'pdt': 20,\n",
       " '_no_of_emp': 200,\n",
       " '_HR__revenue': 2000}"
      ]
     },
     "execution_count": 223,
     "metadata": {},
     "output_type": "execute_result"
    }
   ],
   "source": [
    "h1.__dict__\n"
   ]
  },
  {
   "cell_type": "code",
   "execution_count": 224,
   "metadata": {},
   "outputs": [
    {
     "name": "stdout",
     "output_type": "stream",
     "text": [
      "no of pdt is - 20\n",
      "no of employee is - 200\n",
      "the revenue amount is - 2000\n"
     ]
    }
   ],
   "source": [
    "h1.display()\n"
   ]
  },
  {
   "cell_type": "code",
   "execution_count": 225,
   "metadata": {},
   "outputs": [
    {
     "ename": "TypeError",
     "evalue": "'int' object is not callable",
     "output_type": "error",
     "traceback": [
      "\u001b[1;31m---------------------------------------------------------------------------\u001b[0m",
      "\u001b[1;31mTypeError\u001b[0m                                 Traceback (most recent call last)",
      "Cell \u001b[1;32mIn[225], line 1\u001b[0m\n\u001b[1;32m----> 1\u001b[0m h1\u001b[38;5;241m.\u001b[39m_no_of_emp()\n",
      "\u001b[1;31mTypeError\u001b[0m: 'int' object is not callable"
     ]
    }
   ],
   "source": [
    "h1._no_of_emp()\n"
   ]
  },
  {
   "cell_type": "code",
   "execution_count": 226,
   "metadata": {},
   "outputs": [
    {
     "data": {
      "text/plain": [
       "20"
      ]
     },
     "execution_count": 226,
     "metadata": {},
     "output_type": "execute_result"
    }
   ],
   "source": [
    "h1.pdt\n"
   ]
  },
  {
   "cell_type": "code",
   "execution_count": 227,
   "metadata": {},
   "outputs": [
    {
     "ename": "AttributeError",
     "evalue": "'HR' object has no attribute '__revenue'",
     "output_type": "error",
     "traceback": [
      "\u001b[1;31m---------------------------------------------------------------------------\u001b[0m",
      "\u001b[1;31mAttributeError\u001b[0m                            Traceback (most recent call last)",
      "Cell \u001b[1;32mIn[227], line 1\u001b[0m\n\u001b[1;32m----> 1\u001b[0m h1\u001b[38;5;241m.\u001b[39m__revenue\n",
      "\u001b[1;31mAttributeError\u001b[0m: 'HR' object has no attribute '__revenue'"
     ]
    }
   ],
   "source": [
    "h1.__revenue\n"
   ]
  },
  {
   "cell_type": "code",
   "execution_count": 228,
   "metadata": {},
   "outputs": [
    {
     "data": {
      "text/plain": [
       "2000"
      ]
     },
     "execution_count": 228,
     "metadata": {},
     "output_type": "execute_result"
    }
   ],
   "source": [
    "h1._HR__revenue\n"
   ]
  },
  {
   "cell_type": "code",
   "execution_count": 240,
   "metadata": {},
   "outputs": [],
   "source": [
    "class HR:\n",
    "    def __init__(self):\n",
    "        super().__init__()\n",
    "        self.pdt = 20\n",
    "        self._no_of_emp = 200\n",
    "        self.__revenue = 2000\n",
    "    def dis2(self):\n",
    "        print(f'the revenue amount is - {self.__revenue}')\n",
    "        self.__revenue = 3000\n",
    "        print(f'the revenue amount is - {self.__revenue}')\n"
   ]
  },
  {
   "cell_type": "code",
   "execution_count": 241,
   "metadata": {},
   "outputs": [],
   "source": [
    "h = HR()\n"
   ]
  },
  {
   "cell_type": "code",
   "execution_count": 242,
   "metadata": {},
   "outputs": [
    {
     "data": {
      "text/plain": [
       "20"
      ]
     },
     "execution_count": 242,
     "metadata": {},
     "output_type": "execute_result"
    }
   ],
   "source": [
    "h.pdt\n"
   ]
  },
  {
   "cell_type": "code",
   "execution_count": 243,
   "metadata": {},
   "outputs": [
    {
     "data": {
      "text/plain": [
       "200"
      ]
     },
     "execution_count": 243,
     "metadata": {},
     "output_type": "execute_result"
    }
   ],
   "source": [
    "h._no_of_emp\n"
   ]
  },
  {
   "cell_type": "code",
   "execution_count": 244,
   "metadata": {},
   "outputs": [
    {
     "ename": "AttributeError",
     "evalue": "'HR' object has no attribute '__revenue'",
     "output_type": "error",
     "traceback": [
      "\u001b[1;31m---------------------------------------------------------------------------\u001b[0m",
      "\u001b[1;31mAttributeError\u001b[0m                            Traceback (most recent call last)",
      "Cell \u001b[1;32mIn[244], line 1\u001b[0m\n\u001b[1;32m----> 1\u001b[0m h\u001b[38;5;241m.\u001b[39m__revenue\n",
      "\u001b[1;31mAttributeError\u001b[0m: 'HR' object has no attribute '__revenue'"
     ]
    }
   ],
   "source": [
    "h.__revenue\n"
   ]
  },
  {
   "cell_type": "code",
   "execution_count": 245,
   "metadata": {},
   "outputs": [
    {
     "name": "stdout",
     "output_type": "stream",
     "text": [
      "the revenue amount is - 2000\n",
      "the revenue amount is - 3000\n"
     ]
    }
   ],
   "source": [
    "h.dis2()\n"
   ]
  },
  {
   "cell_type": "code",
   "execution_count": 262,
   "metadata": {},
   "outputs": [
    {
     "data": {
      "text/plain": [
       "{'pdt': 20, '_no_of_emp': 200, '_HR__revenue': 3000}"
      ]
     },
     "execution_count": 262,
     "metadata": {},
     "output_type": "execute_result"
    }
   ],
   "source": [
    "h.__dict__\n"
   ]
  },
  {
   "cell_type": "code",
   "execution_count": null,
   "metadata": {},
   "outputs": [
    {
     "data": {
      "text/plain": [
       "3000"
      ]
     },
     "execution_count": 263,
     "metadata": {},
     "output_type": "execute_result"
    }
   ],
   "source": [
    "# name mangling\n",
    "h._HR__revenue\n"
   ]
  },
  {
   "cell_type": "code",
   "execution_count": 270,
   "metadata": {},
   "outputs": [],
   "source": [
    "class HR:\n",
    "    def __init__(self):\n",
    "        super().__init__()\n",
    "        self.pdt = 20\n",
    "        self._no_of_emp = 200\n",
    "        self.__revenue = 2000\n",
    "\n",
    "    def __dis1(self):\n",
    "        print(f'The revenue amount is - {self.__revenue}')\n",
    "        self.__revenue = 3000\n",
    "\n",
    "    def dis2(self):\n",
    "        # Accessing the private method __dis1 using its mangled name\n",
    "        self.__dis1()\n",
    "        print(f'The updated revenue amount is - {self.__revenue}')\n",
    "\n"
   ]
  },
  {
   "cell_type": "code",
   "execution_count": 271,
   "metadata": {},
   "outputs": [],
   "source": [
    "h = HR()\n"
   ]
  },
  {
   "cell_type": "code",
   "execution_count": 273,
   "metadata": {},
   "outputs": [
    {
     "ename": "AttributeError",
     "evalue": "'HR' object has no attribute '__dis1'",
     "output_type": "error",
     "traceback": [
      "\u001b[1;31m---------------------------------------------------------------------------\u001b[0m",
      "\u001b[1;31mAttributeError\u001b[0m                            Traceback (most recent call last)",
      "Cell \u001b[1;32mIn[273], line 1\u001b[0m\n\u001b[1;32m----> 1\u001b[0m h\u001b[38;5;241m.\u001b[39m__dis1()\n",
      "\u001b[1;31mAttributeError\u001b[0m: 'HR' object has no attribute '__dis1'"
     ]
    }
   ],
   "source": [
    "h.__dis1()\n"
   ]
  },
  {
   "cell_type": "code",
   "execution_count": 275,
   "metadata": {},
   "outputs": [
    {
     "name": "stdout",
     "output_type": "stream",
     "text": [
      "The revenue amount is - 2000\n",
      "The updated revenue amount is - 3000\n"
     ]
    }
   ],
   "source": [
    "h.dis2()\n"
   ]
  },
  {
   "cell_type": "code",
   "execution_count": null,
   "metadata": {},
   "outputs": [],
   "source": []
  },
  {
   "cell_type": "code",
   "execution_count": null,
   "metadata": {},
   "outputs": [],
   "source": []
  },
  {
   "cell_type": "code",
   "execution_count": null,
   "metadata": {},
   "outputs": [],
   "source": []
  },
  {
   "cell_type": "code",
   "execution_count": 246,
   "metadata": {},
   "outputs": [],
   "source": [
    "class Finance:\n",
    "    def __init__(self):\n",
    "        self.domain = 10\n",
    "        self._revenue = 100\n",
    "        self.__no_of_sales = 1000\n",
    "    def display(self):\n",
    "        print(f'the domain count is - {self.domain}')\n",
    "        print(f'the revenue amount is - {self._revenue}')\n",
    "        print(f'no of sales is - {self.__no_of_sales}')\n",
    "    def dis1(self):\n",
    "        print(f'the domain count is - {self.domain}')\n",
    "        print(f'the revenue amount is - {self._revenue}')\n",
    "        print(f'no of sales is - {self.__no_of_sales}')\n"
   ]
  },
  {
   "cell_type": "code",
   "execution_count": 247,
   "metadata": {},
   "outputs": [],
   "source": [
    "f1=Finance()\n"
   ]
  },
  {
   "cell_type": "code",
   "execution_count": 248,
   "metadata": {},
   "outputs": [
    {
     "data": {
      "text/plain": [
       "{'domain': 10, '_revenue': 100, '_Finance__no_of_sales': 1000}"
      ]
     },
     "execution_count": 248,
     "metadata": {},
     "output_type": "execute_result"
    }
   ],
   "source": [
    "f1.__dict__\n"
   ]
  },
  {
   "cell_type": "code",
   "execution_count": 249,
   "metadata": {},
   "outputs": [
    {
     "data": {
      "text/plain": [
       "1000"
      ]
     },
     "execution_count": 249,
     "metadata": {},
     "output_type": "execute_result"
    }
   ],
   "source": [
    "f1._Finance__no_of_sales\n"
   ]
  },
  {
   "cell_type": "code",
   "execution_count": 250,
   "metadata": {},
   "outputs": [],
   "source": [
    "emp = ['Moni', 'Dipankar', 'Sandip']\n",
    "company = 'TCS'\n"
   ]
  },
  {
   "cell_type": "code",
   "execution_count": 251,
   "metadata": {},
   "outputs": [
    {
     "name": "stdout",
     "output_type": "stream",
     "text": [
      "Sandip\n",
      "Dipankar\n",
      "Moni\n"
     ]
    }
   ],
   "source": [
    "for i in reversed(emp):\n",
    "    print(i)\n"
   ]
  },
  {
   "cell_type": "code",
   "execution_count": 252,
   "metadata": {},
   "outputs": [
    {
     "name": "stdout",
     "output_type": "stream",
     "text": [
      "S\n",
      "C\n",
      "T\n"
     ]
    }
   ],
   "source": [
    "for i in reversed(company):\n",
    "    print(i)\n"
   ]
  },
  {
   "cell_type": "code",
   "execution_count": 276,
   "metadata": {},
   "outputs": [],
   "source": [
    "class Vehicle():\n",
    "    def __init__(self, name, color, price):\n",
    "        self.name = name\n",
    "        self.color = color\n",
    "        self.price = price\n",
    "    def get_details(self):\n",
    "        print(f'name of the vahicle is - {self.name}')\n",
    "        print(f'color of the vahicle is - {self.color}')\n",
    "        print(f'price of the vahicle is - {self.price}')\n",
    "    def max_speed(self):\n",
    "        print('maximum speed limit is 100')\n",
    "    def gear(self):\n",
    "        print(\"vehicle's gear change is 6\")\n",
    "\n",
    "class Car(Vehicle):\n",
    "    def max_speed(self):\n",
    "        print(\"maximum speed limit is 140\")\n",
    "    def gear(self):\n",
    "        print(\"car's gear change is 7\")\n"
   ]
  },
  {
   "cell_type": "code",
   "execution_count": 277,
   "metadata": {},
   "outputs": [],
   "source": [
    "V1 = Vehicle('Lorry', 'Orrange', 1100000)\n",
    "C1 = Car('Bike', 'Red', 55000)\n"
   ]
  },
  {
   "cell_type": "code",
   "execution_count": 278,
   "metadata": {},
   "outputs": [
    {
     "data": {
      "text/plain": [
       "{'name': 'Lorry', 'color': 'Orrange', 'price': 1100000}"
      ]
     },
     "execution_count": 278,
     "metadata": {},
     "output_type": "execute_result"
    }
   ],
   "source": [
    "V1.__dict__\n"
   ]
  },
  {
   "cell_type": "code",
   "execution_count": 279,
   "metadata": {},
   "outputs": [
    {
     "data": {
      "text/plain": [
       "{'name': 'Bike', 'color': 'Red', 'price': 55000}"
      ]
     },
     "execution_count": 279,
     "metadata": {},
     "output_type": "execute_result"
    }
   ],
   "source": [
    "C1.__dict__\n"
   ]
  },
  {
   "cell_type": "code",
   "execution_count": 280,
   "metadata": {},
   "outputs": [
    {
     "name": "stdout",
     "output_type": "stream",
     "text": [
      "name of the vahicle is - Lorry\n",
      "color of the vahicle is - Orrange\n",
      "price of the vahicle is - 1100000\n"
     ]
    }
   ],
   "source": [
    "V1.get_details()\n"
   ]
  },
  {
   "cell_type": "code",
   "execution_count": 281,
   "metadata": {},
   "outputs": [
    {
     "name": "stdout",
     "output_type": "stream",
     "text": [
      "name of the vahicle is - Bike\n",
      "color of the vahicle is - Red\n",
      "price of the vahicle is - 55000\n"
     ]
    }
   ],
   "source": [
    "C1.get_details()\n"
   ]
  },
  {
   "cell_type": "code",
   "execution_count": 282,
   "metadata": {},
   "outputs": [
    {
     "name": "stdout",
     "output_type": "stream",
     "text": [
      "maximum speed limit is 100\n"
     ]
    }
   ],
   "source": [
    "V1.max_speed()\n"
   ]
  },
  {
   "cell_type": "code",
   "execution_count": 283,
   "metadata": {},
   "outputs": [
    {
     "name": "stdout",
     "output_type": "stream",
     "text": [
      "maximum speed limit is 140\n"
     ]
    }
   ],
   "source": [
    "C1.max_speed()\n"
   ]
  },
  {
   "cell_type": "code",
   "execution_count": 284,
   "metadata": {},
   "outputs": [
    {
     "name": "stdout",
     "output_type": "stream",
     "text": [
      "<__main__.Cart object at 0x000001DE20BC6290>\n"
     ]
    }
   ],
   "source": [
    "class Cart:\n",
    "    pass\n",
    "\n",
    "c1 = Cart()\n",
    "print(c1) #here __str__ this magic function called by default and print the memory automatically\n"
   ]
  },
  {
   "cell_type": "code",
   "execution_count": null,
   "metadata": {},
   "outputs": [],
   "source": [
    "class Cart:\n",
    "    def __init__(self, basket1, basket2, basket3):\n",
    "        self.grocery = basket1\n",
    "        self.clothes = basket2\n",
    "        self.electronics = basket3\n",
    "    def __len__(self): #magic method len -> __len__\n",
    "        print('Total number of items in cart - ')\n",
    "        return len(self.grocery) + len(self.clothes) + len(self.electronics)\n"
   ]
  },
  {
   "cell_type": "code",
   "execution_count": 286,
   "metadata": {},
   "outputs": [
    {
     "name": "stdout",
     "output_type": "stream",
     "text": [
      "Total number of items in cart - \n",
      "9\n"
     ]
    }
   ],
   "source": [
    "home = Cart(['Oreo', 'Hing', 'Gobindobhog Rice', 'Ghee'], ['Tshirt', 'Skinny', 'Dupatta'], ['Laptop', 'Calculator'])\n",
    "print(len(home))\n"
   ]
  },
  {
   "cell_type": "code",
   "execution_count": null,
   "metadata": {},
   "outputs": [],
   "source": [
    "class BMW:\n",
    "    def fuel_type(self):\n",
    "        print('Diesel')\n",
    "    def max_speed(self):\n",
    "        print('max speed is 200')\n",
    "\n",
    "class Ferrari:\n",
    "    def fuel_type(self):\n",
    "        print('Petrol')\n",
    "    def max_speed(self):\n",
    "        print('max speed is 180')\n",
    "\n",
    "def car_details(obj):\n",
    "    obj.fuel_type()\n",
    "    obj.max_speed()\n"
   ]
  },
  {
   "cell_type": "code",
   "execution_count": null,
   "metadata": {},
   "outputs": [],
   "source": [
    "bmw = BMW()\n",
    "ferrari = Ferrari()\n"
   ]
  },
  {
   "cell_type": "code",
   "execution_count": null,
   "metadata": {},
   "outputs": [
    {
     "name": "stdout",
     "output_type": "stream",
     "text": [
      "Diesel\n",
      "max speed is 200\n"
     ]
    }
   ],
   "source": [
    "car_details(bmw)\n"
   ]
  },
  {
   "cell_type": "code",
   "execution_count": null,
   "metadata": {},
   "outputs": [
    {
     "name": "stdout",
     "output_type": "stream",
     "text": [
      "Petrol\n",
      "max speed is 180\n"
     ]
    }
   ],
   "source": [
    "car_details(ferrari)\n"
   ]
  },
  {
   "cell_type": "code",
   "execution_count": null,
   "metadata": {},
   "outputs": [
    {
     "name": "stdout",
     "output_type": "stream",
     "text": [
      "using simple + operator - 30\n",
      "using only the magic method - 30\n",
      "using int class and magic method together - 30\n"
     ]
    }
   ],
   "source": [
    "num1 = 10\n",
    "num2 = 20\n",
    "print(f'using simple + operator - {num1 + num2}')\n",
    "print(f'using only the magic method - {num1.__add__(num2)}')\n",
    "print(f'using int class and magic method together - {int.__add__(num1, num2)}')\n"
   ]
  },
  {
   "cell_type": "code",
   "execution_count": null,
   "metadata": {},
   "outputs": [
    {
     "data": {
      "text/plain": [
       "['__abs__',\n",
       " '__add__',\n",
       " '__and__',\n",
       " '__bool__',\n",
       " '__ceil__',\n",
       " '__class__',\n",
       " '__delattr__',\n",
       " '__dir__',\n",
       " '__divmod__',\n",
       " '__doc__',\n",
       " '__eq__',\n",
       " '__float__',\n",
       " '__floor__',\n",
       " '__floordiv__',\n",
       " '__format__',\n",
       " '__ge__',\n",
       " '__getattribute__',\n",
       " '__getnewargs__',\n",
       " '__getstate__',\n",
       " '__gt__',\n",
       " '__hash__',\n",
       " '__index__',\n",
       " '__init__',\n",
       " '__init_subclass__',\n",
       " '__int__',\n",
       " '__invert__',\n",
       " '__le__',\n",
       " '__lshift__',\n",
       " '__lt__',\n",
       " '__mod__',\n",
       " '__mul__',\n",
       " '__ne__',\n",
       " '__neg__',\n",
       " '__new__',\n",
       " '__or__',\n",
       " '__pos__',\n",
       " '__pow__',\n",
       " '__radd__',\n",
       " '__rand__',\n",
       " '__rdivmod__',\n",
       " '__reduce__',\n",
       " '__reduce_ex__',\n",
       " '__repr__',\n",
       " '__rfloordiv__',\n",
       " '__rlshift__',\n",
       " '__rmod__',\n",
       " '__rmul__',\n",
       " '__ror__',\n",
       " '__round__',\n",
       " '__rpow__',\n",
       " '__rrshift__',\n",
       " '__rshift__',\n",
       " '__rsub__',\n",
       " '__rtruediv__',\n",
       " '__rxor__',\n",
       " '__setattr__',\n",
       " '__sizeof__',\n",
       " '__str__',\n",
       " '__sub__',\n",
       " '__subclasshook__',\n",
       " '__truediv__',\n",
       " '__trunc__',\n",
       " '__xor__',\n",
       " 'as_integer_ratio',\n",
       " 'bit_count',\n",
       " 'bit_length',\n",
       " 'conjugate',\n",
       " 'denominator',\n",
       " 'from_bytes',\n",
       " 'imag',\n",
       " 'numerator',\n",
       " 'real',\n",
       " 'to_bytes']"
      ]
     },
     "execution_count": 30,
     "metadata": {},
     "output_type": "execute_result"
    }
   ],
   "source": [
    "dir(int)\n"
   ]
  },
  {
   "cell_type": "code",
   "execution_count": 287,
   "metadata": {},
   "outputs": [
    {
     "data": {
      "text/plain": [
       "['__add__',\n",
       " '__class__',\n",
       " '__contains__',\n",
       " '__delattr__',\n",
       " '__dir__',\n",
       " '__doc__',\n",
       " '__eq__',\n",
       " '__format__',\n",
       " '__ge__',\n",
       " '__getattribute__',\n",
       " '__getitem__',\n",
       " '__getnewargs__',\n",
       " '__getstate__',\n",
       " '__gt__',\n",
       " '__hash__',\n",
       " '__init__',\n",
       " '__init_subclass__',\n",
       " '__iter__',\n",
       " '__le__',\n",
       " '__len__',\n",
       " '__lt__',\n",
       " '__mod__',\n",
       " '__mul__',\n",
       " '__ne__',\n",
       " '__new__',\n",
       " '__reduce__',\n",
       " '__reduce_ex__',\n",
       " '__repr__',\n",
       " '__rmod__',\n",
       " '__rmul__',\n",
       " '__setattr__',\n",
       " '__sizeof__',\n",
       " '__str__',\n",
       " '__subclasshook__',\n",
       " 'capitalize',\n",
       " 'casefold',\n",
       " 'center',\n",
       " 'count',\n",
       " 'encode',\n",
       " 'endswith',\n",
       " 'expandtabs',\n",
       " 'find',\n",
       " 'format',\n",
       " 'format_map',\n",
       " 'index',\n",
       " 'isalnum',\n",
       " 'isalpha',\n",
       " 'isascii',\n",
       " 'isdecimal',\n",
       " 'isdigit',\n",
       " 'isidentifier',\n",
       " 'islower',\n",
       " 'isnumeric',\n",
       " 'isprintable',\n",
       " 'isspace',\n",
       " 'istitle',\n",
       " 'isupper',\n",
       " 'join',\n",
       " 'ljust',\n",
       " 'lower',\n",
       " 'lstrip',\n",
       " 'maketrans',\n",
       " 'partition',\n",
       " 'removeprefix',\n",
       " 'removesuffix',\n",
       " 'replace',\n",
       " 'rfind',\n",
       " 'rindex',\n",
       " 'rjust',\n",
       " 'rpartition',\n",
       " 'rsplit',\n",
       " 'rstrip',\n",
       " 'split',\n",
       " 'splitlines',\n",
       " 'startswith',\n",
       " 'strip',\n",
       " 'swapcase',\n",
       " 'title',\n",
       " 'translate',\n",
       " 'upper',\n",
       " 'zfill']"
      ]
     },
     "execution_count": 287,
     "metadata": {},
     "output_type": "execute_result"
    }
   ],
   "source": [
    "dir(str)\n"
   ]
  },
  {
   "cell_type": "code",
   "execution_count": null,
   "metadata": {},
   "outputs": [
    {
     "ename": "TypeError",
     "evalue": "can only concatenate str (not \"int\") to str",
     "output_type": "error",
     "traceback": [
      "\u001b[1;31m---------------------------------------------------------------------------\u001b[0m",
      "\u001b[1;31mTypeError\u001b[0m                                 Traceback (most recent call last)",
      "Cell \u001b[1;32mIn[31], line 3\u001b[0m\n\u001b[0;32m      1\u001b[0m num1 \u001b[38;5;241m=\u001b[39m \u001b[38;5;124m'\u001b[39m\u001b[38;5;124mHi\u001b[39m\u001b[38;5;124m'\u001b[39m\n\u001b[0;32m      2\u001b[0m num2 \u001b[38;5;241m=\u001b[39m \u001b[38;5;241m20\u001b[39m\n\u001b[1;32m----> 3\u001b[0m \u001b[38;5;28mprint\u001b[39m(\u001b[38;5;124mf\u001b[39m\u001b[38;5;124m'\u001b[39m\u001b[38;5;124musing simple + operator - \u001b[39m\u001b[38;5;132;01m{\u001b[39;00mnum1\u001b[38;5;250m \u001b[39m\u001b[38;5;241m+\u001b[39m\u001b[38;5;250m \u001b[39mnum2\u001b[38;5;132;01m}\u001b[39;00m\u001b[38;5;124m'\u001b[39m)\n\u001b[0;32m      4\u001b[0m \u001b[38;5;28mprint\u001b[39m(\u001b[38;5;124mf\u001b[39m\u001b[38;5;124m'\u001b[39m\u001b[38;5;124musing only the magic method - \u001b[39m\u001b[38;5;132;01m{\u001b[39;00mnum1\u001b[38;5;241m.\u001b[39m\u001b[38;5;21m__add__\u001b[39m(num2)\u001b[38;5;132;01m}\u001b[39;00m\u001b[38;5;124m'\u001b[39m)\n\u001b[0;32m      5\u001b[0m \u001b[38;5;28mprint\u001b[39m(\u001b[38;5;124mf\u001b[39m\u001b[38;5;124m'\u001b[39m\u001b[38;5;124musing int class and magic method together - \u001b[39m\u001b[38;5;132;01m{\u001b[39;00m\u001b[38;5;28mint\u001b[39m\u001b[38;5;241m.\u001b[39m\u001b[38;5;21m__add__\u001b[39m(num1,\u001b[38;5;250m \u001b[39mnum2)\u001b[38;5;132;01m}\u001b[39;00m\u001b[38;5;124m'\u001b[39m)\n",
      "\u001b[1;31mTypeError\u001b[0m: can only concatenate str (not \"int\") to str"
     ]
    }
   ],
   "source": [
    "num1 = 'Hi'\n",
    "num2 = 20\n",
    "print(f'using simple + operator - {num1 + num2}')\n",
    "print(f'using only the magic method - {num1.__add__(num2)}')\n",
    "print(f'using int class and magic method together - {int.__add__(num1, num2)}')\n"
   ]
  },
  {
   "cell_type": "code",
   "execution_count": null,
   "metadata": {},
   "outputs": [
    {
     "ename": "TypeError",
     "evalue": "can only concatenate str (not \"int\") to str",
     "output_type": "error",
     "traceback": [
      "\u001b[1;31m---------------------------------------------------------------------------\u001b[0m",
      "\u001b[1;31mTypeError\u001b[0m                                 Traceback (most recent call last)",
      "Cell \u001b[1;32mIn[32], line 5\u001b[0m\n\u001b[0;32m      2\u001b[0m num2 \u001b[38;5;241m=\u001b[39m \u001b[38;5;241m20\u001b[39m\n\u001b[0;32m      3\u001b[0m \u001b[38;5;66;03m# print(f'using simple + operator - {num1 + num2}')\u001b[39;00m\n\u001b[0;32m      4\u001b[0m \u001b[38;5;66;03m# print(f'using only the magic method - {num1.__add__(num2)}')\u001b[39;00m\n\u001b[1;32m----> 5\u001b[0m \u001b[38;5;28mprint\u001b[39m(\u001b[38;5;124mf\u001b[39m\u001b[38;5;124m'\u001b[39m\u001b[38;5;124musing int class and magic method together - \u001b[39m\u001b[38;5;132;01m{\u001b[39;00m\u001b[38;5;28mstr\u001b[39m\u001b[38;5;241m.\u001b[39m\u001b[38;5;21m__add__\u001b[39m(num1,\u001b[38;5;250m \u001b[39mnum2)\u001b[38;5;132;01m}\u001b[39;00m\u001b[38;5;124m'\u001b[39m)\n",
      "\u001b[1;31mTypeError\u001b[0m: can only concatenate str (not \"int\") to str"
     ]
    }
   ],
   "source": [
    "num1 = 'Hi'\n",
    "num2 = 20\n",
    "# print(f'using simple + operator - {num1 + num2}')\n",
    "# print(f'using only the magic method - {num1.__add__(num2)}')\n",
    "print(f'using int class and magic method together - {str.__add__(num1, num2)}')\n"
   ]
  },
  {
   "cell_type": "code",
   "execution_count": null,
   "metadata": {},
   "outputs": [],
   "source": [
    "class Book:\n",
    "    def __init__(self, title, pages):\n",
    "        self.title = title\n",
    "        self.pages = pages\n"
   ]
  },
  {
   "cell_type": "code",
   "execution_count": null,
   "metadata": {},
   "outputs": [],
   "source": [
    "b1 = Book('One Indian Girl', 300)\n",
    "b2 = Book('Making India Awsome', 200)\n"
   ]
  },
  {
   "cell_type": "code",
   "execution_count": null,
   "metadata": {},
   "outputs": [
    {
     "name": "stdout",
     "output_type": "stream",
     "text": [
      "Total number of pages: 500\n"
     ]
    }
   ],
   "source": [
    "print(f\"Total number of pages: {b1.pages + b2.pages}\")\n"
   ]
  },
  {
   "cell_type": "code",
   "execution_count": 288,
   "metadata": {},
   "outputs": [],
   "source": [
    "class Book:\n",
    "    def __init__(self, title, pages):\n",
    "        self.title = title\n",
    "        self.pages = pages\n",
    "    def __add__(self, other):\n",
    "        total = self.pages + other.pages\n",
    "        return total\n"
   ]
  },
  {
   "cell_type": "code",
   "execution_count": 289,
   "metadata": {},
   "outputs": [],
   "source": [
    "b1 = Book('One Indian Girl', 300)\n",
    "b2 = Book('Making India Awsome', 200)\n",
    "b2 = Book('Making India Awsome', 00)\n"
   ]
  },
  {
   "cell_type": "code",
   "execution_count": 290,
   "metadata": {},
   "outputs": [
    {
     "name": "stdout",
     "output_type": "stream",
     "text": [
      "Total number of pages: 300\n"
     ]
    }
   ],
   "source": [
    "print(f\"Total number of pages: {b1 + b2}\")\n"
   ]
  },
  {
   "cell_type": "code",
   "execution_count": 291,
   "metadata": {},
   "outputs": [
    {
     "name": "stdout",
     "output_type": "stream",
     "text": [
      "Total number of pages: 500\n"
     ]
    }
   ],
   "source": [
    "class Book:\n",
    "    def __init__(self, title, pages):\n",
    "        self.title = title\n",
    "        self.pages = pages\n",
    "    def __add__(self, other):\n",
    "        total = self.pages + other.pages\n",
    "        return total\n",
    "    \n",
    "b1 = Book('One Indian Girl', 300)\n",
    "b2 = Book('Making India Awsome', 200)\n",
    "\n",
    "print(f\"Total number of pages: {b1 + b2}\")\n"
   ]
  },
  {
   "cell_type": "code",
   "execution_count": 292,
   "metadata": {},
   "outputs": [],
   "source": [
    "class Hotel:\n",
    "    def __init__(self, name, fare):\n",
    "        self.name =name\n",
    "        self.fare = fare\n",
    "    def __gt__(self, other):\n",
    "        return self.fare > other.fare\n"
   ]
  },
  {
   "cell_type": "code",
   "execution_count": 293,
   "metadata": {},
   "outputs": [],
   "source": [
    "h1 = Hotel('Taj Hotel', 2000000)\n",
    "h2 = Hotel('Obroi', 1000)\n"
   ]
  },
  {
   "cell_type": "code",
   "execution_count": 294,
   "metadata": {},
   "outputs": [
    {
     "name": "stdout",
     "output_type": "stream",
     "text": [
      "True\n"
     ]
    }
   ],
   "source": [
    "print(h1>h2)\n"
   ]
  },
  {
   "cell_type": "code",
   "execution_count": 295,
   "metadata": {},
   "outputs": [
    {
     "name": "stdout",
     "output_type": "stream",
     "text": [
      "True\n"
     ]
    }
   ],
   "source": [
    "class Hotel:\n",
    "    def __init__(self, name, fare):\n",
    "        self.name =name\n",
    "        self.fare = fare\n",
    "    def __gt__(self, other):\n",
    "        return self.fare > other.fare\n",
    "    \n",
    "h1 = Hotel('Taj Hotel', 2000000)\n",
    "h2 = Hotel('Obroi', 1000)\n",
    "\n",
    "print(h1>h2)\n"
   ]
  },
  {
   "cell_type": "code",
   "execution_count": 299,
   "metadata": {},
   "outputs": [],
   "source": [
    "class Book:\n",
    "    def __init__(self, title, pages):\n",
    "        self.title = title\n",
    "        self.pages = pages\n",
    "    def __add__(self, other):\n",
    "        total = self.pages + other.pages\n",
    "        return Book('All Books', total)\n",
    "    def __str__(self):\n",
    "        return str(self.pages)\n"
   ]
  },
  {
   "cell_type": "code",
   "execution_count": 300,
   "metadata": {},
   "outputs": [],
   "source": [
    "b1 = Book('One Indian Girl', 300)\n",
    "b2 = Book('Making India Awsome', 200)\n",
    "b3 = Book('Half Girlfriend', 400)\n",
    "b4 = Book('Girl In 105 Room', 300)\n"
   ]
  },
  {
   "cell_type": "code",
   "execution_count": 301,
   "metadata": {},
   "outputs": [
    {
     "name": "stdout",
     "output_type": "stream",
     "text": [
      "Total number of pages -  1200\n"
     ]
    }
   ],
   "source": [
    "print(\"Total number of pages - \", b1+b2+b3+b4)\n"
   ]
  },
  {
   "cell_type": "code",
   "execution_count": 302,
   "metadata": {},
   "outputs": [
    {
     "name": "stdout",
     "output_type": "stream",
     "text": [
      "Total number of pages -  1200\n"
     ]
    }
   ],
   "source": [
    "class Book:\n",
    "    def __init__(self, title, pages):\n",
    "        self.title = title\n",
    "        self.pages = pages\n",
    "    def __add__(self, other):\n",
    "        total = self.pages + other.pages\n",
    "        return Book('All Books', total)\n",
    "    def __str__(self):\n",
    "        return str(self.pages)\n",
    "    \n",
    "b1 = Book('One Indian Girl', 300)\n",
    "b2 = Book('Making India Awsome', 200)\n",
    "b3 = Book('Half Girlfriend', 400)\n",
    "b4 = Book('Girl In 105 Room', 300)\n",
    "\n",
    "print(\"Total number of pages - \", b1+b2+b3+b4)\n"
   ]
  },
  {
   "cell_type": "code",
   "execution_count": 303,
   "metadata": {},
   "outputs": [],
   "source": [
    "class Calci:\n",
    "    def add(self, num1 = None, num2 = None, num3 = None):\n",
    "        if num1 != None and num2 != None and num3 != None:\n",
    "            print(f\"Addition is: {num1 + num2 + num3}\")\n",
    "        elif num1 != None and num2 != None:\n",
    "            print(f\"Addition is: {num1 + num2}\")\n",
    "        else:\n",
    "            print(\"Incorrect parameters...\")\n"
   ]
  },
  {
   "cell_type": "code",
   "execution_count": null,
   "metadata": {},
   "outputs": [],
   "source": [
    "cl = Calci()\n"
   ]
  },
  {
   "cell_type": "code",
   "execution_count": null,
   "metadata": {},
   "outputs": [
    {
     "name": "stdout",
     "output_type": "stream",
     "text": [
      "Addition is: 30\n"
     ]
    }
   ],
   "source": [
    "cl.add(10,20)\n"
   ]
  },
  {
   "cell_type": "code",
   "execution_count": null,
   "metadata": {},
   "outputs": [
    {
     "name": "stdout",
     "output_type": "stream",
     "text": [
      "Addition is: 60\n"
     ]
    }
   ],
   "source": [
    "cl.add(10,20,30)\n"
   ]
  },
  {
   "cell_type": "code",
   "execution_count": null,
   "metadata": {},
   "outputs": [
    {
     "name": "stdout",
     "output_type": "stream",
     "text": [
      "Incorrect parameters...\n"
     ]
    }
   ],
   "source": [
    "cl.add(10)\n"
   ]
  },
  {
   "cell_type": "code",
   "execution_count": null,
   "metadata": {},
   "outputs": [],
   "source": [
    "class Area:\n",
    "    def area(self, l=0, b=0):\n",
    "        if l>0 and b>0:\n",
    "            print(f\"area of rectangle: {l*b}\")\n",
    "        elif l>0 and b==0:\n",
    "            print(f\"area of square is: {l*l}\")\n"
   ]
  },
  {
   "cell_type": "code",
   "execution_count": null,
   "metadata": {},
   "outputs": [],
   "source": [
    "a= Area()\n"
   ]
  },
  {
   "cell_type": "code",
   "execution_count": null,
   "metadata": {},
   "outputs": [
    {
     "name": "stdout",
     "output_type": "stream",
     "text": [
      "area of square is: 100\n"
     ]
    }
   ],
   "source": [
    "a.area(10)\n"
   ]
  },
  {
   "cell_type": "code",
   "execution_count": null,
   "metadata": {},
   "outputs": [
    {
     "name": "stdout",
     "output_type": "stream",
     "text": [
      "area of rectangle: 10\n"
     ]
    }
   ],
   "source": [
    "a.area(2,5)\n"
   ]
  },
  {
   "cell_type": "code",
   "execution_count": 304,
   "metadata": {},
   "outputs": [],
   "source": [
    "# nested class in python\n",
    "class Outer:\n",
    "    def __init__(self):\n",
    "        print(\"outer class constructor called\")\n",
    "    def display(self):\n",
    "        print(\"this is dispaly method\")\n",
    "\n",
    "    class Inner:\n",
    "        def __init__(self):\n",
    "            print(\"Inner constructor called\")\n",
    "        def show(self):\n",
    "            print(\"this is show method\")\n"
   ]
  },
  {
   "cell_type": "code",
   "execution_count": 305,
   "metadata": {},
   "outputs": [
    {
     "name": "stdout",
     "output_type": "stream",
     "text": [
      "outer class constructor called\n"
     ]
    }
   ],
   "source": [
    "outer = Outer()\n"
   ]
  },
  {
   "cell_type": "code",
   "execution_count": 306,
   "metadata": {},
   "outputs": [
    {
     "name": "stdout",
     "output_type": "stream",
     "text": [
      "this is dispaly method\n"
     ]
    }
   ],
   "source": [
    "outer.display()\n"
   ]
  },
  {
   "cell_type": "code",
   "execution_count": 307,
   "metadata": {},
   "outputs": [
    {
     "data": {
      "text/plain": [
       "__main__.Outer.Inner"
      ]
     },
     "execution_count": 307,
     "metadata": {},
     "output_type": "execute_result"
    }
   ],
   "source": [
    "outer.Inner\n"
   ]
  },
  {
   "cell_type": "code",
   "execution_count": 308,
   "metadata": {},
   "outputs": [
    {
     "name": "stdout",
     "output_type": "stream",
     "text": [
      "Inner constructor called\n"
     ]
    }
   ],
   "source": [
    "inner = outer.Inner()\n"
   ]
  },
  {
   "cell_type": "code",
   "execution_count": 309,
   "metadata": {},
   "outputs": [
    {
     "name": "stdout",
     "output_type": "stream",
     "text": [
      "this is show method\n"
     ]
    }
   ],
   "source": [
    "inner.show()\n"
   ]
  },
  {
   "cell_type": "code",
   "execution_count": 310,
   "metadata": {},
   "outputs": [
    {
     "ename": "AttributeError",
     "evalue": "'Outer' object has no attribute 'show'",
     "output_type": "error",
     "traceback": [
      "\u001b[1;31m---------------------------------------------------------------------------\u001b[0m",
      "\u001b[1;31mAttributeError\u001b[0m                            Traceback (most recent call last)",
      "Cell \u001b[1;32mIn[310], line 1\u001b[0m\n\u001b[1;32m----> 1\u001b[0m outer\u001b[38;5;241m.\u001b[39mshow()\n",
      "\u001b[1;31mAttributeError\u001b[0m: 'Outer' object has no attribute 'show'"
     ]
    }
   ],
   "source": [
    "outer.show()\n"
   ]
  },
  {
   "cell_type": "code",
   "execution_count": 312,
   "metadata": {},
   "outputs": [],
   "source": [
    "class Student:\n",
    "    def __init__(self, name, roll, dd, mm, yy):\n",
    "        self.name = name\n",
    "        self.roll = roll\n",
    "        self.dob = self.DOB(dd, mm, yy)\n",
    "    def display(self):\n",
    "        print(f\"name is - {self.name} \\nroll is - {self.roll}\")\n",
    "        self.dob.display()\n",
    "\n",
    "    class DOB:\n",
    "        def __init__(self, dd,mm,yy):\n",
    "            self.date = dd\n",
    "            self.month = mm\n",
    "            self.year = yy\n",
    "        def display(self):\n",
    "            print(f\"date of birth is - {self.date}/{self.month}/{self.year}\")\n"
   ]
  },
  {
   "cell_type": "code",
   "execution_count": 313,
   "metadata": {},
   "outputs": [],
   "source": [
    "s1 = Student('Moni', 84, 5, 9, 1998)\n"
   ]
  },
  {
   "cell_type": "code",
   "execution_count": 314,
   "metadata": {},
   "outputs": [
    {
     "name": "stdout",
     "output_type": "stream",
     "text": [
      "name is - Moni \n",
      "roll is - 84\n",
      "date of birth is - 5/9/1998\n"
     ]
    }
   ],
   "source": [
    "s1.display()\n"
   ]
  },
  {
   "cell_type": "code",
   "execution_count": 315,
   "metadata": {},
   "outputs": [],
   "source": [
    "# access members of one class inside another class\n",
    "class Employee:\n",
    "    def __init__(self, emp_id, emp_name, emp_sal):\n",
    "        self.emp_id = emp_id\n",
    "        self.emp_name = emp_name\n",
    "        self.emp_sal = emp_sal\n",
    "    def display(self):\n",
    "        print(f\"employee id: {self.emp_id}\")\n",
    "        print(f\"employee name: {self.emp_name}\")\n",
    "        print(f\"employee salary: {self.emp_sal}\")\n",
    "\n",
    "class Changes:\n",
    "    @staticmethod\n",
    "    def increment(obj):\n",
    "        obj.emp_sal = obj.emp_sal +2000\n",
    "        obj.display()\n"
   ]
  },
  {
   "cell_type": "code",
   "execution_count": 316,
   "metadata": {},
   "outputs": [],
   "source": [
    "e1 = Employee(101, 'Panta', 25000)\n"
   ]
  },
  {
   "cell_type": "code",
   "execution_count": 317,
   "metadata": {},
   "outputs": [
    {
     "name": "stdout",
     "output_type": "stream",
     "text": [
      "employee id: 101\n",
      "employee name: Panta\n",
      "employee salary: 27000\n"
     ]
    }
   ],
   "source": [
    "Changes.increment(e1)\n"
   ]
  },
  {
   "cell_type": "code",
   "execution_count": 318,
   "metadata": {},
   "outputs": [
    {
     "name": "stdout",
     "output_type": "stream",
     "text": [
      "employee id: 101\n",
      "employee name: Panta\n",
      "employee salary: 27000\n"
     ]
    }
   ],
   "source": [
    "e1.display()\n"
   ]
  },
  {
   "cell_type": "code",
   "execution_count": 319,
   "metadata": {},
   "outputs": [],
   "source": [
    "# destructor in python\n",
    "import time\n",
    "class Employee:\n",
    "    def __init__(self, name, sal):\n",
    "        self.name = name\n",
    "        self.sal = sal\n",
    "    def display(self):\n",
    "        print(f\"name is {self.name}\\nsalary is {self.salary}\")\n",
    "    def __del__(self):\n",
    "        print(\"deconstructor is called\")\n"
   ]
  },
  {
   "cell_type": "code",
   "execution_count": 320,
   "metadata": {},
   "outputs": [],
   "source": [
    "e1 = Employee('xyz', 27000)\n",
    "e2 = e1\n"
   ]
  },
  {
   "cell_type": "code",
   "execution_count": 321,
   "metadata": {},
   "outputs": [],
   "source": [
    "del e1\n"
   ]
  },
  {
   "cell_type": "code",
   "execution_count": 322,
   "metadata": {},
   "outputs": [],
   "source": [
    "time.sleep(5)\n"
   ]
  },
  {
   "cell_type": "code",
   "execution_count": 324,
   "metadata": {},
   "outputs": [],
   "source": [
    "import time \n",
    "class Employee:\n",
    "    def __init__(self, obj2):\n",
    "        self.obj2 = obj2\n",
    "    def __del__(self):\n",
    "        print(\"employee class destuctor called\")\n",
    "\n",
    "class Account:\n",
    "    def __init__(self, num):\n",
    "        self.acc_num = num\n",
    "        self.obj1 = Employee(self)\n",
    "    def __del__(self):\n",
    "        print(\"account class destructor called\")\n",
    "\n",
    "ac = Account(12345)\n",
    "del ac\n",
    "time.sleep(5)\n"
   ]
  },
  {
   "cell_type": "code",
   "execution_count": 325,
   "metadata": {},
   "outputs": [
    {
     "name": "stdout",
     "output_type": "stream",
     "text": [
      "account class destructor called\n",
      "employee class destuctor called\n",
      "account class destructor called\n",
      "employee class destuctor called\n"
     ]
    },
    {
     "ename": "NameError",
     "evalue": "name 'ac' is not defined",
     "output_type": "error",
     "traceback": [
      "\u001b[1;31m---------------------------------------------------------------------------\u001b[0m",
      "\u001b[1;31mNameError\u001b[0m                                 Traceback (most recent call last)",
      "Cell \u001b[1;32mIn[325], line 1\u001b[0m\n\u001b[1;32m----> 1\u001b[0m ac\u001b[38;5;241m.\u001b[39m\u001b[38;5;18m__dict__\u001b[39m\n",
      "\u001b[1;31mNameError\u001b[0m: name 'ac' is not defined"
     ]
    }
   ],
   "source": [
    "ac.__dict__\n"
   ]
  },
  {
   "cell_type": "code",
   "execution_count": null,
   "metadata": {},
   "outputs": [
    {
     "ename": "NegetiveAge",
     "evalue": "Age can't be negetive",
     "output_type": "error",
     "traceback": [
      "\u001b[1;31m---------------------------------------------------------------------------\u001b[0m",
      "\u001b[1;31mNegetiveAge\u001b[0m                               Traceback (most recent call last)",
      "Cell \u001b[1;32mIn[49], line 11\u001b[0m\n\u001b[0;32m      8\u001b[0m     \u001b[38;5;28;01mdef\u001b[39;00m \u001b[38;5;21m__del__\u001b[39m(\u001b[38;5;28mself\u001b[39m):\n\u001b[0;32m      9\u001b[0m         \u001b[38;5;28mprint\u001b[39m(\u001b[38;5;124m\"\u001b[39m\u001b[38;5;124mDestructure is called\u001b[39m\u001b[38;5;124m\"\u001b[39m)\n\u001b[1;32m---> 11\u001b[0m age \u001b[38;5;241m=\u001b[39m Age(\u001b[38;5;241m-\u001b[39m\u001b[38;5;241m10\u001b[39m)\n",
      "Cell \u001b[1;32mIn[49], line 7\u001b[0m, in \u001b[0;36mAge.__init__\u001b[1;34m(self, age)\u001b[0m\n\u001b[0;32m      5\u001b[0m \u001b[38;5;28;01mdef\u001b[39;00m \u001b[38;5;21m__init__\u001b[39m(\u001b[38;5;28mself\u001b[39m, age):\n\u001b[0;32m      6\u001b[0m     \u001b[38;5;28;01mif\u001b[39;00m age\u001b[38;5;241m<\u001b[39m\u001b[38;5;241m0\u001b[39m:\n\u001b[1;32m----> 7\u001b[0m         \u001b[38;5;28;01mraise\u001b[39;00m NegetiveAge(\u001b[38;5;124m\"\u001b[39m\u001b[38;5;124mAge can\u001b[39m\u001b[38;5;124m'\u001b[39m\u001b[38;5;124mt be negetive\u001b[39m\u001b[38;5;124m\"\u001b[39m)\n",
      "\u001b[1;31mNegetiveAge\u001b[0m: Age can't be negetive"
     ]
    }
   ],
   "source": [
    "class NegetiveAge(Exception):\n",
    "    pass\n",
    "\n",
    "class Age:\n",
    "    def __init__(self, age):\n",
    "        if age<0:\n",
    "            raise NegetiveAge(\"Age can't be negetive\")\n",
    "    def __del__(self):\n",
    "        print(\"Destructure is called\")\n",
    "\n",
    "age = Age(-10)\n"
   ]
  },
  {
   "cell_type": "code",
   "execution_count": 326,
   "metadata": {},
   "outputs": [
    {
     "name": "stdout",
     "output_type": "stream",
     "text": [
      "Age can't be negetive\n"
     ]
    }
   ],
   "source": [
    "class NegetiveAge(Exception):\n",
    "    pass\n",
    "\n",
    "class Age:\n",
    "    def __init__(self, age):\n",
    "        try:\n",
    "            if age<0:\n",
    "                raise NegetiveAge(\"Age can't be negetive\")\n",
    "        except NegetiveAge as na:\n",
    "            print(na)\n",
    "    def __del__(self):\n",
    "        print(\"Destructure is called\")\n",
    "\n",
    "age = Age(-10)\n"
   ]
  },
  {
   "cell_type": "code",
   "execution_count": 327,
   "metadata": {},
   "outputs": [
    {
     "name": "stdout",
     "output_type": "stream",
     "text": [
      "Age can't be negetive\n",
      "Destructure is called\n"
     ]
    }
   ],
   "source": [
    "age = Age(-10)\n"
   ]
  },
  {
   "cell_type": "code",
   "execution_count": 328,
   "metadata": {},
   "outputs": [
    {
     "name": "stdout",
     "output_type": "stream",
     "text": [
      "Movie added into the list\n",
      "Movie added into the list\n",
      "\n",
      "All movies information - \n",
      "The Movie Title is: vbn\n",
      "Runtime is: 50\n",
      "The Hero name is: jlk\n",
      "The Movie Title is: hjhj\n",
      "Runtime is: 45\n",
      "The Hero name is: nbv\n"
     ]
    }
   ],
   "source": [
    "class Movie(object):\n",
    "    def __init__(self, title, mins, hero):\n",
    "        self.title = title\n",
    "        self.runtime = mins\n",
    "        self.hero = hero\n",
    "    def printer(self):\n",
    "        print(f\"The Movie Title is: {self.title}\\nRuntime is: {self.runtime}\\nThe Hero name is: {self.hero}\")\n",
    "\n",
    "list_of_movies = []\n",
    "\n",
    "while True:\n",
    "    title = input(\"Enter the title of the movie: \")\n",
    "    mins = input(\"Enter the runtime of the movie: \")\n",
    "    hero = input(\"Enter the name of the hero of the movie:\" )\n",
    "\n",
    "    obj = Movie(title, mins, hero)\n",
    "    list_of_movies.append(obj)\n",
    "\n",
    "    print(\"Movie added into the list\")\n",
    "    ans = input(\"do you wanna add another movie(Y/N): \")\n",
    "    if ans.lower() != 'y':\n",
    "        break\n",
    "\n",
    "print(\"\\nAll movies information - \")\n",
    "for obj in list_of_movies:\n",
    "    obj.printer()\n"
   ]
  },
  {
   "cell_type": "code",
   "execution_count": 329,
   "metadata": {},
   "outputs": [
    {
     "ename": "TypeError",
     "evalue": "Car.__init__() takes 2 positional arguments but 3 were given",
     "output_type": "error",
     "traceback": [
      "\u001b[1;31m---------------------------------------------------------------------------\u001b[0m",
      "\u001b[1;31mTypeError\u001b[0m                                 Traceback (most recent call last)",
      "Cell \u001b[1;32mIn[329], line 11\u001b[0m\n\u001b[0;32m      7\u001b[0m         \u001b[38;5;28mself\u001b[39m\u001b[38;5;241m.\u001b[39mcolor \u001b[38;5;241m=\u001b[39m \u001b[38;5;124m'\u001b[39m\u001b[38;5;124mred\u001b[39m\u001b[38;5;124m'\u001b[39m\n\u001b[0;32m     10\u001b[0m \u001b[38;5;66;03m# creating objects of car class\u001b[39;00m\n\u001b[1;32m---> 11\u001b[0m audi \u001b[38;5;241m=\u001b[39m Car(\u001b[38;5;241m200\u001b[39m, \u001b[38;5;124m'\u001b[39m\u001b[38;5;124mred\u001b[39m\u001b[38;5;124m'\u001b[39m)\n\u001b[0;32m     12\u001b[0m bmw \u001b[38;5;241m=\u001b[39m Car(\u001b[38;5;241m250\u001b[39m, \u001b[38;5;124m'\u001b[39m\u001b[38;5;124mblack\u001b[39m\u001b[38;5;124m'\u001b[39m)\n\u001b[0;32m     13\u001b[0m mb \u001b[38;5;241m=\u001b[39m Car(\u001b[38;5;241m190\u001b[39m, \u001b[38;5;124m'\u001b[39m\u001b[38;5;124mwhite\u001b[39m\u001b[38;5;124m'\u001b[39m)\n",
      "\u001b[1;31mTypeError\u001b[0m: Car.__init__() takes 2 positional arguments but 3 were given"
     ]
    }
   ],
   "source": [
    "# defining car class\n",
    "class Car():\n",
    "    # args receives unlimited no. of arguments as an array\n",
    "    def __init__(self, color):\n",
    "        # access args index like array does\n",
    "        self.speed = int(input())\n",
    "        self.color = 'red'\n",
    "\n",
    "\n",
    "# creating objects of car class\n",
    "audi = Car(200, 'red')\n",
    "bmw = Car(250, 'black')\n",
    "mb = Car(190, 'white')\n",
    "\n",
    "# printing the color and speed of the cars\n",
    "print(audi.color)\n",
    "print(bmw.speed)\n"
   ]
  },
  {
   "cell_type": "code",
   "execution_count": 330,
   "metadata": {},
   "outputs": [],
   "source": [
    "def add(*args):\n",
    "    sum = 0\n",
    "    for i in args:\n",
    "        sum = sum + i\n",
    "    return sum\n"
   ]
  },
  {
   "cell_type": "code",
   "execution_count": 331,
   "metadata": {},
   "outputs": [
    {
     "data": {
      "text/plain": [
       "30"
      ]
     },
     "execution_count": 331,
     "metadata": {},
     "output_type": "execute_result"
    }
   ],
   "source": [
    "add(10, 20)\n"
   ]
  },
  {
   "cell_type": "code",
   "execution_count": 332,
   "metadata": {},
   "outputs": [
    {
     "ename": "TypeError",
     "evalue": "unsupported operand type(s) for +: 'int' and 'str'",
     "output_type": "error",
     "traceback": [
      "\u001b[1;31m---------------------------------------------------------------------------\u001b[0m",
      "\u001b[1;31mTypeError\u001b[0m                                 Traceback (most recent call last)",
      "Cell \u001b[1;32mIn[332], line 1\u001b[0m\n\u001b[1;32m----> 1\u001b[0m add(\u001b[38;5;241m10\u001b[39m, \u001b[38;5;124m'\u001b[39m\u001b[38;5;124mBethua\u001b[39m\u001b[38;5;124m'\u001b[39m)\n",
      "Cell \u001b[1;32mIn[330], line 4\u001b[0m, in \u001b[0;36madd\u001b[1;34m(*args)\u001b[0m\n\u001b[0;32m      2\u001b[0m \u001b[38;5;28msum\u001b[39m \u001b[38;5;241m=\u001b[39m \u001b[38;5;241m0\u001b[39m\n\u001b[0;32m      3\u001b[0m \u001b[38;5;28;01mfor\u001b[39;00m i \u001b[38;5;129;01min\u001b[39;00m args:\n\u001b[1;32m----> 4\u001b[0m     \u001b[38;5;28msum\u001b[39m \u001b[38;5;241m=\u001b[39m \u001b[38;5;28msum\u001b[39m \u001b[38;5;241m+\u001b[39m i\n\u001b[0;32m      5\u001b[0m \u001b[38;5;28;01mreturn\u001b[39;00m \u001b[38;5;28msum\u001b[39m\n",
      "\u001b[1;31mTypeError\u001b[0m: unsupported operand type(s) for +: 'int' and 'str'"
     ]
    }
   ],
   "source": [
    "add(10, 'Bethua')\n"
   ]
  },
  {
   "cell_type": "code",
   "execution_count": 333,
   "metadata": {},
   "outputs": [],
   "source": [
    "class Decorator():\n",
    "    def __init__(self,func):\n",
    "        self.function = func\n",
    "\n",
    "    def __call__(self, *args):\n",
    "        try:\n",
    "            if any([isinstance(i, str) for i in args]):\n",
    "                raise TypeError(\"Can't pass string as arguments\")\n",
    "            else:\n",
    "                return self.function(*args)\n",
    "        except Exception as obj:\n",
    "            print(obj)\n"
   ]
  },
  {
   "cell_type": "code",
   "execution_count": 334,
   "metadata": {},
   "outputs": [],
   "source": [
    "@Decorator\n",
    "def add(*args):\n",
    "    sum = 0\n",
    "    for i in args:\n",
    "        sum = sum + i\n",
    "    return sum\n"
   ]
  },
  {
   "cell_type": "code",
   "execution_count": 335,
   "metadata": {},
   "outputs": [
    {
     "data": {
      "text/plain": [
       "35"
      ]
     },
     "execution_count": 335,
     "metadata": {},
     "output_type": "execute_result"
    }
   ],
   "source": [
    "add(10, 20, 5)\n"
   ]
  },
  {
   "cell_type": "code",
   "execution_count": 336,
   "metadata": {},
   "outputs": [
    {
     "name": "stdout",
     "output_type": "stream",
     "text": [
      "Can't pass string as arguments\n"
     ]
    }
   ],
   "source": [
    "add(10, 'Betua', 5)\n"
   ]
  },
  {
   "cell_type": "code",
   "execution_count": null,
   "metadata": {},
   "outputs": [],
   "source": [
    "# 40\n"
   ]
  },
  {
   "cell_type": "code",
   "execution_count": 7,
   "metadata": {},
   "outputs": [
    {
     "name": "stdout",
     "output_type": "stream",
     "text": [
      "Jay\n",
      "priyabasak@gmail.com\n",
      "Jay basak \n",
      "Jaybasak@gmail.com\n",
      "--------------------------------------------------\n",
      "sunny\n",
      "sunnygiri@gmail.com\n",
      "sunny giri \n",
      "sunnygiri@gmail.com\n",
      "--------------------------------------------------\n",
      "manisha\n",
      "manishaghosh@gmail.com\n",
      "manisha ghosh \n",
      "manishaghosh@gmail.com\n",
      "--------------------------------------------------\n"
     ]
    }
   ],
   "source": [
    "# need of property decorator\n",
    "class Employee:\n",
    "    def __init__(self, first, last):\n",
    "        self.firstname = first\n",
    "        self.lastname = last\n",
    "        self.mail = first+last+\"@gmail.com\"\n",
    "\n",
    "    def fullname(self):\n",
    "        return f\"{self.firstname} {self.lastname} \\n{self.firstname+self.lastname}@gmail.com\"\n",
    "    \n",
    "e = Employee(\"priya\", \"basak\")\n",
    "e1 = Employee(\"sunny\", \"giri\")\n",
    "e2 = Employee(\"manisha\", \"ghosh\")\n",
    "\n",
    "e.firstname = \"Jay\"\n",
    "\n",
    "print(e.firstname)\n",
    "print(e.mail)\n",
    "\n",
    "print(e.fullname())\n",
    "print(\"-\"*50)\n",
    "\n",
    "print(e1.firstname)\n",
    "print(e1.mail)\n",
    "\n",
    "print(e1.fullname())\n",
    "print(\"-\"*50)\n",
    "\n",
    "print(e2.firstname)\n",
    "print(e2.mail)\n",
    "\n",
    "print(e2.fullname())\n",
    "print(\"-\"*50)\n",
    "\n"
   ]
  },
  {
   "cell_type": "code",
   "execution_count": 9,
   "metadata": {},
   "outputs": [
    {
     "name": "stdout",
     "output_type": "stream",
     "text": [
      "Jay\n",
      "<bound method Employee.mail of <__main__.Employee object at 0x000001D840EC7D90>>\n",
      "Jay basak\n",
      "--------------------------------------------------\n",
      "sunny\n",
      "<bound method Employee.mail of <__main__.Employee object at 0x000001D840E83810>>\n",
      "sunny giri\n",
      "--------------------------------------------------\n",
      "manisha\n",
      "<bound method Employee.mail of <__main__.Employee object at 0x000001D840E6C390>>\n",
      "manisha ghosh\n"
     ]
    }
   ],
   "source": [
    "# need of property decorator\n",
    "class Employee:\n",
    "    def __init__(self, first, last):\n",
    "        self.firstname = first\n",
    "        self.lastname = last\n",
    "        # self.mail = first+last+\"@gmail.com\"\n",
    "\n",
    "    def mail(self):\n",
    "        return f\"{self.firstname+self.lastname}@gmail.com\"\n",
    "\n",
    "    def fullname(self):\n",
    "        return f\"{self.firstname} {self.lastname}\"\n",
    "    \n",
    "e = Employee(\"priya\", \"basak\")\n",
    "e1 = Employee(\"sunny\", \"giri\")\n",
    "e2 = Employee(\"manisha\", \"ghosh\")\n",
    "\n",
    "e.firstname = \"Jay\"\n",
    "\n",
    "print(e.firstname)\n",
    "print(e.mail)\n",
    "print(e.fullname())\n",
    "print(\"-\"*50)\n",
    "\n",
    "print(e1.firstname)\n",
    "print(e1.mail)\n",
    "print(e1.fullname())\n",
    "print(\"-\"*50)\n",
    "\n",
    "print(e2.firstname)\n",
    "print(e2.mail)\n",
    "print(e2.fullname())\n",
    "\n"
   ]
  },
  {
   "cell_type": "code",
   "execution_count": 10,
   "metadata": {},
   "outputs": [
    {
     "name": "stdout",
     "output_type": "stream",
     "text": [
      "Jay\n",
      "Jaybasak@gmail.com\n",
      "Jay basak\n",
      "--------------------------------------------------\n",
      "sunny\n",
      "sunnygiri@gmail.com\n",
      "sunny giri\n",
      "--------------------------------------------------\n",
      "manisha\n",
      "manishaghosh@gmail.com\n",
      "manisha ghosh\n"
     ]
    }
   ],
   "source": [
    "# need of property decorator\n",
    "class Employee:\n",
    "    def __init__(self, first, last):\n",
    "        self.firstname = first\n",
    "        self.lastname = last\n",
    "        # self.mail = first+last+\"@gmail.com\"\n",
    "\n",
    "    def mail(self):\n",
    "        return f\"{self.firstname+self.lastname}@gmail.com\"\n",
    "\n",
    "    def fullname(self):\n",
    "        return f\"{self.firstname} {self.lastname}\"\n",
    "    \n",
    "e = Employee(\"priya\", \"basak\")\n",
    "e1 = Employee(\"sunny\", \"giri\")\n",
    "e2 = Employee(\"manisha\", \"ghosh\")\n",
    "\n",
    "e.firstname = \"Jay\"\n",
    "\n",
    "print(e.firstname)\n",
    "print(e.mail())\n",
    "print(e.fullname())\n",
    "print(\"-\"*50)\n",
    "\n",
    "print(e1.firstname)\n",
    "print(e1.mail())\n",
    "print(e1.fullname())\n",
    "print(\"-\"*50)\n",
    "\n",
    "print(e2.firstname)\n",
    "print(e2.mail())\n",
    "print(e2.fullname())\n",
    "\n"
   ]
  },
  {
   "cell_type": "code",
   "execution_count": 11,
   "metadata": {},
   "outputs": [
    {
     "name": "stdout",
     "output_type": "stream",
     "text": [
      "Jay\n",
      "Jaybasak@gmail.com\n",
      "Jay basak\n",
      "--------------------------------------------------\n",
      "sunny\n",
      "sunnygiri@gmail.com\n",
      "sunny giri\n",
      "--------------------------------------------------\n",
      "manisha\n",
      "manishaghosh@gmail.com\n",
      "manisha ghosh\n"
     ]
    }
   ],
   "source": [
    "# need of property decorator\n",
    "class Employee:\n",
    "    def __init__(self, first, last):\n",
    "        self.firstname = first\n",
    "        self.lastname = last\n",
    "        # self.mail = first+last+\"@gmail.com\"\n",
    "\n",
    "    @property\n",
    "    def mail(self):\n",
    "        return f\"{self.firstname+self.lastname}@gmail.com\"\n",
    "\n",
    "    def fullname(self):\n",
    "        return f\"{self.firstname} {self.lastname}\"\n",
    "    \n",
    "e = Employee(\"priya\", \"basak\")\n",
    "e1 = Employee(\"sunny\", \"giri\")\n",
    "e2 = Employee(\"manisha\", \"ghosh\")\n",
    "\n",
    "e.firstname = \"Jay\"\n",
    "\n",
    "print(e.firstname)\n",
    "print(e.mail)\n",
    "print(e.fullname())\n",
    "print(\"-\"*50)\n",
    "\n",
    "print(e1.firstname)\n",
    "print(e1.mail)\n",
    "print(e1.fullname())\n",
    "print(\"-\"*50)\n",
    "\n",
    "print(e2.firstname)\n",
    "print(e2.mail)\n",
    "print(e2.fullname())\n",
    "\n"
   ]
  },
  {
   "cell_type": "code",
   "execution_count": 22,
   "metadata": {},
   "outputs": [
    {
     "name": "stdout",
     "output_type": "stream",
     "text": [
      "Jay\n",
      "Jaybasak@gmail.com\n",
      "---- After using setter method----\n",
      "Dipankar\n",
      "Biswas\n",
      "Dipankar Biswas\n",
      "DipankarBiswas@gmail.com\n",
      "---- After using deleter method ----\n",
      "None\n",
      "None\n",
      "None None\n",
      "NoneNone@gmail.com\n"
     ]
    }
   ],
   "source": [
    "# need of property decorator\n",
    "class Employee:\n",
    "    def __init__(self, first, last):\n",
    "        self.firstname = first\n",
    "        self.lastname = last\n",
    "        # self.mail = first+last+\"@gmail.com\"\n",
    "\n",
    "    @property\n",
    "    def mail(self):\n",
    "        return f\"{self.firstname}{self.lastname}@gmail.com\"\n",
    "\n",
    "    @property\n",
    "    def fullname(self):  #getter method\n",
    "        return f\"{self.firstname} {self.lastname}\"\n",
    "    \n",
    "    @fullname.setter\n",
    "    def fullname(self, name):  #setter method\n",
    "        first, last = name.split()\n",
    "        self.firstname = first\n",
    "        self.lastname = last\n",
    "\n",
    "    @fullname.deleter\n",
    "    def fullname(self):  #deleter method\n",
    "        self.firstname = None\n",
    "        self.lastname = None\n",
    "    \n",
    "e = Employee(\"priya\", \"basak\")\n",
    "e1 = Employee(\"sunny\", \"giri\")\n",
    "e2 = Employee(\"manisha\", \"ghosh\")\n",
    "\n",
    "e.firstname = \"Jay\"\n",
    "\n",
    "print(e.firstname)\n",
    "print(e.mail)\n",
    "\n",
    "e.fullname = \"Dipankar Biswas\"\n",
    "\n",
    "print(\"---- After using setter method----\")\n",
    "print(e.firstname)\n",
    "print(e.lastname)\n",
    "print(e.fullname)\n",
    "print(e.mail)\n",
    "\n",
    "del e.fullname\n",
    "print(\"---- After using deleter method ----\")\n",
    "print(e.firstname)\n",
    "print(e.lastname)\n",
    "print(e.fullname)\n",
    "print(e.mail)\n"
   ]
  },
  {
   "cell_type": "code",
   "execution_count": 25,
   "metadata": {},
   "outputs": [
    {
     "name": "stdout",
     "output_type": "stream",
     "text": [
      "<class 'function'>\n",
      "False\n",
      "True\n",
      "30\n",
      "30\n"
     ]
    }
   ],
   "source": [
    "# callable functions\n",
    "\n",
    "x = 100\n",
    "\n",
    "def add(a,b):\n",
    "    return a+b\n",
    "\n",
    "print(type(add))\n",
    "print(callable(x))\n",
    "print(callable(add))\n",
    "print(add(10, 20))    #add.__call__(10, 20)\n",
    "print(add.__call__(10, 20))\n"
   ]
  },
  {
   "cell_type": "code",
   "execution_count": 29,
   "metadata": {},
   "outputs": [
    {
     "name": "stdout",
     "output_type": "stream",
     "text": [
      "True\n",
      "False\n"
     ]
    }
   ],
   "source": [
    "class Add(object):\n",
    "    def __init__(self, a, b):\n",
    "        self.a = a\n",
    "        self.b = b\n",
    "\n",
    "a1 = Add(10, 20)\n",
    "\n",
    "print(callable(Add))\n",
    "print(callable(a1))\n"
   ]
  },
  {
   "cell_type": "code",
   "execution_count": 33,
   "metadata": {},
   "outputs": [
    {
     "name": "stdout",
     "output_type": "stream",
     "text": [
      "True\n",
      "True\n",
      "hello\n"
     ]
    },
    {
     "data": {
      "text/plain": [
       "40"
      ]
     },
     "execution_count": 33,
     "metadata": {},
     "output_type": "execute_result"
    }
   ],
   "source": [
    "class Add(object):\n",
    "    def __init__(self, a, b):\n",
    "        self.a = a\n",
    "        self.b = b\n",
    "\n",
    "    def __call__(self, a, b):\n",
    "        print(\"hello\")\n",
    "        return a+b\n",
    "\n",
    "a1 = Add(10, 20)\n",
    "\n",
    "print(callable(Add))\n",
    "print(callable(a1))\n",
    "\n",
    "a1.__call__(20, 20)\n"
   ]
  },
  {
   "cell_type": "code",
   "execution_count": null,
   "metadata": {},
   "outputs": [],
   "source": []
  },
  {
   "cell_type": "code",
   "execution_count": null,
   "metadata": {},
   "outputs": [],
   "source": []
  },
  {
   "cell_type": "code",
   "execution_count": 13,
   "metadata": {},
   "outputs": [],
   "source": [
    "class Decorator():\n",
    "    def __init__(self,func):\n",
    "        self.function = func\n",
    "\n",
    "    def __call__(self, *args):\n",
    "        try:\n",
    "            # if any([isinstance(i, str) for i in args]):\n",
    "            #     raise Exception\n",
    "            # else:\n",
    "            return self.function(*args)\n",
    "        except Exception as e:\n",
    "            print(e)\n"
   ]
  },
  {
   "cell_type": "code",
   "execution_count": 14,
   "metadata": {},
   "outputs": [],
   "source": [
    "@Decorator\n",
    "def add(*args):\n",
    "    sum = 0\n",
    "    for i in args:\n",
    "        sum = sum + i\n",
    "    return sum\n"
   ]
  },
  {
   "cell_type": "code",
   "execution_count": 15,
   "metadata": {},
   "outputs": [
    {
     "data": {
      "text/plain": [
       "35"
      ]
     },
     "execution_count": 15,
     "metadata": {},
     "output_type": "execute_result"
    }
   ],
   "source": [
    "add(10, 20, 5)\n"
   ]
  },
  {
   "cell_type": "code",
   "execution_count": 340,
   "metadata": {},
   "outputs": [
    {
     "name": "stdout",
     "output_type": "stream",
     "text": [
      "unsupported operand type(s) for +: 'int' and 'str'\n"
     ]
    }
   ],
   "source": [
    "add(10, 'Bethua', 5)\n"
   ]
  },
  {
   "cell_type": "code",
   "execution_count": 341,
   "metadata": {},
   "outputs": [
    {
     "name": "stdout",
     "output_type": "stream",
     "text": [
      "unsupported operand type(s) for +: 'int' and 'str'\n"
     ]
    }
   ],
   "source": [
    "class Decorator:\n",
    "    def __init__(self, func):\n",
    "        self.function = func\n",
    "\n",
    "    def __call__(self, *args):\n",
    "        try:\n",
    "            # Just execute the function without raising a custom exception\n",
    "            return self.function(*args)\n",
    "        except Exception as e:\n",
    "            print(e)  # This will print the exact error message that occurs naturally\n",
    "\n",
    "@Decorator\n",
    "def add_numbers(a, b):\n",
    "    return a + b\n",
    "\n",
    "# Example usage:\n",
    "add_numbers(1, '2')  # This will raise a TypeError and print the exact message\n"
   ]
  },
  {
   "cell_type": "code",
   "execution_count": 342,
   "metadata": {},
   "outputs": [],
   "source": [
    "x = 100\n"
   ]
  },
  {
   "cell_type": "code",
   "execution_count": 343,
   "metadata": {},
   "outputs": [],
   "source": [
    "def add(a,b):\n",
    "    return a+b\n"
   ]
  },
  {
   "cell_type": "code",
   "execution_count": 344,
   "metadata": {},
   "outputs": [
    {
     "name": "stdout",
     "output_type": "stream",
     "text": [
      "<class 'int'>\n",
      "<class 'function'>\n",
      "\n",
      "False\n",
      "True\n"
     ]
    }
   ],
   "source": [
    "print(type(x))\n",
    "print(type(add))\n",
    "print()\n",
    "print(callable(x))\n",
    "print(callable(add))\n"
   ]
  },
  {
   "cell_type": "code",
   "execution_count": 345,
   "metadata": {},
   "outputs": [
    {
     "name": "stdout",
     "output_type": "stream",
     "text": [
      "15\n",
      "15\n"
     ]
    }
   ],
   "source": [
    "print(add(10,5))\n",
    "print(add.__call__(10,5))\n"
   ]
  },
  {
   "cell_type": "code",
   "execution_count": 346,
   "metadata": {},
   "outputs": [],
   "source": [
    "class Add():\n",
    "    def __init__(self, a, b):\n",
    "        self.a = a\n",
    "        self.b = b\n"
   ]
  },
  {
   "cell_type": "code",
   "execution_count": 347,
   "metadata": {},
   "outputs": [],
   "source": [
    "a1 = Add(10,20)\n"
   ]
  },
  {
   "cell_type": "code",
   "execution_count": 348,
   "metadata": {},
   "outputs": [
    {
     "name": "stdout",
     "output_type": "stream",
     "text": [
      "False\n"
     ]
    }
   ],
   "source": [
    "print(callable(a1))\n"
   ]
  },
  {
   "cell_type": "code",
   "execution_count": null,
   "metadata": {},
   "outputs": [],
   "source": [
    "class Add():\n",
    "    def __init__(self, a, b):\n",
    "        self.a = a\n",
    "        self.b = b\n",
    "\n",
    "    def __call__(self):\n",
    "        pass\n"
   ]
  },
  {
   "cell_type": "code",
   "execution_count": null,
   "metadata": {},
   "outputs": [],
   "source": [
    "a1 = Add(1998, 25)\n"
   ]
  },
  {
   "cell_type": "code",
   "execution_count": null,
   "metadata": {},
   "outputs": [
    {
     "name": "stdout",
     "output_type": "stream",
     "text": [
      "True\n"
     ]
    }
   ],
   "source": [
    "print(callable(a1))\n"
   ]
  },
  {
   "cell_type": "code",
   "execution_count": null,
   "metadata": {},
   "outputs": [],
   "source": [
    "class Add():\n",
    "    def __init__(self, a, b):\n",
    "        self.a = a\n",
    "        self.b = b\n",
    "\n",
    "    def __call__(self, a, b):\n",
    "        return a + b\n"
   ]
  },
  {
   "cell_type": "code",
   "execution_count": null,
   "metadata": {},
   "outputs": [],
   "source": [
    "a1 = Add(10, 20)\n"
   ]
  },
  {
   "cell_type": "code",
   "execution_count": null,
   "metadata": {},
   "outputs": [
    {
     "data": {
      "text/plain": [
       "2024"
      ]
     },
     "execution_count": 65,
     "metadata": {},
     "output_type": "execute_result"
    }
   ],
   "source": [
    "a1.__call__(1998, 26)\n"
   ]
  },
  {
   "cell_type": "code",
   "execution_count": null,
   "metadata": {},
   "outputs": [
    {
     "data": {
      "text/plain": [
       "2024"
      ]
     },
     "execution_count": 66,
     "metadata": {},
     "output_type": "execute_result"
    }
   ],
   "source": [
    "a1(2001, 23)\n"
   ]
  },
  {
   "cell_type": "code",
   "execution_count": null,
   "metadata": {},
   "outputs": [],
   "source": [
    "from abc import ABC, abstractmethod\n",
    "\n",
    "class Car(ABC):\n",
    "    @abstractmethod\n",
    "    def mileage(self):\n",
    "        pass\n",
    "    def color(self):\n",
    "        print('White')\n"
   ]
  },
  {
   "cell_type": "code",
   "execution_count": null,
   "metadata": {},
   "outputs": [],
   "source": [
    "class Maruti(Car):\n",
    "    pass\n"
   ]
  },
  {
   "cell_type": "code",
   "execution_count": null,
   "metadata": {},
   "outputs": [],
   "source": [
    "class TATA(Car):\n",
    "    def mileage(self):\n",
    "        print('mileage is 35 kmph')\n"
   ]
  },
  {
   "cell_type": "code",
   "execution_count": null,
   "metadata": {},
   "outputs": [],
   "source": [
    "class Duster(Car):\n",
    "    def mileage(self):\n",
    "        print('mileage is 40 kmph')\n"
   ]
  },
  {
   "cell_type": "code",
   "execution_count": null,
   "metadata": {},
   "outputs": [
    {
     "ename": "TypeError",
     "evalue": "Can't instantiate abstract class Car with abstract method mileage",
     "output_type": "error",
     "traceback": [
      "\u001b[1;31m---------------------------------------------------------------------------\u001b[0m",
      "\u001b[1;31mTypeError\u001b[0m                                 Traceback (most recent call last)",
      "Cell \u001b[1;32mIn[71], line 1\u001b[0m\n\u001b[1;32m----> 1\u001b[0m c1 \u001b[38;5;241m=\u001b[39m Car()\n",
      "\u001b[1;31mTypeError\u001b[0m: Can't instantiate abstract class Car with abstract method mileage"
     ]
    }
   ],
   "source": [
    "c1 = Car()\n"
   ]
  },
  {
   "cell_type": "code",
   "execution_count": null,
   "metadata": {},
   "outputs": [
    {
     "ename": "TypeError",
     "evalue": "Can't instantiate abstract class Maruti with abstract method mileage",
     "output_type": "error",
     "traceback": [
      "\u001b[1;31m---------------------------------------------------------------------------\u001b[0m",
      "\u001b[1;31mTypeError\u001b[0m                                 Traceback (most recent call last)",
      "Cell \u001b[1;32mIn[74], line 1\u001b[0m\n\u001b[1;32m----> 1\u001b[0m m1 \u001b[38;5;241m=\u001b[39m Maruti()\n",
      "\u001b[1;31mTypeError\u001b[0m: Can't instantiate abstract class Maruti with abstract method mileage"
     ]
    }
   ],
   "source": [
    "m1 = Maruti()\n"
   ]
  },
  {
   "cell_type": "code",
   "execution_count": null,
   "metadata": {},
   "outputs": [],
   "source": [
    "t1 = TATA()\n",
    "d1 = Duster()\n"
   ]
  },
  {
   "cell_type": "code",
   "execution_count": null,
   "metadata": {},
   "outputs": [
    {
     "name": "stdout",
     "output_type": "stream",
     "text": [
      "White\n"
     ]
    }
   ],
   "source": [
    "d1.color()\n"
   ]
  },
  {
   "cell_type": "code",
   "execution_count": null,
   "metadata": {},
   "outputs": [
    {
     "name": "stdout",
     "output_type": "stream",
     "text": [
      "mileage is 35 kmph\n"
     ]
    }
   ],
   "source": [
    "t1.mileage()\n"
   ]
  },
  {
   "cell_type": "code",
   "execution_count": null,
   "metadata": {},
   "outputs": [],
   "source": [
    "\n",
    "class Honda(Car):\n",
    "    def mileage(self):\n",
    "        print('mileage is 35 kmph')\n"
   ]
  },
  {
   "cell_type": "code",
   "execution_count": null,
   "metadata": {},
   "outputs": [],
   "source": [
    "h1 = Honda()\n"
   ]
  },
  {
   "cell_type": "code",
   "execution_count": null,
   "metadata": {},
   "outputs": [],
   "source": [
    "from abc import ABC, abstractmethod\n",
    "class CMD(ABC):\n",
    "    @abstractmethod\n",
    "    def cd(self, dir):\n",
    "        pass\n",
    "    def exit(self):\n",
    "        pass\n"
   ]
  },
  {
   "cell_type": "code",
   "execution_count": null,
   "metadata": {},
   "outputs": [],
   "source": [
    "class Child(CMD):\n",
    "    pass\n"
   ]
  },
  {
   "cell_type": "code",
   "execution_count": null,
   "metadata": {},
   "outputs": [],
   "source": []
  },
  {
   "cell_type": "code",
   "execution_count": null,
   "metadata": {},
   "outputs": [],
   "source": [
    "stack = []\n",
    "\n",
    "# this function will going to check whether the stack is empty\n",
    "def isEmpty(my_stack):\n",
    "    if len(my_stack) == 0:\n",
    "        return True\n",
    "    else:\n",
    "        return False\n",
    "\n",
    "# function for getting stack's top element    \n",
    "def get_top(my_stack):\n",
    "    if isEmpty(my_stack):\n",
    "        print(\"Stack is Empty\")\n",
    "    else:\n",
    "        return my_stack[-1]\n",
    "\n",
    "# function for push operation(append / insert)    \n",
    "def push(my_stack, ele):\n",
    "    my_stack.append(ele)\n",
    "\n",
    "# function for pop operation\n",
    "def stack_pop(my_stack):\n",
    "    if isEmpty(my_stack):\n",
    "        print(\"Stack is Empty\")\n",
    "        print(\"can't delete\")\n",
    "    else:\n",
    "        deleted_ele = my_stack.pop()\n",
    "        print(deleted_ele, \"got_deleted\")\n",
    "\n",
    "# display all elements from stack\n",
    "def display(my_stack):\n",
    "    x = len(my_stack)\n",
    "    for i in range(x-1, -1, -1):\n",
    "        print(my_stack[i])\n",
    "\n",
    "# function for checking length of stack\n",
    "def length(my_stack):\n",
    "    return len(my_stack)\n"
   ]
  },
  {
   "cell_type": "code",
   "execution_count": null,
   "metadata": {},
   "outputs": [
    {
     "name": "stdout",
     "output_type": "stream",
     "text": [
      "\n",
      "40\n",
      "30\n",
      "20\n",
      "\n",
      "3\n",
      "\n",
      "latest inserted element:  40\n",
      "\n",
      "40 got_deleted\n",
      "\n",
      "30\n",
      "20\n"
     ]
    }
   ],
   "source": [
    "push(stack, 20)\n",
    "push(stack, 30)\n",
    "push(stack, 40)\n",
    "\n",
    "print()\n",
    "display(stack)\n",
    "\n",
    "print()\n",
    "print(length(stack))\n",
    "\n",
    "print()\n",
    "print(\"latest inserted element: \", get_top(stack))\n",
    "\n",
    "print()\n",
    "stack_pop(stack)\n",
    "\n",
    "print()\n",
    "display(stack)\n"
   ]
  },
  {
   "cell_type": "code",
   "execution_count": null,
   "metadata": {},
   "outputs": [],
   "source": [
    "stack = []\n",
    "\n",
    "class Stack:\n",
    "    def __init__(self, homepage):\n",
    "        self.stack = [homepage]\n",
    "\n",
    "    # this function will going to check whether the stack is empty\n",
    "    def isEmpty(self):\n",
    "        if len(self.stack) == 0:\n",
    "            return True\n",
    "        else:\n",
    "            return False\n",
    "\n",
    "    # function for getting stack's top element    \n",
    "    def get_top(self):\n",
    "        if self.isEmpty():\n",
    "            print(\"Stack is Empty\")\n",
    "        else:\n",
    "            return self.stack[-1]\n",
    "\n",
    "    # function for push operation(append / insert)    \n",
    "    def push(self, ele):\n",
    "        self.stack.append(ele)\n",
    "\n",
    "    # function for pop operation\n",
    "    def stack_pop(self):\n",
    "        if self.isEmpty():\n",
    "            print(\"Stack is Empty\")\n",
    "            print(\"can't delete\")\n",
    "        else:\n",
    "            deleted_ele = self.stack.pop()\n",
    "            print(deleted_ele, \"got_deleted\")\n",
    "            if not self.isEmpty():\n",
    "                print(\"Redirected to - \", self.get_top())\n",
    "\n",
    "    # display all elements from stack / history\n",
    "    def display(self):\n",
    "        x = len(self.stack)\n",
    "        for i in range(x-1, -1, -1):\n",
    "            print(self.stack[i])\n",
    "\n",
    "    # function for checking length of stack\n",
    "    def length(self):\n",
    "        return len(self.stack)\n",
    "    \n",
    "\n",
    "\n",
    "links_stack = Stack('home.html')\n",
    "\n",
    "while True:\n",
    "    print('-' * 60)\n",
    "    choice = int(input(\"Please enter the last choice\\n1. Visit another link - \\n2. Back\\n3. History\\n4. Gets latest visited place\\n5. Close the Browser\\n\"))\n",
    "    print('-' * 60)\n",
    "\n",
    "    if choice ==1:\n",
    "        link = input('Enter the link - ')\n",
    "        links_stack.push(link)\n",
    "    elif choice == 2:\n",
    "        links_stack.stack_pop()\n",
    "    elif choice == 3:\n",
    "        links_stack.display()\n",
    "    elif choice == 4:\n",
    "        latest_visited = links_stack.get_top()\n",
    "        print(\"Latest visited link - \", latest_visited)\n",
    "    elif choice == 5:\n",
    "        break\n",
    "    else:\n",
    "        print(\"Invalid choice\")\n",
    "\n",
    "    if links_stack.isEmpty():\n",
    "        break\n"
   ]
  },
  {
   "cell_type": "code",
   "execution_count": 1,
   "metadata": {},
   "outputs": [
    {
     "name": "stdout",
     "output_type": "stream",
     "text": [
      "Brand: Maruti\n",
      "Model: Alto\n",
      "Year: 2022\n",
      "Speed up ...\n",
      "Not having this feature\n"
     ]
    }
   ],
   "source": [
    "# Import required modules\n",
    "from abc import ABC, abstractmethod\n",
    "\n",
    "# Create Abstract base class\n",
    "class Car(ABC):\n",
    "    def __init__(self, brand, model, year):\n",
    "        self.brand = brand\n",
    "        self.model = model\n",
    "        self.year = year\n",
    "\n",
    "    # Create abstract method\n",
    "    @abstractmethod\n",
    "    def printDetails(self):\n",
    "        pass\n",
    "\n",
    "    # Create concrete method\n",
    "    def accelerate(self):\n",
    "        print(\"Speed up ...\")\n",
    "\n",
    "    def break_applied(self):\n",
    "        print(\"Car stopped\")\n",
    "\n",
    "# Create a child class\n",
    "class Hatchback(Car):\n",
    "    def printDetails(self):\n",
    "        print(\"Brand:\", self.brand)\n",
    "        print(\"Model:\", self.model)\n",
    "        print(\"Year:\", self.year)\n",
    "\n",
    "    def sunroof(self):\n",
    "        print(\"Not having this feature\")\n",
    "\n",
    "# Create a child class\n",
    "class Suv(Car):\n",
    "    def printDetails(self):\n",
    "        print(\"Brand:\", self.brand)\n",
    "        print(\"Model:\", self.model)\n",
    "        print(\"Year:\", self.year)\n",
    "\n",
    "    def sunroof(self):\n",
    "        print(\"Available\")\n",
    "\n",
    "# Create an instance of the Hatchback class\n",
    "car1 = Hatchback(\"Maruti\", \"Alto\", \"2022\")\n",
    "\n",
    "# Call methods\n",
    "car1.printDetails()\n",
    "car1.accelerate()\n",
    "car1.sunroof()\n"
   ]
  },
  {
   "cell_type": "code",
   "execution_count": null,
   "metadata": {},
   "outputs": [],
   "source": []
  },
  {
   "cell_type": "code",
   "execution_count": null,
   "metadata": {},
   "outputs": [],
   "source": []
  }
 ],
 "metadata": {
  "kernelspec": {
   "display_name": "base",
   "language": "python",
   "name": "python3"
  },
  "language_info": {
   "codemirror_mode": {
    "name": "ipython",
    "version": 3
   },
   "file_extension": ".py",
   "mimetype": "text/x-python",
   "name": "python",
   "nbconvert_exporter": "python",
   "pygments_lexer": "ipython3",
   "version": "3.11.10"
  }
 },
 "nbformat": 4,
 "nbformat_minor": 2
}
