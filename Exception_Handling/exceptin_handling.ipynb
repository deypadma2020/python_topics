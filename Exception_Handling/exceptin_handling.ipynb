{
 "cells": [
  {
   "cell_type": "code",
   "execution_count": null,
   "metadata": {},
   "outputs": [],
   "source": [
    "class Error(Exception):\n",
    "    pass\n",
    "class dobException(Error):\n",
    "    pass\n"
   ]
  },
  {
   "cell_type": "code",
   "execution_count": null,
   "metadata": {},
   "outputs": [],
   "source": [
    "year = int(input(\"Enter the year of birth: \"))\n",
    "age = 2024 - year\n",
    "\n",
    "try:\n",
    "    if age <= 30 & age > 20:\n",
    "        print(\"This age is valid\")\n",
    "    else:\n",
    "        raise dobException\n",
    "except dobException:\n",
    "    print(\"The age is not within the range\")\n"
   ]
  },
  {
   "cell_type": "code",
   "execution_count": null,
   "metadata": {},
   "outputs": [],
   "source": [
    "def add(num1, num2):\n",
    "    try:\n",
    "        print(num1+num2)\n",
    "    except Exception as e:\n",
    "        print(e)\n",
    "    else:\n",
    "        print(\"successfull\")\n",
    "\n",
    "\n",
    "add(5,2)\n"
   ]
  },
  {
   "cell_type": "code",
   "execution_count": null,
   "metadata": {},
   "outputs": [],
   "source": [
    "def add(num1, num2):\n",
    "    try:\n",
    "        if num1 > num2:\n",
    "            print(num1-num2)\n",
    "        else:\n",
    "            print('debug')\n",
    "            raise Exception('print')\n",
    "    except Exception as e:\n",
    "        return e\n",
    "\n",
    "\n",
    "add(5,7)\n"
   ]
  },
  {
   "cell_type": "code",
   "execution_count": null,
   "metadata": {},
   "outputs": [],
   "source": [
    "num1 = int(input(\"enter 1st num: \"))\n",
    "num2 = int(input(\"enter 2nd num: \"))\n",
    "\n",
    "div = num1/num2\n",
    "print(\"result: \", div)\n"
   ]
  },
  {
   "cell_type": "code",
   "execution_count": null,
   "metadata": {},
   "outputs": [],
   "source": [
    "try:\n",
    "    num1 = int(input(\"enter 1st num: \"))\n",
    "    num2 = int(input(\"enter 2nd num: \"))\n",
    "    div = num1/num2\n",
    "    print(\"result: \", div)\n",
    "except ZeroDivisionError as zde:\n",
    "    print(zde)\n",
    "except ValueError as ve:\n",
    "    print(ve)\n",
    "except Exception as e:\n",
    "    print(e)\n"
   ]
  },
  {
   "cell_type": "code",
   "execution_count": null,
   "metadata": {},
   "outputs": [],
   "source": [
    "try:\n",
    "    num1 = int(input(\"enter 1st num: \"))\n",
    "    num2 = int(input(\"enter 2nd num: \"))\n",
    "    div = num1/num2\n",
    "    print(\"result: \", div)\n",
    "\n",
    "except ValueError as ve:\n",
    "    print(ve)\n",
    "except ZeroDivisionError as zde:\n",
    "    print(zde)\n",
    "except Exception as e:\n",
    "    print(e)\n"
   ]
  },
  {
   "cell_type": "code",
   "execution_count": 23,
   "metadata": {},
   "outputs": [
    {
     "name": "stdout",
     "output_type": "stream",
     "text": [
      "division by zero\n",
      "<class 'ZeroDivisionError'>\n",
      "Rest of code\n"
     ]
    }
   ],
   "source": [
    "try:\n",
    "    num1 = int(input(\"enter 1st num: \"))\n",
    "    num2 = int(input(\"enter 2nd num: \"))\n",
    "    div = num1/num2\n",
    "    print(\"result: \", div)\n",
    "\n",
    "except Exception as e:\n",
    "    print(e)\n",
    "    print(e.__class__)\n",
    "\n",
    "print(\"Rest of code\")\n"
   ]
  },
  {
   "cell_type": "code",
   "execution_count": 1,
   "metadata": {},
   "outputs": [
    {
     "name": "stdout",
     "output_type": "stream",
     "text": [
      "<class 'NameError'>\n",
      "name 'num' is not defined\n",
      "Rest of code\n"
     ]
    }
   ],
   "source": [
    "import sys\n",
    "num1 = int(input(\"enter 1st num: \"))\n",
    "num2 = int(input(\"enter 2nd num: \"))\n",
    "try:\n",
    "    \n",
    "    div = num1/num\n",
    "    print(\"result: \", div)\n",
    "\n",
    "except:\n",
    "    print(sys.exc_info()[0])\n",
    "    print(sys.exc_info()[1])\n",
    "\n",
    "print(\"Rest of code\")\n"
   ]
  },
  {
   "cell_type": "code",
   "execution_count": null,
   "metadata": {},
   "outputs": [],
   "source": [
    "import sys\n",
    "num1 = int(input(\"enter 1st num: \"))\n",
    "num2 = int(input(\"enter 2nd num: \"))\n",
    "try:\n",
    "    \n",
    "    div = num1/num2\n",
    "    print(\"result: \", div)\n",
    "\n",
    "except:\n",
    "    print(sys.exc_info()[0])\n",
    "    print(sys.exc_info()[1])\n",
    "\n",
    "print(\"Rest of code\")\n"
   ]
  },
  {
   "cell_type": "code",
   "execution_count": 24,
   "metadata": {},
   "outputs": [
    {
     "name": "stdout",
     "output_type": "stream",
     "text": [
      "(<class 'ZeroDivisionError'>, ZeroDivisionError('division by zero'), <traceback object at 0x000001F035DAA9C0>)\n",
      "Rest of code\n"
     ]
    }
   ],
   "source": [
    "import sys\n",
    "num1 = int(input(\"enter 1st num: \"))\n",
    "num2 = int(input(\"enter 2nd num: \"))\n",
    "try:\n",
    "    \n",
    "    div = num1/num2\n",
    "    print(\"result: \", div)\n",
    "\n",
    "except:\n",
    "    print(sys.exc_info())\n",
    "\n",
    "print(\"Rest of code\")\n"
   ]
  },
  {
   "cell_type": "code",
   "execution_count": null,
   "metadata": {},
   "outputs": [
    {
     "name": "stdout",
     "output_type": "stream",
     "text": [
      "Enter valid age\n"
     ]
    }
   ],
   "source": [
    "try:\n",
    "    age = int(input(\"Enter your age: \"))\n",
    "    if age<0:\n",
    "        raise ValueError\n",
    "    \n",
    "    print(\"Yout age is: \", age)\n",
    "\n",
    "except ValueError:\n",
    "    print(\"Enter valid age\")\n"
   ]
  },
  {
   "cell_type": "code",
   "execution_count": 31,
   "metadata": {},
   "outputs": [
    {
     "name": "stdout",
     "output_type": "stream",
     "text": [
      "enter a valid age\n"
     ]
    }
   ],
   "source": [
    "try:\n",
    "    age = int(input(\"Enter your age: \"))\n",
    "    if age<0:\n",
    "        print(\"enter a valid age\")\n",
    "        # raise ValueError\n",
    "    else:\n",
    "        print(\"Your age is: \", age)\n",
    "\n",
    "except ValueError:\n",
    "    print(\"Enter valid age\")\n"
   ]
  },
  {
   "cell_type": "code",
   "execution_count": 35,
   "metadata": {},
   "outputs": [
    {
     "ename": "ValueError",
     "evalue": "invalid literal for int() with base 10: 'g'",
     "output_type": "error",
     "traceback": [
      "\u001b[1;31m---------------------------------------------------------------------------\u001b[0m",
      "\u001b[1;31mValueError\u001b[0m                                Traceback (most recent call last)",
      "Cell \u001b[1;32mIn[35], line 5\u001b[0m\n\u001b[0;32m      2\u001b[0m     \u001b[38;5;28;01mpass\u001b[39;00m\n\u001b[0;32m      4\u001b[0m \u001b[38;5;28;01mtry\u001b[39;00m:\n\u001b[1;32m----> 5\u001b[0m     n1 \u001b[38;5;241m=\u001b[39m \u001b[38;5;28;43mint\u001b[39;49m\u001b[43m(\u001b[49m\u001b[38;5;28;43minput\u001b[39;49m\u001b[43m(\u001b[49m\u001b[38;5;124;43m\"\u001b[39;49m\u001b[38;5;124;43mEnter First Number: \u001b[39;49m\u001b[38;5;124;43m\"\u001b[39;49m\u001b[43m)\u001b[49m\u001b[43m)\u001b[49m\n\u001b[0;32m      6\u001b[0m     n2 \u001b[38;5;241m=\u001b[39m \u001b[38;5;28mint\u001b[39m(\u001b[38;5;28minput\u001b[39m(\u001b[38;5;124m\"\u001b[39m\u001b[38;5;124mEnter Second Number: \u001b[39m\u001b[38;5;124m\"\u001b[39m))\n\u001b[0;32m      8\u001b[0m     \u001b[38;5;28;01mif\u001b[39;00m n2 \u001b[38;5;241m==\u001b[39m \u001b[38;5;241m5\u001b[39m:\n",
      "\u001b[1;31mValueError\u001b[0m: invalid literal for int() with base 10: 'g'"
     ]
    }
   ],
   "source": [
    "class FiveDivisionError(Exception):\n",
    "    pass\n",
    "\n",
    "try:\n",
    "    n1 = int(input(\"Enter First Number: \"))\n",
    "    n2 = int(input(\"Enter Second Number: \"))\n",
    "\n",
    "    if n2 == 5:\n",
    "        raise FiveDivisionError(\"Can't divide by five\")\n",
    "    \n",
    "    div = n1/n2\n",
    "\n",
    "    print(\"result: \", div)\n",
    "\n",
    "except(FiveDivisionError, ZeroDivisionError) as err:\n",
    "    print(err)\n",
    "\n",
    "# except Exception as e:\n",
    "#     print(e)\n"
   ]
  },
  {
   "cell_type": "code",
   "execution_count": 16,
   "metadata": {},
   "outputs": [
    {
     "name": "stdout",
     "output_type": "stream",
     "text": [
      "result:  2.0\n",
      "rest of code\n"
     ]
    }
   ],
   "source": [
    "class FiveDivisionError(Exception):\n",
    "    def __init__(self):\n",
    "        print(\"Can't divide by five\")\n",
    "\n",
    "try:\n",
    "    n1 = int(input(\"Enter First Number: \"))\n",
    "    n2 = int(input(\"Enter Second Number: \"))\n",
    "\n",
    "    if n2 == 5:\n",
    "        raise FiveDivisionError\n",
    "    \n",
    "    div = n1/n2\n",
    "\n",
    "    print(\"result: \", div)\n",
    "\n",
    "except(FiveDivisionError, ZeroDivisionError) as err:\n",
    "    print(err, end=\"\")\n",
    "\n",
    "except Exception as e:\n",
    "    print(e)\n",
    "\n",
    "print(\"rest of code\")\n"
   ]
  },
  {
   "cell_type": "code",
   "execution_count": 37,
   "metadata": {},
   "outputs": [
    {
     "name": "stdout",
     "output_type": "stream",
     "text": [
      "Can't divide by five\n"
     ]
    },
    {
     "data": {
      "text/plain": [
       "11"
      ]
     },
     "execution_count": 37,
     "metadata": {},
     "output_type": "execute_result"
    }
   ],
   "source": [
    "class FiveDivisionError(Exception):\n",
    "    def __init__(self, a,b):\n",
    "        print(\"Can't divide by five\")\n",
    "        self.a = 5\n",
    "        self.b = 6\n",
    "    def add(self):\n",
    "        return self.a+self.b\n",
    "\n",
    "fd = FiveDivisionError(5,6)\n",
    "fd.add()\n"
   ]
  },
  {
   "cell_type": "code",
   "execution_count": 1,
   "metadata": {},
   "outputs": [
    {
     "ename": "TypeError",
     "evalue": "catching classes that do not inherit from BaseException is not allowed",
     "output_type": "error",
     "traceback": [
      "\u001b[1;31m---------------------------------------------------------------------------\u001b[0m",
      "\u001b[1;31mTypeError\u001b[0m                                 Traceback (most recent call last)",
      "Cell \u001b[1;32mIn[1], line 10\u001b[0m\n\u001b[0;32m      9\u001b[0m \u001b[38;5;28;01mif\u001b[39;00m n2 \u001b[38;5;241m==\u001b[39m \u001b[38;5;241m5\u001b[39m:\n\u001b[1;32m---> 10\u001b[0m     \u001b[38;5;28;01mraise\u001b[39;00m FiveDivisionError\n\u001b[0;32m     12\u001b[0m div \u001b[38;5;241m=\u001b[39m n1\u001b[38;5;241m/\u001b[39mn2\n",
      "\u001b[1;31mTypeError\u001b[0m: exceptions must derive from BaseException",
      "\nDuring handling of the above exception, another exception occurred:\n",
      "\u001b[1;31mTypeError\u001b[0m                                 Traceback (most recent call last)",
      "Cell \u001b[1;32mIn[1], line 16\u001b[0m\n\u001b[0;32m     12\u001b[0m     div \u001b[38;5;241m=\u001b[39m n1\u001b[38;5;241m/\u001b[39mn2\n\u001b[0;32m     14\u001b[0m     \u001b[38;5;28mprint\u001b[39m(\u001b[38;5;124m\"\u001b[39m\u001b[38;5;124mresult: \u001b[39m\u001b[38;5;124m\"\u001b[39m, div)\n\u001b[1;32m---> 16\u001b[0m \u001b[38;5;28;01mexcept\u001b[39;00m(FiveDivisionError, \u001b[38;5;167;01mZeroDivisionError\u001b[39;00m) \u001b[38;5;28;01mas\u001b[39;00m err:\n\u001b[0;32m     17\u001b[0m     \u001b[38;5;28mprint\u001b[39m(err, end\u001b[38;5;241m=\u001b[39m\u001b[38;5;124m\"\u001b[39m\u001b[38;5;124m\"\u001b[39m)\n\u001b[0;32m     19\u001b[0m \u001b[38;5;28;01mexcept\u001b[39;00m \u001b[38;5;167;01mException\u001b[39;00m \u001b[38;5;28;01mas\u001b[39;00m e:\n",
      "\u001b[1;31mTypeError\u001b[0m: catching classes that do not inherit from BaseException is not allowed"
     ]
    }
   ],
   "source": [
    "class FiveDivisionError():\n",
    "    def __init__(self):\n",
    "        print(\"Can't divide by five\")\n",
    "\n",
    "try:\n",
    "    n1 = int(input(\"Enter First Number: \"))\n",
    "    n2 = int(input(\"Enter Second Number: \"))\n",
    "\n",
    "    if n2 == 5:\n",
    "        raise FiveDivisionError\n",
    "    \n",
    "    div = n1/n2\n",
    "\n",
    "    print(\"result: \", div)\n",
    "\n",
    "except(FiveDivisionError, ZeroDivisionError) as err:\n",
    "    print(err, end=\"\")\n",
    "\n",
    "except Exception as e:\n",
    "    print(e)\n",
    "\n",
    "print(\"rest of code\")\n"
   ]
  },
  {
   "cell_type": "code",
   "execution_count": 17,
   "metadata": {},
   "outputs": [
    {
     "name": "stdout",
     "output_type": "stream",
     "text": [
      "Insufficient balance\n"
     ]
    }
   ],
   "source": [
    "import time\n",
    "\n",
    "class BalanceExceptionError(Exception):\n",
    "    pass\n",
    "\n",
    "class AttemptExceptionError(Exception):\n",
    "    pass\n",
    "\n",
    "attempts = 1\n",
    "\n",
    "def withdraw():\n",
    "    global attempts\n",
    "    saved_pin =  1234\n",
    "    balance = 10000\n",
    "    pin = int(input(\"Enter amount to withdraw: \"))\n",
    "    if pin == saved_pin:\n",
    "        try:\n",
    "            amt = float(input(\"Enter amount to withdraw: \"))\n",
    "            temp_bal = balance - amt\n",
    "            if temp_bal < 1000:\n",
    "                raise BalanceExceptionError(\"Insufficient balance\")\n",
    "            balance = balance - amt\n",
    "            print(\"Remained balance is: \", balance)\n",
    "        except Exception as e:\n",
    "            print(e)\n",
    "    else:\n",
    "        ans = input(\"Wrong pin! do you want to continue again(y/n): \")\n",
    "        if ans.lower() == 'y':\n",
    "            attempts += 1\n",
    "            try:\n",
    "                if attempts == 4:\n",
    "                    raise AttemptExceptionError(\"Too many attempts, your account is blocked for an hour\")\n",
    "            except Exception as e:\n",
    "                print(e)\n",
    "                time.sleep(3600)\n",
    "            else:\n",
    "                withdraw()\n",
    "        else:\n",
    "            print(\"Thank You!\")\n",
    "            return\n",
    "        \n",
    "withdraw()\n"
   ]
  },
  {
   "cell_type": "code",
   "execution_count": 20,
   "metadata": {},
   "outputs": [
    {
     "ename": "FileNotFoundError",
     "evalue": "[Errno 2] No such file or directory: 'leet-code.txt'",
     "output_type": "error",
     "traceback": [
      "\u001b[1;31m---------------------------------------------------------------------------\u001b[0m",
      "\u001b[1;31mFileNotFoundError\u001b[0m                         Traceback (most recent call last)",
      "Cell \u001b[1;32mIn[20], line 1\u001b[0m\n\u001b[1;32m----> 1\u001b[0m f \u001b[38;5;241m=\u001b[39m \u001b[38;5;28;43mopen\u001b[39;49m\u001b[43m(\u001b[49m\u001b[38;5;124;43m\"\u001b[39;49m\u001b[38;5;124;43mleet-code.txt\u001b[39;49m\u001b[38;5;124;43m\"\u001b[39;49m\u001b[43m,\u001b[49m\u001b[43m \u001b[49m\u001b[43mmode\u001b[49m\u001b[38;5;241;43m=\u001b[39;49m\u001b[38;5;124;43m'\u001b[39;49m\u001b[38;5;124;43mr\u001b[39;49m\u001b[38;5;124;43m'\u001b[39;49m\u001b[43m)\u001b[49m\n\u001b[0;32m      3\u001b[0m f\u001b[38;5;241m.\u001b[39mclose()\n\u001b[0;32m      5\u001b[0m \u001b[38;5;28mprint\u001b[39m(\u001b[38;5;124m\"\u001b[39m\u001b[38;5;124mrest of code\u001b[39m\u001b[38;5;124m\"\u001b[39m)\n",
      "File \u001b[1;32m~\\AppData\\Roaming\\Python\\Python312\\site-packages\\IPython\\core\\interactiveshell.py:324\u001b[0m, in \u001b[0;36m_modified_open\u001b[1;34m(file, *args, **kwargs)\u001b[0m\n\u001b[0;32m    317\u001b[0m \u001b[38;5;28;01mif\u001b[39;00m file \u001b[38;5;129;01min\u001b[39;00m {\u001b[38;5;241m0\u001b[39m, \u001b[38;5;241m1\u001b[39m, \u001b[38;5;241m2\u001b[39m}:\n\u001b[0;32m    318\u001b[0m     \u001b[38;5;28;01mraise\u001b[39;00m \u001b[38;5;167;01mValueError\u001b[39;00m(\n\u001b[0;32m    319\u001b[0m         \u001b[38;5;124mf\u001b[39m\u001b[38;5;124m\"\u001b[39m\u001b[38;5;124mIPython won\u001b[39m\u001b[38;5;124m'\u001b[39m\u001b[38;5;124mt let you open fd=\u001b[39m\u001b[38;5;132;01m{\u001b[39;00mfile\u001b[38;5;132;01m}\u001b[39;00m\u001b[38;5;124m by default \u001b[39m\u001b[38;5;124m\"\u001b[39m\n\u001b[0;32m    320\u001b[0m         \u001b[38;5;124m\"\u001b[39m\u001b[38;5;124mas it is likely to crash IPython. If you know what you are doing, \u001b[39m\u001b[38;5;124m\"\u001b[39m\n\u001b[0;32m    321\u001b[0m         \u001b[38;5;124m\"\u001b[39m\u001b[38;5;124myou can use builtins\u001b[39m\u001b[38;5;124m'\u001b[39m\u001b[38;5;124m open.\u001b[39m\u001b[38;5;124m\"\u001b[39m\n\u001b[0;32m    322\u001b[0m     )\n\u001b[1;32m--> 324\u001b[0m \u001b[38;5;28;01mreturn\u001b[39;00m \u001b[43mio_open\u001b[49m\u001b[43m(\u001b[49m\u001b[43mfile\u001b[49m\u001b[43m,\u001b[49m\u001b[43m \u001b[49m\u001b[38;5;241;43m*\u001b[39;49m\u001b[43margs\u001b[49m\u001b[43m,\u001b[49m\u001b[43m \u001b[49m\u001b[38;5;241;43m*\u001b[39;49m\u001b[38;5;241;43m*\u001b[39;49m\u001b[43mkwargs\u001b[49m\u001b[43m)\u001b[49m\n",
      "\u001b[1;31mFileNotFoundError\u001b[0m: [Errno 2] No such file or directory: 'leet-code.txt'"
     ]
    }
   ],
   "source": [
    "f = open(\"leet-code.txt\", mode='r')\n",
    "\n",
    "f.close()\n",
    "\n",
    "print(\"rest of code\")\n"
   ]
  },
  {
   "cell_type": "code",
   "execution_count": 19,
   "metadata": {},
   "outputs": [
    {
     "name": "stdout",
     "output_type": "stream",
     "text": [
      "[Errno 2] No such file or directory: 'leet-code.txt'\n"
     ]
    },
    {
     "ename": "NameError",
     "evalue": "name 'f' is not defined",
     "output_type": "error",
     "traceback": [
      "\u001b[1;31m---------------------------------------------------------------------------\u001b[0m",
      "\u001b[1;31mNameError\u001b[0m                                 Traceback (most recent call last)",
      "Cell \u001b[1;32mIn[19], line 6\u001b[0m\n\u001b[0;32m      3\u001b[0m \u001b[38;5;28;01mexcept\u001b[39;00m \u001b[38;5;167;01mException\u001b[39;00m \u001b[38;5;28;01mas\u001b[39;00m e:\n\u001b[0;32m      4\u001b[0m     \u001b[38;5;28mprint\u001b[39m(e)\n\u001b[1;32m----> 6\u001b[0m \u001b[43mf\u001b[49m\u001b[38;5;241m.\u001b[39mclose()\n\u001b[0;32m      8\u001b[0m \u001b[38;5;28mprint\u001b[39m(\u001b[38;5;124m\"\u001b[39m\u001b[38;5;124mrest of code\u001b[39m\u001b[38;5;124m\"\u001b[39m)\n",
      "\u001b[1;31mNameError\u001b[0m: name 'f' is not defined"
     ]
    }
   ],
   "source": [
    "try:\n",
    "    f = open(\"leet-code.txt\", mode='r')\n",
    "except Exception as e:\n",
    "    print(e)\n",
    "\n",
    "f.close()\n",
    "\n",
    "print(\"rest of code\")\n"
   ]
  },
  {
   "cell_type": "code",
   "execution_count": 18,
   "metadata": {},
   "outputs": [
    {
     "name": "stdout",
     "output_type": "stream",
     "text": [
      "[Errno 2] No such file or directory: 'leet-code.txt'\n",
      "rest of code\n"
     ]
    }
   ],
   "source": [
    "try:\n",
    "    f = open(\"leet-code.txt\", mode = 'r')\n",
    "    f.write(\"hello world\")\n",
    "\n",
    "except Exception as e:\n",
    "    print(e)\n",
    "\n",
    "else:\n",
    "    f.close()\n",
    "\n",
    "print(\"rest of code\")\n"
   ]
  },
  {
   "cell_type": "code",
   "execution_count": 22,
   "metadata": {},
   "outputs": [
    {
     "name": "stdout",
     "output_type": "stream",
     "text": [
      "Database Connected\n"
     ]
    }
   ],
   "source": [
    "import mysql.connector\n",
    "\n",
    "try:\n",
    "    mysql.connector.connect(\n",
    "        user = 'root',\n",
    "        password = 'Klizos@123',\n",
    "        host = 'localhost',\n",
    "        port = 3306,\n",
    "        database = 'clique_bait'\n",
    "    )\n",
    "    print(\"Database Connected\")\n",
    "except Exception as e:\n",
    "    print (f\"{e}\\nCan't connect\")\n"
   ]
  },
  {
   "cell_type": "code",
   "execution_count": null,
   "metadata": {},
   "outputs": [],
   "source": []
  },
  {
   "cell_type": "code",
   "execution_count": null,
   "metadata": {},
   "outputs": [],
   "source": []
  },
  {
   "cell_type": "code",
   "execution_count": null,
   "metadata": {},
   "outputs": [],
   "source": []
  },
  {
   "cell_type": "code",
   "execution_count": null,
   "metadata": {},
   "outputs": [
    {
     "ename": "TypeError",
     "evalue": "unsupported operand type(s) for +: 'int' and 'str'",
     "output_type": "error",
     "traceback": [
      "\u001b[1;31m---------------------------------------------------------------------------\u001b[0m",
      "\u001b[1;31mTypeError\u001b[0m                                 Traceback (most recent call last)",
      "Cell \u001b[1;32mIn[3], line 10\u001b[0m\n\u001b[0;32m      7\u001b[0m \u001b[38;5;28;01mdef\u001b[39;00m \u001b[38;5;21mdisplay\u001b[39m():\n\u001b[0;32m      8\u001b[0m     \u001b[38;5;28mprint\u001b[39m(\u001b[38;5;241m1\u001b[39m\u001b[38;5;241m+\u001b[39m\u001b[38;5;124m\"\u001b[39m\u001b[38;5;124mhello\u001b[39m\u001b[38;5;124m\"\u001b[39m)\n\u001b[1;32m---> 10\u001b[0m \u001b[43mdisplay\u001b[49m\u001b[43m(\u001b[49m\u001b[43m)\u001b[49m\n",
      "Cell \u001b[1;32mIn[3], line 8\u001b[0m, in \u001b[0;36mdisplay\u001b[1;34m()\u001b[0m\n\u001b[0;32m      7\u001b[0m \u001b[38;5;28;01mdef\u001b[39;00m \u001b[38;5;21mdisplay\u001b[39m():\n\u001b[1;32m----> 8\u001b[0m     \u001b[38;5;28mprint\u001b[39m(\u001b[38;5;241;43m1\u001b[39;49m\u001b[38;5;241;43m+\u001b[39;49m\u001b[38;5;124;43m\"\u001b[39;49m\u001b[38;5;124;43mhello\u001b[39;49m\u001b[38;5;124;43m\"\u001b[39;49m)\n",
      "\u001b[1;31mTypeError\u001b[0m: unsupported operand type(s) for +: 'int' and 'str'"
     ]
    }
   ],
   "source": [
    "import sys\n",
    "\n",
    "def format_traceback(exc_type, exc_value, exc_traceback):\n",
    "    print(\"Something went wrong\")\n",
    "\n",
    "sys.excepthook = format_traceback\n",
    "def display():\n",
    "    print(1+\"hello\")\n",
    "\n",
    "display()\n",
    "\n",
    "## run this in .py file\n"
   ]
  },
  {
   "cell_type": "code",
   "execution_count": null,
   "metadata": {},
   "outputs": [],
   "source": [
    "#does exception handled by multithreading?\n",
    "\n",
    "from threading import *\n",
    "from time import sleep\n",
    "\n",
    "def display():\n",
    "    for i in range(4):\n",
    "        sleep(0.1)\n",
    "        print(\"hello: \" +10)\n",
    "\n",
    "def show():\n",
    "    for i in range(4):\n",
    "        print(\"hello\")\n",
    "        sleep(0.5)\n",
    "\n"
   ]
  },
  {
   "cell_type": "code",
   "execution_count": 7,
   "metadata": {},
   "outputs": [
    {
     "name": "stderr",
     "output_type": "stream",
     "text": [
      "Exception in thread Thread-73 (display):\n",
      "Traceback (most recent call last):\n",
      "  File \"c:\\Users\\Padma Dey\\AppData\\Local\\Programs\\Python\\Python312\\Lib\\threading.py\", line 1075, in _bootstrap_inner\n",
      "    self.run()\n",
      "  File \"C:\\Users\\Padma Dey\\AppData\\Roaming\\Python\\Python312\\site-packages\\ipykernel\\ipkernel.py\", line 766, in run_closure\n",
      "    _threading_Thread_run(self)\n",
      "  File \"c:\\Users\\Padma Dey\\AppData\\Local\\Programs\\Python\\Python312\\Lib\\threading.py\", line 1012, in run\n",
      "    self._target(*self._args, **self._kwargs)\n",
      "  File \"C:\\Users\\Padma Dey\\AppData\\Local\\Temp\\ipykernel_8520\\2374928601.py\", line 9, in display\n",
      "TypeError: can only concatenate str (not \"int\") to str\n"
     ]
    },
    {
     "name": "stdout",
     "output_type": "stream",
     "text": [
      "hello\n",
      "Bye\n",
      "Bye\n",
      "Bye\n",
      "Bye\n"
     ]
    },
    {
     "name": "stdout",
     "output_type": "stream",
     "text": [
      "hello\n",
      "hello\n",
      "hello\n"
     ]
    }
   ],
   "source": [
    "t1 = Thread(target = display)\n",
    "t2 = Thread(target = show)\n",
    "\n",
    "t1.start()\n",
    "t2.start()\n",
    "\n",
    "t1.join()\n",
    "t1.join()\n",
    "\n",
    "for i in range(4):\n",
    "    print(\"Bye\")\n"
   ]
  },
  {
   "cell_type": "code",
   "execution_count": null,
   "metadata": {},
   "outputs": [
    {
     "name": "stdout",
     "output_type": "stream",
     "text": [
      "hello: can only concatenate str (not \"int\") to str\n",
      "Bye\n",
      "Bye\n",
      "Bye\n",
      "Bye\n",
      "\n"
     ]
    },
    {
     "name": "stdout",
     "output_type": "stream",
     "text": [
      "hello: \n",
      "hello: \n",
      "hello: \n"
     ]
    }
   ],
   "source": [
    "#does exception handled by multithreading?\n",
    "\n",
    "from threading import *\n",
    "from time import sleep\n",
    "\n",
    "def display():\n",
    "    try:\n",
    "        for i in range(4):\n",
    "            sleep(0.1)\n",
    "            print(\"hello: \" +10)\n",
    "    except Exception as e:\n",
    "        print(e)\n",
    "\n",
    "def show():\n",
    "    try:\n",
    "        for i in range(4):\n",
    "            sleep(0.1)\n",
    "            print(\"hello: \")\n",
    "    except Exception as e:\n",
    "        print(e)\n",
    "\n",
    "\n",
    "t1 = Thread(target = display)\n",
    "t2 = Thread(target = show)\n",
    "\n",
    "t1.start()\n",
    "t2.start()\n",
    "\n",
    "t1.join()\n",
    "t1.join()\n",
    "\n",
    "for i in range(4):\n",
    "    print(\"Bye\")\n"
   ]
  },
  {
   "cell_type": "code",
   "execution_count": 15,
   "metadata": {},
   "outputs": [
    {
     "name": "stdout",
     "output_type": "stream",
     "text": [
      "can only concatenate str (not \"int\") to str\n",
      "hello\n",
      "hello\n",
      "hello\n",
      "hello\n",
      "Bye\n",
      "Bye\n",
      "Bye\n",
      "Bye\n"
     ]
    }
   ],
   "source": [
    "import threading\n",
    "from threading import Thread\n",
    "from time import sleep\n",
    "\n",
    "def custom_hook(args):\n",
    "    print(\"Exception occurred in thread\")\n",
    "    print(args[0])  # Exception type\n",
    "    print(args[1])  # Exception value\n",
    "    print(args[2])  # Traceback object\n",
    "    print(args[3])  # Thread object\n",
    "\n",
    "def display():\n",
    "    try:\n",
    "        for i in range(4):\n",
    "            sleep(0.1)\n",
    "            print(\"hello: \" + 10)  # This line will raise a TypeError\n",
    "    except Exception as e:\n",
    "        print(e)\n",
    "\n",
    "def show():\n",
    "    try:\n",
    "        for i in range(4):\n",
    "            sleep(0.1)\n",
    "            print(\"hello\")\n",
    "    except Exception as e:\n",
    "        print(e)\n",
    "\n",
    "# Set custom exception hook for threads\n",
    "threading.excepthook = custom_hook\n",
    "\n",
    "t1 = threading.Thread(target=display)\n",
    "t2 = threading.Thread(target=show)\n",
    "\n",
    "t1.start()\n",
    "t2.start()\n",
    "\n",
    "t1.join()\n",
    "t2.join()\n",
    "\n",
    "for i in range(4):\n",
    "    print(\"Bye\")\n"
   ]
  },
  {
   "cell_type": "code",
   "execution_count": 19,
   "metadata": {},
   "outputs": [
    {
     "name": "stdout",
     "output_type": "stream",
     "text": [
      "invalid literal for int() with base 10: 'ads'\n",
      "rest of the code\n"
     ]
    }
   ],
   "source": [
    "def get_squares():\n",
    "    try:\n",
    "        num = int(input(\"Enter a number: \"))\n",
    "        print(\"Square is: \", num**2)\n",
    "    except Exception as e:\n",
    "        print(e)\n",
    "\n",
    "get_squares()\n",
    "\n",
    "print('rest of the code')\n"
   ]
  },
  {
   "cell_type": "code",
   "execution_count": 21,
   "metadata": {},
   "outputs": [
    {
     "name": "stdout",
     "output_type": "stream",
     "text": [
      "invalid literal for int() with base 10: 'dasdz'\n",
      "invalid literal for int() with base 10: 'dwda'\n",
      "invalid literal for int() with base 10: 'daswad'\n",
      "invalid literal for int() with base 10: 'S'\n",
      "invalid literal for int() with base 10: '2.2'\n",
      "Square is:  25\n",
      "rest of the code\n"
     ]
    }
   ],
   "source": [
    "def get_squares():\n",
    "    try:\n",
    "        num = int(input(\"Enter a number: \"))\n",
    "        print(\"Square is: \", num**2)\n",
    "    except Exception as e:\n",
    "        print(e)\n",
    "        get_squares()\n",
    "\n",
    "get_squares()\n",
    "\n",
    "print('rest of the code')\n"
   ]
  },
  {
   "cell_type": "code",
   "execution_count": 22,
   "metadata": {},
   "outputs": [
    {
     "name": "stdout",
     "output_type": "stream",
     "text": [
      "beautifulsoup4\n",
      "read operation success\n"
     ]
    }
   ],
   "source": [
    "# a pitfall in exception handling\n",
    "\n",
    "try:\n",
    "    f = open('requirements.txt', mode = 'r')\n",
    "    my_data = f.read()\n",
    "    print(my_data)\n",
    "except Exception as e:\n",
    "    print(e)\n",
    "else:\n",
    "    print(\"read operation success\")\n",
    "finally:\n",
    "    f.close()\n"
   ]
  },
  {
   "cell_type": "code",
   "execution_count": 23,
   "metadata": {},
   "outputs": [
    {
     "name": "stdout",
     "output_type": "stream",
     "text": [
      "[Errno 2] No such file or directory: 'data.txt'\n"
     ]
    }
   ],
   "source": [
    "# a pitfall in exception handling\n",
    "\n",
    "try:\n",
    "    f = open('data.txt', mode = 'r')\n",
    "    my_data = f.read()\n",
    "    print(my_data)\n",
    "except Exception as e:\n",
    "    print(e)\n",
    "else:\n",
    "    print(\"read operation success\")\n",
    "finally:\n",
    "    f.close()\n"
   ]
  },
  {
   "cell_type": "code",
   "execution_count": 24,
   "metadata": {},
   "outputs": [
    {
     "name": "stdout",
     "output_type": "stream",
     "text": [
      "[Errno 2] No such file or directory: 'data.txt'\n"
     ]
    }
   ],
   "source": [
    "# a pitfall in exception handling\n",
    "\n",
    "try:\n",
    "    f = open('data.txt', mode = 'r')\n",
    "    my_data = f.read()\n",
    "    print(my_data)\n",
    "except Exception as e:\n",
    "    print(e)\n",
    "else:\n",
    "    print(\"read operation success\")\n",
    "finally:\n",
    "    if 'f' in locals():\n",
    "        f.close()\n"
   ]
  },
  {
   "cell_type": "code",
   "execution_count": null,
   "metadata": {},
   "outputs": [],
   "source": []
  },
  {
   "cell_type": "markdown",
   "metadata": {},
   "source": [
    "Q. write a python program that will sum  numbers present in given list of data.\n",
    "\n",
    "expected output: -\n",
    "\n",
    "- enter the list: - [1, 'a', 'b', 3]\n",
    "- item 'a' is not a number\n",
    "- item 'b' is not a number\n",
    "- 4\n",
    "\n",
    "Hint: - Use exception handling"
   ]
  },
  {
   "cell_type": "code",
   "execution_count": 26,
   "metadata": {},
   "outputs": [
    {
     "name": "stdout",
     "output_type": "stream",
     "text": [
      "enter the list: -  [1, 'a', 'b', 3]\n",
      "item 'a' is not a number\n",
      "item 'b' is not a number\n",
      "4\n"
     ]
    }
   ],
   "source": [
    "def sum_numbers(data):\n",
    "    total = 0\n",
    "    for item in data:\n",
    "        try:\n",
    "            total += item\n",
    "        except TypeError:\n",
    "            print(f\"item '{item}' is not a number\")\n",
    "    return total\n",
    "\n",
    "data = [1, 'a', 'b', 3]\n",
    "print(\"enter the list: - \", data)\n",
    "result = sum_numbers(data)\n",
    "print(result)\n"
   ]
  },
  {
   "cell_type": "code",
   "execution_count": 30,
   "metadata": {},
   "outputs": [
    {
     "name": "stdout",
     "output_type": "stream",
     "text": [
      "item hello is not a number\n"
     ]
    },
    {
     "data": {
      "text/plain": [
       "104"
      ]
     },
     "execution_count": 30,
     "metadata": {},
     "output_type": "execute_result"
    }
   ],
   "source": [
    "def sum_ofint_list(my_list):\n",
    "    total = 0\n",
    "    for ele in my_list:\n",
    "        try:\n",
    "            int(ele)\n",
    "        except:\n",
    "            print(f\"item {ele} is not a number\")\n",
    "        else:\n",
    "            total = total + ele\n",
    "    return total\n",
    "\n",
    "sum_ofint_list([1, 'hello', 100, 3])\n"
   ]
  },
  {
   "cell_type": "code",
   "execution_count": 31,
   "metadata": {},
   "outputs": [
    {
     "data": {
      "text/plain": [
       "45"
      ]
     },
     "execution_count": 31,
     "metadata": {},
     "output_type": "execute_result"
    }
   ],
   "source": [
    "def total_likes():\n",
    "    reviews = [{'image' : 3, 'Like' : 20, 'Comment' : 10},\n",
    "               {'Like' : 15, 'Comment' : 8, 'Share' : 10},\n",
    "               {'Image' : 7, 'Comment' : 16, 'Share' : 37},\n",
    "               {'Image' : 6, 'Like' : 10, 'Comment' : 9}]\n",
    "    total = 0\n",
    "    for review in reviews:\n",
    "        try:\n",
    "            total += review['Like']\n",
    "        except:\n",
    "            pass\n",
    "    \n",
    "    return total\n",
    "\n",
    "total_likes()\n",
    "\n"
   ]
  },
  {
   "cell_type": "markdown",
   "metadata": {},
   "source": [
    "Excercise on exception handling: - \n",
    "\n",
    "1. Define a function named calculator.\n",
    "    - It will ask for a mathematical operation from the user.\n",
    "    - An operation is something like this: 6 * 5\n",
    "The function will get this input and do the necessary calculation, and return the result as folllows: 6 * 5 = 30\n",
    "    - The operation type can only be one of these : +, -, *, /\n",
    "\n",
    "Exception  haldling for possible errors: - \n",
    "1. Two operands and operator should be there, else raise exception.\n",
    "2. operator must be part of (+, -, *, /).\n",
    "3. operands must be castable into float.\n",
    "4. ZeroDivisionError while division."
   ]
  },
  {
   "cell_type": "code",
   "execution_count": 33,
   "metadata": {},
   "outputs": [
    {
     "data": {
      "text/plain": [
       "'5.0 * 5.0 = 25.0'"
      ]
     },
     "execution_count": 33,
     "metadata": {},
     "output_type": "execute_result"
    }
   ],
   "source": [
    "class OperationError(Exception):\n",
    "    pass\n",
    "\n",
    "class OperatorError(Exception):\n",
    "    pass\n",
    "\n",
    "def calculator():\n",
    "    operations = ('+', '-', '*', '/')\n",
    "    try:\n",
    "        user_input = input(\"Please enter an operation: \")\n",
    "        elements = user_input.split()\n",
    "\n",
    "        if len(elements) != 3:\n",
    "            raise OperationError(\"Please enter two operands and an operator in between separated by space\")\n",
    "        \n",
    "        operator = elements[1]\n",
    "        if operator not in operations:\n",
    "            raise OperatorError(f\"{operator} is not valid, please enter an operator from {operations}\")\n",
    "        \n",
    "        num1 = float(elements[0])\n",
    "        num2 = float(elements[2])\n",
    "        if operator == '/' and num2 == 0:\n",
    "            raise ZeroDivisionError(\"Can't devide by zero\")\n",
    "        \n",
    "    except Exception as e:\n",
    "        print(f\"{e} \\nTry Again\")\n",
    "\n",
    "        calculator()\n",
    "\n",
    "    else:\n",
    "        if operator == '+':\n",
    "            result = num1 + num2\n",
    "        elif operator == '-':\n",
    "            result = num1 - num2\n",
    "        elif operator == '*':\n",
    "            result = num1 * num2\n",
    "        elif operator == '/':\n",
    "            result = num1 / num2\n",
    "\n",
    "    finally:\n",
    "        return f\"{num1} {operator} {num2} = {result}\"\n",
    "\n",
    "calculator()\n"
   ]
  },
  {
   "cell_type": "markdown",
   "metadata": {},
   "source": [
    "Q. We have a dictionary of cricket teams and number points\n",
    "\n",
    "- points_table = {\n",
    "    'India' : 8,\n",
    "    'Pakistan' : 6,\n",
    "    'South Africa' : 5,\n",
    "    'Bangaladesh' : 4,\n",
    "    'Netherland' : 2,\n",
    "    'Bermuda' : 2\n",
    "    }\n",
    "\n",
    "Ask user to enter country name: - \n",
    "- If country exists inthe dictionary, print its points with proper message\n",
    "- If not, print \"No such country in points table\".\n",
    "- It will ask user again and again untill it finds name in dictionary."
   ]
  },
  {
   "cell_type": "code",
   "execution_count": null,
   "metadata": {},
   "outputs": [
    {
     "name": "stdout",
     "output_type": "stream",
     "text": [
      "No such country\n",
      "No such country\n",
      "No such country\n"
     ]
    }
   ],
   "source": [
    "points_table = {\n",
    "    'India' : 8,\n",
    "    'Pakistan' : 6,\n",
    "    'South Africa' : 5,\n",
    "    'Bangaladesh' : 4,\n",
    "    'Netherland' : 2,\n",
    "    'Bermuda' : 2\n",
    "    }\n",
    "\n",
    "while True:\n",
    "    try:\n",
    "        name = input(\"Enter the country name: \").lower()\n",
    "        points = points_table[name]\n",
    "        print(f\"{name} has got {points} points\")\n",
    "\n",
    "    except:\n",
    "        print(\"No such country\")\n",
    "    else:\n",
    "        break\n"
   ]
  },
  {
   "cell_type": "markdown",
   "metadata": {},
   "source": [
    "Define a function named give_me_a_key\n",
    "- It will ask user to press any keynon the kwyboard.\n",
    "- If the key that the user pressed is:\n",
    "    1. a number: - return its square.\n",
    "    2. a letter: - return its capital form\n",
    "    3. neither a number nor a letter: - return the key itself.\n",
    "\n",
    "Note: - use only try - except - else - finally here.\n",
    "- Why this question?\n",
    "    to get better understanding of exception handling in python."
   ]
  },
  {
   "cell_type": "code",
   "execution_count": 2,
   "metadata": {},
   "outputs": [
    {
     "data": {
      "text/plain": [
       "'D'"
      ]
     },
     "execution_count": 2,
     "metadata": {},
     "output_type": "execute_result"
    }
   ],
   "source": [
    "def give_ma_a_key():\n",
    "    key = input(\"Press a key on keyboard: \")\n",
    "    result = ''\n",
    "    try:\n",
    "        num = int(key)\n",
    "    except:\n",
    "        if key.isalpha():\n",
    "            result = key.upper()\n",
    "        else:\n",
    "            result = key\n",
    "\n",
    "    else:\n",
    "        result = num ** 2\n",
    "    finally:\n",
    "        return result\n",
    "    \n",
    "give_ma_a_key()\n",
    "\n",
    "\n",
    "\n"
   ]
  },
  {
   "cell_type": "code",
   "execution_count": null,
   "metadata": {},
   "outputs": [
    {
     "name": "stdout",
     "output_type": "stream",
     "text": [
      "Use of assert statement\n",
      "Your age is :  20\n"
     ]
    },
    {
     "ename": "AssertionError",
     "evalue": "Age can't ne negetive",
     "output_type": "error",
     "traceback": [
      "\u001b[1;31m---------------------------------------------------------------------------\u001b[0m",
      "\u001b[1;31mAssertionError\u001b[0m                            Traceback (most recent call last)",
      "Cell \u001b[1;32mIn[3], line 8\u001b[0m\n\u001b[0;32m      5\u001b[0m     \u001b[38;5;28mprint\u001b[39m(\u001b[38;5;124m\"\u001b[39m\u001b[38;5;124mYour age is : \u001b[39m\u001b[38;5;124m\"\u001b[39m, age)\n\u001b[0;32m      7\u001b[0m ValidAge(\u001b[38;5;241m20\u001b[39m)\n\u001b[1;32m----> 8\u001b[0m \u001b[43mValidAge\u001b[49m\u001b[43m(\u001b[49m\u001b[38;5;241;43m-\u001b[39;49m\u001b[38;5;241;43m10\u001b[39;49m\u001b[43m)\u001b[49m\n",
      "Cell \u001b[1;32mIn[3], line 4\u001b[0m, in \u001b[0;36mValidAge\u001b[1;34m(age)\u001b[0m\n\u001b[0;32m      3\u001b[0m \u001b[38;5;28;01mdef\u001b[39;00m \u001b[38;5;21mValidAge\u001b[39m(age):\n\u001b[1;32m----> 4\u001b[0m     \u001b[38;5;28;01massert\u001b[39;00m(age \u001b[38;5;241m>\u001b[39m\u001b[38;5;241m=\u001b[39m \u001b[38;5;241m0\u001b[39m), \u001b[38;5;124m\"\u001b[39m\u001b[38;5;124mAge can\u001b[39m\u001b[38;5;124m'\u001b[39m\u001b[38;5;124mt ne negetive\u001b[39m\u001b[38;5;124m\"\u001b[39m\n\u001b[0;32m      5\u001b[0m     \u001b[38;5;28mprint\u001b[39m(\u001b[38;5;124m\"\u001b[39m\u001b[38;5;124mYour age is : \u001b[39m\u001b[38;5;124m\"\u001b[39m, age)\n",
      "\u001b[1;31mAssertionError\u001b[0m: Age can't ne negetive"
     ]
    }
   ],
   "source": [
    "print(\"Use of assert statement\")\n",
    "\n",
    "def ValidAge(age):\n",
    "    assert(age >= 0), \"Age can't be negetive\"\n",
    "    print(\"Your age is : \", age)\n",
    "\n",
    "ValidAge(20)\n",
    "ValidAge(-10)\n",
    "\n"
   ]
  },
  {
   "cell_type": "markdown",
   "metadata": {},
   "source": [
    "Q. \"Every syntax error is an exception but everyexception can't be a syntax error.\" - Justify it"
   ]
  },
  {
   "cell_type": "markdown",
   "metadata": {},
   "source": [
    "Q. When are the following built-in exceptions raised?\n",
    "\n",
    "Give examples to support your answers.\n",
    "- a) ImportError\n",
    "- b) IOError"
   ]
  },
  {
   "cell_type": "markdown",
   "metadata": {},
   "source": [
    "Q. What is the use of a raise statement?\n",
    "\n",
    "Write a code to accept two numbers and display the quotient. Appropriate exception should be raised if the user enters the second number(denominator) as zero(0)"
   ]
  },
  {
   "cell_type": "markdown",
   "metadata": {},
   "source": [
    "Q. Define the following:\n",
    "\n",
    "- A) Exception Handling\n",
    "- B) Throwing an exception\n",
    "- C) Catching an exception"
   ]
  },
  {
   "cell_type": "markdown",
   "metadata": {},
   "source": [
    "Q. Explain catching exceptions using try and except block - Write ZeroDivisionError Example and explain it"
   ]
  },
  {
   "cell_type": "code",
   "execution_count": null,
   "metadata": {},
   "outputs": [],
   "source": []
  },
  {
   "cell_type": "code",
   "execution_count": null,
   "metadata": {},
   "outputs": [],
   "source": [
    "\"\"\n"
   ]
  }
 ],
 "metadata": {
  "kernelspec": {
   "display_name": "Python 3",
   "language": "python",
   "name": "python3"
  },
  "language_info": {
   "codemirror_mode": {
    "name": "ipython",
    "version": 3
   },
   "file_extension": ".py",
   "mimetype": "text/x-python",
   "name": "python",
   "nbconvert_exporter": "python",
   "pygments_lexer": "ipython3",
   "version": "3.12.7"
  }
 },
 "nbformat": 4,
 "nbformat_minor": 2
}
