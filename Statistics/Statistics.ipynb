{
  "nbformat": 4,
  "nbformat_minor": 0,
  "metadata": {
    "colab": {
      "provenance": []
    },
    "kernelspec": {
      "name": "python3",
      "display_name": "Python 3"
    },
    "language_info": {
      "name": "python"
    }
  },
  "cells": [
    {
      "cell_type": "code",
      "execution_count": null,
      "metadata": {
        "id": "MSQPfUCuYXjK"
      },
      "outputs": [],
      "source": [
        "import numpy as np\n",
        "import matplotlib.pyplot as plt\n",
        "%matplotlib inline\n"
      ]
    },
    {
      "cell_type": "code",
      "source": [
        "dataset = [1,23,4,32,23,3,6,4,65,7,8,9,1000,3,5,7]"
      ],
      "metadata": {
        "id": "YCb1Guffv_E8"
      },
      "execution_count": null,
      "outputs": []
    },
    {
      "cell_type": "code",
      "source": [
        "outliers = []\n",
        "def detect_outliers(data):\n",
        "  thresold = 3\n",
        "  mean = np.mean(data)\n",
        "  standard_deviation = np.std(data)\n",
        "\n",
        "  for i in data:\n",
        "    z_score = (i - mean) / standard_deviation\n",
        "    if np.abs(z_score) > thresold:\n",
        "      outliers.append(i)\n",
        "  return outliers"
      ],
      "metadata": {
        "id": "ZE2J6VBUwQa8"
      },
      "execution_count": null,
      "outputs": []
    },
    {
      "cell_type": "code",
      "source": [
        "op = detect_outliers(dataset)\n",
        "op"
      ],
      "metadata": {
        "colab": {
          "base_uri": "https://localhost:8080/"
        },
        "id": "Fa9sjL8pwww3",
        "outputId": "2462e3f6-1a6e-4cfe-b14a-d18b58fa9364"
      },
      "execution_count": null,
      "outputs": [
        {
          "output_type": "execute_result",
          "data": {
            "text/plain": [
              "[1000]"
            ]
          },
          "metadata": {},
          "execution_count": 11
        }
      ]
    },
    {
      "cell_type": "code",
      "source": [
        "quantile1, quantile3 = np.percentile(dataset, [25,75])\n",
        "print(quantile1, quantile3)"
      ],
      "metadata": {
        "colab": {
          "base_uri": "https://localhost:8080/"
        },
        "id": "oS1KMwlEypcI",
        "outputId": "d50a8b2b-6801-45c1-9a54-de4912564634"
      },
      "execution_count": null,
      "outputs": [
        {
          "output_type": "stream",
          "name": "stdout",
          "text": [
            "4.0 23.0\n"
          ]
        }
      ]
    },
    {
      "cell_type": "code",
      "source": [
        "iqr = quantile3 - quantile1\n",
        "iqr"
      ],
      "metadata": {
        "colab": {
          "base_uri": "https://localhost:8080/"
        },
        "id": "hLaePqYa18Dk",
        "outputId": "d239e91f-f336-4a2c-cd20-c71b0a9a270d"
      },
      "execution_count": null,
      "outputs": [
        {
          "output_type": "execute_result",
          "data": {
            "text/plain": [
              "19.0"
            ]
          },
          "metadata": {},
          "execution_count": 13
        }
      ]
    },
    {
      "cell_type": "code",
      "source": [
        "lower_bound = quantile1 - (1.5 * iqr)\n",
        "upper_bound = quantile3 + (1.5 * iqr)\n",
        "print(lower_bound, upper_bound)"
      ],
      "metadata": {
        "colab": {
          "base_uri": "https://localhost:8080/"
        },
        "id": "cM0kwnPs2JS0",
        "outputId": "4215f342-e521-4102-fba7-cc44b09d87e5"
      },
      "execution_count": null,
      "outputs": [
        {
          "output_type": "stream",
          "name": "stdout",
          "text": [
            "-24.5 51.5\n"
          ]
        }
      ]
    },
    {
      "cell_type": "code",
      "source": [],
      "metadata": {
        "id": "4pB23DYz2yjL"
      },
      "execution_count": null,
      "outputs": []
    },
    {
      "cell_type": "code",
      "source": [],
      "metadata": {
        "id": "xsC7Wolf9q3B"
      },
      "execution_count": null,
      "outputs": []
    },
    {
      "cell_type": "code",
      "source": [],
      "metadata": {
        "id": "mB6P9ziz9q0A"
      },
      "execution_count": null,
      "outputs": []
    },
    {
      "cell_type": "code",
      "source": [],
      "metadata": {
        "id": "pNvwB9bh9qwg"
      },
      "execution_count": null,
      "outputs": []
    },
    {
      "cell_type": "code",
      "source": [
        "import pandas as pd\n",
        "df = pd.read_csv('https://raw.githubusercontent.com/rasbt/pattern_classification/master/data/wine_data.csv', header= None, usecols=[0,1,2])\n",
        "df.columns = ['Class label', 'Alcohol', 'Malic acid']\n",
        "df.head()"
      ],
      "metadata": {
        "colab": {
          "base_uri": "https://localhost:8080/",
          "height": 206
        },
        "id": "lppMMYX29qsh",
        "outputId": "3ebf9960-077e-4687-9998-51310ff93943"
      },
      "execution_count": null,
      "outputs": [
        {
          "output_type": "execute_result",
          "data": {
            "text/plain": [
              "   Class label  Alcohol  Malic acid\n",
              "0            1    14.23        1.71\n",
              "1            1    13.20        1.78\n",
              "2            1    13.16        2.36\n",
              "3            1    14.37        1.95\n",
              "4            1    13.24        2.59"
            ],
            "text/html": [
              "\n",
              "  <div id=\"df-223cdf9f-ac5a-4de6-bb2c-e8e38e21c13c\" class=\"colab-df-container\">\n",
              "    <div>\n",
              "<style scoped>\n",
              "    .dataframe tbody tr th:only-of-type {\n",
              "        vertical-align: middle;\n",
              "    }\n",
              "\n",
              "    .dataframe tbody tr th {\n",
              "        vertical-align: top;\n",
              "    }\n",
              "\n",
              "    .dataframe thead th {\n",
              "        text-align: right;\n",
              "    }\n",
              "</style>\n",
              "<table border=\"1\" class=\"dataframe\">\n",
              "  <thead>\n",
              "    <tr style=\"text-align: right;\">\n",
              "      <th></th>\n",
              "      <th>Class label</th>\n",
              "      <th>Alcohol</th>\n",
              "      <th>Malic acid</th>\n",
              "    </tr>\n",
              "  </thead>\n",
              "  <tbody>\n",
              "    <tr>\n",
              "      <th>0</th>\n",
              "      <td>1</td>\n",
              "      <td>14.23</td>\n",
              "      <td>1.71</td>\n",
              "    </tr>\n",
              "    <tr>\n",
              "      <th>1</th>\n",
              "      <td>1</td>\n",
              "      <td>13.20</td>\n",
              "      <td>1.78</td>\n",
              "    </tr>\n",
              "    <tr>\n",
              "      <th>2</th>\n",
              "      <td>1</td>\n",
              "      <td>13.16</td>\n",
              "      <td>2.36</td>\n",
              "    </tr>\n",
              "    <tr>\n",
              "      <th>3</th>\n",
              "      <td>1</td>\n",
              "      <td>14.37</td>\n",
              "      <td>1.95</td>\n",
              "    </tr>\n",
              "    <tr>\n",
              "      <th>4</th>\n",
              "      <td>1</td>\n",
              "      <td>13.24</td>\n",
              "      <td>2.59</td>\n",
              "    </tr>\n",
              "  </tbody>\n",
              "</table>\n",
              "</div>\n",
              "    <div class=\"colab-df-buttons\">\n",
              "\n",
              "  <div class=\"colab-df-container\">\n",
              "    <button class=\"colab-df-convert\" onclick=\"convertToInteractive('df-223cdf9f-ac5a-4de6-bb2c-e8e38e21c13c')\"\n",
              "            title=\"Convert this dataframe to an interactive table.\"\n",
              "            style=\"display:none;\">\n",
              "\n",
              "  <svg xmlns=\"http://www.w3.org/2000/svg\" height=\"24px\" viewBox=\"0 -960 960 960\">\n",
              "    <path d=\"M120-120v-720h720v720H120Zm60-500h600v-160H180v160Zm220 220h160v-160H400v160Zm0 220h160v-160H400v160ZM180-400h160v-160H180v160Zm440 0h160v-160H620v160ZM180-180h160v-160H180v160Zm440 0h160v-160H620v160Z\"/>\n",
              "  </svg>\n",
              "    </button>\n",
              "\n",
              "  <style>\n",
              "    .colab-df-container {\n",
              "      display:flex;\n",
              "      gap: 12px;\n",
              "    }\n",
              "\n",
              "    .colab-df-convert {\n",
              "      background-color: #E8F0FE;\n",
              "      border: none;\n",
              "      border-radius: 50%;\n",
              "      cursor: pointer;\n",
              "      display: none;\n",
              "      fill: #1967D2;\n",
              "      height: 32px;\n",
              "      padding: 0 0 0 0;\n",
              "      width: 32px;\n",
              "    }\n",
              "\n",
              "    .colab-df-convert:hover {\n",
              "      background-color: #E2EBFA;\n",
              "      box-shadow: 0px 1px 2px rgba(60, 64, 67, 0.3), 0px 1px 3px 1px rgba(60, 64, 67, 0.15);\n",
              "      fill: #174EA6;\n",
              "    }\n",
              "\n",
              "    .colab-df-buttons div {\n",
              "      margin-bottom: 4px;\n",
              "    }\n",
              "\n",
              "    [theme=dark] .colab-df-convert {\n",
              "      background-color: #3B4455;\n",
              "      fill: #D2E3FC;\n",
              "    }\n",
              "\n",
              "    [theme=dark] .colab-df-convert:hover {\n",
              "      background-color: #434B5C;\n",
              "      box-shadow: 0px 1px 3px 1px rgba(0, 0, 0, 0.15);\n",
              "      filter: drop-shadow(0px 1px 2px rgba(0, 0, 0, 0.3));\n",
              "      fill: #FFFFFF;\n",
              "    }\n",
              "  </style>\n",
              "\n",
              "    <script>\n",
              "      const buttonEl =\n",
              "        document.querySelector('#df-223cdf9f-ac5a-4de6-bb2c-e8e38e21c13c button.colab-df-convert');\n",
              "      buttonEl.style.display =\n",
              "        google.colab.kernel.accessAllowed ? 'block' : 'none';\n",
              "\n",
              "      async function convertToInteractive(key) {\n",
              "        const element = document.querySelector('#df-223cdf9f-ac5a-4de6-bb2c-e8e38e21c13c');\n",
              "        const dataTable =\n",
              "          await google.colab.kernel.invokeFunction('convertToInteractive',\n",
              "                                                    [key], {});\n",
              "        if (!dataTable) return;\n",
              "\n",
              "        const docLinkHtml = 'Like what you see? Visit the ' +\n",
              "          '<a target=\"_blank\" href=https://colab.research.google.com/notebooks/data_table.ipynb>data table notebook</a>'\n",
              "          + ' to learn more about interactive tables.';\n",
              "        element.innerHTML = '';\n",
              "        dataTable['output_type'] = 'display_data';\n",
              "        await google.colab.output.renderOutput(dataTable, element);\n",
              "        const docLink = document.createElement('div');\n",
              "        docLink.innerHTML = docLinkHtml;\n",
              "        element.appendChild(docLink);\n",
              "      }\n",
              "    </script>\n",
              "  </div>\n",
              "\n",
              "\n",
              "<div id=\"df-d72d327f-f78d-45bf-a64a-e3846d5aca97\">\n",
              "  <button class=\"colab-df-quickchart\" onclick=\"quickchart('df-d72d327f-f78d-45bf-a64a-e3846d5aca97')\"\n",
              "            title=\"Suggest charts\"\n",
              "            style=\"display:none;\">\n",
              "\n",
              "<svg xmlns=\"http://www.w3.org/2000/svg\" height=\"24px\"viewBox=\"0 0 24 24\"\n",
              "     width=\"24px\">\n",
              "    <g>\n",
              "        <path d=\"M19 3H5c-1.1 0-2 .9-2 2v14c0 1.1.9 2 2 2h14c1.1 0 2-.9 2-2V5c0-1.1-.9-2-2-2zM9 17H7v-7h2v7zm4 0h-2V7h2v10zm4 0h-2v-4h2v4z\"/>\n",
              "    </g>\n",
              "</svg>\n",
              "  </button>\n",
              "\n",
              "<style>\n",
              "  .colab-df-quickchart {\n",
              "      --bg-color: #E8F0FE;\n",
              "      --fill-color: #1967D2;\n",
              "      --hover-bg-color: #E2EBFA;\n",
              "      --hover-fill-color: #174EA6;\n",
              "      --disabled-fill-color: #AAA;\n",
              "      --disabled-bg-color: #DDD;\n",
              "  }\n",
              "\n",
              "  [theme=dark] .colab-df-quickchart {\n",
              "      --bg-color: #3B4455;\n",
              "      --fill-color: #D2E3FC;\n",
              "      --hover-bg-color: #434B5C;\n",
              "      --hover-fill-color: #FFFFFF;\n",
              "      --disabled-bg-color: #3B4455;\n",
              "      --disabled-fill-color: #666;\n",
              "  }\n",
              "\n",
              "  .colab-df-quickchart {\n",
              "    background-color: var(--bg-color);\n",
              "    border: none;\n",
              "    border-radius: 50%;\n",
              "    cursor: pointer;\n",
              "    display: none;\n",
              "    fill: var(--fill-color);\n",
              "    height: 32px;\n",
              "    padding: 0;\n",
              "    width: 32px;\n",
              "  }\n",
              "\n",
              "  .colab-df-quickchart:hover {\n",
              "    background-color: var(--hover-bg-color);\n",
              "    box-shadow: 0 1px 2px rgba(60, 64, 67, 0.3), 0 1px 3px 1px rgba(60, 64, 67, 0.15);\n",
              "    fill: var(--button-hover-fill-color);\n",
              "  }\n",
              "\n",
              "  .colab-df-quickchart-complete:disabled,\n",
              "  .colab-df-quickchart-complete:disabled:hover {\n",
              "    background-color: var(--disabled-bg-color);\n",
              "    fill: var(--disabled-fill-color);\n",
              "    box-shadow: none;\n",
              "  }\n",
              "\n",
              "  .colab-df-spinner {\n",
              "    border: 2px solid var(--fill-color);\n",
              "    border-color: transparent;\n",
              "    border-bottom-color: var(--fill-color);\n",
              "    animation:\n",
              "      spin 1s steps(1) infinite;\n",
              "  }\n",
              "\n",
              "  @keyframes spin {\n",
              "    0% {\n",
              "      border-color: transparent;\n",
              "      border-bottom-color: var(--fill-color);\n",
              "      border-left-color: var(--fill-color);\n",
              "    }\n",
              "    20% {\n",
              "      border-color: transparent;\n",
              "      border-left-color: var(--fill-color);\n",
              "      border-top-color: var(--fill-color);\n",
              "    }\n",
              "    30% {\n",
              "      border-color: transparent;\n",
              "      border-left-color: var(--fill-color);\n",
              "      border-top-color: var(--fill-color);\n",
              "      border-right-color: var(--fill-color);\n",
              "    }\n",
              "    40% {\n",
              "      border-color: transparent;\n",
              "      border-right-color: var(--fill-color);\n",
              "      border-top-color: var(--fill-color);\n",
              "    }\n",
              "    60% {\n",
              "      border-color: transparent;\n",
              "      border-right-color: var(--fill-color);\n",
              "    }\n",
              "    80% {\n",
              "      border-color: transparent;\n",
              "      border-right-color: var(--fill-color);\n",
              "      border-bottom-color: var(--fill-color);\n",
              "    }\n",
              "    90% {\n",
              "      border-color: transparent;\n",
              "      border-bottom-color: var(--fill-color);\n",
              "    }\n",
              "  }\n",
              "</style>\n",
              "\n",
              "  <script>\n",
              "    async function quickchart(key) {\n",
              "      const quickchartButtonEl =\n",
              "        document.querySelector('#' + key + ' button');\n",
              "      quickchartButtonEl.disabled = true;  // To prevent multiple clicks.\n",
              "      quickchartButtonEl.classList.add('colab-df-spinner');\n",
              "      try {\n",
              "        const charts = await google.colab.kernel.invokeFunction(\n",
              "            'suggestCharts', [key], {});\n",
              "      } catch (error) {\n",
              "        console.error('Error during call to suggestCharts:', error);\n",
              "      }\n",
              "      quickchartButtonEl.classList.remove('colab-df-spinner');\n",
              "      quickchartButtonEl.classList.add('colab-df-quickchart-complete');\n",
              "    }\n",
              "    (() => {\n",
              "      let quickchartButtonEl =\n",
              "        document.querySelector('#df-d72d327f-f78d-45bf-a64a-e3846d5aca97 button');\n",
              "      quickchartButtonEl.style.display =\n",
              "        google.colab.kernel.accessAllowed ? 'block' : 'none';\n",
              "    })();\n",
              "  </script>\n",
              "</div>\n",
              "\n",
              "    </div>\n",
              "  </div>\n"
            ],
            "application/vnd.google.colaboratory.intrinsic+json": {
              "type": "dataframe",
              "variable_name": "df",
              "summary": "{\n  \"name\": \"df\",\n  \"rows\": 178,\n  \"fields\": [\n    {\n      \"column\": \"Class label\",\n      \"properties\": {\n        \"dtype\": \"number\",\n        \"std\": 0,\n        \"min\": 1,\n        \"max\": 3,\n        \"num_unique_values\": 3,\n        \"samples\": [\n          1,\n          2,\n          3\n        ],\n        \"semantic_type\": \"\",\n        \"description\": \"\"\n      }\n    },\n    {\n      \"column\": \"Alcohol\",\n      \"properties\": {\n        \"dtype\": \"number\",\n        \"std\": 0.8118265380058575,\n        \"min\": 11.03,\n        \"max\": 14.83,\n        \"num_unique_values\": 126,\n        \"samples\": [\n          11.62,\n          13.64,\n          13.69\n        ],\n        \"semantic_type\": \"\",\n        \"description\": \"\"\n      }\n    },\n    {\n      \"column\": \"Malic acid\",\n      \"properties\": {\n        \"dtype\": \"number\",\n        \"std\": 1.1171460976144627,\n        \"min\": 0.74,\n        \"max\": 5.8,\n        \"num_unique_values\": 133,\n        \"samples\": [\n          1.21,\n          2.83,\n          1.8\n        ],\n        \"semantic_type\": \"\",\n        \"description\": \"\"\n      }\n    }\n  ]\n}"
            }
          },
          "metadata": {},
          "execution_count": 15
        }
      ]
    },
    {
      "cell_type": "code",
      "source": [
        "from sklearn.preprocessing import MinMaxScaler\n",
        "scaling = MinMaxScaler()\n",
        "scaling.fit_transform(df[['Alcohol', 'Malic acid']])"
      ],
      "metadata": {
        "colab": {
          "base_uri": "https://localhost:8080/"
        },
        "id": "e7rDTix3-Fc5",
        "outputId": "3b2ce72f-e866-4b68-d9aa-a36bbaacad87"
      },
      "execution_count": null,
      "outputs": [
        {
          "output_type": "execute_result",
          "data": {
            "text/plain": [
              "array([[0.84210526, 0.1916996 ],\n",
              "       [0.57105263, 0.2055336 ],\n",
              "       [0.56052632, 0.3201581 ],\n",
              "       [0.87894737, 0.23913043],\n",
              "       [0.58157895, 0.36561265],\n",
              "       [0.83421053, 0.20158103],\n",
              "       [0.88421053, 0.22332016],\n",
              "       [0.79736842, 0.27865613],\n",
              "       [1.        , 0.17786561],\n",
              "       [0.74473684, 0.12055336],\n",
              "       [0.80789474, 0.28063241],\n",
              "       [0.81315789, 0.14624506],\n",
              "       [0.71578947, 0.19565217],\n",
              "       [0.97894737, 0.19565217],\n",
              "       [0.88157895, 0.22332016],\n",
              "       [0.68421053, 0.21146245],\n",
              "       [0.86052632, 0.23320158],\n",
              "       [0.73684211, 0.16403162],\n",
              "       [0.83157895, 0.16798419],\n",
              "       [0.68684211, 0.46640316],\n",
              "       [0.79736842, 0.17588933],\n",
              "       [0.5       , 0.60474308],\n",
              "       [0.70526316, 0.22134387],\n",
              "       [0.47894737, 0.16996047],\n",
              "       [0.65      , 0.21146245],\n",
              "       [0.53157895, 0.25889328],\n",
              "       [0.62105263, 0.20355731],\n",
              "       [0.59736842, 0.19367589],\n",
              "       [0.74736842, 0.22924901],\n",
              "       [0.78684211, 0.18577075],\n",
              "       [0.71052632, 0.15019763],\n",
              "       [0.67105263, 0.18181818],\n",
              "       [0.69736842, 0.21541502],\n",
              "       [0.71842105, 0.15612648],\n",
              "       [0.65263158, 0.20948617],\n",
              "       [0.64473684, 0.21146245],\n",
              "       [0.59210526, 0.17786561],\n",
              "       [0.53157895, 0.1798419 ],\n",
              "       [0.53684211, 0.15019763],\n",
              "       [0.83947368, 0.64229249],\n",
              "       [0.66578947, 0.1916996 ],\n",
              "       [0.62631579, 0.61264822],\n",
              "       [0.75      , 0.22727273],\n",
              "       [0.58157895, 0.64031621],\n",
              "       [0.53157895, 0.20355731],\n",
              "       [0.83684211, 0.65217391],\n",
              "       [0.88157895, 0.56324111],\n",
              "       [0.75526316, 0.18577075],\n",
              "       [0.80789474, 0.25296443],\n",
              "       [0.76578947, 0.19565217],\n",
              "       [0.53157895, 0.19565217],\n",
              "       [0.73684211, 0.1798419 ],\n",
              "       [0.73421053, 0.19960474],\n",
              "       [0.72105263, 0.22924901],\n",
              "       [0.71315789, 0.18379447],\n",
              "       [0.66578947, 0.19565217],\n",
              "       [0.83947368, 0.18972332],\n",
              "       [0.59473684, 0.243083  ],\n",
              "       [0.70789474, 0.13636364],\n",
              "       [0.35263158, 0.03952569],\n",
              "       [0.34210526, 0.07114625],\n",
              "       [0.42368421, 0.12252964],\n",
              "       [0.69473684, 0.10079051],\n",
              "       [0.35263158, 0.0770751 ],\n",
              "       [0.3       , 0.14031621],\n",
              "       [0.35263158, 0.09288538],\n",
              "       [0.54736842, 0.05335968],\n",
              "       [0.35263158, 0.08498024],\n",
              "       [0.60789474, 0.03952569],\n",
              "       [0.31052632, 0.08893281],\n",
              "       [0.33157895, 0.17193676],\n",
              "       [0.74473684, 0.15217391],\n",
              "       [0.64736842, 0.18181818],\n",
              "       [0.51578947, 0.18379447],\n",
              "       [0.24473684, 0.06916996],\n",
              "       [0.16578947, 0.22529644],\n",
              "       [0.52631579, 0.03162055],\n",
              "       [0.21315789, 0.42490119],\n",
              "       [0.34210526, 0.04940711],\n",
              "       [0.43947368, 0.61857708],\n",
              "       [0.25526316, 0.03557312],\n",
              "       [0.44473684, 0.21146245],\n",
              "       [0.27631579, 0.0770751 ],\n",
              "       [0.53157895, 0.61660079],\n",
              "       [0.21315789, 0.02964427],\n",
              "       [0.43157895, 0.04743083],\n",
              "       [0.29736842, 0.17193676],\n",
              "       [0.16315789, 0.18379447],\n",
              "       [0.16052632, 0.26086957],\n",
              "       [0.27631579, 0.11660079],\n",
              "       [0.27631579, 0.21541502],\n",
              "       [0.25526316, 0.15217391],\n",
              "       [0.43684211, 0.15612648],\n",
              "       [0.33157895, 0.41304348],\n",
              "       [0.15526316, 0.24703557],\n",
              "       [0.37894737, 0.1541502 ],\n",
              "       [0.20526316, 0.27272727],\n",
              "       [0.33157895, 0.13241107],\n",
              "       [0.35263158, 0.06521739],\n",
              "       [0.33157895, 0.48023715],\n",
              "       [0.27631579, 0.26482213],\n",
              "       [0.41315789, 0.11857708],\n",
              "       [0.34473684, 0.33794466],\n",
              "       [0.20789474, 0.19367589],\n",
              "       [0.38947368, 0.19565217],\n",
              "       [0.36578947, 0.35770751],\n",
              "       [0.32105263, 0.19565217],\n",
              "       [0.44473684, 0.19960474],\n",
              "       [0.31315789, 0.10869565],\n",
              "       [0.15263158, 0.12055336],\n",
              "       [0.11315789, 0.59288538],\n",
              "       [0.39210526, 0.33399209],\n",
              "       [0.19210526, 0.38339921],\n",
              "       [0.1       , 0.        ],\n",
              "       [0.27631579, 0.1284585 ],\n",
              "       [0.        , 0.15217391],\n",
              "       [0.20789474, 0.14426877],\n",
              "       [0.36578947, 0.17193676],\n",
              "       [0.45789474, 0.53162055],\n",
              "       [0.25526316, 0.53162055],\n",
              "       [0.11052632, 0.32806324],\n",
              "       [0.13947368, 0.25889328],\n",
              "       [0.36578947, 0.72924901],\n",
              "       [0.53157895, 1.        ],\n",
              "       [0.22105263, 0.7055336 ],\n",
              "       [0.27368421, 0.28063241],\n",
              "       [0.36842105, 0.15612648],\n",
              "       [0.2       , 0.27470356],\n",
              "       [0.35263158, 0.17588933],\n",
              "       [0.26578947, 0.70355731],\n",
              "       [0.48157895, 0.12055336],\n",
              "       [0.48684211, 0.44466403],\n",
              "       [0.46842105, 0.31027668],\n",
              "       [0.43947368, 0.55533597],\n",
              "       [0.38947368, 0.09881423],\n",
              "       [0.41315789, 0.33992095],\n",
              "       [0.32105263, 0.78656126],\n",
              "       [0.39473684, 0.94268775],\n",
              "       [0.64736842, 0.56324111],\n",
              "       [0.47631579, 0.43873518],\n",
              "       [0.5       , 0.40909091],\n",
              "       [0.61315789, 0.35968379],\n",
              "       [0.65526316, 0.48023715],\n",
              "       [0.68157895, 0.83201581],\n",
              "       [0.32105263, 0.62055336],\n",
              "       [0.56052632, 0.55928854],\n",
              "       [0.75      , 0.84980237],\n",
              "       [0.48421053, 0.76482213],\n",
              "       [0.60263158, 0.49407115],\n",
              "       [0.53947368, 0.62450593],\n",
              "       [0.65      , 0.47035573],\n",
              "       [0.46315789, 0.38142292],\n",
              "       [0.54736842, 0.22924901],\n",
              "       [0.57894737, 0.50592885],\n",
              "       [0.40789474, 0.10869565],\n",
              "       [0.56315789, 0.87944664],\n",
              "       [0.73947368, 0.66798419],\n",
              "       [0.37368421, 0.45256917],\n",
              "       [0.87105263, 0.18577075],\n",
              "       [0.64473684, 0.18379447],\n",
              "       [0.35      , 0.61067194],\n",
              "       [0.7       , 0.49802372],\n",
              "       [0.47894737, 0.5       ],\n",
              "       [0.50789474, 0.53557312],\n",
              "       [0.72368421, 0.39920949],\n",
              "       [0.71052632, 0.71541502],\n",
              "       [0.63684211, 0.58498024],\n",
              "       [0.47105263, 0.51976285],\n",
              "       [0.67105263, 0.36363636],\n",
              "       [0.62368421, 0.76284585],\n",
              "       [0.30789474, 0.45256917],\n",
              "       [0.45789474, 0.32608696],\n",
              "       [0.82368421, 0.34980237],\n",
              "       [0.70526316, 0.97035573],\n",
              "       [0.62368421, 0.62648221],\n",
              "       [0.58947368, 0.69960474],\n",
              "       [0.56315789, 0.36561265],\n",
              "       [0.81578947, 0.66403162]])"
            ]
          },
          "metadata": {},
          "execution_count": 16
        }
      ]
    },
    {
      "cell_type": "code",
      "source": [],
      "metadata": {
        "id": "Mlf6WHgj_S5A"
      },
      "execution_count": null,
      "outputs": []
    },
    {
      "cell_type": "code",
      "source": [],
      "metadata": {
        "id": "l6Zb0KKxAXz0"
      },
      "execution_count": null,
      "outputs": []
    },
    {
      "cell_type": "code",
      "source": [],
      "metadata": {
        "id": "8I5re6adAXw7"
      },
      "execution_count": null,
      "outputs": []
    },
    {
      "cell_type": "code",
      "source": [],
      "metadata": {
        "id": "nR3DFhmWAXtt"
      },
      "execution_count": null,
      "outputs": []
    },
    {
      "cell_type": "code",
      "source": [
        "from sklearn.preprocessing import StandardScaler\n",
        "scaling = StandardScaler()\n",
        "scaling.fit_transform(df[['Alcohol', 'Malic acid']])"
      ],
      "metadata": {
        "colab": {
          "base_uri": "https://localhost:8080/"
        },
        "id": "lSJOD15DAXp9",
        "outputId": "2bc5bd6b-eaf6-4098-bc6c-70a9d860f02b"
      },
      "execution_count": null,
      "outputs": [
        {
          "output_type": "execute_result",
          "data": {
            "text/plain": [
              "array([[ 1.51861254, -0.5622498 ],\n",
              "       [ 0.24628963, -0.49941338],\n",
              "       [ 0.19687903,  0.02123125],\n",
              "       [ 1.69154964, -0.34681064],\n",
              "       [ 0.29570023,  0.22769377],\n",
              "       [ 1.48155459, -0.51736664],\n",
              "       [ 1.71625494, -0.4186237 ],\n",
              "       [ 1.3086175 , -0.16727801],\n",
              "       [ 2.25977152, -0.62508622],\n",
              "       [ 1.0615645 , -0.88540853],\n",
              "       [ 1.3580281 , -0.15830138],\n",
              "       [ 1.38273339, -0.76871232],\n",
              "       [ 0.92568536, -0.54429654],\n",
              "       [ 2.16095032, -0.54429654],\n",
              "       [ 1.70390229, -0.4186237 ],\n",
              "       [ 0.77745356, -0.47248348],\n",
              "       [ 1.60508109, -0.37374054],\n",
              "       [ 1.02450655, -0.68792264],\n",
              "       [ 1.46920194, -0.66996938],\n",
              "       [ 0.78980621,  0.68550197],\n",
              "       [ 1.3086175 , -0.63406285],\n",
              "       [-0.08723191,  1.31386618],\n",
              "       [ 0.87627476, -0.42760033],\n",
              "       [-0.18605311, -0.66099274],\n",
              "       [ 0.61686912, -0.47248348],\n",
              "       [ 0.06099988, -0.25704433],\n",
              "       [ 0.48098997, -0.50839001],\n",
              "       [ 0.36981612, -0.55327317],\n",
              "       [ 1.07391715, -0.3916938 ],\n",
              "       [ 1.2592069 , -0.58917969],\n",
              "       [ 0.90098006, -0.75075906],\n",
              "       [ 0.71569031, -0.60713296],\n",
              "       [ 0.83921681, -0.45453022],\n",
              "       [ 0.93803801, -0.72382916],\n",
              "       [ 0.62922177, -0.48146012],\n",
              "       [ 0.59216382, -0.47248348],\n",
              "       [ 0.34511082, -0.62508622],\n",
              "       [ 0.06099988, -0.61610959],\n",
              "       [ 0.08570518, -0.75075906],\n",
              "       [ 1.50625989,  1.48442217],\n",
              "       [ 0.69098501, -0.5622498 ],\n",
              "       [ 0.50569527,  1.3497727 ],\n",
              "       [ 1.0862698 , -0.40067043],\n",
              "       [ 0.29570023,  1.47544554],\n",
              "       [ 0.06099988, -0.50839001],\n",
              "       [ 1.49390724,  1.52930533],\n",
              "       [ 1.70390229,  1.12535692],\n",
              "       [ 1.1109751 , -0.58917969],\n",
              "       [ 1.3580281 , -0.28397422],\n",
              "       [ 1.1603857 , -0.54429654],\n",
              "       [ 0.06099988, -0.54429654],\n",
              "       [ 1.02450655, -0.61610959],\n",
              "       [ 1.01215391, -0.52634327],\n",
              "       [ 0.95039066, -0.3916938 ],\n",
              "       [ 0.91333271, -0.59815632],\n",
              "       [ 0.69098501, -0.54429654],\n",
              "       [ 1.50625989, -0.57122643],\n",
              "       [ 0.35746347, -0.32885738],\n",
              "       [ 0.88862741, -0.81359548],\n",
              "       [-0.77898029, -1.25345042],\n",
              "       [-0.82839089, -1.10982432],\n",
              "       [-0.44545875, -0.8764319 ],\n",
              "       [ 0.82686416, -0.97517485],\n",
              "       [-0.77898029, -1.08289442],\n",
              "       [-1.02603329, -0.79564222],\n",
              "       [-0.77898029, -1.01108137],\n",
              "       [ 0.13511578, -1.190614  ],\n",
              "       [-0.77898029, -1.0469879 ],\n",
              "       [ 0.41922672, -1.25345042],\n",
              "       [-0.97662269, -1.02903463],\n",
              "       [-0.87780149, -0.65201611],\n",
              "       [ 1.0615645 , -0.74178243],\n",
              "       [ 0.60451647, -0.60713296],\n",
              "       [-0.01311602, -0.59815632],\n",
              "       [-1.28543893, -1.11880095],\n",
              "       [-1.65601842, -0.40964706],\n",
              "       [ 0.03629458, -1.28935695],\n",
              "       [-1.43367073,  0.49699271],\n",
              "       [-0.82839089, -1.20856726],\n",
              "       [-0.37134286,  1.3767026 ],\n",
              "       [-1.23602833, -1.27140368],\n",
              "       [-0.34663756, -0.47248348],\n",
              "       [-1.13720713, -1.08289442],\n",
              "       [ 0.06099988,  1.36772596],\n",
              "       [-1.43367073, -1.29833358],\n",
              "       [-0.4084008 , -1.21754389],\n",
              "       [-1.03838594, -0.65201611],\n",
              "       [-1.66837107, -0.59815632],\n",
              "       [-1.68072372, -0.2480677 ],\n",
              "       [-1.13720713, -0.90336179],\n",
              "       [-1.13720713, -0.45453022],\n",
              "       [-1.23602833, -0.74178243],\n",
              "       [-0.38369551, -0.72382916],\n",
              "       [-0.87780149,  0.44313292],\n",
              "       [-1.70542902, -0.31090412],\n",
              "       [-0.6554538 , -0.7328058 ],\n",
              "       [-1.47072867, -0.19420791],\n",
              "       [-0.87780149, -0.83154874],\n",
              "       [-0.77898029, -1.13675421],\n",
              "       [-0.87780149,  0.74833839],\n",
              "       [-1.13720713, -0.23011443],\n",
              "       [-0.49486935, -0.89438516],\n",
              "       [-0.81603824,  0.10202093],\n",
              "       [-1.45837602, -0.55327317],\n",
              "       [-0.6060432 , -0.54429654],\n",
              "       [-0.71721705,  0.19178724],\n",
              "       [-0.92721209, -0.54429654],\n",
              "       [-0.34663756, -0.52634327],\n",
              "       [-0.96427004, -0.93926832],\n",
              "       [-1.71778167, -0.88540853],\n",
              "       [-1.90307141,  1.26000639],\n",
              "       [-0.59369055,  0.08406767],\n",
              "       [-1.53249192,  0.30848345],\n",
              "       [-1.96483466, -1.43298305],\n",
              "       [-1.13720713, -0.849502  ],\n",
              "       [-2.43423535, -0.74178243],\n",
              "       [-1.45837602, -0.77768895],\n",
              "       [-0.71721705, -0.65201611],\n",
              "       [-0.28487431,  0.98173081],\n",
              "       [-1.23602833,  0.98173081],\n",
              "       [-1.91542406,  0.05713777],\n",
              "       [-1.77954492, -0.25704433],\n",
              "       [-0.71721705,  1.87939396],\n",
              "       [ 0.06099988,  3.10919247],\n",
              "       [-1.39661278,  1.77167438],\n",
              "       [-1.14955978, -0.15830138],\n",
              "       [-0.7048644 , -0.72382916],\n",
              "       [-1.49543397, -0.18523128],\n",
              "       [-0.77898029, -0.63406285],\n",
              "       [-1.18661773,  1.76269775],\n",
              "       [-0.17370046, -0.88540853],\n",
              "       [-0.14899516,  0.58675903],\n",
              "       [-0.23546371, -0.02365191],\n",
              "       [-0.37134286,  1.08945039],\n",
              "       [-0.6060432 , -0.98415148],\n",
              "       [-0.49486935,  0.11099756],\n",
              "       [-0.92721209,  2.13971627],\n",
              "       [-0.5813379 ,  2.84887015],\n",
              "       [ 0.60451647,  1.12535692],\n",
              "       [-0.19840576,  0.55982913],\n",
              "       [-0.08723191,  0.42517966],\n",
              "       [ 0.44393202,  0.20076388],\n",
              "       [ 0.64157442,  0.74833839],\n",
              "       [ 0.76510091,  2.34617879],\n",
              "       [-0.92721209,  1.38567923],\n",
              "       [ 0.19687903,  1.10740365],\n",
              "       [ 1.0862698 ,  2.42696848],\n",
              "       [-0.16134781,  2.04097332],\n",
              "       [ 0.39452142,  0.81117481],\n",
              "       [ 0.09805783,  1.40363249],\n",
              "       [ 0.61686912,  0.70345524],\n",
              "       [-0.26016901,  0.29950682],\n",
              "       [ 0.13511578, -0.3916938 ],\n",
              "       [ 0.28334758,  0.8650346 ],\n",
              "       [-0.51957465, -0.93926832],\n",
              "       [ 0.20923168,  2.56161795],\n",
              "       [ 1.0368592 ,  1.60111838],\n",
              "       [-0.6801591 ,  0.62266555],\n",
              "       [ 1.65449169, -0.58917969],\n",
              "       [ 0.59216382, -0.59815632],\n",
              "       [-0.79133294,  1.34079607],\n",
              "       [ 0.85156946,  0.82912808],\n",
              "       [-0.18605311,  0.83810471],\n",
              "       [-0.05017396,  0.99968408],\n",
              "       [ 0.96274331,  0.3802965 ],\n",
              "       [ 0.90098006,  1.81655754],\n",
              "       [ 0.55510587,  1.22409986],\n",
              "       [-0.22311106,  0.92787102],\n",
              "       [ 0.71569031,  0.21871714],\n",
              "       [ 0.49334262,  2.03199669],\n",
              "       [-0.98897534,  0.62266555],\n",
              "       [-0.28487431,  0.04816114],\n",
              "       [ 1.43214399,  0.15588072],\n",
              "       [ 0.87627476,  2.974543  ],\n",
              "       [ 0.49334262,  1.41260912],\n",
              "       [ 0.33275817,  1.74474449],\n",
              "       [ 0.20923168,  0.22769377],\n",
              "       [ 1.39508604,  1.58316512]])"
            ]
          },
          "metadata": {},
          "execution_count": 17
        }
      ]
    },
    {
      "cell_type": "code",
      "source": [
        "class Student:\n",
        "    def __init__(self, name, marks):\n",
        "        self.name = name\n",
        "        self.marks = marks\n",
        "\n",
        "    def Display(self):\n",
        "        print(self.name, self.marks)\n",
        "\n",
        "    def Change_data(self):\n",
        "        self.name = input('Enter your name: ')\n",
        "        self.marks = int(input('Enter your marks: '))\n",
        "\n",
        "\n"
      ],
      "metadata": {
        "id": "RZTqpKtxAtNE"
      },
      "execution_count": null,
      "outputs": []
    },
    {
      "cell_type": "code",
      "source": [
        "std1 = Student('Riya', 98)\n",
        "std2 = Student('Manta', 89)\n",
        "std3 = Student('Stuti', 88)\n",
        "\n"
      ],
      "metadata": {
        "id": "QVZpmAsV-rKV"
      },
      "execution_count": null,
      "outputs": []
    },
    {
      "cell_type": "code",
      "source": [
        "print(std2.__dict__)\n",
        "\n"
      ],
      "metadata": {
        "colab": {
          "base_uri": "https://localhost:8080/"
        },
        "id": "l3eyj2vn-spt",
        "outputId": "7078faec-1e97-4783-bebe-4dff2012e31d"
      },
      "execution_count": null,
      "outputs": [
        {
          "output_type": "stream",
          "name": "stdout",
          "text": [
            "{'name': 'Manta', 'marks': 89}\n"
          ]
        }
      ]
    },
    {
      "cell_type": "code",
      "source": [
        "std2.Change_data()\n"
      ],
      "metadata": {
        "colab": {
          "base_uri": "https://localhost:8080/"
        },
        "id": "xsR3ExZD-uUF",
        "outputId": "3648b1a8-b4d8-435b-8f8a-a26196c49dc4"
      },
      "execution_count": null,
      "outputs": [
        {
          "name": "stdout",
          "output_type": "stream",
          "text": [
            "Enter your name: padma\n",
            "Enter your marks: 34\n"
          ]
        }
      ]
    },
    {
      "cell_type": "code",
      "source": [
        "print(std2.__dict__)"
      ],
      "metadata": {
        "colab": {
          "base_uri": "https://localhost:8080/"
        },
        "id": "ISM8kZTm-vvc",
        "outputId": "941edd65-11b3-4153-b806-acf3bfdd80ba"
      },
      "execution_count": null,
      "outputs": [
        {
          "output_type": "stream",
          "name": "stdout",
          "text": [
            "{'name': 'padma', 'marks': 34}\n"
          ]
        }
      ]
    },
    {
      "cell_type": "code",
      "source": [],
      "metadata": {
        "id": "rrmxUtTH-7cT"
      },
      "execution_count": null,
      "outputs": []
    }
  ]
}