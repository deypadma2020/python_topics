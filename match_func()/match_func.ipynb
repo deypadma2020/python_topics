{
 "cells": [
  {
   "cell_type": "code",
   "execution_count": null,
   "metadata": {},
   "outputs": [],
   "source": [
    "class Calculator:\n",
    "    def __init__(self):\n",
    "        self.__num1 = 0\n",
    "        self.__num2 = 0\n",
    "\n",
    "    def input_numbers(self):\n",
    "        while True:\n",
    "            try:\n",
    "                return float(input(\"Enter a number: \"))\n",
    "            except Exception as e:\n",
    "                print(f\"{e} \\nInvalid Integer! Please enter a valid Integer.\")\n",
    "\n",
    "    def add(self):\n",
    "        return self.__num1 + self.__num2\n",
    "    \n",
    "    def sub(self):\n",
    "        return self.__num1 - self.__num2\n",
    "    \n",
    "    def mul(self):\n",
    "        return self.__num1 * self.__num2\n",
    "    \n",
    "    def div(self ):\n",
    "        try: \n",
    "            return round(self.__num1 / self.__num2, 4)\n",
    "        except Exception as e:\n",
    "            print(f\"{e} \\nZero division is not allowed\")\n",
    "            return None\n",
    "        \n",
    "    def calculation(self, __operator):\n",
    "        match __operator:\n",
    "            case '+':\n",
    "                return self.add()\n",
    "            case '-':\n",
    "                return self.sub()\n",
    "            case '*':\n",
    "                return self.mul()\n",
    "            case '/':\n",
    "                return self.div()\n",
    "            case _:\n",
    "                print(\"Invalid operator! Please choose from available list of operator.\")\n",
    "                return None\n"
   ]
  },
  {
   "cell_type": "code",
   "execution_count": null,
   "metadata": {},
   "outputs": [],
   "source": [
    "def calculation(self, __operator):\n",
    "    match __operator:\n",
    "        case '+':\n",
    "            return self.add()\n",
    "        case '-':\n",
    "            return self.sub()\n",
    "        case '*':\n",
    "            return self.mul()\n",
    "        case '/':\n",
    "            return self.div()\n",
    "        case _:\n",
    "            print(\"Invalid operator! Please choose from available list of operator.\")\n",
    "            return None\n"
   ]
  },
  {
   "cell_type": "code",
   "execution_count": null,
   "metadata": {},
   "outputs": [],
   "source": [
    "cal = Calculator()\n"
   ]
  },
  {
   "cell_type": "code",
   "execution_count": null,
   "metadata": {},
   "outputs": [],
   "source": []
  },
  {
   "cell_type": "code",
   "execution_count": null,
   "metadata": {},
   "outputs": [],
   "source": [
    "emp = {\"Name\" : 'Moni', \"Age\" : 26, \"Salary\" : 25000.6}\n",
    "\n",
    "match emp:\n",
    "    # case {\"Name\" : n, \"Age\" : m, **rem}:\n",
    "    #     print(f\"Name : {n}\")\n",
    "\n",
    "    # case {\"Name\" : n, \"Age\" : m, **rem}:\n",
    "    #     print(f\"Name : {n} and {rem}\")\n",
    "\n",
    "    case {\"Name\" : n, \"Age\" : m, **_}:\n",
    "        print(f\"Name : {n}\")\n",
    "\n",
    "    case _:\n",
    "        \"doesn't exists\"\n"
   ]
  },
  {
   "cell_type": "code",
   "execution_count": null,
   "metadata": {},
   "outputs": [],
   "source": [
    "emp = {\"Name\" : 'Moni', \"Age\" : 26, \"Salary\" : 25000.6}\n",
    "\n",
    "match emp:\n",
    "\n",
    "    case {\"Name\" : n, \"Age\" : m, **_rest}:\n",
    "        print(f\"Name : {n} and {_rest}\")\n",
    "\n",
    "    case _:\n",
    "        \"doesn't exists\"\n"
   ]
  },
  {
   "cell_type": "code",
   "execution_count": 1,
   "metadata": {},
   "outputs": [
    {
     "name": "stdout",
     "output_type": "stream",
     "text": [
      "Positive\n"
     ]
    }
   ],
   "source": [
    "def runMatch():\n",
    "    num = int(input(\"Enter a number: \"))\n",
    "\n",
    "    match num:\n",
    "\n",
    "        case num if num > 0:\n",
    "            print(\"Positive\")\n",
    "        case num if num < 0:\n",
    "            print(\"Negative\")\n",
    "        case _:\n",
    "            print(\"Zero\")\n",
    "\n",
    "runMatch()\n"
   ]
  },
  {
   "cell_type": "code",
   "execution_count": null,
   "metadata": {},
   "outputs": [],
   "source": [
    "def runMatch():\n",
    "    mystr = input(\"Enter a string input: \")\n",
    "    i = int(input(\"Enter the index id you want to check: \"))\n",
    "\n",
    "    match(mystr[i]):\n",
    "        case \"w\":\n",
    "            print(\"lowerCase\")\n",
    "        case \"W\":\n",
    "            print(\"UpperCase\")\n",
    "        case _:\n",
    "            print(\"Charecter not matched\")\n",
    "\n",
    "runMatch()\n"
   ]
  },
  {
   "cell_type": "code",
   "execution_count": 2,
   "metadata": {},
   "outputs": [],
   "source": [
    "def runMatch(mystr):\n",
    "\n",
    "    match mystr:\n",
    "        case ['a']:\n",
    "            print('a')\n",
    "        case ['a', *b]:\n",
    "            print(f\"a and {b}\")\n",
    "        case [*a, 'e'] | (*a, 'e'):\n",
    "            print(f\"{a} and e\")\n",
    "        case _:\n",
    "            print(\"No Data\")\n",
    "\n"
   ]
  },
  {
   "cell_type": "code",
   "execution_count": 3,
   "metadata": {},
   "outputs": [
    {
     "name": "stdout",
     "output_type": "stream",
     "text": [
      "No Data\n"
     ]
    }
   ],
   "source": [
    "runMatch([])\n"
   ]
  },
  {
   "cell_type": "code",
   "execution_count": 4,
   "metadata": {},
   "outputs": [
    {
     "name": "stdout",
     "output_type": "stream",
     "text": [
      "a\n"
     ]
    }
   ],
   "source": [
    "runMatch(['a'])\n"
   ]
  },
  {
   "cell_type": "code",
   "execution_count": 5,
   "metadata": {},
   "outputs": [
    {
     "name": "stdout",
     "output_type": "stream",
     "text": [
      "a and ['b']\n"
     ]
    }
   ],
   "source": [
    "runMatch(['a', 'b'])\n"
   ]
  },
  {
   "cell_type": "code",
   "execution_count": 6,
   "metadata": {},
   "outputs": [
    {
     "name": "stdout",
     "output_type": "stream",
     "text": [
      "['b', 'c', 'd'] and e\n"
     ]
    }
   ],
   "source": [
    "runMatch(['b', 'c', 'd', 'e'])\n"
   ]
  },
  {
   "cell_type": "code",
   "execution_count": 2,
   "metadata": {},
   "outputs": [],
   "source": [
    "from dataclasses import dataclass\n",
    "\n",
    "@dataclass\n",
    "class Person:\n",
    "    name : str\n",
    "    age : int\n",
    "    salary : int\n",
    "\n",
    "@dataclass\n",
    "class Programmer:\n",
    "    name : str\n",
    "    language : str\n",
    "    framework : str\n",
    "\n",
    "def runMatch(instance):\n",
    "\n",
    "    match instance:\n",
    "        case Programmer(name, language, framework):\n",
    "            print(f\"Name: {name}, Language: {language}, Framework: {framework}\")\n",
    "\n",
    "        case Programmer(name, language):\n",
    "            print(f\"Name : {name}, Language : {language}\")\n",
    "\n",
    "        case Person('Vishal', age = 5, salary = 15000):\n",
    "            print(f'Name : {name}')\n",
    "\n",
    "        case Programmer(name, language, framework):\n",
    "            print(f\"Name : {name}, Language : {language}, Framework : {framework}\")\n",
    "\n",
    "        case Person():\n",
    "            print(\"He is just a person!\")\n",
    "\n",
    "        case _:\n",
    "            print(\"This person is nothing!\")\n",
    "\n"
   ]
  },
  {
   "cell_type": "code",
   "execution_count": 3,
   "metadata": {},
   "outputs": [],
   "source": [
    "programmer1 = Programmer('Souvik', 'Python', 'Django')\n",
    "programmer2 = Programmer('Soukarjya', 'C++', None)\n",
    "programmer3 = Programmer('Sankalp', 'JavaScript', 'React')\n",
    "\n",
    "person1 = Person('Vishal', 5, 100)\n"
   ]
  },
  {
   "cell_type": "code",
   "execution_count": 4,
   "metadata": {},
   "outputs": [
    {
     "name": "stdout",
     "output_type": "stream",
     "text": [
      "Name: Souvik, Language: Python, Framework: Django\n"
     ]
    }
   ],
   "source": [
    "runMatch(programmer1)\n"
   ]
  },
  {
   "cell_type": "code",
   "execution_count": 5,
   "metadata": {},
   "outputs": [
    {
     "name": "stdout",
     "output_type": "stream",
     "text": [
      "Name: Soukarjya, Language: C++, Framework: None\n"
     ]
    }
   ],
   "source": [
    "runMatch(programmer2)\n"
   ]
  },
  {
   "cell_type": "code",
   "execution_count": 6,
   "metadata": {},
   "outputs": [
    {
     "name": "stdout",
     "output_type": "stream",
     "text": [
      "Name: Sankalp, Language: JavaScript, Framework: React\n"
     ]
    }
   ],
   "source": [
    "runMatch(programmer3)\n"
   ]
  },
  {
   "cell_type": "code",
   "execution_count": 18,
   "metadata": {},
   "outputs": [
    {
     "name": "stdout",
     "output_type": "stream",
     "text": [
      "He is just a person!\n"
     ]
    }
   ],
   "source": [
    "runMatch(person1)\n"
   ]
  },
  {
   "cell_type": "code",
   "execution_count": null,
   "metadata": {},
   "outputs": [],
   "source": []
  }
 ],
 "metadata": {
  "kernelspec": {
   "display_name": "Python 3",
   "language": "python",
   "name": "python3"
  },
  "language_info": {
   "codemirror_mode": {
    "name": "ipython",
    "version": 3
   },
   "file_extension": ".py",
   "mimetype": "text/x-python",
   "name": "python",
   "nbconvert_exporter": "python",
   "pygments_lexer": "ipython3",
   "version": "3.12.7"
  }
 },
 "nbformat": 4,
 "nbformat_minor": 2
}
