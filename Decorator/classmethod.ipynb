{
 "cells": [
  {
   "cell_type": "code",
   "execution_count": 6,
   "id": "e5ad0ffc",
   "metadata": {},
   "outputs": [
    {
     "name": "stdout",
     "output_type": "stream",
     "text": [
      "20\n",
      "30\n"
     ]
    }
   ],
   "source": [
    "class Person:\n",
    "\n",
    "    def __init__(self, name, population):\n",
    "        self.name = name\n",
    "        self.population = population\n",
    "\n",
    "\n",
    "    def get_population(self):\n",
    "        return self.population\n",
    "\n",
    "# Usage\n",
    "p1 = Person(\"Alice\", 20)\n",
    "p2 = Person(\"Bob\", 30)\n",
    "\n",
    "print(p1.get_population())\n",
    "print(p2.get_population())\n"
   ]
  },
  {
   "cell_type": "code",
   "execution_count": 13,
   "id": "cf4a40a0",
   "metadata": {},
   "outputs": [
    {
     "name": "stdout",
     "output_type": "stream",
     "text": [
      "20\n",
      "30\n",
      "0\n",
      "0\n",
      "20\n",
      "30\n",
      "1\n",
      "1\n",
      "20\n",
      "30\n",
      "2\n",
      "2\n"
     ]
    }
   ],
   "source": [
    "class Person:\n",
    "    global_p = 0\n",
    "\n",
    "    def __init__(self, name, population):\n",
    "        self.name = name\n",
    "        self.population = population\n",
    "\n",
    "    @property\n",
    "    def get_population(self):\n",
    "        return self.population\n",
    "\n",
    "    @classmethod\n",
    "    def gp(cls):\n",
    "        cls.global_p +=1\n",
    "\n",
    "\n",
    "# Usage\n",
    "p1 = Person(\"Alice\", 20)\n",
    "p2 = Person(\"Bob\", 30)\n",
    "\n",
    "print(p1.get_population)\n",
    "print(p2.get_population)\n",
    "\n",
    "print(p1.global_p)\n",
    "print(p2.global_p)\n",
    "\n",
    "p1.gp()\n",
    "\n",
    "print(p1.get_population)\n",
    "print(p2.get_population)\n",
    "\n",
    "print(p1.global_p)\n",
    "print(p2.global_p)\n",
    "\n",
    "Person.gp()\n",
    "\n",
    "print(p1.get_population)\n",
    "print(p2.get_population)\n",
    "\n",
    "print(p1.global_p)\n",
    "print(p2.global_p)\n"
   ]
  },
  {
   "cell_type": "code",
   "execution_count": null,
   "id": "3c40dda0",
   "metadata": {},
   "outputs": [],
   "source": []
  }
 ],
 "metadata": {
  "kernelspec": {
   "display_name": "Python 3",
   "language": "python",
   "name": "python3"
  },
  "language_info": {
   "codemirror_mode": {
    "name": "ipython",
    "version": 3
   },
   "file_extension": ".py",
   "mimetype": "text/x-python",
   "name": "python",
   "nbconvert_exporter": "python",
   "pygments_lexer": "ipython3",
   "version": "3.12.11"
  }
 },
 "nbformat": 4,
 "nbformat_minor": 5
}
