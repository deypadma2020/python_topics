{
 "cells": [
  {
   "cell_type": "code",
   "execution_count": null,
   "metadata": {},
   "outputs": [],
   "source": [
    "def log_function(func):\n",
    "    # def wrapper(*args, **kwargs):\n",
    "    #     print(f\"Calling {func.__name__}\")\n",
    "    #     return func(*args, **kwargs)\n",
    "    a=10\n",
    "    b=5\n",
    "    print(\"sum is 15\")\n",
    "    # return a\n",
    "\n",
    "class MyClass:\n",
    "    @log_function\n",
    "    def my_method(self):\n",
    "        print(\"Executing my_method\")\n",
    "\n",
    "obj = MyClass()\n",
    "obj.my_method()  # Output: \"Calling my_method\" followed by \"Executing my_method\"\n"
   ]
  },
  {
   "cell_type": "code",
   "execution_count": null,
   "metadata": {},
   "outputs": [],
   "source": [
    "# def log_function(func):\n",
    "#     def wrapper(*args, **kwargs):\n",
    "#         print(f\"Calling {func.__name__}\")\n",
    "#         return func(*args, **kwargs)\n",
    "#     return wrapper\n",
    "\n",
    "class MyClass:\n",
    "    def log_function(func):\n",
    "        def wrapper(*args, **kwargs):\n",
    "            print(f\"Calling {func.__name__}\")\n",
    "            return func(*args, **kwargs)\n",
    "        return wrapper\n",
    "    def my_method(self):\n",
    "        print(\"Executing my_method\")\n",
    "\n",
    "obj = MyClass()\n",
    "obj.my_method()  # Output: \"Calling my_method\" followed by \"Executing my_method\"\n"
   ]
  },
  {
   "cell_type": "code",
   "execution_count": null,
   "metadata": {},
   "outputs": [],
   "source": []
  }
 ],
 "metadata": {
  "kernelspec": {
   "display_name": "Python 3",
   "language": "python",
   "name": "python3"
  },
  "language_info": {
   "name": "python",
   "version": "3.12.7"
  }
 },
 "nbformat": 4,
 "nbformat_minor": 2
}
