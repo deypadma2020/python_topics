{
  "cells": [
    {
      "cell_type": "code",
      "execution_count": null,
      "metadata": {
        "id": "p1xo2nRdX463"
      },
      "outputs": [],
      "source": [
        "# import pandas as pd\n",
        "# df = pd.read_csv('/content/sentimentdataset.csv')\n",
        "# df.shape\n",
        "\n",
        "# import requests\n",
        "# import pandas as pd\n",
        "# from html import unescape\n",
        "# comment = unescape(raw_comment).replace('<br>', '\\n').replace('<br />', '\\n')\n"
      ]
    },
    {
      "cell_type": "code",
      "execution_count": null,
      "metadata": {
        "colab": {
          "base_uri": "https://localhost:8080/"
        },
        "collapsed": true,
        "id": "6N4_SNoQyLFC",
        "outputId": "340ec90c-ffd4-446a-b31e-9a28c403a93a"
      },
      "outputs": [],
      "source": [
        "from flask import Flask, render_template, request, jsonify\n",
        "import requests\n",
        "from bs4 import BeautifulSoup as bs\n",
        "from urllib.request import urlopen as uReq\n",
        "\n",
        "serach_string = 'HowtoPowerBI'\n",
        "url = \"https://www.youtube.com/results?search_query=\" + serach_string\n",
        "response = requests.get(url)\n",
        "soup = bs(response.text, 'html.parser')\n",
        "print(soup.prettify())\n"
      ]
    },
    {
      "cell_type": "code",
      "execution_count": null,
      "metadata": {
        "colab": {
          "base_uri": "https://localhost:8080/"
        },
        "id": "J3yf8RaHtmlk",
        "outputId": "bd806e41-eab7-47f1-93ed-5193d6ed047e"
      },
      "outputs": [
        {
          "name": "stdout",
          "output_type": "stream",
          "text": [
            "False\n"
          ]
        }
      ],
      "source": [
        "a= \"UCb1GdqUqArXMQ3RS86lqqOw\"\n",
        "b= 'UCjWY5hREA6FFYrthD0rZNIw'\n",
        "\n",
        "if a==b:\n",
        "  print(True)\n",
        "else:\n",
        "  print(False)\n",
        "\n",
        "# a is b\n"
      ]
    },
    {
      "cell_type": "markdown",
      "metadata": {
        "id": "M0609RhQ3jFI"
      },
      "source": [
        "### finding all the video ids"
      ]
    },
    {
      "cell_type": "code",
      "execution_count": null,
      "metadata": {
        "id": "PuCWm8Miz0jJ"
      },
      "outputs": [],
      "source": [
        "import requests\n",
        "\n",
        "API_KEY = \"\"\n",
        "CHANNEL_ID = \"UC6g1VsTNgW1ntdW97wwL6nw\"\n",
        "\n",
        "url = f\"https://www.googleapis.com/youtube/v3/channels?part=contentDetails&id={CHANNEL_ID}&key={API_KEY}\"\n"
      ]
    },
    {
      "cell_type": "code",
      "execution_count": null,
      "metadata": {
        "colab": {
          "base_uri": "https://localhost:8080/"
        },
        "id": "OItbyfFIz0gB",
        "outputId": "beb93deb-355e-4002-f7ac-4f7158a5ed93"
      },
      "outputs": [
        {
          "data": {
            "text/plain": [
              "{'kind': 'youtube#channelListResponse',\n",
              " 'etag': 'kjwvR9UwL4Rsbktgd-lWVvpPlZA',\n",
              " 'pageInfo': {'totalResults': 1, 'resultsPerPage': 5},\n",
              " 'items': [{'kind': 'youtube#channel',\n",
              "   'etag': '_rDUHobHsYIDmA1-XtE2pJfqzvY',\n",
              "   'id': 'UC6g1VsTNgW1ntdW97wwL6nw',\n",
              "   'contentDetails': {'relatedPlaylists': {'likes': '',\n",
              "     'uploads': 'UU6g1VsTNgW1ntdW97wwL6nw'}}}]}"
            ]
          },
          "execution_count": 5,
          "metadata": {},
          "output_type": "execute_result"
        }
      ],
      "source": [
        "response = requests.get(url).json()\n",
        "response\n"
      ]
    },
    {
      "cell_type": "code",
      "execution_count": null,
      "metadata": {
        "colab": {
          "base_uri": "https://localhost:8080/",
          "height": 35
        },
        "id": "2M71kFH1z0bx",
        "outputId": "819287e1-2d01-4f83-933b-6c0ceea06491"
      },
      "outputs": [
        {
          "data": {
            "application/vnd.google.colaboratory.intrinsic+json": {
              "type": "string"
            },
            "text/plain": [
              "'UU6g1VsTNgW1ntdW97wwL6nw'"
            ]
          },
          "execution_count": 6,
          "metadata": {},
          "output_type": "execute_result"
        }
      ],
      "source": [
        "uploads_playlist_id = response['items'][0]['contentDetails']['relatedPlaylists']['uploads']\n",
        "uploads_playlist_id\n"
      ]
    },
    {
      "cell_type": "code",
      "execution_count": null,
      "metadata": {
        "id": "YYvZDxgqBP9C"
      },
      "outputs": [],
      "source": [
        "video_ids = []\n",
        "next_page_token = None\n"
      ]
    },
    {
      "cell_type": "code",
      "execution_count": null,
      "metadata": {
        "colab": {
          "base_uri": "https://localhost:8080/"
        },
        "id": "vkcq6S_cBP6C",
        "outputId": "dcab7db5-994c-4708-de03-20001d6fa581"
      },
      "outputs": [
        {
          "name": "stdout",
          "output_type": "stream",
          "text": [
            "{'kind': 'youtube#playlistItemListResponse', 'etag': '-bzH0ai33bnJSPt8_GfMDskIfGA', 'items': [{'kind': 'youtube#playlistItem', 'etag': 'rkmnL3x89iPyELAq9sZqduihkXI', 'id': 'VVU2ZzFWc1ROZ1cxbnRkVzk3d3dMNm53LnhYM2VfTklZRlVJ', 'snippet': {'publishedAt': '2025-02-28T08:00:52Z', 'channelId': 'UC6g1VsTNgW1ntdW97wwL6nw', 'title': 'How to make the PERFECT Vertical Pareto Chart | Power BI Guide', 'description': \"Learn how to make a Pareto Chart INSIDE a Power BI Matrix or Table. This is a tutorial that goes through the code, and how to implement this for 5 different Pareto Scenarios. \\n\\nThis video follows the original Pareto Analysis Video, which is highly recommended to watch first. \\nhttps://www.youtube.com/watch?v=UWxaUT6HUvo&t=396s&ab_channel=PowerBIPark\\n\\n⏱️ Timestamps\\n00:00 Intro\\n01:36 The 5 Different Pareto Charts\\n03:40 Pareto 1 - Dynamic Colors\\n04:51 The SVG Code\\n16:38 Pareto 2 - Static Others Group\\n19:57 Pareto 3 - Static Grouping\\n23:01 Pareto 4 - Dynamic Others Group\\n25:50 Pareto 5 - Dynamic Grouping\\n\\n\\nLearn from My Classroom\\n✅https://www.skool.com/powerbipark/about\\n\\nStarter PBIX\\nhttps://github.com/PowerBIPark/PowerBITutorials\\n\\n✍️Kurt's original Github\\nhttps://github.com/data-goblin/powerbi-macguyver-toolbox/blob/main/tabular-editor-scripts/csharp-scripts/add-svg-measures/bullet-chart/add-svg-bullet-chart-conditional-bar.csx\\n\\n🟦Follow Me\\nhttps://www.linkedin.com/in/injae-park/\\n\\nThanks for taking the time to watch this video. \\nHave questions? Let me know in the comments below!\\n#PowerBI #KPICards #DataVisualization #BusinessIntelligence\", 'thumbnails': {'default': {'url': 'https://i.ytimg.com/vi/xX3e_NIYFUI/default.jpg', 'width': 120, 'height': 90}, 'medium': {'url': 'https://i.ytimg.com/vi/xX3e_NIYFUI/mqdefault.jpg', 'width': 320, 'height': 180}, 'high': {'url': 'https://i.ytimg.com/vi/xX3e_NIYFUI/hqdefault.jpg', 'width': 480, 'height': 360}, 'standard': {'url': 'https://i.ytimg.com/vi/xX3e_NIYFUI/sddefault.jpg', 'width': 640, 'height': 480}, 'maxres': {'url': 'https://i.ytimg.com/vi/xX3e_NIYFUI/maxresdefault.jpg', 'width': 1280, 'height': 720}}, 'channelTitle': 'Power BI Park', 'playlistId': 'UU6g1VsTNgW1ntdW97wwL6nw', 'position': 0, 'resourceId': {'kind': 'youtube#video', 'videoId': 'xX3e_NIYFUI'}, 'videoOwnerChannelTitle': 'Power BI Park', 'videoOwnerChannelId': 'UC6g1VsTNgW1ntdW97wwL6nw'}}, {'kind': 'youtube#playlistItem', 'etag': 'Np4i8iBZTrAQTiFu3wqFB_oZ4Ag', 'id': 'VVU2ZzFWc1ROZ1cxbnRkVzk3d3dMNm53LnJiV1psbFhNR1lV', 'snippet': {'publishedAt': '2025-01-30T14:51:20Z', 'channelId': 'UC6g1VsTNgW1ntdW97wwL6nw', 'title': 'Power BI KPI Cards for Beginners | Step-by-Step Tutorial (2025)', 'description': 'Learn how to create 18 different Power BI KPI Cards in this beginner-friendly tutorial! Perfect for data analysts, business users, or anyone looking to level up their Power BI dashboards.  \\n\\nIn this video, you’ll learn:\\n✅ 18 unique KPI card designs\\n✅ How to use DAX formulas for dynamic KPIs  \\n✅ Pro tips for formatting & interactivity  \\n✅ Best practices for clear data storytelling  \\n\\n⏱️ Timestamps: \\n0:00 - Intro to KPI Cards  \\n8:30 - Line Chart with Max/Min Point\\n15:55 - Stacked Column Chart w/ conditional formatting\\n17:42 - Current Year & Past Year Line Chart\\n19:40 - Line & Area Chart\\n22:18 - Columns & Line Chart\\n23:40 - Bar-In-Bar Charts\\n25:34 - Bar-In-Bar Charts w/ Conditional Formatting\\n29:30 - Column Chart with Past Year Markers\\n32:00 - Simple Bullet Chart\\n35:03 - Horizontal Dumbbell Chart\\n43:15 - Vertical Dumbbell Chart\\n45:04 - Rounded Delta Chart\\n47:04 - Column Chart with dot indicators\\n52:15 - Even-Rounder Dumbbell Chart\\n54:30 - Delta Chart with Error Bars\\n56:05 - Tornado Chart / Butterfly Chart\\n\\nJOIN MY POWER BI CLASSROOM\\n✅https://www.skool.com/powerbipark/about\\n\\nSTARTER PBIX:\\nhttps://github.com/PowerBIPark/PowerBITutorials\\n\\n💡 Power BI Native Bar Chart Tutorial: \\nhttps://www.youtube.com/watch?v=Z8D60cn-ecE&list=PLrHF9RH5-_uuWyV0Ebr7MV_9Qj_4T5t9N&ab_channel=PowerBIPark\\n\\n🟦FOLLOW ME:\\n https://www.linkedin.com/in/injae-park/\\n\\nThanks for taking the time to watch this video. \\nHave questions? Let me know in the comments below!\\n#PowerBI #KPICards #DataVisualization #BusinessIntelligence', 'thumbnails': {'default': {'url': 'https://i.ytimg.com/vi/rbWZllXMGYU/default.jpg', 'width': 120, 'height': 90}, 'medium': {'url': 'https://i.ytimg.com/vi/rbWZllXMGYU/mqdefault.jpg', 'width': 320, 'height': 180}, 'high': {'url': 'https://i.ytimg.com/vi/rbWZllXMGYU/hqdefault.jpg', 'width': 480, 'height': 360}, 'standard': {'url': 'https://i.ytimg.com/vi/rbWZllXMGYU/sddefault.jpg', 'width': 640, 'height': 480}, 'maxres': {'url': 'https://i.ytimg.com/vi/rbWZllXMGYU/maxresdefault.jpg', 'width': 1280, 'height': 720}}, 'channelTitle': 'Power BI Park', 'playlistId': 'UU6g1VsTNgW1ntdW97wwL6nw', 'position': 1, 'resourceId': {'kind': 'youtube#video', 'videoId': 'rbWZllXMGYU'}, 'videoOwnerChannelTitle': 'Power BI Park', 'videoOwnerChannelId': 'UC6g1VsTNgW1ntdW97wwL6nw'}}, {'kind': 'youtube#playlistItem', 'etag': 'EG7cyaXAHuB6of1bfmRehzc_TVw', 'id': 'VVU2ZzFWc1ROZ1cxbnRkVzk3d3dMNm53Llo4RDYwY24tZWNF', 'snippet': {'publishedAt': '2025-01-23T16:43:25Z', 'channelId': 'UC6g1VsTNgW1ntdW97wwL6nw', 'title': 'Power BI Bar Charts: From A - Z  in 1 Hour | Step by Step Tutorial', 'description': \"Discover how to maximize your Power BI Bar Charts from scratch in this beginner-friendly tutorial. Learn how to create any type of bar chart, and navigate Power BI formatting to enhance your native visuals.\\n\\nThis video comes with  a PBIX file!\\n\\n⌚TIMESTAMPS:\\n0:00 Intro\\n01:35 Understanding the Dataset\\n02:25 Making the first Bar Chart and basic formatting\\n08:35 Making the Outline Chart \\n10:00 Making the Rounded Bar Chart with Error Bars\\n12:35 Making the Stacked Bar Chart\\n14:05 Making the 100% Stacked Bar Chart\\n15:27 Making the Divergent Bar Chart with Basic Conditional Formatting\\n18:40 Making the Lollipop Chart\\n20:50 Making the Butterfly Chart\\n24:30 Making the Bar Chart with Line End\\n25:50 Making the Bullet Chart\\n26:56 Making the Progress Bar using Overlapping Bars\\n29:34 Making the Progress Bar with Indicator Lines\\n33:37 Making the Progress Bar with Error Bars\\n36:21 Making the Progress Area Chart with PowerPoint\\n39:27 Making the Bar-in-Bar Chart with Error Bars\\n40:41 Making the Clustered Bar Chart with Drilldown\\n46:55 Making the Clustered Bar Chart with Candlesticks using a disconnected Table\\n50:02 Making a Matrix SVG for IBCS bar charts\\n\\n\\nJOIN MY POWER BI CLASSROOM\\n✅https://www.skool.com/powerbipark/about\\n\\nSTARTER PBIX:\\n➡️https://github.com/PowerBIPark/PowerBITutorials\\n\\n\\nRosa's Original Tableau Report:\\nhttps://public.tableau.com/app/profile/rosa.mariana.de.leon.e/viz/TableauBarchartCatalogue_FINAL/AllAbouththeBars\\n\\nAndy's Report:\\nhttps://public.tableau.com/app/profile/andy.kriebel/viz/18WaystoVisualizeBarCharts/BarCharts\\n\\nKurt's Report:\\nhttps://github.com/data-goblin/powerbi-macguyver-toolbox/blob/main/bar-charts/all-bar-chart-templates/Bar%20Charts%20in%20Power%20BI%20(AK%20Theme%20Version).png\\n\\nNicholas' Report:\\nhttps://www.linkedin.com/posts/nicholas-lea-trengrouse_tableau-powerbi-powerbi-activity-7284479393752625152-yIXX/?utm_source=share&utm_medium=member_desktop\\n\\n\\n🟦FOLLOW ME:\\nhttps://www.linkedin.com/in/injae-park/\\n\\nThanks for taking the time to watch this video. \\nHave questions? Let me know in the comments below!\\n#PowerBI #DataVisualization #BusinessIntelligence\", 'thumbnails': {'default': {'url': 'https://i.ytimg.com/vi/Z8D60cn-ecE/default.jpg', 'width': 120, 'height': 90}, 'medium': {'url': 'https://i.ytimg.com/vi/Z8D60cn-ecE/mqdefault.jpg', 'width': 320, 'height': 180}, 'high': {'url': 'https://i.ytimg.com/vi/Z8D60cn-ecE/hqdefault.jpg', 'width': 480, 'height': 360}, 'standard': {'url': 'https://i.ytimg.com/vi/Z8D60cn-ecE/sddefault.jpg', 'width': 640, 'height': 480}}, 'channelTitle': 'Power BI Park', 'playlistId': 'UU6g1VsTNgW1ntdW97wwL6nw', 'position': 2, 'resourceId': {'kind': 'youtube#video', 'videoId': 'Z8D60cn-ecE'}, 'videoOwnerChannelTitle': 'Power BI Park', 'videoOwnerChannelId': 'UC6g1VsTNgW1ntdW97wwL6nw'}}, {'kind': 'youtube#playlistItem', 'etag': 'zFffSl5V0UneIFlFNfxfG6-C72U', 'id': 'VVU2ZzFWc1ROZ1cxbnRkVzk3d3dMNm53LnFFaFVQRjM2aE9Z', 'snippet': {'publishedAt': '2024-12-03T08:59:49Z', 'channelId': 'UC6g1VsTNgW1ntdW97wwL6nw', 'title': 'Core Visuals Vision Board - Full Tutorial [Advanced Power BI]', 'description': \"Full PBIX provided!\\n\\nThis is in collaboration with the PBI Core visuals team from Microsoft.\\n\\n\\n🟢 Miguel's Github: Get the FULL PBIX here\\nhttps://github.com/MiguelMyersMS/Core-Visuals-Board\\n\\n🟩Get my starter files here:\\nhttps://github.com/PowerBIPark/Temporary-CoreVisualsVisionBoard\\n\\n📊Find the Dashboard here:\\nhttps://msit.powerbi.com/view?r=eyJrIjoiYmQ5ODYzYmQtOWU5MS00M2VmLWE5MmMtNjE3YzY2ZjRjZTY2IiwidCI6IjcyZjk4OGJmLTg2ZjEtNDFhZi05MWFiLTJkN2NkMDExZGI0NyIsImMiOjV9\\n\\n➡️Join the PBI Core Visuals group on Linkedin:\\nhttps://www.linkedin.com/company/pbicorevisuals/posts/?feedView=all\\n\\n💯Join my Power BI Classroom:\\nhttps://www.skool.com/powerbipark/about\\n\\n\\n\\nThanks for watching!\\n\\n#PowerBI #datavisualization #businessintelligence\", 'thumbnails': {'default': {'url': 'https://i.ytimg.com/vi/qEhUPF36hOY/default.jpg', 'width': 120, 'height': 90}, 'medium': {'url': 'https://i.ytimg.com/vi/qEhUPF36hOY/mqdefault.jpg', 'width': 320, 'height': 180}, 'high': {'url': 'https://i.ytimg.com/vi/qEhUPF36hOY/hqdefault.jpg', 'width': 480, 'height': 360}, 'standard': {'url': 'https://i.ytimg.com/vi/qEhUPF36hOY/sddefault.jpg', 'width': 640, 'height': 480}}, 'channelTitle': 'Power BI Park', 'playlistId': 'UU6g1VsTNgW1ntdW97wwL6nw', 'position': 3, 'resourceId': {'kind': 'youtube#video', 'videoId': 'qEhUPF36hOY'}, 'videoOwnerChannelTitle': 'Power BI Park', 'videoOwnerChannelId': 'UC6g1VsTNgW1ntdW97wwL6nw'}}, {'kind': 'youtube#playlistItem', 'etag': '4R74pnd5wYFpBuPNET0QaLJd1jk', 'id': 'VVU2ZzFWc1ROZ1cxbnRkVzk3d3dMNm53LkpWanFsT3pOakI0', 'snippet': {'publishedAt': '2024-11-20T21:12:51Z', 'channelId': 'UC6g1VsTNgW1ntdW97wwL6nw', 'title': \"Core Visuals Vision Board -  What's next for Power BI\", 'description': 'This is in collaboration with the PBI Core visuals team from Microsoft.\\n\\nFind the Dashboard here\\n✅https://msit.powerbi.com/view?r=eyJrIjoiYmQ5ODYzYmQtOWU5MS00M2VmLWE5MmMtNjE3YzY2ZjRjZTY2IiwidCI6IjcyZjk4OGJmLTg2ZjEtNDFhZi05MWFiLTJkN2NkMDExZGI0NyIsImMiOjV9\\n\\nJoin the PBI Core Visuals group on Linkedin\\n➡️https://www.linkedin.com/company/pbicorevisuals/posts/?feedView=all\\n\\nThanks for watching!\\n\\n#PowerBI #datavisualization #businessintelligence', 'thumbnails': {'default': {'url': 'https://i.ytimg.com/vi/JVjqlOzNjB4/default.jpg', 'width': 120, 'height': 90}, 'medium': {'url': 'https://i.ytimg.com/vi/JVjqlOzNjB4/mqdefault.jpg', 'width': 320, 'height': 180}, 'high': {'url': 'https://i.ytimg.com/vi/JVjqlOzNjB4/hqdefault.jpg', 'width': 480, 'height': 360}, 'standard': {'url': 'https://i.ytimg.com/vi/JVjqlOzNjB4/sddefault.jpg', 'width': 640, 'height': 480}, 'maxres': {'url': 'https://i.ytimg.com/vi/JVjqlOzNjB4/maxresdefault.jpg', 'width': 1280, 'height': 720}}, 'channelTitle': 'Power BI Park', 'playlistId': 'UU6g1VsTNgW1ntdW97wwL6nw', 'position': 4, 'resourceId': {'kind': 'youtube#video', 'videoId': 'JVjqlOzNjB4'}, 'videoOwnerChannelTitle': 'Power BI Park', 'videoOwnerChannelId': 'UC6g1VsTNgW1ntdW97wwL6nw'}}, {'kind': 'youtube#playlistItem', 'etag': 'o5yU2ed-ctlGmlH-w7Qoct0bGBo', 'id': 'VVU2ZzFWc1ROZ1cxbnRkVzk3d3dMNm53LkZ3M2VWb190NUhr', 'snippet': {'publishedAt': '2024-11-18T20:53:10Z', 'channelId': 'UC6g1VsTNgW1ntdW97wwL6nw', 'title': \"Power BI Park 2.0 - Here's what's next\", 'description': \"I'm starting a Power BI Classroom!\\n\\nIt's going live at the end of November (in 2 weeks!)\\nSign up for the waiting list:\\n✅https://www.skool.com/powerbipark/about\\n\\nThis channel isn't going away - and new tutorials are coming soon.\\n\\n\\n\\nThanks for taking the time to watch this video. \\n\\n#PowerBI #DataAnalytics #BusinessIntelligence #powerquery\", 'thumbnails': {'default': {'url': 'https://i.ytimg.com/vi/Fw3eVo_t5Hk/default.jpg', 'width': 120, 'height': 90}, 'medium': {'url': 'https://i.ytimg.com/vi/Fw3eVo_t5Hk/mqdefault.jpg', 'width': 320, 'height': 180}, 'high': {'url': 'https://i.ytimg.com/vi/Fw3eVo_t5Hk/hqdefault.jpg', 'width': 480, 'height': 360}, 'standard': {'url': 'https://i.ytimg.com/vi/Fw3eVo_t5Hk/sddefault.jpg', 'width': 640, 'height': 480}, 'maxres': {'url': 'https://i.ytimg.com/vi/Fw3eVo_t5Hk/maxresdefault.jpg', 'width': 1280, 'height': 720}}, 'channelTitle': 'Power BI Park', 'playlistId': 'UU6g1VsTNgW1ntdW97wwL6nw', 'position': 5, 'resourceId': {'kind': 'youtube#video', 'videoId': 'Fw3eVo_t5Hk'}, 'videoOwnerChannelTitle': 'Power BI Park', 'videoOwnerChannelId': 'UC6g1VsTNgW1ntdW97wwL6nw'}}, {'kind': 'youtube#playlistItem', 'etag': 'O12A_AFSinT5Lrrok3xpW5aP-sc', 'id': 'VVU2ZzFWc1ROZ1cxbnRkVzk3d3dMNm53Lk5laHl5bTRoUGM4', 'snippet': {'publishedAt': '2024-09-26T13:50:37Z', 'channelId': 'UC6g1VsTNgW1ntdW97wwL6nw', 'title': 'Top 5 ways to show ACTIVE FILTERS in Power BI', 'description': \"This video comes with  a PBIX file\\n\\n\\nJoin my new PowerBI Classroom\\n💯https://www.skool.com/powerbipark/about\\n\\n\\n\\n\\n🔥 My Starter PBIX here➡️: https://github.com/PowerBIPark/PowerBITutorials\\n\\n🔥 Gustaw's Post: https://www.linkedin.com/posts/gustaw-dudek_analytics-data-powerbi-activity-7244417358830739457-eKtL?utm_source=share&utm_medium=member_desktop\\n\\n🔥 Said's Post: https://www.linkedin.com/posts/saidgamal_microsoftpowerbi-microsoft-letsworkoutbi-activity-7244447275156934657-biWu?utm_source=share&utm_medium=member_desktop\\n\\n🔥 Text formatter: https://textformatter.taplio.com/\\n\\n🔥 Dax Studio: https://daxstudio.org/\\n\\nThanks for taking the time to watch this video. \\n\\n#PowerBI #DataAnalytics #BusinessIntelligence #powerquery\", 'thumbnails': {'default': {'url': 'https://i.ytimg.com/vi/Nehyym4hPc8/default.jpg', 'width': 120, 'height': 90}, 'medium': {'url': 'https://i.ytimg.com/vi/Nehyym4hPc8/mqdefault.jpg', 'width': 320, 'height': 180}, 'high': {'url': 'https://i.ytimg.com/vi/Nehyym4hPc8/hqdefault.jpg', 'width': 480, 'height': 360}, 'standard': {'url': 'https://i.ytimg.com/vi/Nehyym4hPc8/sddefault.jpg', 'width': 640, 'height': 480}, 'maxres': {'url': 'https://i.ytimg.com/vi/Nehyym4hPc8/maxresdefault.jpg', 'width': 1280, 'height': 720}}, 'channelTitle': 'Power BI Park', 'playlistId': 'UU6g1VsTNgW1ntdW97wwL6nw', 'position': 6, 'resourceId': {'kind': 'youtube#video', 'videoId': 'Nehyym4hPc8'}, 'videoOwnerChannelTitle': 'Power BI Park', 'videoOwnerChannelId': 'UC6g1VsTNgW1ntdW97wwL6nw'}}, {'kind': 'youtube#playlistItem', 'etag': 'GEXZD29qh5cSzvivG5G-waGt4_s', 'id': 'VVU2ZzFWc1ROZ1cxbnRkVzk3d3dMNm53LmphS1VTdEtXOFBB', 'snippet': {'publishedAt': '2024-09-18T22:34:26Z', 'channelId': 'UC6g1VsTNgW1ntdW97wwL6nw', 'title': 'How to show Growth over Time - Native Power BI (with pbix file)', 'description': \"I recorded this during a flood\\nJoin my new PowerBI Classroom\\n💯https://www.skool.com/powerbipark/about\\n\\n\\nThis might be my favorite way to use the Area chart\\n\\n🔥 Ashish's Original PBIX: https://www.linkedin.com/posts/ashishbabaria_pbicorevisuals-activity-7239158235331493888-R7FL/?utm_source=share&utm_medium=member_ios\\n\\n🔥 My Starter PBIX here➡️: https://github.com/PowerBIPark/PowerBITutorials\\n\\n\\nIf you'd like to see more videos like this, \\nconsider supporting the channel:\\nhttps://www.patreon.com/powerbipark\\n\\nThanks for watching :)\\n\\n#PowerBI #DataAnalytics #BusinessIntelligence #powerquery\", 'thumbnails': {'default': {'url': 'https://i.ytimg.com/vi/jaKUStKW8PA/default.jpg', 'width': 120, 'height': 90}, 'medium': {'url': 'https://i.ytimg.com/vi/jaKUStKW8PA/mqdefault.jpg', 'width': 320, 'height': 180}, 'high': {'url': 'https://i.ytimg.com/vi/jaKUStKW8PA/hqdefault.jpg', 'width': 480, 'height': 360}, 'standard': {'url': 'https://i.ytimg.com/vi/jaKUStKW8PA/sddefault.jpg', 'width': 640, 'height': 480}}, 'channelTitle': 'Power BI Park', 'playlistId': 'UU6g1VsTNgW1ntdW97wwL6nw', 'position': 7, 'resourceId': {'kind': 'youtube#video', 'videoId': 'jaKUStKW8PA'}, 'videoOwnerChannelTitle': 'Power BI Park', 'videoOwnerChannelId': 'UC6g1VsTNgW1ntdW97wwL6nw'}}, {'kind': 'youtube#playlistItem', 'etag': '2L2KSn3-eXqBUuCXdU4eM4BGrZU', 'id': 'VVU2ZzFWc1ROZ1cxbnRkVzk3d3dMNm53LmtZYklJU3VBQ09J', 'snippet': {'publishedAt': '2024-09-13T13:56:19Z', 'channelId': 'UC6g1VsTNgW1ntdW97wwL6nw', 'title': 'The Matrix visual makes the Most COMPACT KPI card in Power BI', 'description': \"This isn't a bug, it's a feature! \\n\\nJoin my new PowerBI Classroom\\n💯https://www.skool.com/powerbipark/about\\n\\nA word of caution: Thr accent bar is is still a bug, so it may be patched out in the future when Microsoft makes updates to the table and matrix visual.\\n\\n🔥 PBIX here➡️: https://github.com/PowerBIPark/PowerBITutorials\\n\\n🔥 Gustaw's Original Post: https://www.linkedin.com/posts/gustaw-dudek_analytics-data-powerbi-activity-7219404636166729729-ZxZb/?utm_source=share&utm_medium=member_desktop\\n🔥 Part 1 Video: https://www.youtube.com/watch?v=ZFZmqdECBMs\\n🔥 Part 2 Video: https://youtu.be/egY0M6kGK8g\\n\\n\\nIf you'd like to see more videos like this, \\nconsider supporting the channel:\\nhttps://www.patreon.com/powerbipark\\nhttps://www.linkedin.com/in/injae-park/\\n\\nThanks for taking the time to watch this video. \\n\\n#PowerBI #DataAnalytics #BusinessIntelligence #powerquery\", 'thumbnails': {'default': {'url': 'https://i.ytimg.com/vi/kYbIISuACOI/default.jpg', 'width': 120, 'height': 90}, 'medium': {'url': 'https://i.ytimg.com/vi/kYbIISuACOI/mqdefault.jpg', 'width': 320, 'height': 180}, 'high': {'url': 'https://i.ytimg.com/vi/kYbIISuACOI/hqdefault.jpg', 'width': 480, 'height': 360}, 'standard': {'url': 'https://i.ytimg.com/vi/kYbIISuACOI/sddefault.jpg', 'width': 640, 'height': 480}}, 'channelTitle': 'Power BI Park', 'playlistId': 'UU6g1VsTNgW1ntdW97wwL6nw', 'position': 8, 'resourceId': {'kind': 'youtube#video', 'videoId': 'kYbIISuACOI'}, 'videoOwnerChannelTitle': 'Power BI Park', 'videoOwnerChannelId': 'UC6g1VsTNgW1ntdW97wwL6nw'}}, {'kind': 'youtube#playlistItem', 'etag': '0rj0mrD6n8U_Y8KZ8IGo6I5Bn1Q', 'id': 'VVU2ZzFWc1ROZ1cxbnRkVzk3d3dMNm53LmVnWTBNNmtHSzhn', 'snippet': {'publishedAt': '2024-09-05T11:05:32Z', 'channelId': 'UC6g1VsTNgW1ntdW97wwL6nw', 'title': 'This Visual CHANGES for Different People : Role-Specific Measures in Power BI', 'description': \"They see what they're supposed to see\\n\\n\\nJoin my new PowerBI Classroom\\n💯https://www.skool.com/powerbipark/about\\n\\n\\n🔥 PBIX here➡️: https://github.com/PowerBIPark/PowerBITutorials\\n\\n🔥 Part 1 Video: https://www.youtube.com/watch?v=ZFZmqdECBMs\\n\\n\\n\\nIf you'd like to see more videos like this, \\nconsider supporting the channel:\\nhttps://www.patreon.com/powerbipark\\nhttps://www.linkedin.com/in/injae-park/\\n\\nThanks for taking the time to watch this video. \\n\\n#PowerBI #DataAnalytics #BusinessIntelligence #powerquery\", 'thumbnails': {'default': {'url': 'https://i.ytimg.com/vi/egY0M6kGK8g/default.jpg', 'width': 120, 'height': 90}, 'medium': {'url': 'https://i.ytimg.com/vi/egY0M6kGK8g/mqdefault.jpg', 'width': 320, 'height': 180}, 'high': {'url': 'https://i.ytimg.com/vi/egY0M6kGK8g/hqdefault.jpg', 'width': 480, 'height': 360}, 'standard': {'url': 'https://i.ytimg.com/vi/egY0M6kGK8g/sddefault.jpg', 'width': 640, 'height': 480}}, 'channelTitle': 'Power BI Park', 'playlistId': 'UU6g1VsTNgW1ntdW97wwL6nw', 'position': 9, 'resourceId': {'kind': 'youtube#video', 'videoId': 'egY0M6kGK8g'}, 'videoOwnerChannelTitle': 'Power BI Park', 'videoOwnerChannelId': 'UC6g1VsTNgW1ntdW97wwL6nw'}}, {'kind': 'youtube#playlistItem', 'etag': '4kqM91nRtE3V4qKLko-edCHWn0g', 'id': 'VVU2ZzFWc1ROZ1cxbnRkVzk3d3dMNm53LlpGWm1xZEVDQk1z', 'snippet': {'publishedAt': '2024-08-27T10:38:49Z', 'channelId': 'UC6g1VsTNgW1ntdW97wwL6nw', 'title': 'The Best KPI Cards In Power BI', 'description': \"How to make the best KPI Card in Power BI\\n\\nJoin my new PowerBI Classroom\\n💯https://www.skool.com/powerbipark/about\\n\\n\\nCheck out PART 2 : https://youtu.be/egY0M6kGK8g\\n\\n🔥 PBIX here➡️: https://github.com/PowerBIPark/PowerBITutorials\\n\\n🔥 Gustaw's Original Post: https://www.linkedin.com/posts/gustaw-dudek_analytics-data-powerbi-activity-7219404636166729729-ZxZb/?utm_source=share&utm_medium=member_desktop\\n\\n\\n\\nIf you'd like to see more videos like this, \\nconsider supporting the channel:\\nhttps://www.patreon.com/powerbipark\\nhttps://www.linkedin.com/in/injae-park/\\n\\nThanks for taking the time to watch this video. \\n\\n#PowerBI #DataAnalytics #BusinessIntelligence #powerquery\", 'thumbnails': {'default': {'url': 'https://i.ytimg.com/vi/ZFZmqdECBMs/default.jpg', 'width': 120, 'height': 90}, 'medium': {'url': 'https://i.ytimg.com/vi/ZFZmqdECBMs/mqdefault.jpg', 'width': 320, 'height': 180}, 'high': {'url': 'https://i.ytimg.com/vi/ZFZmqdECBMs/hqdefault.jpg', 'width': 480, 'height': 360}, 'standard': {'url': 'https://i.ytimg.com/vi/ZFZmqdECBMs/sddefault.jpg', 'width': 640, 'height': 480}, 'maxres': {'url': 'https://i.ytimg.com/vi/ZFZmqdECBMs/maxresdefault.jpg', 'width': 1280, 'height': 720}}, 'channelTitle': 'Power BI Park', 'playlistId': 'UU6g1VsTNgW1ntdW97wwL6nw', 'position': 10, 'resourceId': {'kind': 'youtube#video', 'videoId': 'ZFZmqdECBMs'}, 'videoOwnerChannelTitle': 'Power BI Park', 'videoOwnerChannelId': 'UC6g1VsTNgW1ntdW97wwL6nw'}}, {'kind': 'youtube#playlistItem', 'etag': 'TVj7l_bhz-lSUCV5C6P2UZtp0_w', 'id': 'VVU2ZzFWc1ROZ1cxbnRkVzk3d3dMNm53LlRLZ0lUTEQwNUNr', 'snippet': {'publishedAt': '2024-07-28T08:41:10Z', 'channelId': 'UC6g1VsTNgW1ntdW97wwL6nw', 'title': 'Free Power BI Tutorials #powerbi #businessintelligence', 'description': '', 'thumbnails': {'default': {'url': 'https://i.ytimg.com/vi/TKgITLD05Ck/default.jpg', 'width': 120, 'height': 90}, 'medium': {'url': 'https://i.ytimg.com/vi/TKgITLD05Ck/mqdefault.jpg', 'width': 320, 'height': 180}, 'high': {'url': 'https://i.ytimg.com/vi/TKgITLD05Ck/hqdefault.jpg', 'width': 480, 'height': 360}, 'standard': {'url': 'https://i.ytimg.com/vi/TKgITLD05Ck/sddefault.jpg', 'width': 640, 'height': 480}, 'maxres': {'url': 'https://i.ytimg.com/vi/TKgITLD05Ck/maxresdefault.jpg', 'width': 1280, 'height': 720}}, 'channelTitle': 'Power BI Park', 'playlistId': 'UU6g1VsTNgW1ntdW97wwL6nw', 'position': 11, 'resourceId': {'kind': 'youtube#video', 'videoId': 'TKgITLD05Ck'}, 'videoOwnerChannelTitle': 'Power BI Park', 'videoOwnerChannelId': 'UC6g1VsTNgW1ntdW97wwL6nw'}}, {'kind': 'youtube#playlistItem', 'etag': '5sBg6RATUUvomr5mBq32mihDSL0', 'id': 'VVU2ZzFWc1ROZ1cxbnRkVzk3d3dMNm53LlVXeGFVVDZIVXZv', 'snippet': {'publishedAt': '2024-06-18T17:02:44Z', 'channelId': 'UC6g1VsTNgW1ntdW97wwL6nw', 'title': 'Dynamic Pareto Analysis in Power BI - Native Visuals', 'description': \"Guided Pareto Tutorial with PBIX file\\n\\n\\nJoin my new PowerBI Classroom\\n💯https://www.skool.com/powerbipark/about\\n\\n\\nDid you like this video? let me know, I might make more like this if there's a good response from the community\\n\\n\\n:::::::::::  Links :::::::::::::::\\n🔥 PBIX here➡️: https://github.com/PowerBIPark/PowerBITutorials\\n\\n🔥 Gustaw's Original Post: https://www.linkedin.com/feed/update/urn:li:activity:7207444783869345793/\\n::::::::::::::::::::::::::::::::::\\n\\n\\nCome find me on Linkedin: https://www.linkedin.com/in/injae-park/\\n\\nThanks for taking the time to watch this video. \\n\\n#PowerBI #DataAnalytics #BusinessIntelligence #powerquery\", 'thumbnails': {'default': {'url': 'https://i.ytimg.com/vi/UWxaUT6HUvo/default.jpg', 'width': 120, 'height': 90}, 'medium': {'url': 'https://i.ytimg.com/vi/UWxaUT6HUvo/mqdefault.jpg', 'width': 320, 'height': 180}, 'high': {'url': 'https://i.ytimg.com/vi/UWxaUT6HUvo/hqdefault.jpg', 'width': 480, 'height': 360}, 'standard': {'url': 'https://i.ytimg.com/vi/UWxaUT6HUvo/sddefault.jpg', 'width': 640, 'height': 480}}, 'channelTitle': 'Power BI Park', 'playlistId': 'UU6g1VsTNgW1ntdW97wwL6nw', 'position': 12, 'resourceId': {'kind': 'youtube#video', 'videoId': 'UWxaUT6HUvo'}, 'videoOwnerChannelTitle': 'Power BI Park', 'videoOwnerChannelId': 'UC6g1VsTNgW1ntdW97wwL6nw'}}, {'kind': 'youtube#playlistItem', 'etag': 'qrEBjIV2YQ47pL017rNyv3m1kDs', 'id': 'VVU2ZzFWc1ROZ1cxbnRkVzk3d3dMNm53LkdTdjNad3R3OGNN', 'snippet': {'publishedAt': '2024-05-23T14:23:03Z', 'channelId': 'UC6g1VsTNgW1ntdW97wwL6nw', 'title': 'Cashflow / P&L Statement in Power BI - (May 2024 Update)', 'description': \"Learn how to make this with my guided tutorial.\\n\\n\\n:::::::::::  Links :::::::::::::::\\n\\n🔥 PBIX here: https://github.com/PowerBIPark/PowerBITutorials\\n\\n🔥 Power BI May 2024 update: https://www.microsoft.com/en-us/download/details.aspx?id=58494\\n\\n🔥 Matrix Layout updates: https://www.linkedin.com/pulse/new-power-bi-matrix-layouts-pbicorevisuals-cr1if/?trackingId=Af5OG1TpMZrtV9ufiMJ1pg%3D%3D\\n\\n🔥 NATIVE Power BI Table - Advanced tutorial: https://www.youtube.com/watch?v=Oe6hq4I32tg&list=PLrHF9RH5-_uuWyV0Ebr7MV_9Qj_4T5t9N&index=5&ab_channel=PowerBIPark\\n\\n🔥Andrzej's Github: https://github.com/avatorl/IBCS-for-P...\\n\\n🔥Andrzej's IBCS video: https://www.youtube.com/watch?v=RAiMq2MWDHM&ab_channel=DataVisualizationinPowerBIandBeyond\\n\\n::::::::::::::::::::::::::::::::::\\n\\n\\nCome find me on Linkedin: https://www.linkedin.com/in/injae-park/\\n\\nThanks for taking the time to watch this video. \\n\\n#PowerBI #DataAnalytics #BusinessIntelligence #powerquery\", 'thumbnails': {'default': {'url': 'https://i.ytimg.com/vi/GSv3Zwtw8cM/default.jpg', 'width': 120, 'height': 90}, 'medium': {'url': 'https://i.ytimg.com/vi/GSv3Zwtw8cM/mqdefault.jpg', 'width': 320, 'height': 180}, 'high': {'url': 'https://i.ytimg.com/vi/GSv3Zwtw8cM/hqdefault.jpg', 'width': 480, 'height': 360}, 'standard': {'url': 'https://i.ytimg.com/vi/GSv3Zwtw8cM/sddefault.jpg', 'width': 640, 'height': 480}, 'maxres': {'url': 'https://i.ytimg.com/vi/GSv3Zwtw8cM/maxresdefault.jpg', 'width': 1280, 'height': 720}}, 'channelTitle': 'Power BI Park', 'playlistId': 'UU6g1VsTNgW1ntdW97wwL6nw', 'position': 13, 'resourceId': {'kind': 'youtube#video', 'videoId': 'GSv3Zwtw8cM'}, 'videoOwnerChannelTitle': 'Power BI Park', 'videoOwnerChannelId': 'UC6g1VsTNgW1ntdW97wwL6nw'}}, {'kind': 'youtube#playlistItem', 'etag': 'VaPpTbDKssZo_tptgAO74ot0DW8', 'id': 'VVU2ZzFWc1ROZ1cxbnRkVzk3d3dMNm53LnZLdDRlWUkxOTFB', 'snippet': {'publishedAt': '2024-05-02T18:20:37Z', 'channelId': 'UC6g1VsTNgW1ntdW97wwL6nw', 'title': 'Street Fighter Dashboard in Power BI  #powerbi #businessintelligence #data', 'description': '', 'thumbnails': {'default': {'url': 'https://i.ytimg.com/vi/vKt4eYI191A/default.jpg', 'width': 120, 'height': 90}, 'medium': {'url': 'https://i.ytimg.com/vi/vKt4eYI191A/mqdefault.jpg', 'width': 320, 'height': 180}, 'high': {'url': 'https://i.ytimg.com/vi/vKt4eYI191A/hqdefault.jpg', 'width': 480, 'height': 360}, 'standard': {'url': 'https://i.ytimg.com/vi/vKt4eYI191A/sddefault.jpg', 'width': 640, 'height': 480}, 'maxres': {'url': 'https://i.ytimg.com/vi/vKt4eYI191A/maxresdefault.jpg', 'width': 1280, 'height': 720}}, 'channelTitle': 'Power BI Park', 'playlistId': 'UU6g1VsTNgW1ntdW97wwL6nw', 'position': 14, 'resourceId': {'kind': 'youtube#video', 'videoId': 'vKt4eYI191A'}, 'videoOwnerChannelTitle': 'Power BI Park', 'videoOwnerChannelId': 'UC6g1VsTNgW1ntdW97wwL6nw'}}, {'kind': 'youtube#playlistItem', 'etag': 'caUEb3tY4ZA_hifyD9bZf-Yq-UY', 'id': 'VVU2ZzFWc1ROZ1cxbnRkVzk3d3dMNm53LnBZVURFTWYzNlMw', 'snippet': {'publishedAt': '2024-04-30T15:01:22Z', 'channelId': 'UC6g1VsTNgW1ntdW97wwL6nw', 'title': 'Power BI StreetFighter Report Tutorial (For Beginners)', 'description': \"Learn how to use ImgURLs and SVGs to make this report.\\n\\n\\nThis was a fun little report - it doesn't hold too much business value, but I hope you learn from this anyway.\\n\\n\\n=================================\\n🔥The Data: https://github.com/PowerBIPark/StreetFighterReport\\n\\n🔥Luis's Channel: https://youtu.be/SeFzOhhmsvM?si=YSDEU4ylmOuhTJZ5\\n=================================\\n\\n\\nCome find me on Linkedin: https://www.linkedin.com/in/injae-park/\\n\\nThanks for taking the time to watch this video. \\n\\n#PowerBI #DataAnalytics #BusinessIntelligence\", 'thumbnails': {'default': {'url': 'https://i.ytimg.com/vi/pYUDEMf36S0/default.jpg', 'width': 120, 'height': 90}, 'medium': {'url': 'https://i.ytimg.com/vi/pYUDEMf36S0/mqdefault.jpg', 'width': 320, 'height': 180}, 'high': {'url': 'https://i.ytimg.com/vi/pYUDEMf36S0/hqdefault.jpg', 'width': 480, 'height': 360}, 'standard': {'url': 'https://i.ytimg.com/vi/pYUDEMf36S0/sddefault.jpg', 'width': 640, 'height': 480}}, 'channelTitle': 'Power BI Park', 'playlistId': 'UU6g1VsTNgW1ntdW97wwL6nw', 'position': 15, 'resourceId': {'kind': 'youtube#video', 'videoId': 'pYUDEMf36S0'}, 'videoOwnerChannelTitle': 'Power BI Park', 'videoOwnerChannelId': 'UC6g1VsTNgW1ntdW97wwL6nw'}}, {'kind': 'youtube#playlistItem', 'etag': '4qBtDsRjaStk5eBWFSUxfxIygQs', 'id': 'VVU2ZzFWc1ROZ1cxbnRkVzk3d3dMNm53LkxiMkpQQy1Vd0k0', 'snippet': {'publishedAt': '2024-04-29T15:04:07Z', 'channelId': 'UC6g1VsTNgW1ntdW97wwL6nw', 'title': 'How to Bulk Edit Measures in Power BI - With Excel Template', 'description': 'This is a free Template to help you deal with a large number of Measures\\n\\n0:00 - Intro\\n1:43 - Extract Measures\\n4:57 - Using the Template\\n10:16 - Formatting Measures\\n\\n=================================\\n🔥The Template: https://github.com/PowerBIPark/Advanced-Script-Generator-For-Measures\\n\\n🔥Tabular editor : https://docs.tabulareditor.com/\\n\\n🔥Advanced Scripting: https://docs.tabulareditor.com/te2/Useful-script-snippets.html\\n\\n🔥Bravo: https://bravo.bi/\\n\\n🔥Vertipaq analyzer: https://www.sqlbi.com/tools/vertipaq-analyzer/\\n\\n🔥Dax Studio : https://daxstudio.org/\\n=================================\\n\\n\\nCome find me on Linkedin: https://www.linkedin.com/in/injae-park/\\n\\nThanks for taking the time to watch this video. \\n\\n#powerbi #externaltools', 'thumbnails': {'default': {'url': 'https://i.ytimg.com/vi/Lb2JPC-UwI4/default.jpg', 'width': 120, 'height': 90}, 'medium': {'url': 'https://i.ytimg.com/vi/Lb2JPC-UwI4/mqdefault.jpg', 'width': 320, 'height': 180}, 'high': {'url': 'https://i.ytimg.com/vi/Lb2JPC-UwI4/hqdefault.jpg', 'width': 480, 'height': 360}, 'standard': {'url': 'https://i.ytimg.com/vi/Lb2JPC-UwI4/sddefault.jpg', 'width': 640, 'height': 480}}, 'channelTitle': 'Power BI Park', 'playlistId': 'UU6g1VsTNgW1ntdW97wwL6nw', 'position': 16, 'resourceId': {'kind': 'youtube#video', 'videoId': 'Lb2JPC-UwI4'}, 'videoOwnerChannelTitle': 'Power BI Park', 'videoOwnerChannelId': 'UC6g1VsTNgW1ntdW97wwL6nw'}}, {'kind': 'youtube#playlistItem', 'etag': '-jxN48iMA9quIoc62sTe1mE-KJg', 'id': 'VVU2ZzFWc1ROZ1cxbnRkVzk3d3dMNm53Lk1ISzF5RllYQUhV', 'snippet': {'publishedAt': '2024-04-02T19:43:23Z', 'channelId': 'UC6g1VsTNgW1ntdW97wwL6nw', 'title': 'PowerQuery Version Control #powerbi #powerquery #tutorial', 'description': 'Check out the full video @PowerBIPark', 'thumbnails': {'default': {'url': 'https://i.ytimg.com/vi/MHK1yFYXAHU/default.jpg', 'width': 120, 'height': 90}, 'medium': {'url': 'https://i.ytimg.com/vi/MHK1yFYXAHU/mqdefault.jpg', 'width': 320, 'height': 180}, 'high': {'url': 'https://i.ytimg.com/vi/MHK1yFYXAHU/hqdefault.jpg', 'width': 480, 'height': 360}, 'standard': {'url': 'https://i.ytimg.com/vi/MHK1yFYXAHU/sddefault.jpg', 'width': 640, 'height': 480}, 'maxres': {'url': 'https://i.ytimg.com/vi/MHK1yFYXAHU/maxresdefault.jpg', 'width': 1280, 'height': 720}}, 'channelTitle': 'Power BI Park', 'playlistId': 'UU6g1VsTNgW1ntdW97wwL6nw', 'position': 17, 'resourceId': {'kind': 'youtube#video', 'videoId': 'MHK1yFYXAHU'}, 'videoOwnerChannelTitle': 'Power BI Park', 'videoOwnerChannelId': 'UC6g1VsTNgW1ntdW97wwL6nw'}}, {'kind': 'youtube#playlistItem', 'etag': 'JnPN2mxuRLskOfE9zJHAPaW2L64', 'id': 'VVU2ZzFWc1ROZ1cxbnRkVzk3d3dMNm53LkdYRnhpRVZBbWZJ', 'snippet': {'publishedAt': '2024-04-02T13:46:52Z', 'channelId': 'UC6g1VsTNgW1ntdW97wwL6nw', 'title': 'How You Can Version Control PowerQuery (Run Code From GitHub)', 'description': \"💠Get all the code:\\nhttps://github.com/PowerBIPark/PowerBI_MQueryTest\\n\\n⏰Timestamps:\\n0:00 - Intro\\n00:30 - From a Local File\\n02:37 - From the Web\\n05:56 - Dealing with Shared keyword\\n11:44 - Adding Parameters\\n15:10 - Creating a PQ Library\\n\\n📎Links:\\n→ https://gorilla.bi/power-query/date-table/\\n→ https://www.reddit.com/r/PowerBI/comments/ckdk9v/powerquery_call_custom_functions_file_from_github/\\n→ https://github.com/PowerBIPark/PowerBI_MQueryTest/blob/main/Simple%20Date%20List.txt\\n→ https://powerquery.how/expression-evaluate/\\n→ https://www.thebiccountant.com/2018/05/17/automatically-create-function-record-for-expression-evaluate-in-power-bi-and-power-query/\\n→ https://blog.crossjoin.co.uk/2016/08/23/web-contents-m-functions-and-dataset-refresh-errors-in-power-bi/\\n→ https://www.kerski.tech/bringing-dataops-to-power-bi-part13/\\n→ https://github.com/acaprojects/m-tools/blob/master/M.pq\\n\\n\\n⭐I'm making all PBIX files from my channel available for supporters (soon)\\nhttps://www.patreon.com/PowerBIPark/\\n\\n😉Get in touch\\nhttps://www.linkedin.com/in/injae-park/\\n\\nThanks for watching!\\n\\n#PowerBI #DataAnalytics #BusinessIntelligence #powerquery\", 'thumbnails': {'default': {'url': 'https://i.ytimg.com/vi/GXFxiEVAmfI/default.jpg', 'width': 120, 'height': 90}, 'medium': {'url': 'https://i.ytimg.com/vi/GXFxiEVAmfI/mqdefault.jpg', 'width': 320, 'height': 180}, 'high': {'url': 'https://i.ytimg.com/vi/GXFxiEVAmfI/hqdefault.jpg', 'width': 480, 'height': 360}, 'standard': {'url': 'https://i.ytimg.com/vi/GXFxiEVAmfI/sddefault.jpg', 'width': 640, 'height': 480}}, 'channelTitle': 'Power BI Park', 'playlistId': 'UU6g1VsTNgW1ntdW97wwL6nw', 'position': 18, 'resourceId': {'kind': 'youtube#video', 'videoId': 'GXFxiEVAmfI'}, 'videoOwnerChannelTitle': 'Power BI Park', 'videoOwnerChannelId': 'UC6g1VsTNgW1ntdW97wwL6nw'}}, {'kind': 'youtube#playlistItem', 'etag': 'RwwIn28xFTz7bPZuBZ9wg0d3ijU', 'id': 'VVU2ZzFWc1ROZ1cxbnRkVzk3d3dMNm53LlpZSS1Pa1ZrVUtj', 'snippet': {'publishedAt': '2024-03-11T08:00:17Z', 'channelId': 'UC6g1VsTNgW1ntdW97wwL6nw', 'title': 'Free Power BI Project: Spotify Dashboard', 'description': '', 'thumbnails': {'default': {'url': 'https://i.ytimg.com/vi/ZYI-OkVkUKc/default.jpg', 'width': 120, 'height': 90}, 'medium': {'url': 'https://i.ytimg.com/vi/ZYI-OkVkUKc/mqdefault.jpg', 'width': 320, 'height': 180}, 'high': {'url': 'https://i.ytimg.com/vi/ZYI-OkVkUKc/hqdefault.jpg', 'width': 480, 'height': 360}, 'standard': {'url': 'https://i.ytimg.com/vi/ZYI-OkVkUKc/sddefault.jpg', 'width': 640, 'height': 480}, 'maxres': {'url': 'https://i.ytimg.com/vi/ZYI-OkVkUKc/maxresdefault.jpg', 'width': 1280, 'height': 720}}, 'channelTitle': 'Power BI Park', 'playlistId': 'UU6g1VsTNgW1ntdW97wwL6nw', 'position': 19, 'resourceId': {'kind': 'youtube#video', 'videoId': 'ZYI-OkVkUKc'}, 'videoOwnerChannelTitle': 'Power BI Park', 'videoOwnerChannelId': 'UC6g1VsTNgW1ntdW97wwL6nw'}}, {'kind': 'youtube#playlistItem', 'etag': 'o9GkS87QNnSoTprHRb_jWfLFPiQ', 'id': 'VVU2ZzFWc1ROZ1cxbnRkVzk3d3dMNm53LlV1NVlTM2FURThN', 'snippet': {'publishedAt': '2024-03-09T23:00:16Z', 'channelId': 'UC6g1VsTNgW1ntdW97wwL6nw', 'title': 'Add DAX to your report quickly #powerbi #tutorial #powerbiforbeginners', 'description': '', 'thumbnails': {'default': {'url': 'https://i.ytimg.com/vi/Uu5YS3aTE8M/default.jpg', 'width': 120, 'height': 90}, 'medium': {'url': 'https://i.ytimg.com/vi/Uu5YS3aTE8M/mqdefault.jpg', 'width': 320, 'height': 180}, 'high': {'url': 'https://i.ytimg.com/vi/Uu5YS3aTE8M/hqdefault.jpg', 'width': 480, 'height': 360}, 'standard': {'url': 'https://i.ytimg.com/vi/Uu5YS3aTE8M/sddefault.jpg', 'width': 640, 'height': 480}, 'maxres': {'url': 'https://i.ytimg.com/vi/Uu5YS3aTE8M/maxresdefault.jpg', 'width': 1280, 'height': 720}}, 'channelTitle': 'Power BI Park', 'playlistId': 'UU6g1VsTNgW1ntdW97wwL6nw', 'position': 20, 'resourceId': {'kind': 'youtube#video', 'videoId': 'Uu5YS3aTE8M'}, 'videoOwnerChannelTitle': 'Power BI Park', 'videoOwnerChannelId': 'UC6g1VsTNgW1ntdW97wwL6nw'}}, {'kind': 'youtube#playlistItem', 'etag': 'NS80P_Kfn5GS0O59XZv7eDrGAkY', 'id': 'VVU2ZzFWc1ROZ1cxbnRkVzk3d3dMNm53LjZOTDk5YjVMUVF3', 'snippet': {'publishedAt': '2024-03-09T22:20:16Z', 'channelId': 'UC6g1VsTNgW1ntdW97wwL6nw', 'title': 'IBCS bar charts Natively in Power BI', 'description': '', 'thumbnails': {'default': {'url': 'https://i.ytimg.com/vi/6NL99b5LQQw/default.jpg', 'width': 120, 'height': 90}, 'medium': {'url': 'https://i.ytimg.com/vi/6NL99b5LQQw/mqdefault.jpg', 'width': 320, 'height': 180}, 'high': {'url': 'https://i.ytimg.com/vi/6NL99b5LQQw/hqdefault.jpg', 'width': 480, 'height': 360}, 'standard': {'url': 'https://i.ytimg.com/vi/6NL99b5LQQw/sddefault.jpg', 'width': 640, 'height': 480}, 'maxres': {'url': 'https://i.ytimg.com/vi/6NL99b5LQQw/maxresdefault.jpg', 'width': 1280, 'height': 720}}, 'channelTitle': 'Power BI Park', 'playlistId': 'UU6g1VsTNgW1ntdW97wwL6nw', 'position': 21, 'resourceId': {'kind': 'youtube#video', 'videoId': '6NL99b5LQQw'}, 'videoOwnerChannelTitle': 'Power BI Park', 'videoOwnerChannelId': 'UC6g1VsTNgW1ntdW97wwL6nw'}}, {'kind': 'youtube#playlistItem', 'etag': 'pk6byzu8hHGSCNcSib9GzOyykNA', 'id': 'VVU2ZzFWc1ROZ1cxbnRkVzk3d3dMNm53LjAwUTZvMHRkZGQw', 'snippet': {'publishedAt': '2024-03-01T13:50:34Z', 'channelId': 'UC6g1VsTNgW1ntdW97wwL6nw', 'title': '[IBCS] Advanced Power BI Tutorial - Native Bar Chart  (With PBIX)', 'description': ':::::::::::  Links :::::::::::::::\\n\\n🔥PBIX here: https://workout-wednesday.com/pbi-2024-w11/\\n\\n🔥 IBCS style Matrix Tutorial:  https://youtu.be/Oe6hq4I32tg?si=R37Rk3BzFMKLDMcb\\n\\n🔥 IBCS Template: https://www.ibcs.com/resource/multi-tier-column-chart/\\n\\n🔥 PBI Core Visual Update: https://www.linkedin.com/pulse/additional-enhancements-columns-bars-ribbons-pbicorevisuals-u2lie%3FtrackingId=KdCy7OKoTl%252BaJUdHZdK3%252BA%253D%253D/?trackingId=KdCy7OKoTl%2BaJUdHZdK3%2BA%3D%3D \\n\\n\\n:::::::::::  Data   :::::::::::::::\\n\\nMonth Number , Month , 2022 , 2023 ,2023 Predictions\\n1 , January , 2825.00 , 7140.00 , \\n2 , February , 5005.00 , 1614.00 , \\n3 , March , 3612.00 , 14752.00 , \\n4 , April , 2978.00 , 933.00 , \\n5 , May , 8662.00 , 6343.00 , \\n6 , June , 4750.00 , 8223.00 , \\n7 , July , 4433.00 , 6953.00 , \\n8 , August , 2062.00 , 9041.00 , \\n9 , September , 9329.00 , 10992.00 , \\n10 , October , 16243.00 , 9275.00 , \\n11 , November , 4011.00 ,  , 9690.10\\n12 , December , 17885.00 ,  , 8483.35\\n\\n\\n::::::::::   Measures   ::::::::::::\\n\\nDEFINEDEFINE\\n    MEASURE \\'IBCS Data\\'[_5 Delta PY] = IF(ISBLANK([_1 FC]), [_1 AC] - [_1 PY], [_1 FC] - [_1 PY])\\n    MEASURE \\'IBCS Data\\'[_2 Max value] = IF(ISBLANK([_1 FC]), \\n  if([_1 AC]□[_1 PY], [_1 AC], [_1 PY]),\\n  if([_1 PY]□[_1 FC], [_1 PY], [_1 FC]))\\n    MEASURE \\'IBCS Data\\'[_1 FC] = SUM(\\'IBCS Data\\'[2023 Predictions])\\n    MEASURE \\'IBCS Data\\'[_1 PY] = SUM(\\'IBCS data\\'[2022])\\n    MEASURE \\'IBCS Data\\'[_1 AC] = SUM(\\'IBCS data\\'[2023])\\n    MEASURE \\'IBCS Data\\'[_6 Delta PY %] = DIVIDE ( [_5 Delta PY], [_1 PY] )\\n    MEASURE \\'IBCS Data\\'[_5 Delta PY Line] = [_4 ACPY MAX] * 2.1\\n    MEASURE \\'IBCS Data\\'[_5 Delta PY Line Positive AC] = IF(ISBLANK([_1 FC]),IF([_5 Delta PY] □0, [_5 Delta PY Line] + [_5 Delta PY], blank()))\\n    MEASURE \\'IBCS Data\\'[_5 Delta PY Line 2] = [_5 Delta PY Line]\\n    MEASURE \\'IBCS Data\\'[_5 Delta PY Line Negative AC] = IF(ISBLANK([_1 FC]),\\nIF([_5 Delta PY] ●0, [_5 Delta PY Line] + [_5 Delta PY], blank())\\n)\\n    MEASURE \\'IBCS Data\\'[_6 Delta PY % Line] = [_4 ACPY MAX] * 3.8\\n    MEASURE \\'IBCS Data\\'[_6 Delta PY % Line 2] = [_6 Delta PY % Line]\\n    MEASURE \\'IBCS Data\\'[_6 Delta PY % Line Positive AC] = IF(ISBLANK([_1 FC]),\\nIF([_6 Delta PY %] □0,  [_6 Delta PY % Line] + [_6 Delta PY %]*[_7 Percentage Bar Modifier], blank()))\\n    MEASURE \\'IBCS Data\\'[_6 Delta PY % Line Negative AC] = IF(ISBLANK([_1 FC]),IF([_6 Delta PY %] ● 0, [_6 Delta PY % Line] + [_6 Delta PY %]*[_7 Percentage Bar Modifier], blank()))\\n    MEASURE \\'IBCS Data\\'[_3 title color top] = IF(ISBLANK([_1 FC]), \\nif([_5 Delta PY] □ 0,  \"#000000\", \"#B3B3B3\"),\\nif([_5 Delta PY] □ 0,  \"#118DFF\", \"#B3B3B3\"))\\n    MEASURE \\'IBCS Data\\'[_3 title color bot] = IF(ISBLANK([_1 FC]), \\nif([_5 Delta PY] ● 0,  \"#000000\", \"#B3B3B3\"),\\nif([_5 Delta PY] ● 0,  \"#118DFF\", \"#B3B3B3\"))\\n    MEASURE \\'IBCS Data\\'[_6 Delta PY % Line FC] = IF(ISBLANK([_1 FC]),blank(), [_6 Delta PY % Line] + [_6 Delta PY %]*[_7 Percentage Bar Modifier])\\n    MEASURE \\'IBCS Data\\'[_5 Delta PY Line Negative FC] = IF(ISBLANK([_1 FC]),blank(),\\nIF([_5 Delta PY] ●0, [_5 Delta PY Line] + [_5 Delta PY])\\n)\\n    MEASURE \\'IBCS Data\\'[_5 Delta PY Line 3] = [_5 Delta PY Line]\\n    MEASURE \\'IBCS Data\\'[_6 Delta PY % Line 3] = [_6 Delta PY % Line]\\n    MEASURE \\'IBCS Data\\'[_7 Delta PY % Vals] = IF([_6 Delta PY %] ● 0,[_6 Delta PY % Line]* 0.94 + [_6 Delta PY %]*[_7 Percentage Bar Modifier],  [_6 Delta PY % Line] + [_6 Delta PY %]*[_7 Percentage Bar Modifier])\\n    MEASURE \\'IBCS Data\\'[_5 Delta PY Line Postivie FC] = IF(ISBLANK([_1 FC]),blank(),\\nIF([_5 Delta PY] □0, [_5 Delta PY Line] + [_5 Delta PY])\\n)\\n    MEASURE \\'IBCS Data\\'[_7 Delta PY % label] = DIVIDE ( [_5 Delta PY], [_1 PY] )*100\\n    MEASURE \\'IBCS Data\\'[_4 ACPY MAX] = MAXX(ALLSELECTED(\\'IBCS Data\\'), [_2 Max value])\\n    MEASURE \\'IBCS Data\\'[_4 Y Axis Max] = [_4 ACPY MAX] * 4.8\\n    MEASURE \\'IBCS Data\\'[_2 Min value] = IF(ISBLANK([_1 FC]), \\n  if([_1 AC]●[_1 PY], [_1 AC], [_1 PY]),\\n  if([_1 PY]●[_1 FC], [_1 PY], [_1 FC]))\\n    MEASURE \\'IBCS Data\\'[_7 Delta PY % label Color] = IF(ISBLANK([_1 FC]), \\nif([_5 Delta PY] □ 0,  \"#3C931A\", \"#D64550\"),  \"#118DFF\")\\n    MEASURE \\'IBCS Data\\'[_7 Percentage Bar Modifier] = DIVIDE( [_4 ACPY MAX], MAXX(ALLSELECTED(\\'IBCS Data\\'), [_6 Delta PY %]))*0.7', 'thumbnails': {'default': {'url': 'https://i.ytimg.com/vi/00Q6o0tddd0/default.jpg', 'width': 120, 'height': 90}, 'medium': {'url': 'https://i.ytimg.com/vi/00Q6o0tddd0/mqdefault.jpg', 'width': 320, 'height': 180}, 'high': {'url': 'https://i.ytimg.com/vi/00Q6o0tddd0/hqdefault.jpg', 'width': 480, 'height': 360}, 'standard': {'url': 'https://i.ytimg.com/vi/00Q6o0tddd0/sddefault.jpg', 'width': 640, 'height': 480}, 'maxres': {'url': 'https://i.ytimg.com/vi/00Q6o0tddd0/maxresdefault.jpg', 'width': 1280, 'height': 720}}, 'channelTitle': 'Power BI Park', 'playlistId': 'UU6g1VsTNgW1ntdW97wwL6nw', 'position': 22, 'resourceId': {'kind': 'youtube#video', 'videoId': '00Q6o0tddd0'}, 'videoOwnerChannelTitle': 'Power BI Park', 'videoOwnerChannelId': 'UC6g1VsTNgW1ntdW97wwL6nw'}}, {'kind': 'youtube#playlistItem', 'etag': '1rXrinzwZJpyken9INF93c8kT-8', 'id': 'VVU2ZzFWc1ROZ1cxbnRkVzk3d3dMNm53Lmp2SmQtVnFhOEVV', 'snippet': {'publishedAt': '2024-02-28T06:57:01Z', 'channelId': 'UC6g1VsTNgW1ntdW97wwL6nw', 'title': '[IBCS] Advanced Power BI Tutorial - Native Column Chart', 'description': 'Get a 3 for 1 deal on Charts in Power BI\\n\\n\\n\\n\\n:::::::::::  Links :::::::::::::::\\n\\n🔥 IBCS style Matrix Tutorial:  https://youtu.be/Oe6hq4I32tg?si=R37Rk3BzFMKLDMcb\\n\\n🔥 IBCS Template: https://www.ibcs.com/resource/multi-tier-column-chart/\\n\\n🔥 PBI Core Visual Update: https://www.linkedin.com/pulse/additional-enhancements-columns-bars-ribbons-pbicorevisuals-u2lie%3FtrackingId=KdCy7OKoTl%252BaJUdHZdK3%252BA%253D%253D/?trackingId=KdCy7OKoTl%2BaJUdHZdK3%2BA%3D%3D \\n\\n\\n:::::::::::  Data   :::::::::::::::\\n\\nMonth Number , Month , 2022 , 2023 ,2023 Predictions\\n1 , January , 2825.00 , 7140.00 , \\n2 , February , 5005.00 , 1614.00 , \\n3 , March , 3612.00 , 14752.00 , \\n4 , April , 2978.00 , 933.00 , \\n5 , May , 8662.00 , 6343.00 , \\n6 , June , 4750.00 , 8223.00 , \\n7 , July , 4433.00 , 6953.00 , \\n8 , August , 2062.00 , 9041.00 , \\n9 , September , 9329.00 , 10992.00 , \\n10 , October , 16243.00 , 9275.00 , \\n11 , November , 4011.00 ,  , 9690.10\\n12 , December , 17885.00 ,  , 8483.35\\n\\n\\n::::::::::   Measures   ::::::::::::\\n\\nDEFINE\\n    MEASURE \\'IBCS Data\\'[_5 Delta PY] = IF(ISBLANK([_1 FC]), [_1 AC] - [_1 PY], [_1 FC] - [_1 PY])\\n    MEASURE \\'IBCS Data\\'[_2 Max value] = IF(ISBLANK([_1 FC]), \\n  if([_1 AC]□[_1 PY], [_1 AC], [_1 PY]),\\n  if([_1 PY]□[_1 FC], [_1 PY], [_1 FC]))\\n    MEASURE \\'IBCS Data\\'[_1 FC] = SUM(\\'IBCS Data\\'[2023 Predictions])\\n    MEASURE \\'IBCS Data\\'[_1 PY] = SUM(\\'IBCS data\\'[2022])\\n    MEASURE \\'IBCS Data\\'[_1 AC] = SUM(\\'IBCS data\\'[2023])\\n    MEASURE \\'IBCS Data\\'[_6 Delta PY %] = DIVIDE ( [_5 Delta PY], [_1 PY] )\\n    MEASURE \\'IBCS Data\\'[_5 Delta PY Line] = [_4 ACPY MAX] * 2.3\\n    MEASURE \\'IBCS Data\\'[_5 Delta PY Line Positive AC] = IF(ISBLANK([_1 FC]),IF([_5 Delta PY] □0, [_5 Delta PY Line] + [_5 Delta PY], blank()))\\n    MEASURE \\'IBCS Data\\'[_5 Delta PY Line 2] = [_5 Delta PY Line]\\n    MEASURE \\'IBCS Data\\'[_5 Delta PY Line Negative AC] = IF(ISBLANK([_1 FC]),\\nIF([_5 Delta PY] ●0, [_5 Delta PY Line] + [_5 Delta PY], blank())\\n)\\n    MEASURE \\'IBCS Data\\'[_6 Delta PY % Line] = [_4 ACPY MAX] * 3.8\\n    MEASURE \\'IBCS Data\\'[_6 Delta PY % Line 2] = [_6 Delta PY % Line]\\n    MEASURE \\'IBCS Data\\'[_6 Delta PY % Line Positive AC] = IF(ISBLANK([_1 FC]),\\nIF([_6 Delta PY %] □0,  [_6 Delta PY % Line] + [_6 Delta PY %]*[_7 Percentage Bar Modifier], blank()))\\n    MEASURE \\'IBCS Data\\'[_6 Delta PY % Line Negative AC] = IF(ISBLANK([_1 FC]),IF([_6 Delta PY %] ● 0, [_6 Delta PY % Line] + [_6 Delta PY %]*[_7 Percentage Bar Modifier], blank()))\\n    MEASURE \\'IBCS Data\\'[_3 title color top] = IF(ISBLANK([_1 FC]), \\nif([_5 Delta PY] □ 0,  \"#000000\", \"#B3B3B3\"),\\nif([_5 Delta PY] □ 0,  \"#118DFF\", \"#B3B3B3\"))\\n    MEASURE \\'IBCS Data\\'[_3 title color bot] = IF(ISBLANK([_1 FC]), \\nif([_5 Delta PY] ● 0,  \"#000000\", \"#B3B3B3\"),\\nif([_5 Delta PY] ● 0,  \"#118DFF\", \"#B3B3B3\"))\\n    MEASURE \\'IBCS Data\\'[_6 Delta PY % Line FC] = IF(ISBLANK([_1 FC]),blank(), [_6 Delta PY % Line] + [_6 Delta PY %]*[_7 Percentage Bar Modifier])\\n    MEASURE \\'IBCS Data\\'[_5 Delta PY Line Negative FC] = IF(ISBLANK([_1 FC]),blank(),\\nIF([_5 Delta PY] ●0, [_5 Delta PY Line] + [_5 Delta PY])\\n)\\n    MEASURE \\'IBCS Data\\'[_5 Delta PY Line 3] = [_5 Delta PY Line]\\n    MEASURE \\'IBCS Data\\'[_6 Delta PY % Line 3] = [_6 Delta PY % Line]\\n    MEASURE \\'IBCS Data\\'[_7 Delta PY % Vals] = IF([_6 Delta PY %] ● 0,[_6 Delta PY % Line]* 0.92 + [_6 Delta PY %]*[_7 Percentage Bar Modifier],  [_6 Delta PY % Line] + [_6 Delta PY %]*[_7 Percentage Bar Modifier])\\n    MEASURE \\'IBCS Data\\'[_5 Delta PY Line Postivie FC] = IF(ISBLANK([_1 FC]),blank(),\\nIF([_5 Delta PY] □0, [_5 Delta PY Line] + [_5 Delta PY])\\n)\\n    MEASURE \\'IBCS Data\\'[_7 Delta PY % label] = DIVIDE ( [_5 Delta PY], [_1 PY] )*100\\n    MEASURE \\'IBCS Data\\'[_4 ACPY MAX] = MAXX(ALLSELECTED(\\'IBCS Data\\'), [_2 Max value])\\n    MEASURE \\'IBCS Data\\'[_4 Y Axis Max] = [_4 ACPY MAX] * 4.8\\n    MEASURE \\'IBCS Data\\'[_2 Min value] = IF(ISBLANK([_1 FC]), \\n  if([_1 AC]●[_1 PY], [_1 AC], [_1 PY]),\\n  if([_1 PY]●[_1 FC], [_1 PY], [_1 FC]))\\n    MEASURE \\'IBCS Data\\'[_7 Delta PY % label Color] = IF(ISBLANK([_1 FC]), \\nif([_5 Delta PY] □ 0,  \"#3C931A\", \"#D64550\"),  \"#118DFF\")\\n    MEASURE \\'IBCS Data\\'[_7 Percentage Bar Modifier] = DIVIDE( [_4 ACPY MAX], MAXX(ALLSELECTED(\\'IBCS Data\\'), [_6 Delta PY %]))*0.7', 'thumbnails': {'default': {'url': 'https://i.ytimg.com/vi/jvJd-Vqa8EU/default.jpg', 'width': 120, 'height': 90}, 'medium': {'url': 'https://i.ytimg.com/vi/jvJd-Vqa8EU/mqdefault.jpg', 'width': 320, 'height': 180}, 'high': {'url': 'https://i.ytimg.com/vi/jvJd-Vqa8EU/hqdefault.jpg', 'width': 480, 'height': 360}, 'standard': {'url': 'https://i.ytimg.com/vi/jvJd-Vqa8EU/sddefault.jpg', 'width': 640, 'height': 480}, 'maxres': {'url': 'https://i.ytimg.com/vi/jvJd-Vqa8EU/maxresdefault.jpg', 'width': 1280, 'height': 720}}, 'channelTitle': 'Power BI Park', 'playlistId': 'UU6g1VsTNgW1ntdW97wwL6nw', 'position': 23, 'resourceId': {'kind': 'youtube#video', 'videoId': 'jvJd-Vqa8EU'}, 'videoOwnerChannelTitle': 'Power BI Park', 'videoOwnerChannelId': 'UC6g1VsTNgW1ntdW97wwL6nw'}}, {'kind': 'youtube#playlistItem', 'etag': 'sMKB9j7HTHYxkX0X1S6f8KvAflU', 'id': 'VVU2ZzFWc1ROZ1cxbnRkVzk3d3dMNm53LjRLbjlqbWdVbG5Z', 'snippet': {'publishedAt': '2024-02-24T06:40:30Z', 'channelId': 'UC6g1VsTNgW1ntdW97wwL6nw', 'title': '[IBCS] New Column chart in Power BI - Feb 2024 Update', 'description': 'This is a tutorial on clustered bar charts in Power BI\\n\\n\\n=================================\\n🔥 IBCS Template: https://www.ibcs.com/resource/multi-tier-bar-charts/\\n\\n🔥 PBI Core Visual Update: https://www.linkedin.com/pulse/additional-enhancements-columns-bars-ribbons-pbicorevisuals-u2lie%3FtrackingId=KdCy7OKoTl%252BaJUdHZdK3%252BA%253D%253D/?trackingId=KdCy7OKoTl%2BaJUdHZdK3%2BA%3D%3D \\n\\n🔥 IBCS style Matrix Tutorial:  https://youtu.be/Oe6hq4I32tg?si=R37Rk3BzFMKLDMcb\\n=================================\\n\\n:::::::::::  Data   :::::::::::::::\\n\\nMonth Number , Month , 2022 , 2023 ,2023 Predictions\\n1 , January , 2825.00 , 7140.00 , \\n2 , February , 5005.00 , 1614.00 , \\n3 , March , 3612.00 , 14752.00 , \\n4 , April , 2978.00 , 933.00 , \\n5 , May , 8662.00 , 6343.00 , \\n6 , June , 4750.00 , 8223.00 , \\n7 , July , 4433.00 , 6953.00 , \\n8 , August , 2062.00 , 9041.00 , \\n9 , September , 9329.00 , 10992.00 , \\n10 , October , 16243.00 , 9275.00 , \\n11 , November , 4011.00 ,  , 9690.10\\n12 , December , 17885.00 ,  , 8483.35\\n\\n\\n::::::::::   Measures   ::::::::::::\\n\\nDEFINE\\n    MEASURE \\'IBCS data\\'[DeltaPY] = IF(ISBLANK([FC]), [AC] - [PY], [FC] - [PY])\\n    MEASURE \\'IBCS data\\'[Max value] = IF(ISBLANK([FC]), \\n  if([AC]□[PY], [AC], [PY]),\\n  if([PY]□[FC], [PY], [FC]))\\n    MEASURE \\'IBCS data\\'[FC] = SUM(\\'IBCS data\\'[2023 Predictions])\\n    MEASURE \\'IBCS data\\'[PY] = SUM(\\'IBCS data\\'[2022])\\n    MEASURE \\'IBCS data\\'[AC] = SUM(\\'IBCS data\\'[2023])\\n    MEASURE \\'IBCS data\\'[Red Max] = If([DeltaPY] ● 0, [Max value])\\n    MEASURE \\'IBCS data\\'[Green Max] = If([DeltaPY] □ 0, [Max value])\\n    MEASURE \\'IBCS data\\'[Delta Color] = IF( [DeltaPY] ● 0,  \"#ff0000\",\"#008e96\")\\n    MEASURE \\'IBCS data\\'[DeltaPY %] = DIVIDE ( [DeltaPY], [PY] )\\n\\n\\nThanks for watching!', 'thumbnails': {'default': {'url': 'https://i.ytimg.com/vi/4Kn9jmgUlnY/default.jpg', 'width': 120, 'height': 90}, 'medium': {'url': 'https://i.ytimg.com/vi/4Kn9jmgUlnY/mqdefault.jpg', 'width': 320, 'height': 180}, 'high': {'url': 'https://i.ytimg.com/vi/4Kn9jmgUlnY/hqdefault.jpg', 'width': 480, 'height': 360}, 'standard': {'url': 'https://i.ytimg.com/vi/4Kn9jmgUlnY/sddefault.jpg', 'width': 640, 'height': 480}, 'maxres': {'url': 'https://i.ytimg.com/vi/4Kn9jmgUlnY/maxresdefault.jpg', 'width': 1280, 'height': 720}}, 'channelTitle': 'Power BI Park', 'playlistId': 'UU6g1VsTNgW1ntdW97wwL6nw', 'position': 24, 'resourceId': {'kind': 'youtube#video', 'videoId': '4Kn9jmgUlnY'}, 'videoOwnerChannelTitle': 'Power BI Park', 'videoOwnerChannelId': 'UC6g1VsTNgW1ntdW97wwL6nw'}}, {'kind': 'youtube#playlistItem', 'etag': 'pyRetMYdGk03nMzPXbvC0Wf90qc', 'id': 'VVU2ZzFWc1ROZ1cxbnRkVzk3d3dMNm53Lk9lNmhxNEkzMnRn', 'snippet': {'publishedAt': '2024-02-20T14:49:36Z', 'channelId': 'UC6g1VsTNgW1ntdW97wwL6nw', 'title': 'NATIVE Power BI Table - Advanced Tutorial', 'description': \"Make this with a native PBI Table!\\n\\n\\n=================================\\nAndrzej's Github🔥https://github.com/avatorl/IBCS-for-Power-BI\\n\\nAndrzej's IBCS video🔥https://www.youtube.com/watch?v=RAiMq2MWDHM&ab_channel=DataVisualizationinPowerBIandBeyond\\n\\nDavide's Github🔥https://github.com/PBI-David/SVG\\n\\nBrian Julius' post: TOCSV🔥https://www.linkedin.com/posts/brianjuliusdc_tocsv-best-practices-activity-7157252558837678080-OR9N?utm_source=share&utm_medium=member_desktop\\n\\nKerry Kolosko's SVG Templates🔥https://kerrykolosko.com/portfolio-category/svg-templates/\\n\\nWorkout Wednesday Table🔥https://workout-wednesday.com/pbi-2023-w42/\\n\\nBase64 converter🔥https://www.base64-image.de/\\n\\nIcon8 (free license)🔥https://icons8.com/icon/set/flags/fluency\\n=================================\\n\\n\\n\\n\\nDATA:\\n\\nCountry , Region , 2022 , 2023\\nUnited States , North America , 8975632 , 9123459\\nChina , Asia , 9421543 , 8587312\\nJapan , Asia , 7823874 , 7235981\\nGermany , Europe , 6548910 , 6826789\\nUnited Kingdom , Europe , 5412345 , 5689123\\nFrance , Europe , 4623981 , 4965874\\nCanada , North America , 3231567 , 3412789\\nAustralia , Oceania , 2865432 , 2648921\\nIndia , Asia , 6912876 , 6310453\\nBrazil , South America , 3621567 , 3856789\\nSouth Korea , Asia , 2312765 , 2487654\\nRussia , Europe , 1987234 , 1754321\\nItaly , Europe , 4156789 , 4423567\\nSpain , Europe , 3365432 , 3132654\\nMexico , North America , 2721987 , 2985432\\nSouth Africa , Africa , 1432345 , 1678432\\nSaudi Arabia , Asia , 1654321 , 1598765\\nTurkey , Asia , 2213876 , 2109876\\nArgentina , South America , 1821543 , 1754321\\nNetherlands , Europe , 3812765 , 3753987\", 'thumbnails': {'default': {'url': 'https://i.ytimg.com/vi/Oe6hq4I32tg/default.jpg', 'width': 120, 'height': 90}, 'medium': {'url': 'https://i.ytimg.com/vi/Oe6hq4I32tg/mqdefault.jpg', 'width': 320, 'height': 180}, 'high': {'url': 'https://i.ytimg.com/vi/Oe6hq4I32tg/hqdefault.jpg', 'width': 480, 'height': 360}, 'standard': {'url': 'https://i.ytimg.com/vi/Oe6hq4I32tg/sddefault.jpg', 'width': 640, 'height': 480}, 'maxres': {'url': 'https://i.ytimg.com/vi/Oe6hq4I32tg/maxresdefault.jpg', 'width': 1280, 'height': 720}}, 'channelTitle': 'Power BI Park', 'playlistId': 'UU6g1VsTNgW1ntdW97wwL6nw', 'position': 25, 'resourceId': {'kind': 'youtube#video', 'videoId': 'Oe6hq4I32tg'}, 'videoOwnerChannelTitle': 'Power BI Park', 'videoOwnerChannelId': 'UC6g1VsTNgW1ntdW97wwL6nw'}}, {'kind': 'youtube#playlistItem', 'etag': 'Q6uPgmhpR2M1ayiZAnHiesVf-Yc', 'id': 'VVU2ZzFWc1ROZ1cxbnRkVzk3d3dMNm53LkNjVVYtOV96NXVZ', 'snippet': {'publishedAt': '2023-11-17T08:19:09Z', 'channelId': 'UC6g1VsTNgW1ntdW97wwL6nw', 'title': 'New Button Slicer Tutorial - Power BI (Nov 2023 Update)', 'description': 'Step-by-step: Make this Report with Native Power BI Visuals!\\nThis is how to use the New Slicer Visual\\n\\n=================================\\n🔥Original Design: https://www.linkedin.com/posts/matthewspuffard_websitedeveloper-powerbi-nike-activity-6970636591924944896-m7Fp?utm_source=share&utm_medium=member_desktop\\n🔥https://baseone.uk/\\n\\n🔥Dataset: https://data.world/data-hut/product-data-from-nike\\n\\n🔥Download the latest Desktop version: https://www.microsoft.com/en-us/download/details.aspx?id=58494\\n=================================\\n\\n00:00 - Intro\\n00:27 - Dataset\\n01:18 - PowerQuery\\n03:00 - New Slicer\\n04:10 - Size & Style\\n05:10 - Title\\n05:35 - Slicer Settings\\n06:55 - Shape\\n07:20 - Layout\\n09:20 - Callout Values\\n13:30 - Images\\n15:50 - Button Options\\n17:40 - Dashboard Design\\nThanks for taking the time to watch this video. \\n\\n\\n\\n#powerbi #copilot #microsoft', 'thumbnails': {'default': {'url': 'https://i.ytimg.com/vi/CcUV-9_z5uY/default.jpg', 'width': 120, 'height': 90}, 'medium': {'url': 'https://i.ytimg.com/vi/CcUV-9_z5uY/mqdefault.jpg', 'width': 320, 'height': 180}, 'high': {'url': 'https://i.ytimg.com/vi/CcUV-9_z5uY/hqdefault.jpg', 'width': 480, 'height': 360}, 'standard': {'url': 'https://i.ytimg.com/vi/CcUV-9_z5uY/sddefault.jpg', 'width': 640, 'height': 480}, 'maxres': {'url': 'https://i.ytimg.com/vi/CcUV-9_z5uY/maxresdefault.jpg', 'width': 1280, 'height': 720}}, 'channelTitle': 'Power BI Park', 'playlistId': 'UU6g1VsTNgW1ntdW97wwL6nw', 'position': 26, 'resourceId': {'kind': 'youtube#video', 'videoId': 'CcUV-9_z5uY'}, 'videoOwnerChannelTitle': 'Power BI Park', 'videoOwnerChannelId': 'UC6g1VsTNgW1ntdW97wwL6nw'}}, {'kind': 'youtube#playlistItem', 'etag': 'jf6tHpH_N9UfvdDB2fJS22h4Vbs', 'id': 'VVU2ZzFWc1ROZ1cxbnRkVzk3d3dMNm53LlpTclZPeUtBQzRZ', 'snippet': {'publishedAt': '2023-09-28T11:27:47Z', 'channelId': 'UC6g1VsTNgW1ntdW97wwL6nw', 'title': 'Advanced Power BI Project • End-to-End • ChatGPT • Custom Visuals', 'description': 'Learn how to use Python, ChatGPT, HTML, DENEB to make this report. \\n\\nJoin my PowerBI Classroom\\n💯https://www.skool.com/powerbipark/about\\n\\n\\n🟢Skip the python with the enriched Dataset: https://onyxdata.ck.page/a12261b1fb\\n\\n00:00 - Intro\\n00:46 - Download and Enrich Dataset\\n05:55 - Glassmorphism Background \\n11:50 - Power BI \\n17:38 - HTML Visual \\n20:33 - DENEB Visuals \\n29:58 - Power BI Formatting \\n\\nI wanted this to be a step into Advanced Visualization Techniques, \\nespecially if you\\'re a Power BI developer and haven\\'t used them before\\n\\nThe Video covers:\\n💠Enriched dataset with ChatGPT & Python \\n💠Glassmorphism Background\\n💠Power BI Building\\n💠HTML Cover Art\\n💠DENEB Visuals\\n💠PBI Format\\n\\nYou want the Python code? Scroll down 👇\\n\\n=================================\\n🔥Code Interpreter for Data Analysis\\n🔗https://youtu.be/WCtjoKJdx3w?si=8N_sGWM0dFo9nH1e\\n\\n🔥Power BI Backgrounds\\n🔗https://youtu.be/YP1Tr7nrwNI?si=P3RhJycSGspGyXpj\\n\\n🔥Bravo in Power BI \\n🔗https://youtu.be/_NEnQNp102U?si=KC9ARXr2cE1ikCa-&t=457\\n\\n🔥Ahmed\\'s Portfolio\\n🔗https://photos.google.com/share/AF1QipNqulXXlB1nFDSeglnIG3ftPOY-F79O3Z3lliW6u5nvNTfHPxWd_T2sWvy0q4sG5A?key=eTFFOTdrSlJxRlRmN29iSHdMeVFLSmhfUmdqOWJn\\n\\n🔥Dataset\\n🔗https://www.kaggle.com/datasets/nelgiriyewithana/top-spotify-songs-2023?resource=download\\n\\n🔥Spotify Developer App \\n🔗https://developer.spotify.com/\\n\\n🔥Download Python\\n🔗https://www.python.org/downloads/\\n\\n🔥David\\'s Deneb Showcase\\n🔗https://github.com/PBI-David/Deneb-Showcase\\n\\n🔥Unit Chart Code\\n🔗https://stackoverflow.com/questions/75881301/convert-vega-deneb-gauge-to-work-in-powerbi\\n\\n🔥Heatmap Code\\n🔗https://github.com/PowerBI-tips/Deneb-Templates/blob/main/templates/heatmap%20with%20bars%20-%20red%20themed.json\\n\\n🔥Color Pallette\\n🔗https://www.color-hex.com/color-palette/53188\\n=================================\\n\\n\\nLooking for Power BI consulting? \\n\\nReach out to me on Linkedin:\\n🟢https://www.linkedin.com/in/injae-park/\\n\\nThanks for taking the time to watch this video. \\n\\nPython code:\\n=====================================================\\nimport requests\\nimport pandas as pd\\n\\n# Function to get Spotify access token\\ndef get_spotify_token(client_id, client_secret):\\nauth_url = \\'https://accounts.spotify.com/api/token\\'\\nauth_response = requests.post(auth_url, {\\n\\'grant_type\\': \\'client_credentials\\',\\n\\'client_id\\': client_id,\\n\\'client_secret\\': client_secret,\\n})\\nauth_data = auth_response.json()\\nreturn auth_data[\\'access_token\\']\\n\\n# Function to search for a track and get its ID\\ndef search_track(track_name, artist_name, token):\\nquery = f\"{track_name} artist:{artist_name}\"\\nurl = f\"https://api.spotify.com/v1/search?q={query}&type=track\"\\nresponse = requests.get(url, headers={\\n\\'Authorization\\': f\\'Bearer {token}\\'\\n})\\njson_data = response.json()\\ntry:\\nfirst_result = json_data[\\'tracks\\'][\\'items\\'][0]\\ntrack_id = first_result[\\'id\\']\\nreturn track_id\\nexcept (KeyError, IndexError):\\nreturn None\\n\\n# Function to get track details\\ndef get_track_details(track_id, token):\\nurl = f\"https://api.spotify.com/v1/tracks/{track_id}\"\\nresponse = requests.get(url, headers={\\n\\'Authorization\\': f\\'Bearer {token}\\'\\n})\\njson_data = response.json()\\nimage_url = json_data[\\'album\\'][\\'images\\'][0][\\'url\\']\\nreturn image_url\\n\\n# Your Spotify API Credentials\\nclient_id = \\'your_client_id\\'\\nclient_secret = \\'your_client_secret\\'\\n\\n# Get Access Token\\naccess_token = get_spotify_token(client_id, client_secret)\\n\\n# Read your DataFrame (replace \\'your_file.csv\\' with the path to your CSV file)\\ndf_spotify = pd.read_csv(\\'your_file.csv\\', encoding=\\'ISO-8859-1\\')\\n\\n# Loop through each row to get track details and add to DataFrame\\nfor i, row in df_spotify.iterrows():\\ntrack_id = search_track(row[\\'track_name\\'], row[\\'artist_name\\'], access_token)\\nif track_id:\\nimage_url = get_track_details(track_id, access_token)\\ndf_spotify.at[i, \\'image_url\\'] = image_url\\n\\n# Save the updated DataFrame (replace \\'updated_file.csv\\' with your desired output file name)\\ndf_spotify.to_csv(\\'updated_file.csv\\', index=False)\\n\\n===============================================\\n!!!! All curly brackets need to be angled brackets - youtube restricts angled brackets in this text\\n\\n_Image html =\\nVar x =\\nCALCULATE(\\nMAX(\\'updated_spotify_data\\'[cover_url]),\\n\\'updated_spotify_data\\'[streams] = MAX(\\'updated_spotify_data\\'[streams])\\n)\\nreturn\\n\\n\"\\n{!DOCTYPE html}\\n{html lang=\\'en\\'}\\n{head}\\n{meta charset=\\'UTF-8\\'}\\n{title}Image Cropping{/title}\\n{style}\\n.image-container {\\nwidth: 458px; /* Width of the container */\\nheight: 140px; /* Height of the container */\\noverflow: hidden; /* Hide parts of the image that don\\'t fit */\\nborder-radius: 15px; /* Rounded corners */\\nposition: relative; /* Relative positioning for the child element */\\n}\\n\\n.image {\\nobject-fit: cover; /* Cover the entire container */\\nobject-position: center; /* Center the image */\\nwidth: 100%; /* Full width */\\nheight: 100%; /* Full height */\\n}\\n{/style}\\n{/head}\\n{body}\\n{div class=\\'image-container\\'}\\n{img src=\\'\"&x&\"\\' alt=\\'Album Cover\\' class=\\'image\\'}\\n{/div}\\n{/body}\\n{/html}\\n\"\\n=======================================================\\n\\n\\n\\n\\n#powerbi #shortcuts #microsoft', 'thumbnails': {'default': {'url': 'https://i.ytimg.com/vi/ZSrVOyKAC4Y/default.jpg', 'width': 120, 'height': 90}, 'medium': {'url': 'https://i.ytimg.com/vi/ZSrVOyKAC4Y/mqdefault.jpg', 'width': 320, 'height': 180}, 'high': {'url': 'https://i.ytimg.com/vi/ZSrVOyKAC4Y/hqdefault.jpg', 'width': 480, 'height': 360}, 'standard': {'url': 'https://i.ytimg.com/vi/ZSrVOyKAC4Y/sddefault.jpg', 'width': 640, 'height': 480}, 'maxres': {'url': 'https://i.ytimg.com/vi/ZSrVOyKAC4Y/maxresdefault.jpg', 'width': 1280, 'height': 720}}, 'channelTitle': 'Power BI Park', 'playlistId': 'UU6g1VsTNgW1ntdW97wwL6nw', 'position': 27, 'resourceId': {'kind': 'youtube#video', 'videoId': 'ZSrVOyKAC4Y'}, 'videoOwnerChannelTitle': 'Power BI Park', 'videoOwnerChannelId': 'UC6g1VsTNgW1ntdW97wwL6nw'}}, {'kind': 'youtube#playlistItem', 'etag': 'R4CCfshrsBxjGtkRaHbnGcwDpVM', 'id': 'VVU2ZzFWc1ROZ1cxbnRkVzk3d3dMNm53LmU3eXhDUUViZVlz', 'snippet': {'publishedAt': '2023-09-13T06:00:14Z', 'channelId': 'UC6g1VsTNgW1ntdW97wwL6nw', 'title': '5 Shortcuts to write DAX faster - Power BI', 'description': 'This is the most asked question on my channel, so I made a video to explain.\\n\\n=================================\\n🔥All Shortcuts:\\n🔗https://learn.microsoft.com/en-us/power-bi/create-reports/desktop-accessibility-keyboard-shortcuts?WT.mc_id=DX-MVP-5005331\\n=================================\\n\\n\\nCome find me on Linkedin: https://www.linkedin.com/in/injae-park/\\n\\nThanks for taking the time to watch this video. \\n\\n#powerbi #shortcuts #microsoft', 'thumbnails': {'default': {'url': 'https://i.ytimg.com/vi/e7yxCQEbeYs/default.jpg', 'width': 120, 'height': 90}, 'medium': {'url': 'https://i.ytimg.com/vi/e7yxCQEbeYs/mqdefault.jpg', 'width': 320, 'height': 180}, 'high': {'url': 'https://i.ytimg.com/vi/e7yxCQEbeYs/hqdefault.jpg', 'width': 480, 'height': 360}, 'standard': {'url': 'https://i.ytimg.com/vi/e7yxCQEbeYs/sddefault.jpg', 'width': 640, 'height': 480}, 'maxres': {'url': 'https://i.ytimg.com/vi/e7yxCQEbeYs/maxresdefault.jpg', 'width': 1280, 'height': 720}}, 'channelTitle': 'Power BI Park', 'playlistId': 'UU6g1VsTNgW1ntdW97wwL6nw', 'position': 28, 'resourceId': {'kind': 'youtube#video', 'videoId': 'e7yxCQEbeYs'}, 'videoOwnerChannelTitle': 'Power BI Park', 'videoOwnerChannelId': 'UC6g1VsTNgW1ntdW97wwL6nw'}}, {'kind': 'youtube#playlistItem', 'etag': 'KEuMFg9AQjsxhxMoNMjFGWYqmLw', 'id': 'VVU2ZzFWc1ROZ1cxbnRkVzk3d3dMNm53LldDdGpvS0pkeDN3', 'snippet': {'publishedAt': '2023-08-08T07:45:02Z', 'channelId': 'UC6g1VsTNgW1ntdW97wwL6nw', 'title': 'Code Interpreter for Data Analysis - ChatGPT (July 2023 update)', 'description': 'ALL PROMPTS IN DESCRIPTION.\\nGenerative AI is everywhere, but what can it do for data analysts? \\nIn this video, I try to showcase how data analysts can take advantage of the code interpreter. \\n\\n\\n=================================\\n\\nOpenAI:\\n🔗https://chat.openai.com/\\n\\nDataset:\\n🔗https://onyxdata.ck.page/1e8beb9b02\\n🔗https://onyxdata.co.uk/data-dna-dataset-challenge/\\n\\n=================================\\n\\nCome find me on Linkedin: https://www.linkedin.com/in/injae-park/\\n\\nThanks for taking the time to watch this video. \\n\\n#powerbi #copilot #microsoft \\n\\n=================================\\n\\n\\nPROMPTS:\\n----------------------\\nLoad this data and analyze it, check for inconsistencies\\n\\nThis data has 2 sheets, one which has a data dictionary, and one which has the data\\n----------------------\\nTake this dataset, and normalize the data to be used in a power bi report. Make sure to follow best practices such as star schema.\\n----------------------\\nYou are a power bi report developer, who is creating a dashboard with this hotel data. Your end user are regional level managers, and c-suite members. As such, you need a dashboard that shows overall statistics and trends, but also regional data. \\n\\nTry to come up with KPIs that fit this dashboard, while including their formulas\\n----------------------\\nmake 5-6 visuals as well as these KPIs to be used in a dashboard\\n----------------------\\nCreate all the KPIs and visuals in a layout\\n----------------------\\nCreate all the KPIs and visuals in a layout for a dashboard, keeping in mind gestalt principles, and general sizes of the objects. \\n\\nUse text to show spatial area, using dashes and lines\\n----------------------', 'thumbnails': {'default': {'url': 'https://i.ytimg.com/vi/WCtjoKJdx3w/default.jpg', 'width': 120, 'height': 90}, 'medium': {'url': 'https://i.ytimg.com/vi/WCtjoKJdx3w/mqdefault.jpg', 'width': 320, 'height': 180}, 'high': {'url': 'https://i.ytimg.com/vi/WCtjoKJdx3w/hqdefault.jpg', 'width': 480, 'height': 360}, 'standard': {'url': 'https://i.ytimg.com/vi/WCtjoKJdx3w/sddefault.jpg', 'width': 640, 'height': 480}, 'maxres': {'url': 'https://i.ytimg.com/vi/WCtjoKJdx3w/maxresdefault.jpg', 'width': 1280, 'height': 720}}, 'channelTitle': 'Power BI Park', 'playlistId': 'UU6g1VsTNgW1ntdW97wwL6nw', 'position': 29, 'resourceId': {'kind': 'youtube#video', 'videoId': 'WCtjoKJdx3w'}, 'videoOwnerChannelTitle': 'Power BI Park', 'videoOwnerChannelId': 'UC6g1VsTNgW1ntdW97wwL6nw'}}, {'kind': 'youtube#playlistItem', 'etag': '2XB5wWXsYuXyxbxPYh9y09bDCt4', 'id': 'VVU2ZzFWc1ROZ1cxbnRkVzk3d3dMNm53Lmp2d1QxS1M4NmRV', 'snippet': {'publishedAt': '2023-06-14T07:15:01Z', 'channelId': 'UC6g1VsTNgW1ntdW97wwL6nw', 'title': 'New Card Visual Tutorial - Power BI (June 2023 Update)', 'description': \"This is how to use the New Card Visual in Power BI (June 2023 Update)\\n\\n=================================\\n🔥June 2023 PowerBI Update : https://www.microsoft.com/en-us/download/details.aspx?id=58494\\n\\n🔥Kerry Kolosko's Website: https://kerrykolosko.com/ \\n\\n🔥Flaticon : https://www.flaticon.com/free-icons/box\\nBox icons created by wanicon - Flaticon\\n=================================\\n\\n\\nCome find me on Linkedin: https://www.linkedin.com/in/injae-park/\\n\\nThanks for taking the time to watch this video. \\n\\n#powerbi #copilot #microsoft\", 'thumbnails': {'default': {'url': 'https://i.ytimg.com/vi/jvwT1KS86dU/default.jpg', 'width': 120, 'height': 90}, 'medium': {'url': 'https://i.ytimg.com/vi/jvwT1KS86dU/mqdefault.jpg', 'width': 320, 'height': 180}, 'high': {'url': 'https://i.ytimg.com/vi/jvwT1KS86dU/hqdefault.jpg', 'width': 480, 'height': 360}, 'standard': {'url': 'https://i.ytimg.com/vi/jvwT1KS86dU/sddefault.jpg', 'width': 640, 'height': 480}, 'maxres': {'url': 'https://i.ytimg.com/vi/jvwT1KS86dU/maxresdefault.jpg', 'width': 1280, 'height': 720}}, 'channelTitle': 'Power BI Park', 'playlistId': 'UU6g1VsTNgW1ntdW97wwL6nw', 'position': 30, 'resourceId': {'kind': 'youtube#video', 'videoId': 'jvwT1KS86dU'}, 'videoOwnerChannelTitle': 'Power BI Park', 'videoOwnerChannelId': 'UC6g1VsTNgW1ntdW97wwL6nw'}}, {'kind': 'youtube#playlistItem', 'etag': 'F0kEh_MT544tL18Sx-O3bQSrsEc', 'id': 'VVU2ZzFWc1ROZ1cxbnRkVzk3d3dMNm53LmFnQ05XQWtwYWlz', 'snippet': {'publishedAt': '2023-06-03T07:15:00Z', 'channelId': 'UC6g1VsTNgW1ntdW97wwL6nw', 'title': 'Copilot in Power BI - Quick Measures (May 2023 Update)', 'description': 'This is how to enable the first version of copilot in Power BI - the Quick Measure upgrade\\n\\n\\n=================================\\n🔥May 2023 PowerBI Update : https://powerbi.microsoft.com/en-sg/blog/power-bi-may-2023-feature-summary/\\n\\n🔥MS Fabric Library : https://www.linkedin.com/feed/update/urn:li:activity:7067037321421856768/\\n\\n🔥Bravo : https://bravo.bi/\\n=================================\\n\\n\\nCome find me on Linkedin: https://www.linkedin.com/in/injae-park/\\n\\nThanks for taking the time to watch this video. \\n\\n#powerbi #copilot #microsoft', 'thumbnails': {'default': {'url': 'https://i.ytimg.com/vi/agCNWAkpais/default.jpg', 'width': 120, 'height': 90}, 'medium': {'url': 'https://i.ytimg.com/vi/agCNWAkpais/mqdefault.jpg', 'width': 320, 'height': 180}, 'high': {'url': 'https://i.ytimg.com/vi/agCNWAkpais/hqdefault.jpg', 'width': 480, 'height': 360}, 'standard': {'url': 'https://i.ytimg.com/vi/agCNWAkpais/sddefault.jpg', 'width': 640, 'height': 480}, 'maxres': {'url': 'https://i.ytimg.com/vi/agCNWAkpais/maxresdefault.jpg', 'width': 1280, 'height': 720}}, 'channelTitle': 'Power BI Park', 'playlistId': 'UU6g1VsTNgW1ntdW97wwL6nw', 'position': 31, 'resourceId': {'kind': 'youtube#video', 'videoId': 'agCNWAkpais'}, 'videoOwnerChannelTitle': 'Power BI Park', 'videoOwnerChannelId': 'UC6g1VsTNgW1ntdW97wwL6nw'}}, {'kind': 'youtube#playlistItem', 'etag': 'vCnYt6e5TVWJpQacY-t3fLAQLmY', 'id': 'VVU2ZzFWc1ROZ1cxbnRkVzk3d3dMNm53LkJXdldGdTkyaHI0', 'snippet': {'publishedAt': '2023-04-25T19:02:19Z', 'channelId': 'UC6g1VsTNgW1ntdW97wwL6nw', 'title': 'Transform your Power BI Reports in 7 Steps', 'description': \"Here's how:\\n\\nCheck these links!\\n🔗Microsoft's training for better Reports:\\nhttps://learn.microsoft.com/en-us/training/modules/power-bi-effective-ui/\\n\\nImage source:\\n🔗A Power BI Report to help you make better Power BI Reports:\\nhttps://msit.powerbi.com/view?r=eyJrIjoiMTNmNjkwNTgtMjZkNS00Yzc2LWJkYmYtN2ZkZjIzOWU1ZjVjIiwidCI6IjcyZjk4OGJmLTg2ZjEtNDFhZi05MWFiLTJkN2NkMDExZGI0NyIsImMiOjV9&pageName=ReportSectionedfc36430c7a93cc07e3\\n\\n🔗A tutorial on Backgrounds and Themes:\\nhttps://youtu.be/YP1Tr7nrwNI\", 'thumbnails': {'default': {'url': 'https://i.ytimg.com/vi/BWvWFu92hr4/default.jpg', 'width': 120, 'height': 90}, 'medium': {'url': 'https://i.ytimg.com/vi/BWvWFu92hr4/mqdefault.jpg', 'width': 320, 'height': 180}, 'high': {'url': 'https://i.ytimg.com/vi/BWvWFu92hr4/hqdefault.jpg', 'width': 480, 'height': 360}, 'standard': {'url': 'https://i.ytimg.com/vi/BWvWFu92hr4/sddefault.jpg', 'width': 640, 'height': 480}, 'maxres': {'url': 'https://i.ytimg.com/vi/BWvWFu92hr4/maxresdefault.jpg', 'width': 1280, 'height': 720}}, 'channelTitle': 'Power BI Park', 'playlistId': 'UU6g1VsTNgW1ntdW97wwL6nw', 'position': 32, 'resourceId': {'kind': 'youtube#video', 'videoId': 'BWvWFu92hr4'}, 'videoOwnerChannelTitle': 'Power BI Park', 'videoOwnerChannelId': 'UC6g1VsTNgW1ntdW97wwL6nw'}}, {'kind': 'youtube#playlistItem', 'etag': 'Y-iNkSdbPqmYBhhPhTiOynuOi2o', 'id': 'VVU2ZzFWc1ROZ1cxbnRkVzk3d3dMNm53LjRIZktIWVhfbkhv', 'snippet': {'publishedAt': '2023-04-18T07:15:00Z', 'channelId': 'UC6g1VsTNgW1ntdW97wwL6nw', 'title': 'Dynamic Format Strings 💠 Basic to Advanced: 5 Techniques', 'description': \"Here's a guide on how to show context with Dynamic Format Strings\\n\\n\\nLinks:\\n=================================\\n🔥Format String Documentation: https://learn.microsoft.com/en-us/power-bi/create-reports/desktop-custom-format-strings\\n🔥April 2023 Power BI release blog: https://powerbi.microsoft.com/pl-pl/blog/power-bi-april-2023-feature-summary/#post-23001-_Toc433340751 \\n🔥Bravo: https://bravo.bi/\\n=================================\\n\\n\\nCheck out my other videos:\\n=================================\\n🟢 1000 measures in 10 minutes : https://youtu.be/_NEnQNp102U\\n🟢 POWER BI with Themes and Backgrounds: https://www.youtube.com/watch?v=YP1Tr7nrwNI&ab_channel=PowerBIPark\\n=================================\\n\\n\\nCome find me on Linkedin: https://www.linkedin.com/in/injae-park/\\n\\nThanks for taking the time to watch this video. \\n\\n#powerbi #dynamicformatstring #microsoft\", 'thumbnails': {'default': {'url': 'https://i.ytimg.com/vi/4HfKHYX_nHo/default.jpg', 'width': 120, 'height': 90}, 'medium': {'url': 'https://i.ytimg.com/vi/4HfKHYX_nHo/mqdefault.jpg', 'width': 320, 'height': 180}, 'high': {'url': 'https://i.ytimg.com/vi/4HfKHYX_nHo/hqdefault.jpg', 'width': 480, 'height': 360}, 'standard': {'url': 'https://i.ytimg.com/vi/4HfKHYX_nHo/sddefault.jpg', 'width': 640, 'height': 480}, 'maxres': {'url': 'https://i.ytimg.com/vi/4HfKHYX_nHo/maxresdefault.jpg', 'width': 1280, 'height': 720}}, 'channelTitle': 'Power BI Park', 'playlistId': 'UU6g1VsTNgW1ntdW97wwL6nw', 'position': 33, 'resourceId': {'kind': 'youtube#video', 'videoId': '4HfKHYX_nHo'}, 'videoOwnerChannelTitle': 'Power BI Park', 'videoOwnerChannelId': 'UC6g1VsTNgW1ntdW97wwL6nw'}}, {'kind': 'youtube#playlistItem', 'etag': 'szaNDFOnpbn62kdTwCE2-jwwjss', 'id': 'VVU2ZzFWc1ROZ1cxbnRkVzk3d3dMNm53LkVNcGViSzFQeklF', 'snippet': {'publishedAt': '2023-04-13T07:15:00Z', 'channelId': 'UC6g1VsTNgW1ntdW97wwL6nw', 'title': 'Master Scatterplots in Power BI: A Step-by-Step Tutorial', 'description': \"This is based on a Data visualization workout by Gustaw Dudek.\\n\\nFollow along this step-by-step tutorial how to make this extremely custom visual!\\n\\nIf you'd like to try this out you can for free:\\n🔥Workout and Data: https://forum.enterprisedna.co/t/data-visualization-workout-002-contractors-profit-analysis/35039\\n\\n🔥Bravo: https://bravo.bi/\\n\\n\\nCome find me on Linkedin: https://www.linkedin.com/in/injae-park/\\n\\nThanks for taking the time to watch this video. \\n\\n#powerbi #powerbipark  #microsoft\", 'thumbnails': {'default': {'url': 'https://i.ytimg.com/vi/EMpebK1PzIE/default.jpg', 'width': 120, 'height': 90}, 'medium': {'url': 'https://i.ytimg.com/vi/EMpebK1PzIE/mqdefault.jpg', 'width': 320, 'height': 180}, 'high': {'url': 'https://i.ytimg.com/vi/EMpebK1PzIE/hqdefault.jpg', 'width': 480, 'height': 360}, 'standard': {'url': 'https://i.ytimg.com/vi/EMpebK1PzIE/sddefault.jpg', 'width': 640, 'height': 480}, 'maxres': {'url': 'https://i.ytimg.com/vi/EMpebK1PzIE/maxresdefault.jpg', 'width': 1280, 'height': 720}}, 'channelTitle': 'Power BI Park', 'playlistId': 'UU6g1VsTNgW1ntdW97wwL6nw', 'position': 34, 'resourceId': {'kind': 'youtube#video', 'videoId': 'EMpebK1PzIE'}, 'videoOwnerChannelTitle': 'Power BI Park', 'videoOwnerChannelId': 'UC6g1VsTNgW1ntdW97wwL6nw'}}, {'kind': 'youtube#playlistItem', 'etag': '38AHoweRpedyQhi6bxZac6IBzYk', 'id': 'VVU2ZzFWc1ROZ1cxbnRkVzk3d3dMNm53LlFYTU1wYWJIUFM0', 'snippet': {'publishedAt': '2023-02-15T06:30:06Z', 'channelId': 'UC6g1VsTNgW1ntdW97wwL6nw', 'title': 'LEVEL UP with Custom Visuals: Power BI🔹HTML🔹Calculation Groups🔹Deneb', 'description': 'How to use: Dynamic Themes/Fonts/Icons using HTML, KPIs with context using Calculation Groups, and Deneb. \\n\\n=================================\\n⭐Try the Dynamic Report here: https://www.novypro.com/project/gradients\\n\\n🔥Google Fonts: https://developers.google.com/fonts/docs/developer_api\\n\\n🔥Flavio Meneses: https://bievolution.co.uk/customise-report-in-real-time/\\n\\n🔥Rui Romano- basis of calculation group: https://github.com/RuiRomano\\n\\n🔥Tabular editor : https://docs.tabulareditor.com/\\n\\n🔥Calculation groups: https://learn.microsoft.com/en-us/analysis-services/tabular-models/calculation-groups?view=asallproducts-allversions\\n\\n🔥Icon Pack: https://remixicon.com/\\n\\n🔥My Heatmap template: https://github.com/PowerBI-tips/Deneb-Templates/blob/main/templates/heatmap%20with%20bars%20-%20red%20themed.json\\n\\n🔥Deneb Documentation: https://deneb-viz.github.io/community/resources\\n\\n🔥Vega-Lite Examples: https://vega.github.io/vega-lite/examples\\n=================================\\n\\n\\nCome find me on Linkedin: https://www.linkedin.com/in/injae-park/\\n\\nThanks for taking the time to watch this video. I hope you learned something!\\n\\n#powerbi #powerbipark  #microsoft', 'thumbnails': {'default': {'url': 'https://i.ytimg.com/vi/QXMMpabHPS4/default.jpg', 'width': 120, 'height': 90}, 'medium': {'url': 'https://i.ytimg.com/vi/QXMMpabHPS4/mqdefault.jpg', 'width': 320, 'height': 180}, 'high': {'url': 'https://i.ytimg.com/vi/QXMMpabHPS4/hqdefault.jpg', 'width': 480, 'height': 360}, 'standard': {'url': 'https://i.ytimg.com/vi/QXMMpabHPS4/sddefault.jpg', 'width': 640, 'height': 480}, 'maxres': {'url': 'https://i.ytimg.com/vi/QXMMpabHPS4/maxresdefault.jpg', 'width': 1280, 'height': 720}}, 'channelTitle': 'Power BI Park', 'playlistId': 'UU6g1VsTNgW1ntdW97wwL6nw', 'position': 35, 'resourceId': {'kind': 'youtube#video', 'videoId': 'QXMMpabHPS4'}, 'videoOwnerChannelTitle': 'Power BI Park', 'videoOwnerChannelId': 'UC6g1VsTNgW1ntdW97wwL6nw'}}, {'kind': 'youtube#playlistItem', 'etag': '7DytCDNBs-Kq6QEDXbwXW6OAlGo', 'id': 'VVU2ZzFWc1ROZ1cxbnRkVzk3d3dMNm53Lm14NEhncGVTX1Nn', 'snippet': {'publishedAt': '2023-01-23T07:46:10Z', 'channelId': 'UC6g1VsTNgW1ntdW97wwL6nw', 'title': '3 Step Power BI Design', 'description': 'I used this method to win the #MavenPizzaChallenge.\\nCheck out my process!\\n\\n\\n=================================\\n🔥The Challenge: https://www.mavenanalytics.io/blog/maven-pizza-challenge\\n\\n🔥Winner Announcement: https://www.linkedin.com/posts/maven-analytics_mavenpizzawinner-activity-6995752827490848769-0qpp?utm_source=share&utm_medium=member_desktop\\n\\n🔥Check out my report : https://www.novypro.com/project/platopizzapowerbipark\\n\\n🔥1 Min video: How to make the heatmap: https://youtube.com/shorts/E2wjo4FaVjk?feature=share\\n=================================\\n\\nCome talk to me on Linkedin: https://www.linkedin.com/in/injae-park/\\n\\nThanks for taking the time to watch this video. \\n\\n#powerbi #powerbipark  #microsoft', 'thumbnails': {'default': {'url': 'https://i.ytimg.com/vi/mx4HgpeS_Sg/default.jpg', 'width': 120, 'height': 90}, 'medium': {'url': 'https://i.ytimg.com/vi/mx4HgpeS_Sg/mqdefault.jpg', 'width': 320, 'height': 180}, 'high': {'url': 'https://i.ytimg.com/vi/mx4HgpeS_Sg/hqdefault.jpg', 'width': 480, 'height': 360}, 'standard': {'url': 'https://i.ytimg.com/vi/mx4HgpeS_Sg/sddefault.jpg', 'width': 640, 'height': 480}, 'maxres': {'url': 'https://i.ytimg.com/vi/mx4HgpeS_Sg/maxresdefault.jpg', 'width': 1280, 'height': 720}}, 'channelTitle': 'Power BI Park', 'playlistId': 'UU6g1VsTNgW1ntdW97wwL6nw', 'position': 36, 'resourceId': {'kind': 'youtube#video', 'videoId': 'mx4HgpeS_Sg'}, 'videoOwnerChannelTitle': 'Power BI Park', 'videoOwnerChannelId': 'UC6g1VsTNgW1ntdW97wwL6nw'}}, {'kind': 'youtube#playlistItem', 'etag': 'eu9VQpLKFGzRbLgfcKvkwahn4T8', 'id': 'VVU2ZzFWc1ROZ1cxbnRkVzk3d3dMNm53LnJobUpBVlpVWGZv', 'snippet': {'publishedAt': '2022-12-11T11:53:09Z', 'channelId': 'UC6g1VsTNgW1ntdW97wwL6nw', 'title': 'Make a 🏠Navigation Page in your Power BI App', 'description': \"This is how to make a Navigation Page for your Power BI App. \\n\\nLinks used:\\n🔥 https://www.base64-image.de/\\n\\nApps are a great way to share multiple reports to end users, especially if they need to be packaged together.\\n\\nHere I showcase how to create a simple dashboard, and use Tiles as a navigation page for your reports.\\n\\nThere are some drawbacks:\\n🔹You can't navigate to a specific Page\\n🔹You can't add a button to a report to navigate back to the dashboard\\n🔹There's no Auto-sizing for dashboards! 💀\\n\\nBut it's a really nice way to have a landing page for your App.\\n\\nThe trick I use here with the Base64 ensures that you will never have a broken image because the link doesn't work 💡\\n\\n#PowerBI #PowerBIApps #LandingPage\", 'thumbnails': {'default': {'url': 'https://i.ytimg.com/vi/rhmJAVZUXfo/default.jpg', 'width': 120, 'height': 90}, 'medium': {'url': 'https://i.ytimg.com/vi/rhmJAVZUXfo/mqdefault.jpg', 'width': 320, 'height': 180}, 'high': {'url': 'https://i.ytimg.com/vi/rhmJAVZUXfo/hqdefault.jpg', 'width': 480, 'height': 360}, 'standard': {'url': 'https://i.ytimg.com/vi/rhmJAVZUXfo/sddefault.jpg', 'width': 640, 'height': 480}, 'maxres': {'url': 'https://i.ytimg.com/vi/rhmJAVZUXfo/maxresdefault.jpg', 'width': 1280, 'height': 720}}, 'channelTitle': 'Power BI Park', 'playlistId': 'UU6g1VsTNgW1ntdW97wwL6nw', 'position': 37, 'resourceId': {'kind': 'youtube#video', 'videoId': 'rhmJAVZUXfo'}, 'videoOwnerChannelTitle': 'Power BI Park', 'videoOwnerChannelId': 'UC6g1VsTNgW1ntdW97wwL6nw'}}, {'kind': 'youtube#playlistItem', 'etag': 'TL52YPAfpDy0x2Daip5Ys8Th274', 'id': 'VVU2ZzFWc1ROZ1cxbnRkVzk3d3dMNm53Ljg5d1FYRVM4cnVR', 'snippet': {'publishedAt': '2022-12-02T06:48:54Z', 'channelId': 'UC6g1VsTNgW1ntdW97wwL6nw', 'title': 'How to Enable 1400+ Dynamic Fonts in Power BI', 'description': 'This is how to enable 1400+ Fonts in Power BI.\\n\\nUse these links for resources from the video:\\n🔥 https://developers.google.com/fonts/docs/developer_api\\n\\n🔥Tabular editor : https://docs.tabulareditor.com/\\n\\n#powerbi #fonts #microsoft', 'thumbnails': {'default': {'url': 'https://i.ytimg.com/vi/89wQXES8ruQ/default.jpg', 'width': 120, 'height': 90}, 'medium': {'url': 'https://i.ytimg.com/vi/89wQXES8ruQ/mqdefault.jpg', 'width': 320, 'height': 180}, 'high': {'url': 'https://i.ytimg.com/vi/89wQXES8ruQ/hqdefault.jpg', 'width': 480, 'height': 360}, 'standard': {'url': 'https://i.ytimg.com/vi/89wQXES8ruQ/sddefault.jpg', 'width': 640, 'height': 480}, 'maxres': {'url': 'https://i.ytimg.com/vi/89wQXES8ruQ/maxresdefault.jpg', 'width': 1280, 'height': 720}}, 'channelTitle': 'Power BI Park', 'playlistId': 'UU6g1VsTNgW1ntdW97wwL6nw', 'position': 38, 'resourceId': {'kind': 'youtube#video', 'videoId': '89wQXES8ruQ'}, 'videoOwnerChannelTitle': 'Power BI Park', 'videoOwnerChannelId': 'UC6g1VsTNgW1ntdW97wwL6nw'}}, {'kind': 'youtube#playlistItem', 'etag': 'DYsROfKqpLCgc6kN0s2eTgWgs98', 'id': 'VVU2ZzFWc1ROZ1cxbnRkVzk3d3dMNm53LjVObHVyck5MMEZJ', 'snippet': {'publishedAt': '2022-11-24T22:30:46Z', 'channelId': 'UC6g1VsTNgW1ntdW97wwL6nw', 'title': 'Dynamic Icons in Power BI', 'description': \"How to make Dynamic Icons in Power BI\\n\\n🔥Icon Pack (it's license free!)\\nhttps://remixicon.com/\\n\\n#powerbi #microsoft #Icons\", 'thumbnails': {'default': {'url': 'https://i.ytimg.com/vi/5NlurrNL0FI/default.jpg', 'width': 120, 'height': 90}, 'medium': {'url': 'https://i.ytimg.com/vi/5NlurrNL0FI/mqdefault.jpg', 'width': 320, 'height': 180}, 'high': {'url': 'https://i.ytimg.com/vi/5NlurrNL0FI/hqdefault.jpg', 'width': 480, 'height': 360}, 'standard': {'url': 'https://i.ytimg.com/vi/5NlurrNL0FI/sddefault.jpg', 'width': 640, 'height': 480}, 'maxres': {'url': 'https://i.ytimg.com/vi/5NlurrNL0FI/maxresdefault.jpg', 'width': 1280, 'height': 720}}, 'channelTitle': 'Power BI Park', 'playlistId': 'UU6g1VsTNgW1ntdW97wwL6nw', 'position': 39, 'resourceId': {'kind': 'youtube#video', 'videoId': '5NlurrNL0FI'}, 'videoOwnerChannelTitle': 'Power BI Park', 'videoOwnerChannelId': 'UC6g1VsTNgW1ntdW97wwL6nw'}}, {'kind': 'youtube#playlistItem', 'etag': 'H7znFcjbOPqmc9QtUasrWs2B2PI', 'id': 'VVU2ZzFWc1ROZ1cxbnRkVzk3d3dMNm53Lk9sMVN1SHNsazhr', 'snippet': {'publishedAt': '2022-11-13T21:34:16Z', 'channelId': 'UC6g1VsTNgW1ntdW97wwL6nw', 'title': 'Dynamic Themes in Power BI- Real Time Customization', 'description': 'This is how to customize your reports in real time\\n\\n\\n\\n#powerbi  #microsoft #realtime #cusotmization #themes', 'thumbnails': {'default': {'url': 'https://i.ytimg.com/vi/Ol1SuHslk8k/default.jpg', 'width': 120, 'height': 90}, 'medium': {'url': 'https://i.ytimg.com/vi/Ol1SuHslk8k/mqdefault.jpg', 'width': 320, 'height': 180}, 'high': {'url': 'https://i.ytimg.com/vi/Ol1SuHslk8k/hqdefault.jpg', 'width': 480, 'height': 360}, 'standard': {'url': 'https://i.ytimg.com/vi/Ol1SuHslk8k/sddefault.jpg', 'width': 640, 'height': 480}, 'maxres': {'url': 'https://i.ytimg.com/vi/Ol1SuHslk8k/maxresdefault.jpg', 'width': 1280, 'height': 720}}, 'channelTitle': 'Power BI Park', 'playlistId': 'UU6g1VsTNgW1ntdW97wwL6nw', 'position': 40, 'resourceId': {'kind': 'youtube#video', 'videoId': 'Ol1SuHslk8k'}, 'videoOwnerChannelTitle': 'Power BI Park', 'videoOwnerChannelId': 'UC6g1VsTNgW1ntdW97wwL6nw'}}, {'kind': 'youtube#playlistItem', 'etag': 'OR5KGYVcJpL-AwrX6juUED6nj7I', 'id': 'VVU2ZzFWc1ROZ1cxbnRkVzk3d3dMNm53LjRRbEZTZDdlZm5n', 'snippet': {'publishedAt': '2022-11-07T06:25:38Z', 'channelId': 'UC6g1VsTNgW1ntdW97wwL6nw', 'title': 'Dynamic Moving Average in Power BI', 'description': 'This is how to use Parameters to create a Dynamic Moving Average (Rolling Average) \\n\\n\\n\\n#powerbi  #microsoft #movingaverage #rollingaverage #calculationgroups', 'thumbnails': {'default': {'url': 'https://i.ytimg.com/vi/4QlFSd7efng/default.jpg', 'width': 120, 'height': 90}, 'medium': {'url': 'https://i.ytimg.com/vi/4QlFSd7efng/mqdefault.jpg', 'width': 320, 'height': 180}, 'high': {'url': 'https://i.ytimg.com/vi/4QlFSd7efng/hqdefault.jpg', 'width': 480, 'height': 360}, 'standard': {'url': 'https://i.ytimg.com/vi/4QlFSd7efng/sddefault.jpg', 'width': 640, 'height': 480}, 'maxres': {'url': 'https://i.ytimg.com/vi/4QlFSd7efng/maxresdefault.jpg', 'width': 1280, 'height': 720}}, 'channelTitle': 'Power BI Park', 'playlistId': 'UU6g1VsTNgW1ntdW97wwL6nw', 'position': 41, 'resourceId': {'kind': 'youtube#video', 'videoId': '4QlFSd7efng'}, 'videoOwnerChannelTitle': 'Power BI Park', 'videoOwnerChannelId': 'UC6g1VsTNgW1ntdW97wwL6nw'}}, {'kind': 'youtube#playlistItem', 'etag': 'iQiSCPLPDOiT7xIpr7fhjNLpXDQ', 'id': 'VVU2ZzFWc1ROZ1cxbnRkVzk3d3dMNm53LkNueFVEMF9WOC1J', 'snippet': {'publishedAt': '2022-11-02T07:03:46Z', 'channelId': 'UC6g1VsTNgW1ntdW97wwL6nw', 'title': 'PowerBI: How to make a report in 5 Minutes', 'description': \"This is to show the power of report templates.\\n\\nLet me know if you're interested to see how this is made! 😊\\n\\n#powerbi #microsoft #templates\", 'thumbnails': {'default': {'url': 'https://i.ytimg.com/vi/CnxUD0_V8-I/default.jpg', 'width': 120, 'height': 90}, 'medium': {'url': 'https://i.ytimg.com/vi/CnxUD0_V8-I/mqdefault.jpg', 'width': 320, 'height': 180}, 'high': {'url': 'https://i.ytimg.com/vi/CnxUD0_V8-I/hqdefault.jpg', 'width': 480, 'height': 360}, 'standard': {'url': 'https://i.ytimg.com/vi/CnxUD0_V8-I/sddefault.jpg', 'width': 640, 'height': 480}, 'maxres': {'url': 'https://i.ytimg.com/vi/CnxUD0_V8-I/maxresdefault.jpg', 'width': 1280, 'height': 720}}, 'channelTitle': 'Power BI Park', 'playlistId': 'UU6g1VsTNgW1ntdW97wwL6nw', 'position': 42, 'resourceId': {'kind': 'youtube#video', 'videoId': 'CnxUD0_V8-I'}, 'videoOwnerChannelTitle': 'Power BI Park', 'videoOwnerChannelId': 'UC6g1VsTNgW1ntdW97wwL6nw'}}, {'kind': 'youtube#playlistItem', 'etag': 'jlEDYoGed_Lyqy0FHet5aMnRT-8', 'id': 'VVU2ZzFWc1ROZ1cxbnRkVzk3d3dMNm53LkUyd2pvNEZhVmpr', 'snippet': {'publishedAt': '2022-10-20T14:36:38Z', 'channelId': 'UC6g1VsTNgW1ntdW97wwL6nw', 'title': 'Power BI: Deneb Heatmap with Bars', 'description': 'How to make a Heatmap with Bars in Power BI using deneb.\\n\\n🔥My template onPowerBI.tipss github\\nhttps://github.com/PowerBI-tips/Deneb-Templates/blob/main/templates/heatmap%20with%20bars%20-%20red%20themed.json\\n\\n🔥Deneb Documentation\\nhttps://deneb-viz.github.io/community/resources\\n\\n🔥Vega-Lite Examples\\nhttps://vega.github.io/vega-lite/examples\\n\\n\\n#powerbi #microsoft #deneb', 'thumbnails': {'default': {'url': 'https://i.ytimg.com/vi/E2wjo4FaVjk/default.jpg', 'width': 120, 'height': 90}, 'medium': {'url': 'https://i.ytimg.com/vi/E2wjo4FaVjk/mqdefault.jpg', 'width': 320, 'height': 180}, 'high': {'url': 'https://i.ytimg.com/vi/E2wjo4FaVjk/hqdefault.jpg', 'width': 480, 'height': 360}, 'standard': {'url': 'https://i.ytimg.com/vi/E2wjo4FaVjk/sddefault.jpg', 'width': 640, 'height': 480}, 'maxres': {'url': 'https://i.ytimg.com/vi/E2wjo4FaVjk/maxresdefault.jpg', 'width': 1280, 'height': 720}}, 'channelTitle': 'Power BI Park', 'playlistId': 'UU6g1VsTNgW1ntdW97wwL6nw', 'position': 43, 'resourceId': {'kind': 'youtube#video', 'videoId': 'E2wjo4FaVjk'}, 'videoOwnerChannelTitle': 'Power BI Park', 'videoOwnerChannelId': 'UC6g1VsTNgW1ntdW97wwL6nw'}}, {'kind': 'youtube#playlistItem', 'etag': 'v4yBJVZ451LqK2AiNt3qDEg4wrU', 'id': 'VVU2ZzFWc1ROZ1cxbnRkVzk3d3dMNm53LklBbG9MV0Z5MFlB', 'snippet': {'publishedAt': '2022-10-12T22:24:02Z', 'channelId': 'UC6g1VsTNgW1ntdW97wwL6nw', 'title': 'Power BI: Show YoY% on Cards with Calculation Groups', 'description': 'How to show YoY % in your KPI Cards with Calculation Groups in Power BI\\nCheck out my video on how to create Themes and Backgrounds!\\n\\n\\n🔥https://docs.tabulareditor.com/te2/Getting-Started.html\\n\\n🔥 https://learn.microsoft.com/en-us/analysis-services/tabular-models/calculation-groups?view=asallproducts-allversions\\n\\n\\n#powerbi  #calculationgroups #microsoft', 'thumbnails': {'default': {'url': 'https://i.ytimg.com/vi/IAloLWFy0YA/default.jpg', 'width': 120, 'height': 90}, 'medium': {'url': 'https://i.ytimg.com/vi/IAloLWFy0YA/mqdefault.jpg', 'width': 320, 'height': 180}, 'high': {'url': 'https://i.ytimg.com/vi/IAloLWFy0YA/hqdefault.jpg', 'width': 480, 'height': 360}, 'standard': {'url': 'https://i.ytimg.com/vi/IAloLWFy0YA/sddefault.jpg', 'width': 640, 'height': 480}, 'maxres': {'url': 'https://i.ytimg.com/vi/IAloLWFy0YA/maxresdefault.jpg', 'width': 1280, 'height': 720}}, 'channelTitle': 'Power BI Park', 'playlistId': 'UU6g1VsTNgW1ntdW97wwL6nw', 'position': 44, 'resourceId': {'kind': 'youtube#video', 'videoId': 'IAloLWFy0YA'}, 'videoOwnerChannelTitle': 'Power BI Park', 'videoOwnerChannelId': 'UC6g1VsTNgW1ntdW97wwL6nw'}}, {'kind': 'youtube#playlistItem', 'etag': 'mJ_qsscIU3GEXV54RN7NOJ-b-j8', 'id': 'VVU2ZzFWc1ROZ1cxbnRkVzk3d3dMNm53LkU3eXlBR2ljMW80', 'snippet': {'publishedAt': '2022-10-08T21:28:36Z', 'channelId': 'UC6g1VsTNgW1ntdW97wwL6nw', 'title': 'Power BI: How to put a Background in a Theme', 'description': 'How to put a Background in a Theme with Power BI\\n\\nCheck out my video on how to create Themes and Backgrounds!\\n\\nLinks used:\\n🔥 https://towardsdatascience.com/extend-power-bi-theme-with-an-image-43167fc914b8\\n\\n🔥 https://www.base64-image.de/\\n\\n#powerbi  #themes #microsoft', 'thumbnails': {'default': {'url': 'https://i.ytimg.com/vi/E7yyAGic1o4/default.jpg', 'width': 120, 'height': 90}, 'medium': {'url': 'https://i.ytimg.com/vi/E7yyAGic1o4/mqdefault.jpg', 'width': 320, 'height': 180}, 'high': {'url': 'https://i.ytimg.com/vi/E7yyAGic1o4/hqdefault.jpg', 'width': 480, 'height': 360}, 'standard': {'url': 'https://i.ytimg.com/vi/E7yyAGic1o4/sddefault.jpg', 'width': 640, 'height': 480}, 'maxres': {'url': 'https://i.ytimg.com/vi/E7yyAGic1o4/maxresdefault.jpg', 'width': 1280, 'height': 720}}, 'channelTitle': 'Power BI Park', 'playlistId': 'UU6g1VsTNgW1ntdW97wwL6nw', 'position': 45, 'resourceId': {'kind': 'youtube#video', 'videoId': 'E7yyAGic1o4'}, 'videoOwnerChannelTitle': 'Power BI Park', 'videoOwnerChannelId': 'UC6g1VsTNgW1ntdW97wwL6nw'}}, {'kind': 'youtube#playlistItem', 'etag': 'DtiTanVoFPOyozUhLWgFhYjKMts', 'id': 'VVU2ZzFWc1ROZ1cxbnRkVzk3d3dMNm53LllQMVRyN25yd05J', 'snippet': {'publishedAt': '2022-10-03T09:37:16Z', 'channelId': 'UC6g1VsTNgW1ntdW97wwL6nw', 'title': 'Transform your POWER BI in 20 MIN with Themes and Backgrounds', 'description': 'Follow me as I show step-by-step how to upgrade your report with Themes and Backgrounds\\n\\n=================================\\n🔥FREE themes!: https://community.powerbi.com/t5/Themes-Gallery/bd-p/ThemesGallery\\n\\n🔥Canva Color Wheel: https://www.canva.com/colors/color-wheel/\\n\\n🔥Coolers: https://coolors.co/\\n\\n🔥Selected Pallette: https://coolors.co/palette/03071e-370617-6a040f-9d0208-d00000-dc2f02-e85d04-f48c06-faa307-ffba08\\n\\n🔥Theme Github: https://github.com/deldersveld/PowerBI-ThemeTemplates\\n\\n🔥Free Theme Generator: https://themegenerator.point-gmbh.com/en/visuals/Area%20Chart\\n=================================\\n\\n\\nCome find me on Linkedin: https://www.linkedin.com/in/injae-park/\\n\\nThanks for taking the time to watch this video. \\n\\n#powerbi #powerbipark  #microsoft', 'thumbnails': {'default': {'url': 'https://i.ytimg.com/vi/YP1Tr7nrwNI/default.jpg', 'width': 120, 'height': 90}, 'medium': {'url': 'https://i.ytimg.com/vi/YP1Tr7nrwNI/mqdefault.jpg', 'width': 320, 'height': 180}, 'high': {'url': 'https://i.ytimg.com/vi/YP1Tr7nrwNI/hqdefault.jpg', 'width': 480, 'height': 360}, 'standard': {'url': 'https://i.ytimg.com/vi/YP1Tr7nrwNI/sddefault.jpg', 'width': 640, 'height': 480}, 'maxres': {'url': 'https://i.ytimg.com/vi/YP1Tr7nrwNI/maxresdefault.jpg', 'width': 1280, 'height': 720}}, 'channelTitle': 'Power BI Park', 'playlistId': 'UU6g1VsTNgW1ntdW97wwL6nw', 'position': 46, 'resourceId': {'kind': 'youtube#video', 'videoId': 'YP1Tr7nrwNI'}, 'videoOwnerChannelTitle': 'Power BI Park', 'videoOwnerChannelId': 'UC6g1VsTNgW1ntdW97wwL6nw'}}, {'kind': 'youtube#playlistItem', 'etag': 'l0Zk6of89bNRU94gQImSfUx22sY', 'id': 'VVU2ZzFWc1ROZ1cxbnRkVzk3d3dMNm53Ll9ORW5RTnAxMDJV', 'snippet': {'publishedAt': '2022-09-05T05:50:12Z', 'channelId': 'UC6g1VsTNgW1ntdW97wwL6nw', 'title': 'Make 1000+ DAX MEASURES in 10 MINS', 'description': 'Follow this step-by-step guide to measure creation with scripts!\\n\\n\\n=================================\\n🔥Tabular editor : https://docs.tabulareditor.com/\\n\\n🔥Advanced Scripting: https://docs.tabulareditor.com/te2/Useful-script-snippets.html\\n\\n🔥Bravo: https://bravo.bi/\\n\\n🔥Vertipaq analyzer: https://www.sqlbi.com/tools/vertipaq-analyzer/\\n\\n🔥Dax Studio : https://daxstudio.org/\\n\\n🔥Calculation groups: https://docs.microsoft.com/en-us/analysis-services/tabular-models/calculation-groups?view=asallproducts-allversions\\n=================================\\n\\n\\nCome find me on Linkedin: https://www.linkedin.com/in/injae-park/\\n\\nThanks for taking the time to watch this video. \\n\\n#powerbi #powerbipark  #microsoft #externaltools', 'thumbnails': {'default': {'url': 'https://i.ytimg.com/vi/_NEnQNp102U/default.jpg', 'width': 120, 'height': 90}, 'medium': {'url': 'https://i.ytimg.com/vi/_NEnQNp102U/mqdefault.jpg', 'width': 320, 'height': 180}, 'high': {'url': 'https://i.ytimg.com/vi/_NEnQNp102U/hqdefault.jpg', 'width': 480, 'height': 360}, 'standard': {'url': 'https://i.ytimg.com/vi/_NEnQNp102U/sddefault.jpg', 'width': 640, 'height': 480}, 'maxres': {'url': 'https://i.ytimg.com/vi/_NEnQNp102U/maxresdefault.jpg', 'width': 1280, 'height': 720}}, 'channelTitle': 'Power BI Park', 'playlistId': 'UU6g1VsTNgW1ntdW97wwL6nw', 'position': 47, 'resourceId': {'kind': 'youtube#video', 'videoId': '_NEnQNp102U'}, 'videoOwnerChannelTitle': 'Power BI Park', 'videoOwnerChannelId': 'UC6g1VsTNgW1ntdW97wwL6nw'}}], 'pageInfo': {'totalResults': 48, 'resultsPerPage': 50}} \n",
            "\n",
            "None\n"
          ]
        }
      ],
      "source": [
        "while True:\n",
        "    playlist_url = f\"https://www.googleapis.com/youtube/v3/playlistItems?part=snippet&playlistId={uploads_playlist_id}&maxResults=50&pageToken={next_page_token or ''}&key={API_KEY}\"\n",
        "    playlist_response = requests.get(playlist_url).json()\n",
        "    print(playlist_response, '\\n')\n",
        "    for item in playlist_response.get('items', []):\n",
        "        video_ids.append(item['snippet']['resourceId']['videoId'])\n",
        "    next_page_token = playlist_response.get('nextPageToken')\n",
        "    print(next_page_token)\n",
        "    if not next_page_token:\n",
        "        break\n"
      ]
    },
    {
      "cell_type": "code",
      "execution_count": null,
      "metadata": {
        "colab": {
          "base_uri": "https://localhost:8080/"
        },
        "id": "gxEoviWjz01d",
        "outputId": "3714fde3-9ce4-4ba7-d452-22cd80e3c0f3"
      },
      "outputs": [
        {
          "name": "stdout",
          "output_type": "stream",
          "text": [
            "Total videos found: 48\n",
            "{'E2wjo4FaVjk', '4Kn9jmgUlnY', 'GSv3Zwtw8cM', 'jvwT1KS86dU', '6NL99b5LQQw', 'UWxaUT6HUvo', 'GXFxiEVAmfI', 'QXMMpabHPS4', 'ZSrVOyKAC4Y', 'Fw3eVo_t5Hk', 'Nehyym4hPc8', 'pYUDEMf36S0', 'Uu5YS3aTE8M', 'jvJd-Vqa8EU', '5NlurrNL0FI', 'vKt4eYI191A', 'Oe6hq4I32tg', 'YP1Tr7nrwNI', 'JVjqlOzNjB4', '4HfKHYX_nHo', 'mx4HgpeS_Sg', 'egY0M6kGK8g', 'Z8D60cn-ecE', 'BWvWFu92hr4', 'Lb2JPC-UwI4', 'ZFZmqdECBMs', 'ZYI-OkVkUKc', 'Ol1SuHslk8k', 'qEhUPF36hOY', 'CnxUD0_V8-I', '89wQXES8ruQ', 'WCtjoKJdx3w', 'rhmJAVZUXfo', 'EMpebK1PzIE', 'MHK1yFYXAHU', '00Q6o0tddd0', 'xX3e_NIYFUI', 'agCNWAkpais', 'TKgITLD05Ck', 'e7yxCQEbeYs', 'E7yyAGic1o4', 'CcUV-9_z5uY', '4QlFSd7efng', 'kYbIISuACOI', 'jaKUStKW8PA', 'rbWZllXMGYU', 'IAloLWFy0YA', '_NEnQNp102U'}\n"
          ]
        }
      ],
      "source": [
        "print(f\"Total videos found: {len(set(video_ids))}\")\n",
        "print(set(video_ids))\n"
      ]
    },
    {
      "cell_type": "code",
      "execution_count": null,
      "metadata": {
        "id": "P_vd0Nmi4qky"
      },
      "outputs": [],
      "source": []
    },
    {
      "cell_type": "code",
      "execution_count": null,
      "metadata": {
        "id": "q4UO6nzd4qga"
      },
      "outputs": [],
      "source": []
    },
    {
      "cell_type": "code",
      "execution_count": null,
      "metadata": {
        "id": "ddT3SAdfz0yG"
      },
      "outputs": [],
      "source": [
        "API_KEY = \"\"\n",
        "video_id = 'MGkCCbK86qw'\n",
        "\n",
        "maxResults=50\n",
        "Comments_url = f'https://www.googleapis.com/youtube/v3/commentThreads?part=snippet&videoId={video_id}&maxResults=1&key={API_KEY}'\n"
      ]
    },
    {
      "cell_type": "code",
      "execution_count": null,
      "metadata": {
        "colab": {
          "base_uri": "https://localhost:8080/"
        },
        "id": "H364i_ISBP0I",
        "outputId": "54fe45d7-1b33-44f3-df53-52bc3fc62d60"
      },
      "outputs": [
        {
          "data": {
            "text/plain": [
              "{'kind': 'youtube#commentThreadListResponse',\n",
              " 'etag': 'buyPh97SZTqqBmKIh75rVnTQGOQ',\n",
              " 'nextPageToken': 'Z2V0X25ld2VzdF9maXJzdC0tQ2dnSWdBUVZGN2ZST0JJRkNKMGdHQUVTQlFpSUlCZ0FFZ1VJaHlBWUFCSUZDS2dnR0FBU0JRaUpJQmdBSWc0S0RBaVMwSW0tQmhDNDVyQ0FBUQ==',\n",
              " 'pageInfo': {'totalResults': 1, 'resultsPerPage': 1},\n",
              " 'items': [{'kind': 'youtube#commentThread',\n",
              "   'etag': '8fA4dnPKfQZ7nOAxcKskUt3DzFA',\n",
              "   'id': 'UgxSdVlHq67zpxfGoEp4AaABAg',\n",
              "   'snippet': {'channelId': 'UCcfngi7_ASuo5jdWX0bNauQ',\n",
              "    'videoId': 'MGkCCbK86qw',\n",
              "    'topLevelComment': {'kind': 'youtube#comment',\n",
              "     'etag': '06GhREC_tahFbMNOCTTbWmBdbHI',\n",
              "     'id': 'UgxSdVlHq67zpxfGoEp4AaABAg',\n",
              "     'snippet': {'channelId': 'UCcfngi7_ASuo5jdWX0bNauQ',\n",
              "      'videoId': 'MGkCCbK86qw',\n",
              "      'textDisplay': 'An amazing amazing video bro, easier to understand than guy in a cube etc.',\n",
              "      'textOriginal': 'An amazing amazing video bro, easier to understand than guy in a cube etc.',\n",
              "      'authorDisplayName': '@Modi-nr7yj',\n",
              "      'authorProfileImageUrl': 'https://yt3.ggpht.com/ytc/AIdro_m-wvAwKyNneCMdoErnw329VPrjfATdBmyawkiFTmB0Tmcb0mbPWFH98RzurWL1m0u29A=s48-c-k-c0x00ffffff-no-rj',\n",
              "      'authorChannelUrl': 'http://www.youtube.com/@Modi-nr7yj',\n",
              "      'authorChannelId': {'value': 'UCzPCkjzAxEle9aC9hEHlCwg'},\n",
              "      'canRate': True,\n",
              "      'viewerRating': 'none',\n",
              "      'likeCount': 0,\n",
              "      'publishedAt': '2025-03-01T01:51:14Z',\n",
              "      'updatedAt': '2025-03-01T01:51:14Z'}},\n",
              "    'canReply': True,\n",
              "    'totalReplyCount': 0,\n",
              "    'isPublic': True}}]}"
            ]
          },
          "execution_count": 11,
          "metadata": {},
          "output_type": "execute_result"
        }
      ],
      "source": [
        "response = requests.get(Comments_url).json()\n",
        "response\n"
      ]
    },
    {
      "cell_type": "code",
      "execution_count": null,
      "metadata": {
        "colab": {
          "base_uri": "https://localhost:8080/",
          "height": 35
        },
        "id": "xWZTSBCdBPuV",
        "outputId": "7cde0582-e84e-4595-96a5-650aa75fa48a"
      },
      "outputs": [
        {
          "data": {
            "application/vnd.google.colaboratory.intrinsic+json": {
              "type": "string"
            },
            "text/plain": [
              "'An amazing amazing video bro, easier to understand than guy in a cube etc.'"
            ]
          },
          "execution_count": 12,
          "metadata": {},
          "output_type": "execute_result"
        }
      ],
      "source": [
        "uploads_playlist_id = response['items'][0]['snippet']['topLevelComment']['snippet']['textDisplay']\n",
        "uploads_playlist_id\n"
      ]
    },
    {
      "cell_type": "code",
      "execution_count": null,
      "metadata": {
        "id": "SwDMWRSKNen2"
      },
      "outputs": [],
      "source": []
    },
    {
      "cell_type": "code",
      "execution_count": null,
      "metadata": {
        "id": "EmgEFK9iYMXc"
      },
      "outputs": [],
      "source": []
    },
    {
      "cell_type": "code",
      "execution_count": null,
      "metadata": {
        "id": "NE_N4dGhNeka"
      },
      "outputs": [],
      "source": [
        "API_KEY = \"\"\n",
        "comments_data = []\n",
        "\n",
        "maxResults=50\n",
        "Comments_url = f'https://www.googleapis.com/youtube/v3/commentThreads?part=snippet&videoId={video_ids}&maxResults=1&key={API_KEY}'\n"
      ]
    },
    {
      "cell_type": "code",
      "execution_count": null,
      "metadata": {
        "colab": {
          "base_uri": "https://localhost:8080/"
        },
        "id": "ugBgI5t2Negi",
        "outputId": "40cd3261-be01-4d05-d6b1-4654250ea5d5"
      },
      "outputs": [
        {
          "data": {
            "text/plain": [
              "{'error': {'code': 404,\n",
              "  'message': 'The video identified by the <code><a href=\"/youtube/v3/docs/commentThreads/list#videoId\">videoId</a></code> parameter could not be found.',\n",
              "  'errors': [{'message': 'The video identified by the <code><a href=\"/youtube/v3/docs/commentThreads/list#videoId\">videoId</a></code> parameter could not be found.',\n",
              "    'domain': 'youtube.commentThread',\n",
              "    'reason': 'videoNotFound',\n",
              "    'location': 'videoId',\n",
              "    'locationType': 'parameter'}]}}"
            ]
          },
          "execution_count": 14,
          "metadata": {},
          "output_type": "execute_result"
        }
      ],
      "source": [
        "response = requests.get(Comments_url).json()\n",
        "response\n"
      ]
    },
    {
      "cell_type": "code",
      "execution_count": null,
      "metadata": {
        "id": "JPFr0k6uNecv"
      },
      "outputs": [],
      "source": [
        "for video_id in video_ids:\n",
        "\n",
        "        Comments_url = f'https://www.googleapis.com/youtube/v3/commentThreads?part=snippet&videoId={video_id}&maxResults={maxResults}&key={API_KEY}'\n",
        "\n",
        "        response = requests.get(Comments_url).json()\n",
        "\n",
        "        if 'items' in response:\n",
        "            for item in response['items']:\n",
        "                raw_comment = item['snippet']['topLevelComment']['snippet']['textDisplay']\n",
        "\n",
        "\n",
        "                comments_data.append({\n",
        "                    'Video ID': video_id,\n",
        "                    'Comment': raw_comment\n",
        "                })\n",
        "        else:\n",
        "            print(f\"No comments found for video ID: {video_id}\")\n"
      ]
    },
    {
      "cell_type": "code",
      "execution_count": null,
      "metadata": {
        "colab": {
          "base_uri": "https://localhost:8080/",
          "height": 206
        },
        "id": "bp__PgWuNeZV",
        "outputId": "638cad8b-8479-4d3a-9e14-ed2614d5f5f9"
      },
      "outputs": [
        {
          "data": {
            "application/vnd.google.colaboratory.intrinsic+json": {
              "summary": "{\n  \"name\": \"df\",\n  \"rows\": 823,\n  \"fields\": [\n    {\n      \"column\": \"Video ID\",\n      \"properties\": {\n        \"dtype\": \"category\",\n        \"num_unique_values\": 44,\n        \"samples\": [\n          \"4QlFSd7efng\",\n          \"e7yxCQEbeYs\",\n          \"WCtjoKJdx3w\"\n        ],\n        \"semantic_type\": \"\",\n        \"description\": \"\"\n      }\n    },\n    {\n      \"column\": \"Comment\",\n      \"properties\": {\n        \"dtype\": \"string\",\n        \"num_unique_values\": 818,\n        \"samples\": [\n          \"Great vid\\u2026that bold Unicode idea is sooo good thank you!\",\n          \"Thanks for the video. I am trying to bring in High Res. Images from local computer folder into New Card Visual and New Slicer but it is not displaying in the visuals.  Is there some size or resolution restriction with new card/slicer visuals. Would guide please ?   Low res. I am able to populate but the higher size image is not working.\",\n          \"This is just an amazing video and also really great explanation. I am a new Fan \\ud83d\\udc4c\"\n        ],\n        \"semantic_type\": \"\",\n        \"description\": \"\"\n      }\n    }\n  ]\n}",
              "type": "dataframe",
              "variable_name": "df"
            },
            "text/html": [
              "\n",
              "  <div id=\"df-23290c49-1b56-4d00-bc98-146b0e220eb1\" class=\"colab-df-container\">\n",
              "    <div>\n",
              "<style scoped>\n",
              "    .dataframe tbody tr th:only-of-type {\n",
              "        vertical-align: middle;\n",
              "    }\n",
              "\n",
              "    .dataframe tbody tr th {\n",
              "        vertical-align: top;\n",
              "    }\n",
              "\n",
              "    .dataframe thead th {\n",
              "        text-align: right;\n",
              "    }\n",
              "</style>\n",
              "<table border=\"1\" class=\"dataframe\">\n",
              "  <thead>\n",
              "    <tr style=\"text-align: right;\">\n",
              "      <th></th>\n",
              "      <th>Video ID</th>\n",
              "      <th>Comment</th>\n",
              "    </tr>\n",
              "  </thead>\n",
              "  <tbody>\n",
              "    <tr>\n",
              "      <th>0</th>\n",
              "      <td>xX3e_NIYFUI</td>\n",
              "      <td>Your content embodies the PARETO principle per...</td>\n",
              "    </tr>\n",
              "    <tr>\n",
              "      <th>1</th>\n",
              "      <td>xX3e_NIYFUI</td>\n",
              "      <td>Hi , Hope you are doing well ! , I have learnt...</td>\n",
              "    </tr>\n",
              "    <tr>\n",
              "      <th>2</th>\n",
              "      <td>xX3e_NIYFUI</td>\n",
              "      <td>I&amp;#39;m halfway through the video following th...</td>\n",
              "    </tr>\n",
              "    <tr>\n",
              "      <th>3</th>\n",
              "      <td>xX3e_NIYFUI</td>\n",
              "      <td>How well will this work in direct query mode?</td>\n",
              "    </tr>\n",
              "    <tr>\n",
              "      <th>4</th>\n",
              "      <td>xX3e_NIYFUI</td>\n",
              "      <td>Hi Sir, Could you please provide this demo file?</td>\n",
              "    </tr>\n",
              "  </tbody>\n",
              "</table>\n",
              "</div>\n",
              "    <div class=\"colab-df-buttons\">\n",
              "\n",
              "  <div class=\"colab-df-container\">\n",
              "    <button class=\"colab-df-convert\" onclick=\"convertToInteractive('df-23290c49-1b56-4d00-bc98-146b0e220eb1')\"\n",
              "            title=\"Convert this dataframe to an interactive table.\"\n",
              "            style=\"display:none;\">\n",
              "\n",
              "  <svg xmlns=\"http://www.w3.org/2000/svg\" height=\"24px\" viewBox=\"0 -960 960 960\">\n",
              "    <path d=\"M120-120v-720h720v720H120Zm60-500h600v-160H180v160Zm220 220h160v-160H400v160Zm0 220h160v-160H400v160ZM180-400h160v-160H180v160Zm440 0h160v-160H620v160ZM180-180h160v-160H180v160Zm440 0h160v-160H620v160Z\"/>\n",
              "  </svg>\n",
              "    </button>\n",
              "\n",
              "  <style>\n",
              "    .colab-df-container {\n",
              "      display:flex;\n",
              "      gap: 12px;\n",
              "    }\n",
              "\n",
              "    .colab-df-convert {\n",
              "      background-color: #E8F0FE;\n",
              "      border: none;\n",
              "      border-radius: 50%;\n",
              "      cursor: pointer;\n",
              "      display: none;\n",
              "      fill: #1967D2;\n",
              "      height: 32px;\n",
              "      padding: 0 0 0 0;\n",
              "      width: 32px;\n",
              "    }\n",
              "\n",
              "    .colab-df-convert:hover {\n",
              "      background-color: #E2EBFA;\n",
              "      box-shadow: 0px 1px 2px rgba(60, 64, 67, 0.3), 0px 1px 3px 1px rgba(60, 64, 67, 0.15);\n",
              "      fill: #174EA6;\n",
              "    }\n",
              "\n",
              "    .colab-df-buttons div {\n",
              "      margin-bottom: 4px;\n",
              "    }\n",
              "\n",
              "    [theme=dark] .colab-df-convert {\n",
              "      background-color: #3B4455;\n",
              "      fill: #D2E3FC;\n",
              "    }\n",
              "\n",
              "    [theme=dark] .colab-df-convert:hover {\n",
              "      background-color: #434B5C;\n",
              "      box-shadow: 0px 1px 3px 1px rgba(0, 0, 0, 0.15);\n",
              "      filter: drop-shadow(0px 1px 2px rgba(0, 0, 0, 0.3));\n",
              "      fill: #FFFFFF;\n",
              "    }\n",
              "  </style>\n",
              "\n",
              "    <script>\n",
              "      const buttonEl =\n",
              "        document.querySelector('#df-23290c49-1b56-4d00-bc98-146b0e220eb1 button.colab-df-convert');\n",
              "      buttonEl.style.display =\n",
              "        google.colab.kernel.accessAllowed ? 'block' : 'none';\n",
              "\n",
              "      async function convertToInteractive(key) {\n",
              "        const element = document.querySelector('#df-23290c49-1b56-4d00-bc98-146b0e220eb1');\n",
              "        const dataTable =\n",
              "          await google.colab.kernel.invokeFunction('convertToInteractive',\n",
              "                                                    [key], {});\n",
              "        if (!dataTable) return;\n",
              "\n",
              "        const docLinkHtml = 'Like what you see? Visit the ' +\n",
              "          '<a target=\"_blank\" href=https://colab.research.google.com/notebooks/data_table.ipynb>data table notebook</a>'\n",
              "          + ' to learn more about interactive tables.';\n",
              "        element.innerHTML = '';\n",
              "        dataTable['output_type'] = 'display_data';\n",
              "        await google.colab.output.renderOutput(dataTable, element);\n",
              "        const docLink = document.createElement('div');\n",
              "        docLink.innerHTML = docLinkHtml;\n",
              "        element.appendChild(docLink);\n",
              "      }\n",
              "    </script>\n",
              "  </div>\n",
              "\n",
              "\n",
              "<div id=\"df-48450ee0-d722-4852-8442-769768f0af1d\">\n",
              "  <button class=\"colab-df-quickchart\" onclick=\"quickchart('df-48450ee0-d722-4852-8442-769768f0af1d')\"\n",
              "            title=\"Suggest charts\"\n",
              "            style=\"display:none;\">\n",
              "\n",
              "<svg xmlns=\"http://www.w3.org/2000/svg\" height=\"24px\"viewBox=\"0 0 24 24\"\n",
              "     width=\"24px\">\n",
              "    <g>\n",
              "        <path d=\"M19 3H5c-1.1 0-2 .9-2 2v14c0 1.1.9 2 2 2h14c1.1 0 2-.9 2-2V5c0-1.1-.9-2-2-2zM9 17H7v-7h2v7zm4 0h-2V7h2v10zm4 0h-2v-4h2v4z\"/>\n",
              "    </g>\n",
              "</svg>\n",
              "  </button>\n",
              "\n",
              "<style>\n",
              "  .colab-df-quickchart {\n",
              "      --bg-color: #E8F0FE;\n",
              "      --fill-color: #1967D2;\n",
              "      --hover-bg-color: #E2EBFA;\n",
              "      --hover-fill-color: #174EA6;\n",
              "      --disabled-fill-color: #AAA;\n",
              "      --disabled-bg-color: #DDD;\n",
              "  }\n",
              "\n",
              "  [theme=dark] .colab-df-quickchart {\n",
              "      --bg-color: #3B4455;\n",
              "      --fill-color: #D2E3FC;\n",
              "      --hover-bg-color: #434B5C;\n",
              "      --hover-fill-color: #FFFFFF;\n",
              "      --disabled-bg-color: #3B4455;\n",
              "      --disabled-fill-color: #666;\n",
              "  }\n",
              "\n",
              "  .colab-df-quickchart {\n",
              "    background-color: var(--bg-color);\n",
              "    border: none;\n",
              "    border-radius: 50%;\n",
              "    cursor: pointer;\n",
              "    display: none;\n",
              "    fill: var(--fill-color);\n",
              "    height: 32px;\n",
              "    padding: 0;\n",
              "    width: 32px;\n",
              "  }\n",
              "\n",
              "  .colab-df-quickchart:hover {\n",
              "    background-color: var(--hover-bg-color);\n",
              "    box-shadow: 0 1px 2px rgba(60, 64, 67, 0.3), 0 1px 3px 1px rgba(60, 64, 67, 0.15);\n",
              "    fill: var(--button-hover-fill-color);\n",
              "  }\n",
              "\n",
              "  .colab-df-quickchart-complete:disabled,\n",
              "  .colab-df-quickchart-complete:disabled:hover {\n",
              "    background-color: var(--disabled-bg-color);\n",
              "    fill: var(--disabled-fill-color);\n",
              "    box-shadow: none;\n",
              "  }\n",
              "\n",
              "  .colab-df-spinner {\n",
              "    border: 2px solid var(--fill-color);\n",
              "    border-color: transparent;\n",
              "    border-bottom-color: var(--fill-color);\n",
              "    animation:\n",
              "      spin 1s steps(1) infinite;\n",
              "  }\n",
              "\n",
              "  @keyframes spin {\n",
              "    0% {\n",
              "      border-color: transparent;\n",
              "      border-bottom-color: var(--fill-color);\n",
              "      border-left-color: var(--fill-color);\n",
              "    }\n",
              "    20% {\n",
              "      border-color: transparent;\n",
              "      border-left-color: var(--fill-color);\n",
              "      border-top-color: var(--fill-color);\n",
              "    }\n",
              "    30% {\n",
              "      border-color: transparent;\n",
              "      border-left-color: var(--fill-color);\n",
              "      border-top-color: var(--fill-color);\n",
              "      border-right-color: var(--fill-color);\n",
              "    }\n",
              "    40% {\n",
              "      border-color: transparent;\n",
              "      border-right-color: var(--fill-color);\n",
              "      border-top-color: var(--fill-color);\n",
              "    }\n",
              "    60% {\n",
              "      border-color: transparent;\n",
              "      border-right-color: var(--fill-color);\n",
              "    }\n",
              "    80% {\n",
              "      border-color: transparent;\n",
              "      border-right-color: var(--fill-color);\n",
              "      border-bottom-color: var(--fill-color);\n",
              "    }\n",
              "    90% {\n",
              "      border-color: transparent;\n",
              "      border-bottom-color: var(--fill-color);\n",
              "    }\n",
              "  }\n",
              "</style>\n",
              "\n",
              "  <script>\n",
              "    async function quickchart(key) {\n",
              "      const quickchartButtonEl =\n",
              "        document.querySelector('#' + key + ' button');\n",
              "      quickchartButtonEl.disabled = true;  // To prevent multiple clicks.\n",
              "      quickchartButtonEl.classList.add('colab-df-spinner');\n",
              "      try {\n",
              "        const charts = await google.colab.kernel.invokeFunction(\n",
              "            'suggestCharts', [key], {});\n",
              "      } catch (error) {\n",
              "        console.error('Error during call to suggestCharts:', error);\n",
              "      }\n",
              "      quickchartButtonEl.classList.remove('colab-df-spinner');\n",
              "      quickchartButtonEl.classList.add('colab-df-quickchart-complete');\n",
              "    }\n",
              "    (() => {\n",
              "      let quickchartButtonEl =\n",
              "        document.querySelector('#df-48450ee0-d722-4852-8442-769768f0af1d button');\n",
              "      quickchartButtonEl.style.display =\n",
              "        google.colab.kernel.accessAllowed ? 'block' : 'none';\n",
              "    })();\n",
              "  </script>\n",
              "</div>\n",
              "\n",
              "    </div>\n",
              "  </div>\n"
            ],
            "text/plain": [
              "      Video ID                                            Comment\n",
              "0  xX3e_NIYFUI  Your content embodies the PARETO principle per...\n",
              "1  xX3e_NIYFUI  Hi , Hope you are doing well ! , I have learnt...\n",
              "2  xX3e_NIYFUI  I&#39;m halfway through the video following th...\n",
              "3  xX3e_NIYFUI      How well will this work in direct query mode?\n",
              "4  xX3e_NIYFUI   Hi Sir, Could you please provide this demo file?"
            ]
          },
          "execution_count": 16,
          "metadata": {},
          "output_type": "execute_result"
        }
      ],
      "source": [
        "import pandas as pd\n",
        "df = pd.DataFrame(comments_data)\n",
        "df.head()\n"
      ]
    },
    {
      "cell_type": "code",
      "execution_count": null,
      "metadata": {
        "id": "9PG_AsFPNeV5"
      },
      "outputs": [],
      "source": []
    },
    {
      "cell_type": "code",
      "execution_count": null,
      "metadata": {
        "id": "ShT1ee9gNeTD"
      },
      "outputs": [],
      "source": []
    },
    {
      "cell_type": "code",
      "execution_count": null,
      "metadata": {
        "cellView": "form",
        "colab": {
          "base_uri": "https://localhost:8080/",
          "height": 659
        },
        "id": "-ZrXh1fnMlBE",
        "outputId": "cc4c97a1-18d4-4a77-8856-245c8b6bb099"
      },
      "outputs": [
        {
          "name": "stdout",
          "output_type": "stream",
          "text": [
            "https://docs.google.com/spreadsheets/d/1uOHPvldcl6HbtrcAlg5sYWQDgtngC6_lxgF36hY5HtY#gid=0\n"
          ]
        },
        {
          "data": {
            "text/html": [
              "\n",
              "        <iframe\n",
              "            width=\"100%\"\n",
              "            height=\"600\"\n",
              "            src=\"https://docs.google.com/spreadsheets/d/1uOHPvldcl6HbtrcAlg5sYWQDgtngC6_lxgF36hY5HtY#gid=0/edit?rm=embedded?usp=sharing?widget=true&amp;headers=false\"\n",
              "            frameborder=\"0\"\n",
              "            allowfullscreen\n",
              "            \n",
              "        ></iframe>\n",
              "        "
            ],
            "text/plain": [
              "<IPython.lib.display.IFrame at 0x7f5918458e10>"
            ]
          },
          "metadata": {},
          "output_type": "display_data"
        }
      ],
      "source": [
        "from google.colab import sheets\n",
        "sheet = sheets.InteractiveSheet(df=df)\n"
      ]
    },
    {
      "cell_type": "code",
      "execution_count": null,
      "metadata": {
        "id": "_Ld8q8fhAWlL"
      },
      "outputs": [],
      "source": []
    },
    {
      "cell_type": "code",
      "execution_count": null,
      "metadata": {
        "id": "-4M-dqYMAWfI"
      },
      "outputs": [],
      "source": []
    },
    {
      "cell_type": "code",
      "execution_count": null,
      "metadata": {
        "colab": {
          "base_uri": "https://localhost:8080/"
        },
        "id": "bBPezQ68z06n",
        "outputId": "9ea6c528-15d1-4b78-834f-2966941078b3"
      },
      "outputs": [
        {
          "name": "stdout",
          "output_type": "stream",
          "text": [
            "Total videos found: 6\n",
            "{'oWS_A-o5huw', 'hDF4cImqk5I', 'jE212HSEAk4', 'u8uz0Pw5LCk', '04aZnZACBq0', 'Iw5TZkpCeKs'}\n"
          ]
        }
      ],
      "source": [
        "import requests\n",
        "\n",
        "API_KEY = \"\"\n",
        "CHANNEL_ID = \"UC83rTOSZk2_q5M4qNjaWAPw\"\n",
        "\n",
        "url = f\"https://www.googleapis.com/youtube/v3/channels?part=contentDetails&id={CHANNEL_ID}&key={API_KEY}\"\n",
        "response = requests.get(url).json()\n",
        "uploads_playlist_id = response['items'][0]['contentDetails']['relatedPlaylists']['uploads']\n",
        "\n",
        "video_ids = []\n",
        "next_page_token = None\n",
        "\n",
        "while True:\n",
        "    playlist_url = f\"https://www.googleapis.com/youtube/v3/playlistItems?part=snippet&playlistId={uploads_playlist_id}&maxResults=50&pageToken={next_page_token or ''}&key={API_KEY}\"\n",
        "    playlist_response = requests.get(playlist_url).json()\n",
        "    for item in playlist_response.get('items', []):\n",
        "        video_ids.append(item['snippet']['resourceId']['videoId'])\n",
        "    next_page_token = playlist_response.get('nextPageToken')\n",
        "    if not next_page_token:\n",
        "        break\n",
        "\n",
        "print(f\"Total videos found: {len(set(video_ids))}\")\n",
        "print(set(video_ids))\n"
      ]
    },
    {
      "cell_type": "code",
      "execution_count": null,
      "metadata": {
        "colab": {
          "base_uri": "https://localhost:8080/"
        },
        "id": "lBsEkUOuX4x-",
        "outputId": "3475db9b-675d-45c8-8e63-329f2ce674be"
      },
      "outputs": [
        {
          "name": "stdout",
          "output_type": "stream",
          "text": [
            "Total videos found: 473\n",
            "['sf5jvPkXKPs', 'I2-EbKqtE6M', 'ad3yLo3DzdI', 'GLcsDUoBhvE', 'wFvL1z9SpUw', 'PpYBEynlQd4', '3ikQbdVOV-0', 'VTC1KZ0sNoo', 'dAMzRDLobrA', 'ohyIc1cNyk0', 'Iuad4Cxko9k', 'XXa82wxzKuA', 'Gj7PmRNe91k', 'CT3r0Eei9eU', 'NqyfbMWCMAw', 'BnsK93aCyTA', 'lLp5ZNBhZkA', 'XksDaTxSAuE', 'pDIXI4hRkhU', 'qYq5xQ6pE_Q', 'BEOn6RynAZQ', 'lU1fdME0WJI', 'xCrv2knlqj0', 'Bac5xZWPMyc', '3QOrA987SOs', 'hUX8NM1PBFY', 'auuJjEKFjuk', 'U1pShxDYhxY', 'K6VOzwtlph4', 'tEL833CPhqw', 'swYcOwSxaaU', 'qUapZfceb2U', 'SrYXAd4nMvQ', 'BNhI44wihZE', 'FPQE-A19ejk', 'gyCj2EFd8_4', 'PCzL4LOGzcg', 'GxOuOjGh5eQ', '1MlWk0_WcJ8', 'WHcLmwegpCg', 'cagEWfKd_jc', 'QXefo5cd_R8', 'BtTvYflNMjk', '0IXcM7MkYR8', 'O47boiErNwI', 'LuEVx8K9i4Y', '8BxVMGn3c3o', 'r6qd8TlmMe4', 'SzsIIsa0e88', '9F7asNvu4WA', '-3H_MC9wLHI', '1U51-QO9q2A', 'llfbUEAPCC4', 'k3B8ZoxTpOk', '83E3g9a4Psg', '6B9kPHXlcQQ', 'FKJeFvDgyTA', 'SlbbvhO3jKY', '3LOCZ2gIQ6w', 'aYECVm8rpkw', '_MKA-zP1pVw', 'vh9qVvpTT34', 'PVReOdltxSc', 'v0iM030NFEs', 'qIBacmPg1qY', 'UPmWd6EbCsw', '7aqWQz-Pgq8', 'aVR_pwe_aVc', 'Z_Mp1fNhuYw', 'MMSMBMFnRMk', 's9EEpb_NIIc', 'RKSY8keIQm8', 'fjYnYF_mu78', 'hj68xarvkmk', 'IdlH1-JGra4', 'NL7Kshd2PW8', 'i7EDCiLJgt0', '93DwLV0TkNs', 'Aa4MACKaDC0', 'vFb9PAA0Wo0', '-ply35it6Jo', 'KF-rDqQfqz0', '8KtY8ihZ8ME', 'pTJP1ko6n-o', 'NuwUnRpxq2c', '6St668az_ag', 'qFS9n6oX7Wo', '9dgTSB8uEM4', '7234-lDesHI', 'IAu27ADpbqw', 'tyA4vD5BF3A', 'pn5lA5cTGbI', 'LFs2z7UUDJU', 'NDEIoAIbv6A', 'eEtEPdw2dck', 'UgxHn8W4usI', '-7mILjsok34', 'kn9wx9k19EE', 'mnRvH16jpDQ', 'jv1jMmGKb7A', 'UAplFGHUzxc', 'oCX8Fx1jlmc', 'iOUJDM1-9K0', 'GOJRP9i6w90', 'sk2HUh7gpZs', 'KUrm-F8mXJQ', '6San0YYNHfg', 'D2nFXUhiLaw', '1tOoF8qiCes', 'NIfmOxjDNJ8', 'Ry5e8O_SLdE', 'YjA_F63H7IE', 'O7KK4d40GpQ', 'bMz8SjykDlg', '1CpTojns9gk', 'LAgR52f7Fz8', 'qxmUe9LOhdQ', 'OjHXJKTK14s', 'ba_8kfpWrHU', 'LyaPaXQGV5M', 'V7cRAkzW60s', 'b-lICPBRIAE', 'nYZMdVY6t_c', '2afVHUdAWIw', '3SqFBYHwPuw', 'Ae8FKa01ZOQ', 'trrUVf1rs0I', 'pMOEEObxwXQ', 'SLoUfnbaAYA', 'K-dPSnYjfFc', 'lwbRsj2hxJM', 'mRnLflYz1_w', 'DdZYk-5ROOY', 'bRwoGKUIR04', 'Fl23h4YnnUY', 'jHm991Ktb1I', 'J6thZIogmsg', '9eSLn5XdCfA', 'r8mvWKs9elg', 'sRdquT--KO8', 'wsLx9ATivF4', 'c4I1arz_9SI', 'tmZJB3W2lmk', '2iI9smwWzaM', 'oeb_faxlMn4', 'zza-0hUsipw', 'YB0kdAARLKQ', 'TDtP4K_2CWg', 'pZ1d32ar_iY', 'WjLjjx8wSz0', 'GIchMiGRZbE', 'rio_mTwjxzU', 'KeggonclRK8', 'Lt_GHpt94y8', 'dME1WAwl8eg', '5TOSlFQnnPU', 'bq4LytNAjjM', 'ATnZmBxIvmQ', 'XCYlRBf18YI', 'uHq0I_MDVZU', '15JaZ6WoTS8', 'mXcPVtbB9pU', 'OMFQvcBx-Fc', 'gcF4wppbDuA', 'ynTCUngbFHA', 'HTmAyE6IU8Y', 'LdhJwkVO_SI', '8uO0bHl-Ikw', 'sJ04brZxHg4', 'DSHoOuouyoQ', 'b_3FgFPjD4c', 'SBDO31GjNjg', 'LyjnV9dFuxE', 'n40hS9tQmcY', '9iD8DMF6odw', 'J_ESMRGpl74', 'bRl2IXIjuqE', 'PbK8Hm13Baw', 'eQEVNsMu3HA', 'rWS7qZXkGHk', '5vqk6HnITko', 'm5E6QxKFYlM', '-xJWmBjEUbQ', 'SF2dLUB6t28', 'VIcBiOPFbzA', '9NRCSb4DnPc', 'zfTMpoFKNEg', '1_y4dZKiz48', 'layunsQRmYk', 'qoHsn7fZljQ', 'bcv61eKpYto', 'zbUqcKkwBLE', 'R-P8qEGXnBs', 'XJVTvIz9Tps', 'OES4fdLEHkw', 'l_YszNIJfFA', 'gU6KTNbk0hk', 'VIj6xS937E4', 'cDwLNyvu_cw', 'TAe25MN4gIc', 'mNbPQlXoBXU', 'GWUGFjdUO7w', 'DNfoMqkIsO4', 'BN0nnnadFl0', 'OISfc1it7lc', '7zpEuCTcdKk', 'X48cZ6DGaSw', 'OG8L4qzGMoA', 'KgkBxLtXDQU', '_nvQKN8L1ZE', '7V5jtI-ihm0', '7y3XckjaVOw', 'WTlsmXM1huU', 'YYnm4YPpJ3k', 'KapPZCurdsQ', 'jerPVDaHbEA', '9JzRGqmKnCY', 'EZ6sdlVwoTs', 'ItSWohe91PM', '7uwa9aPbBRU', 'fs1Ur11W6d4', '4O9VpHRQZts', 'zjZBvrU2Q9g', '8slgF4P8H_s', 'XBiSIM44iqw', 'MJd9d9Mpxg0', 'ArFlyo6qsEs', 'G6stqIPAd1A', 'GRT1xAR6vXU', 'N0gmiOtqGZ4', '0KJZ3YHPqnc', 'La33TjSc-wA', '9MS4u5zDTeQ', 'cZo45VMa11A', 'Vxi1c3c6xsg', 't9k6oQu3O3U', 'HPISNKzUdW4', 'OELQyqJEjkc', 'soqfJJbo3Eg', 'mPG8f-qFaO4', 'JNoe0EZ1BL0', 'jDQke6YuAzY', 'Z_pk_1hQ-I0', 'nFPoAI0F3GI', 'c9_pLhzA9So', 'fccqC9nXiVg', 'OLY3CkivFPA', 'eR3WdmKtROU', 'cKikS3wlpiE', 'HdkkhoPMuzQ', '5zeJ-VQafHM', 'h7bjRYjLzdA', 'YLZJEajBmpY', 'ztiR8Tzfa2k', 'OfMOTL3x-_c', 'LaiMeQzwOpw', 'JmgotGFCYgM', '-Itc3rgHePk', '7AO4F6a3d5Y', '9D0ezzcH_kc', 'HIHOL_y842M', 'Rx9qFURihr4', 'KMeZ3zS8A_8', 'P8fKwY1kDjg', '-4b9HTjbjW8', 'A4TCa-ZGHGw', 'aJXh8GWuU5I', 'iJwcejDZy0s', '2GIk_iSC-EA', 'HxXtF7viAMI', '_7QSFZ2P_I4', 'kNbUjQ__pw4', 'rtlB42XyK8g', 'UBUmkntH-LI', 'xTMTxMInQiE', 'xr_fzJCrOh4', 'e_He1tnxhDs', 'CYYhS5D4U4w', 'SygE7H8Bhoc', 'oslUBMHi5ls', 'c_eGBIOLTE8', 'Wys3qTq4zIw', 'PWOfOZap-YI', 'RahGF6K9bl4', '5ziJzMRR9eU', 'ipSRiP8aE2w', '8EdiA6NJRps', 'HTLZmwtSmgM', '-uhTevQwV_E', 'ccutcwR160c', 'ExjSvEHVmL0', 'AebUNmVgEek', 'ErTnAK4XWWA', 'sw7Xtcx2P9k', 'QkAC4uIQT38', 'pCMrP_tGc6g', '82VVzjLw7vg', 'gMCiGvg6-gc', 'fdmGOIBjiAo', '_3xCgeTPkN0', '7-lLXpONIr4', 'SbUpGmvCxTw', '0t-dCcnNpPc', 'a4EvJ9MACFQ', 'GcJNBYBFWf0', 'qNmpCbV5anU', 'Opd2mcHfXl0', 'H9Db7ADfcXI', 'uMiJfjaQozY', 'XVENt5Ra1dI', 'M2VGN6oUfXU', 'j_Am43BsVuQ', 'V3dyTP3ImFg', 'NVhgJoK69fM', 'HXB3fDiuaGk', 'VuPExxjQvWM', 'C-p5U5LTbZU', 'a_fs5fUEnvM', 'Om2F6gsKC2U', '4eh2a96D-H4', 'qUH2YuOuxsk', 'EOtJeDx5_Ek', 'JtKkl6-sXYc', 'oI1Aug0nbbA', 'Et0TjaSaJzE', 'L_bp7MtGqak', 'sY5Xc2u8224', 'aTO5CjzxOR8', '1uJgdDIAjsY', 'K-gvG6cgI2Q', '6OLY1xeeV5I', 'ZAmppm0DI_4', 'UlbeV7dSFwE', 'Y6BekVPdC8I', 'SiUtxlDKEWQ', 'gAzKm5NZIh8', 'azbr1Fwc1G8', '50D1p39x6EA', 'SsJvbvqSacQ', '6BReaCNAkoQ', 'lBWYbmwPYko', 'NI0MMnCMnQ0', 'EHSUA9s2PeE', 'NpllJPfMXJY', '1jxSeAWUhsQ', 'Ploh6fUeAOw', 'woT1jgXqErw', 'zLm2dglHFU0', 'Zd__-9Th4DA', 'JQTmzG_X8YU', 'dORBvVLN0gw', '6vlH2UdF7nY', 'QPycmeIwKw8', '4muGsnAvX_c', 'qAq8LmcX0cQ', 'xs7IFkwnQZY', 'SBozVwZD65k', 'BNqoezFIoQE', 'L3WBJFtAn6o', 'eL6WvExJSIc', 'ReAosScuqWs', 'fvmWN_rABOo', '4s51MMmf_y0', 'qTrQRCMdOW4', 'dkK3DupASG4', 'R_maxt-jQb0', '1FTOImMwyZU', '-0pSQ4IVgFo', '8nGzBkSfHhI', 'iqmfmnfd9nQ', 'gddLYBXnkrs', '2B5HEd61JEw', 'Iy2OdC7nlcI', 'E8gFZJwEGUk', 'gh8lgPT_-RI', 'nWJ9wMMBSXc', 'K5SBSlHKFmM', 'ILN0WlLeAZ4', 'YdA6IEzUE1A', 'E6CLNZ2W2Lg', 'UqSt9UcEcV0', 'gyTu1b175eU', 'IqQ6bx7nKpY', 'WhCj1duDRfo', 'MCo80ziYZnk', 'PXnP_vmSqUE', '0Sd--PWWI70', 'hrTtlcqE1SE', '6W2laIzNU5g', '4OWdcnK2F58', '55aFtkPHGJ8', 'hBSWwHypuOE', '4PZ0wxMEszY', 'ke0BF5tT7LE', 'l_Bi8gGgYhU', 'xWPvTM2DP78', 'Oauiwxb314Q', '0zIGlh-veU0', 'YTE-9nrkq5o', 'QmTrljX2FDk', 'Gd9vgaFNDeo', 'p61CipaS_KM', 'w8sGvvbn5LI', 'gOjCPn-CXhs', 'MjGyAMZ11Vk', 'XhSGSmcRz9o', 'r-SvTRNLhw8', 'YrYcyD90qnc', 'CCX-dSsO0Wg', 'ZNN7G8weImE', '5vFqK3HcYs4', 'vzsnSV87VmE', 'FBU7f0VSb5Q', '4y4Ddo-rpAk', 'LZNKgmEgaEE', 'YZCI9rCvgq0', 'WsRwLfrhT8c', 'rQNjyE5a1pQ', '0-lIn8INGO4', 'WV_8MJzGgMQ', 'x82NKYqHHeI', 'gsS3gijT2Y4', 'HM57c7lROwE', 'Ao-Gmy7y8Lk', 'At3slJfEenY', '-yNfAtKNePQ', 'o1ZIF70ToUY', 'OuL5NfV3-u0', 'XxM84pBKWog', 'HPCa0RHfayw', 'uf4E7SjTBWs', 'fW9iXz9gWJk', 'XO3muQv1_iM', 'K9xC_aIzmSU', '0ZmFHPrLJ4M', 'QQUqhcedrBg', 'JPga20ln2Sg', '-Pba0_iYDKA', 'bC3OwULg2RM', 'JdglkIToOL0', '5Qn8s38NofQ', 'Gu5aotf7g7g', 'n8GNk43Od5Y', 'T_tJn_8VAME', 'Qi9yYPAEc8M', 'VQCUuPdmwDc', 'k2UIUo3kcqk', 'cf-BHpEBrjU', 'JcKd8oQj2Qg', 'yCOKoxTbSH0', 'rGouWJ6KvHk', '2yJ8TF6PkwI', 'fTbV_sNRHJk', 'q9wlePLAvz0', '3dlagpGGHlE', 'Qhf153M9Gk0', 'dvFcnCplWWQ', 'S1YOIHTu9Nk', 'N182e5GNyH4', 'kRPn41N5Xl8', 'aYyMU4d51S0', 'vpVQgTFpBdE', 'sxpQNKdbW_8', 'S1uuiYTmjc0', 'CUiTFyOOovg', 'wT_xqcpBuUc', 'ZhSVOrwQYIc', 'bqAgmlRR760', 'xWxuPVJNTw0', 'CncOc95d-jM', 'V247is86CIo', 'T6Q3Fls-RMY', 'gzf1yD2n1nM']\n"
          ]
        }
      ],
      "source": [
        "import requests\n",
        "\n",
        "API_KEY = \"\"\n",
        "CHANNEL_ID = \"UCjWY5hREA6FFYrthD0rZNIw\"\n",
        "\n",
        "# Get the uploads playlist ID\n",
        "url = f\"https://www.googleapis.com/youtube/v3/channels?part=contentDetails&id={CHANNEL_ID}&key={API_KEY}\"\n",
        "response = requests.get(url).json()\n",
        "uploads_playlist_id = response['items'][0]['contentDetails']['relatedPlaylists']['uploads']\n",
        "\n",
        "# Fetch all video IDs from the uploads playlist\n",
        "video_ids = []\n",
        "next_page_token = None\n",
        "\n",
        "while True:\n",
        "    playlist_url = f\"https://www.googleapis.com/youtube/v3/playlistItems?part=snippet&playlistId={uploads_playlist_id}&maxResults=50&pageToken={next_page_token or ''}&key={API_KEY}\"\n",
        "    playlist_response = requests.get(playlist_url).json()\n",
        "    for item in playlist_response.get('items', []):\n",
        "        video_ids.append(item['snippet']['resourceId']['videoId'])\n",
        "    next_page_token = playlist_response.get('nextPageToken')\n",
        "    if not next_page_token:\n",
        "        break\n",
        "\n",
        "print(f\"Total videos found: {len(video_ids)}\")\n",
        "print(video_ids)\n"
      ]
    },
    {
      "cell_type": "code",
      "execution_count": null,
      "metadata": {
        "id": "1JMKugfGBPV5"
      },
      "outputs": [],
      "source": []
    },
    {
      "cell_type": "code",
      "execution_count": null,
      "metadata": {
        "id": "PX6VmsFYBPSv"
      },
      "outputs": [],
      "source": []
    },
    {
      "cell_type": "markdown",
      "metadata": {
        "id": "T3e-2jtY3dUR"
      },
      "source": [
        "### for a particuler video"
      ]
    },
    {
      "cell_type": "code",
      "execution_count": null,
      "metadata": {
        "id": "LEDxnRX-Q42u"
      },
      "outputs": [],
      "source": [
        "from flask import Flask, render_template, request, jsonify\n",
        "import requests\n",
        "from bs4 import BeautifulSoup as bs\n",
        "from urllib.request import urlopen as uReq\n"
      ]
    },
    {
      "cell_type": "code",
      "execution_count": null,
      "metadata": {
        "id": "7Ivs8F8SQbff"
      },
      "outputs": [],
      "source": [
        "serach_string = 'MGkCCbK86qw'\n"
      ]
    },
    {
      "cell_type": "code",
      "execution_count": null,
      "metadata": {
        "colab": {
          "base_uri": "https://localhost:8080/",
          "height": 35
        },
        "id": "P6YSfCEV1cBE",
        "outputId": "2b713b94-0cc6-4a7c-a745-250b5f216465"
      },
      "outputs": [
        {
          "data": {
            "application/vnd.google.colaboratory.intrinsic+json": {
              "type": "string"
            },
            "text/plain": [
              "'https://www.youtube.com/watch?v=MGkCCbK86qw'"
            ]
          },
          "execution_count": 22,
          "metadata": {},
          "output_type": "execute_result"
        }
      ],
      "source": [
        "url = \"https://www.youtube.com/watch?v=\" + serach_string\n",
        "url\n"
      ]
    },
    {
      "cell_type": "code",
      "execution_count": null,
      "metadata": {
        "colab": {
          "base_uri": "https://localhost:8080/"
        },
        "id": "Vv6Y-eWWQSgU",
        "outputId": "4f9311be-cc64-479e-9276-ba072d2e5e0e"
      },
      "outputs": [
        {
          "data": {
            "text/plain": [
              "<Response [200]>"
            ]
          },
          "execution_count": 23,
          "metadata": {},
          "output_type": "execute_result"
        }
      ],
      "source": [
        "response = requests.get(url)\n",
        "response\n"
      ]
    },
    {
      "cell_type": "code",
      "execution_count": null,
      "metadata": {
        "colab": {
          "base_uri": "https://localhost:8080/"
        },
        "collapsed": true,
        "id": "wVF1eEz0SRu-",
        "outputId": "60376cc1-087c-4cc7-bfaa-6c6624963026"
      },
      "outputs": [],
      "source": [
        "soup = bs(response.text, 'html.parser')\n",
        "print(soup.prettify())\n"
      ]
    },
    {
      "cell_type": "code",
      "execution_count": null,
      "metadata": {
        "id": "7Xf39w9oTQCO"
      },
      "outputs": [],
      "source": []
    }
  ],
  "metadata": {
    "colab": {
      "provenance": []
    },
    "kernelspec": {
      "display_name": "Python 3",
      "name": "python3"
    },
    "language_info": {
      "name": "python"
    }
  },
  "nbformat": 4,
  "nbformat_minor": 0
}
